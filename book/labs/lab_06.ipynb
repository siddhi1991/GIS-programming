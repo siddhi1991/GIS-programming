{
  "cells": [
    {
      "cell_type": "markdown",
      "metadata": {
        "id": "view-in-github",
        "colab_type": "text"
      },
      "source": [
        "<a href=\"https://colab.research.google.com/github/siddhi1991/GIS-programming/blob/main/book/labs/lab_06.ipynb\" target=\"_parent\"><img src=\"https://colab.research.google.com/assets/colab-badge.svg\" alt=\"Open In Colab\"/></a>"
      ]
    },
    {
      "cell_type": "markdown",
      "metadata": {
        "id": "z4IVoYp6qnFW"
      },
      "source": [
        "# Lab 6\n",
        "\n",
        "[![Open In Colab](https://colab.research.google.com/assets/colab-badge.svg)](https://colab.research.google.com/github/giswqs/geog-312/blob/main/book/labs/lab_06.ipynb)\n",
        "\n",
        "## Overview\n",
        "\n",
        "In this lab, you will practice handling multi-dimensional geospatial datasets using `Xarray` and `Rioxarray`. This includes working with NetCDF climate data and georeferenced raster datasets (GeoTIFF files). You will learn how to perform data selection, arithmetic operations, resampling, and reprojection, as well as saving your results back to disk.\n",
        "\n",
        "By the end of this lab, you will have a better understanding of how to:\n",
        "\n",
        "* Work with Xarray datasets (NetCDF format) and inspect geospatial raster data.\n",
        "* Apply common data operations like slicing, resampling, and arithmetic analysis.\n",
        "* Reproject, clip, mask, and resample raster datasets.\n",
        "* Export processed data to various formats such as NetCDF and GeoTIFF.\n",
        "\n",
        "## Exercise 1: Exploring the Sea Surface Temperature Dataset\n",
        "\n",
        "1. **Load the sea surface temperature dataset** from the NetCDF file ([`sea_surface_temperature.nc`](https://github.com/opengeos/datasets/releases/download/netcdf/sea_surface_temperature.nc)).\n",
        "2. **Inspect the `Dataset` object** and list all the available variables and dimensions in the dataset.\n",
        "3. **Select the `sst` variable** (sea surface temperature).\n",
        "4. **Print the attributes, dimensions, and coordinates** of the `sst` variable to understand the metadata.\n",
        "\n",
        "This exercise allows you to practice selecting specific subsets of data and visualizing SST patterns over a specified period."
      ]
    },
    {
      "cell_type": "code",
      "execution_count": 2,
      "metadata": {
        "id": "eUdnLtFSqnFe",
        "outputId": "dbdd555e-21f1-4578-ccc4-14771106c21a",
        "colab": {
          "base_uri": "https://localhost:8080/"
        }
      },
      "outputs": [
        {
          "output_type": "stream",
          "name": "stdout",
          "text": [
            "Requirement already satisfied: xarray in /usr/local/lib/python3.11/dist-packages (2025.1.1)\n",
            "Requirement already satisfied: pooch in /usr/local/lib/python3.11/dist-packages (1.8.2)\n",
            "Requirement already satisfied: numpy>=1.24 in /usr/local/lib/python3.11/dist-packages (from xarray) (1.26.4)\n",
            "Requirement already satisfied: packaging>=23.2 in /usr/local/lib/python3.11/dist-packages (from xarray) (24.2)\n",
            "Requirement already satisfied: pandas>=2.1 in /usr/local/lib/python3.11/dist-packages (from xarray) (2.2.2)\n",
            "Requirement already satisfied: platformdirs>=2.5.0 in /usr/local/lib/python3.11/dist-packages (from pooch) (4.3.6)\n",
            "Requirement already satisfied: requests>=2.19.0 in /usr/local/lib/python3.11/dist-packages (from pooch) (2.32.3)\n",
            "Requirement already satisfied: python-dateutil>=2.8.2 in /usr/local/lib/python3.11/dist-packages (from pandas>=2.1->xarray) (2.8.2)\n",
            "Requirement already satisfied: pytz>=2020.1 in /usr/local/lib/python3.11/dist-packages (from pandas>=2.1->xarray) (2024.2)\n",
            "Requirement already satisfied: tzdata>=2022.7 in /usr/local/lib/python3.11/dist-packages (from pandas>=2.1->xarray) (2024.2)\n",
            "Requirement already satisfied: charset-normalizer<4,>=2 in /usr/local/lib/python3.11/dist-packages (from requests>=2.19.0->pooch) (3.4.1)\n",
            "Requirement already satisfied: idna<4,>=2.5 in /usr/local/lib/python3.11/dist-packages (from requests>=2.19.0->pooch) (3.10)\n",
            "Requirement already satisfied: urllib3<3,>=1.21.1 in /usr/local/lib/python3.11/dist-packages (from requests>=2.19.0->pooch) (2.3.0)\n",
            "Requirement already satisfied: certifi>=2017.4.17 in /usr/local/lib/python3.11/dist-packages (from requests>=2.19.0->pooch) (2024.12.14)\n",
            "Requirement already satisfied: six>=1.5 in /usr/local/lib/python3.11/dist-packages (from python-dateutil>=2.8.2->pandas>=2.1->xarray) (1.17.0)\n"
          ]
        },
        {
          "output_type": "stream",
          "name": "stderr",
          "text": [
            "/usr/local/lib/python3.11/dist-packages/xarray/conventions.py:193: SerializationWarning: variable 'sst' has multiple fill values {-999000000.0, -9999.0} defined, decoding all values to NaN.\n",
            "  var = coder.decode(var, name=name)\n"
          ]
        },
        {
          "output_type": "execute_result",
          "data": {
            "text/plain": [
              "Coordinates:\n",
              "  * lon      (lon) float64 6kB 0.25 0.75 1.25 1.75 ... 358.2 358.8 359.2 359.8\n",
              "  * lat      (lat) float64 3kB -89.75 -89.25 -88.75 -88.25 ... 88.75 89.25 89.75\n",
              "  * time     (time) datetime64[ns] 576B 2010-01-01 2010-02-01 ... 2015-12-01"
            ]
          },
          "metadata": {},
          "execution_count": 2
        }
      ],
      "source": [
        "%pip install xarray pooch\n",
        "\n",
        "import xarray as xr\n",
        "\n",
        "url = \"https://github.com/opengeos/datasets/releases/download/netcdf/sea_surface_temperature.nc\"\n",
        "ds = xr.open_dataset(url)\n",
        "ds\n",
        "sst = ds.sst\n",
        "sst\n",
        "sst.attrs\n",
        "sst.dims\n",
        "sst.coords"
      ]
    },
    {
      "cell_type": "markdown",
      "metadata": {
        "id": "d6I8_Md4qnFg"
      },
      "source": [
        "## Exercise 2: Data Selection and Indexing\n",
        "\n",
        "1. **Select a subset of the `sst` data** for a specific time (`2010-07-01`) and latitude (`0.0`), which represents the Equator.\n",
        "2. **Create a time slice** for the SST data between January and March 2010 for all latitudes and longitudes.\n",
        "3. **Plot the time slice** as a line plot, showing the latitude-averaged SST over time.\n",
        "\n",
        "This exercise allows you to practice selecting specific subsets of data and visualizing SST patterns over a specified period."
      ]
    },
    {
      "cell_type": "code",
      "execution_count": 7,
      "metadata": {
        "id": "Kew2zDf2qnFj",
        "outputId": "49cfffa4-33a3-4e4b-df84-9bf43ee08341",
        "colab": {
          "base_uri": "https://localhost:8080/",
          "height": 885
        }
      },
      "outputs": [
        {
          "output_type": "stream",
          "name": "stdout",
          "text": [
            "Requirement already satisfied: xarray in /usr/local/lib/python3.11/dist-packages (2025.1.1)\n",
            "Requirement already satisfied: pooch in /usr/local/lib/python3.11/dist-packages (1.8.2)\n",
            "Requirement already satisfied: numpy>=1.24 in /usr/local/lib/python3.11/dist-packages (from xarray) (1.26.4)\n",
            "Requirement already satisfied: packaging>=23.2 in /usr/local/lib/python3.11/dist-packages (from xarray) (24.2)\n",
            "Requirement already satisfied: pandas>=2.1 in /usr/local/lib/python3.11/dist-packages (from xarray) (2.2.2)\n",
            "Requirement already satisfied: platformdirs>=2.5.0 in /usr/local/lib/python3.11/dist-packages (from pooch) (4.3.6)\n",
            "Requirement already satisfied: requests>=2.19.0 in /usr/local/lib/python3.11/dist-packages (from pooch) (2.32.3)\n",
            "Requirement already satisfied: python-dateutil>=2.8.2 in /usr/local/lib/python3.11/dist-packages (from pandas>=2.1->xarray) (2.8.2)\n",
            "Requirement already satisfied: pytz>=2020.1 in /usr/local/lib/python3.11/dist-packages (from pandas>=2.1->xarray) (2024.2)\n",
            "Requirement already satisfied: tzdata>=2022.7 in /usr/local/lib/python3.11/dist-packages (from pandas>=2.1->xarray) (2024.2)\n",
            "Requirement already satisfied: charset-normalizer<4,>=2 in /usr/local/lib/python3.11/dist-packages (from requests>=2.19.0->pooch) (3.4.1)\n",
            "Requirement already satisfied: idna<4,>=2.5 in /usr/local/lib/python3.11/dist-packages (from requests>=2.19.0->pooch) (3.10)\n",
            "Requirement already satisfied: urllib3<3,>=1.21.1 in /usr/local/lib/python3.11/dist-packages (from requests>=2.19.0->pooch) (2.3.0)\n",
            "Requirement already satisfied: certifi>=2017.4.17 in /usr/local/lib/python3.11/dist-packages (from requests>=2.19.0->pooch) (2024.12.14)\n",
            "Requirement already satisfied: six>=1.5 in /usr/local/lib/python3.11/dist-packages (from python-dateutil>=2.8.2->pandas>=2.1->xarray) (1.17.0)\n"
          ]
        },
        {
          "output_type": "stream",
          "name": "stderr",
          "text": [
            "/usr/local/lib/python3.11/dist-packages/xarray/conventions.py:193: SerializationWarning: variable 'sst' has multiple fill values {-999000000.0, -9999.0} defined, decoding all values to NaN.\n",
            "  var = coder.decode(var, name=name)\n"
          ]
        },
        {
          "output_type": "execute_result",
          "data": {
            "text/plain": [
              "(array([126213.,  45110.,  32739.,  26451.,  25572.,  28301.,  37049.,\n",
              "         45587.,  82495.,  66762.]),\n",
              " array([271.29901123, 274.62811279, 277.95721436, 281.28631592,\n",
              "        284.61541748, 287.94451904, 291.27362061, 294.60272217,\n",
              "        297.93182373, 301.26092529, 304.59002686]),\n",
              " <BarContainer object of 10 artists>)"
            ]
          },
          "metadata": {},
          "execution_count": 7
        },
        {
          "output_type": "display_data",
          "data": {
            "text/plain": [
              "<Figure size 640x480 with 1 Axes>"
            ],
            "image/png": "[encoded data removed]"
          },
          "metadata": {}
        }
      ],
      "source": [
        "%pip install xarray pooch\n",
        "\n",
        "import xarray as xr\n",
        "\n",
        "url = \"https://github.com/opengeos/datasets/releases/download/netcdf/sea_surface_temperature.nc\"\n",
        "ds = xr.open_dataset(url)\n",
        "ds\n",
        "sst = ds.sst\n",
        "sst\n",
        "subset = sst.sel(time = \"2010-07-01\", lat = 0.0, method = \"nearest\")\n",
        "subset\n",
        "subset = sst.sel(time = slice(\"2010-01-01\", \"2010-03-31\"))\n",
        "subset\n",
        "subset.plot()"
      ]
    },
    {
      "cell_type": "markdown",
      "metadata": {
        "id": "JkYn73dMqnFj"
      },
      "source": [
        "## Exercise 3: Performing Arithmetic Operations\n",
        "\n",
        "1. **Compute the mean SST** over the entire time range (2010-2015) to obtain the average sea surface temperature for each spatial location.\n",
        "2. **Calculate the temperature anomalies** by subtracting the computed mean from the original SST values. This helps understand how SST deviates from the mean during the time period.\n",
        "3. **Plot both the mean SST and the anomalies** on separate plots to visualize spatial temperature patterns and deviations. You can select a specific time to display the anomalies.\n",
        "\n",
        "This exercise introduces arithmetic operations on the dataset, focusing on the concept of temperature anomalies."
      ]
    },
    {
      "cell_type": "code",
      "execution_count": null,
      "metadata": {
        "id": "bcBtWolQqnFl"
      },
      "outputs": [],
      "source": []
    },
    {
      "cell_type": "markdown",
      "metadata": {
        "id": "-OolMu_6qnFm"
      },
      "source": [
        "## Exercise 4: GroupBy and Resampling\n",
        "\n",
        "1. **Use `groupby` to calculate the seasonal mean SST**. Group the data by season (`DJF`, `MAM`, `JJA`, and `SON`) and compute the average SST for each season.\n",
        "2. **Resample the dataset to compute the monthly mean SST**. This aggregates the data on a monthly basis.\n",
        "3. **Plot the seasonal mean SST and the monthly mean SST** to visualize how sea surface temperature varies by season and by month.\n",
        "\n",
        "This exercise demonstrates how to group and resample time-series data, commonly used in climate data analysis."
      ]
    },
    {
      "cell_type": "code",
      "execution_count": null,
      "metadata": {
        "id": "7kAKkUZqqnFn"
      },
      "outputs": [],
      "source": []
    },
    {
      "cell_type": "markdown",
      "metadata": {
        "id": "4E9WsInYqnFq"
      },
      "source": [
        "## Exercise 5: Writing Data to NetCDF\n",
        "\n",
        "1. **Select the SST anomalies** calculated in Exercise 3 for further analysis and export.\n",
        "2. **Convert the `sst` variable to `float32`** to optimize file size before writing the data to a NetCDF file.\n",
        "3. **Write the anomalies data** to a new NetCDF file named `sst_anomalies.nc` for storage and future use.\n",
        "4. **Load the saved NetCDF file** back into memory and print its contents to verify the saved data.\n",
        "\n",
        "This exercise teaches how to export processed geospatial data to NetCDF, a widely-used file format in climate data analysis."
      ]
    },
    {
      "cell_type": "code",
      "execution_count": null,
      "metadata": {
        "id": "mOwU6czgqnFr"
      },
      "outputs": [],
      "source": []
    },
    {
      "cell_type": "markdown",
      "metadata": {
        "id": "UPicGbSSqnFr"
      },
      "source": [
        "## Exercise 6: Load and Inspect a Raster Dataset\n",
        "\n",
        "1. Use `rioxarray` to load the GeoTIFF raster file at https://github.com/opengeos/datasets/releases/download/raster/Libya-2023-09-13.tif.\n",
        "2. Inspect the dataset by printing its dimensions, coordinates, and attributes.\n",
        "3. Check and print the CRS and affine transformation of the dataset."
      ]
    },
    {
      "cell_type": "code",
      "execution_count": null,
      "metadata": {
        "id": "Whi6mPElqnFs"
      },
      "outputs": [],
      "source": []
    },
    {
      "cell_type": "markdown",
      "metadata": {
        "id": "xrR7wYE8qnFt"
      },
      "source": [
        "## Exercise 7: Reproject the Raster to a New CRS\n",
        "\n",
        "1. Reproject the loaded raster dataset from its original CRS to EPSG:4326 (WGS84).\n",
        "2. Print the new CRS and check the dimensions and coordinates of the reprojected data.\n",
        "3. Plot the original and reprojected datasets for comparison."
      ]
    },
    {
      "cell_type": "code",
      "execution_count": null,
      "metadata": {
        "id": "FmAbxtOeqnFu"
      },
      "outputs": [],
      "source": []
    },
    {
      "cell_type": "markdown",
      "metadata": {
        "id": "7q2IzT9-qnFu"
      },
      "source": [
        "## Exercise 8: Clip the Raster Using a Bounding Box\n",
        "\n",
        "1. Define a bounding box (e.g., `xmin`, `ymin`, `xmax`, `ymax`) that covers the land area of Libya.\n",
        "2. Clip the raster dataset using this bounding box.\n",
        "3. Plot the clipped data to visualize the result."
      ]
    },
    {
      "cell_type": "code",
      "execution_count": null,
      "metadata": {
        "id": "7cRbnXcOqnFu"
      },
      "outputs": [],
      "source": []
    },
    {
      "cell_type": "markdown",
      "metadata": {
        "id": "V3qaN-1pqnFv"
      },
      "source": [
        "## Exercise 9: Mask the Raster Using a Vector Dataset\n",
        "\n",
        "1. Load the GeoJSON file at https://github.com/opengeos/datasets/releases/download/raster/Derna_Libya.geojson using `geopandas`.\n",
        "2. Use the GeoJSON to mask the reprojected raster dataset, keeping only the data within the GeoJSON boundaries.\n",
        "3. Plot the masked raster data."
      ]
    },
    {
      "cell_type": "code",
      "execution_count": null,
      "metadata": {
        "id": "yD0O3z9ZqnFv"
      },
      "outputs": [],
      "source": []
    },
    {
      "cell_type": "markdown",
      "metadata": {
        "id": "GG0XPfbQqnFw"
      },
      "source": [
        "## Exercise 10: Resample the Raster to a Different Resolution\n",
        "\n",
        "1. Resample the raster dataset to a 3m resolution, using an average resampling method.\n",
        "2. Check the new dimensions and coordinates after resampling.\n",
        "3. Save the resampled raster dataset as a new GeoTIFF file."
      ]
    },
    {
      "cell_type": "code",
      "execution_count": null,
      "metadata": {
        "id": "WjkAKhbUqnFw"
      },
      "outputs": [],
      "source": []
    }
  ],
  "metadata": {
    "kernelspec": {
      "display_name": "Python 3 (ipykernel)",
      "language": "python",
      "name": "python3"
    },
    "language_info": {
      "codemirror_mode": {
        "name": "ipython",
        "version": 3
      },
      "file_extension": ".py",
      "mimetype": "text/x-python",
      "name": "python",
      "nbconvert_exporter": "python",
      "pygments_lexer": "ipython3",
      "version": "3.11.8"
    },
    "colab": {
      "provenance": [],
      "include_colab_link": true
    }
  },
  "nbformat": 4,
  "nbformat_minor": 0
}