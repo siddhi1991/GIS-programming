{
  "cells": [
    {
      "cell_type": "markdown",
      "metadata": {
        "id": "view-in-github",
        "colab_type": "text"
      },
      "source": [
        "<a href=\"https://colab.research.google.com/github/siddhi1991/GIS-programming/blob/main/book/labs/lab_07.ipynb\" target=\"_parent\"><img src=\"https://colab.research.google.com/assets/colab-badge.svg\" alt=\"Open In Colab\"/></a>"
      ]
    },
    {
      "cell_type": "markdown",
      "metadata": {
        "id": "x1qx-0SKL2Yd"
      },
      "source": [
        "# Lab 7\n",
        "\n",
        "[![Open In Colab](https://colab.research.google.com/assets/colab-badge.svg)](https://colab.research.google.com/github/giswqs/geog-312/blob/main/book/labs/lab_07.ipynb)\n",
        "\n",
        "## Overview\n",
        "\n",
        "In this lab, you will delve deeper into Leafmap, a powerful Python package for interactive geospatial mapping and analysis. You will explore how to work with various types of raster and vector data, customize basemaps and map layers, and visualize data using Cloud Optimized GeoTIFFs (COGs), PMTiles, GeoParquet, and other formats. You will also learn how to enhance your maps with advanced features like legends, colorbars, marker clusters, and split maps for comparison.\n",
        "\n",
        "## Objective\n",
        "\n",
        "* Create and customize interactive maps using Leafmap.\n",
        "* Add and configure basemaps, XYZ tile layers, and WMS layers.\n",
        "* Visualize various raster formats such as GeoTIFF, Cloud Optimized GeoTIFF (COG), and multi-band imagery.\n",
        "* Explore vector data visualization, including marker clusters and choropleth maps.\n",
        "* Implement advanced mapping features like legends, colorbars, and split map comparisons."
      ]
    },
    {
      "cell_type": "markdown",
      "metadata": {
        "id": "kXlw8YnwL2Yg"
      },
      "source": [
        "## Exercise 1: Creating an Interactive Map\n",
        "\n",
        "1. Create an interactive map with search functionality that allows users to search for places and zoom to them. Disable the draw control on the map."
      ]
    },
    {
      "cell_type": "code",
      "source": [
        "url= \"https://github.com/user-attachments/assets/b930fb63-3bd1-4d7e-9bf8-87e6d398e5c3\"\n",
        "m = leafmap.Map(zoom=8, draw_control= False)\n",
        "m.add_search_control(url, zoom= 8)\n",
        "m"
      ],
      "metadata": {
        "id": "FHycQKQsaNYy",
        "outputId": "35390a11-8681-49dc-fdf3-99c41846c113",
        "colab": {
          "base_uri": "https://localhost:8080/",
          "height": 639
        }
      },
      "execution_count": 30,
      "outputs": [
        {
          "output_type": "stream",
          "name": "stdout",
          "text": [
            "The folium plotting backend does not support this function.\n"
          ]
        },
        {
          "output_type": "execute_result",
          "data": {
            "text/plain": [
              "<leafmap.foliumap.Map at 0x78b2d41df090>"
            ],
            "text/html": [
              "<iframe srcdoc=\"&lt;!DOCTYPE html&gt;\n",
              "&lt;html&gt;\n",
              "&lt;head&gt;\n",
              "    \n",
              "    &lt;meta http-equiv=&quot;content-type&quot; content=&quot;text/html; charset=UTF-8&quot; /&gt;\n",
              "    \n",
              "        &lt;script&gt;\n",
              "            L_NO_TOUCH = false;\n",
              "            L_DISABLE_3D = false;\n",
              "        &lt;/script&gt;\n",
              "    \n",
              "    &lt;style&gt;html, body {width: 100%;height: 100%;margin: 0;padding: 0;}&lt;/style&gt;\n",
              "    &lt;style&gt;#map {position:absolute;top:0;bottom:0;right:0;left:0;}&lt;/style&gt;\n",
              "    &lt;script src=&quot;https://cdn.jsdelivr.net/npm/leaflet@1.9.3/dist/leaflet.js&quot;&gt;&lt;/script&gt;\n",
              "    &lt;script src=&quot;https://code.jquery.com/jquery-3.7.1.min.js&quot;&gt;&lt;/script&gt;\n",
              "    &lt;script src=&quot;https://cdn.jsdelivr.net/npm/bootstrap@5.2.2/dist/js/bootstrap.bundle.min.js&quot;&gt;&lt;/script&gt;\n",
              "    &lt;script src=&quot;https://cdnjs.cloudflare.com/ajax/libs/Leaflet.awesome-markers/2.0.2/leaflet.awesome-markers.js&quot;&gt;&lt;/script&gt;\n",
              "    &lt;link rel=&quot;stylesheet&quot; href=&quot;https://cdn.jsdelivr.net/npm/leaflet@1.9.3/dist/leaflet.css&quot;/&gt;\n",
              "    &lt;link rel=&quot;stylesheet&quot; href=&quot;https://cdn.jsdelivr.net/npm/bootstrap@5.2.2/dist/css/bootstrap.min.css&quot;/&gt;\n",
              "    &lt;link rel=&quot;stylesheet&quot; href=&quot;https://netdna.bootstrapcdn.com/bootstrap/3.0.0/css/bootstrap-glyphicons.css&quot;/&gt;\n",
              "    &lt;link rel=&quot;stylesheet&quot; href=&quot;https://cdn.jsdelivr.net/npm/@fortawesome/fontawesome-free@6.2.0/css/all.min.css&quot;/&gt;\n",
              "    &lt;link rel=&quot;stylesheet&quot; href=&quot;https://cdnjs.cloudflare.com/ajax/libs/Leaflet.awesome-markers/2.0.2/leaflet.awesome-markers.css&quot;/&gt;\n",
              "    &lt;link rel=&quot;stylesheet&quot; href=&quot;https://cdn.jsdelivr.net/gh/python-visualization/folium/folium/templates/leaflet.awesome.rotate.min.css&quot;/&gt;\n",
              "    \n",
              "            &lt;meta name=&quot;viewport&quot; content=&quot;width=device-width,\n",
              "                initial-scale=1.0, maximum-scale=1.0, user-scalable=no&quot; /&gt;\n",
              "            &lt;style&gt;\n",
              "                #map_400d5ecc04c2008aec7375a714b8992f {\n",
              "                    position: relative;\n",
              "                    width: 100.0%;\n",
              "                    height: 100.0%;\n",
              "                    left: 0.0%;\n",
              "                    top: 0.0%;\n",
              "                }\n",
              "                .leaflet-container { font-size: 1rem; }\n",
              "            &lt;/style&gt;\n",
              "        \n",
              "    &lt;script src=&quot;https://cdn.jsdelivr.net/npm/leaflet.fullscreen@3.0.0/Control.FullScreen.min.js&quot;&gt;&lt;/script&gt;\n",
              "    &lt;link rel=&quot;stylesheet&quot; href=&quot;https://cdn.jsdelivr.net/npm/leaflet.fullscreen@3.0.0/Control.FullScreen.css&quot;/&gt;\n",
              "    &lt;script src=&quot;https://cdn.jsdelivr.net/gh/ljagis/leaflet-measure@2.1.7/dist/leaflet-measure.min.js&quot;&gt;&lt;/script&gt;\n",
              "    &lt;link rel=&quot;stylesheet&quot; href=&quot;https://cdn.jsdelivr.net/gh/ljagis/leaflet-measure@2.1.7/dist/leaflet-measure.min.css&quot;/&gt;\n",
              "    &lt;script src=&quot;https://unpkg.com/leaflet-control-geocoder/dist/Control.Geocoder.js&quot;&gt;&lt;/script&gt;\n",
              "    &lt;link rel=&quot;stylesheet&quot; href=&quot;https://unpkg.com/leaflet-control-geocoder/dist/Control.Geocoder.css&quot;/&gt;\n",
              "&lt;/head&gt;\n",
              "&lt;body&gt;\n",
              "    \n",
              "    \n",
              "            &lt;div class=&quot;folium-map&quot; id=&quot;map_400d5ecc04c2008aec7375a714b8992f&quot; &gt;&lt;/div&gt;\n",
              "        \n",
              "&lt;/body&gt;\n",
              "&lt;script&gt;\n",
              "    \n",
              "    \n",
              "            var map_400d5ecc04c2008aec7375a714b8992f = L.map(\n",
              "                &quot;map_400d5ecc04c2008aec7375a714b8992f&quot;,\n",
              "                {\n",
              "                    center: [20.0, 0.0],\n",
              "                    crs: L.CRS.EPSG3857,\n",
              "                    ...{\n",
              "  &quot;zoom&quot;: 8,\n",
              "  &quot;zoomControl&quot;: true,\n",
              "  &quot;preferCanvas&quot;: false,\n",
              "  &quot;drawControl&quot;: false,\n",
              "  &quot;drawExport&quot;: false,\n",
              "  &quot;layersControl&quot;: true,\n",
              "}\n",
              "\n",
              "                }\n",
              "            );\n",
              "            L.control.scale().addTo(map_400d5ecc04c2008aec7375a714b8992f);\n",
              "\n",
              "            \n",
              "\n",
              "        \n",
              "    \n",
              "            var tile_layer_7280a0d910d8945b63adabf6dd27e09d = L.tileLayer(\n",
              "                &quot;https://tile.openstreetmap.org/{z}/{x}/{y}.png&quot;,\n",
              "                {\n",
              "  &quot;minZoom&quot;: 0,\n",
              "  &quot;maxZoom&quot;: 24,\n",
              "  &quot;maxNativeZoom&quot;: 24,\n",
              "  &quot;noWrap&quot;: false,\n",
              "  &quot;attribution&quot;: &quot;\\u0026copy; \\u003ca href=\\&quot;https://www.openstreetmap.org/copyright\\&quot;\\u003eOpenStreetMap\\u003c/a\\u003e contributors&quot;,\n",
              "  &quot;subdomains&quot;: &quot;abc&quot;,\n",
              "  &quot;detectRetina&quot;: false,\n",
              "  &quot;tms&quot;: false,\n",
              "  &quot;opacity&quot;: 1,\n",
              "}\n",
              "\n",
              "            );\n",
              "        \n",
              "    \n",
              "            tile_layer_7280a0d910d8945b63adabf6dd27e09d.addTo(map_400d5ecc04c2008aec7375a714b8992f);\n",
              "        \n",
              "    \n",
              "            L.control.fullscreen(\n",
              "                {\n",
              "  &quot;position&quot;: &quot;topleft&quot;,\n",
              "  &quot;title&quot;: &quot;Full Screen&quot;,\n",
              "  &quot;titleCancel&quot;: &quot;Exit Full Screen&quot;,\n",
              "  &quot;forceSeparateButton&quot;: false,\n",
              "}\n",
              "            ).addTo(map_400d5ecc04c2008aec7375a714b8992f);\n",
              "        \n",
              "    \n",
              "            var measure_control_7b49287b334ef93848aadd44135857f5 = new L.Control.Measure(\n",
              "                {\n",
              "  &quot;position&quot;: &quot;bottomleft&quot;,\n",
              "  &quot;primaryLengthUnit&quot;: &quot;meters&quot;,\n",
              "  &quot;secondaryLengthUnit&quot;: &quot;miles&quot;,\n",
              "  &quot;primaryAreaUnit&quot;: &quot;sqmeters&quot;,\n",
              "  &quot;secondaryAreaUnit&quot;: &quot;acres&quot;,\n",
              "});\n",
              "            map_400d5ecc04c2008aec7375a714b8992f.addControl(measure_control_7b49287b334ef93848aadd44135857f5);\n",
              "\n",
              "            // Workaround for using this plugin with Leaflet&gt;=1.8.0\n",
              "            // https://github.com/ljagis/leaflet-measure/issues/171\n",
              "            L.Control.Measure.include({\n",
              "                _setCaptureMarkerIcon: function () {\n",
              "                    // disable autopan\n",
              "                    this._captureMarker.options.autoPanOnFocus = false;\n",
              "                    // default function\n",
              "                    this._captureMarker.setIcon(\n",
              "                        L.divIcon({\n",
              "                            iconSize: this._map.getSize().multiplyBy(2)\n",
              "                        })\n",
              "                    );\n",
              "                },\n",
              "            });\n",
              "\n",
              "        \n",
              "    \n",
              "\n",
              "            var geocoderOpts_geocoder_1253870b1dc75f290f828cbddc6c6982 = {\n",
              "  &quot;collapsed&quot;: true,\n",
              "  &quot;position&quot;: &quot;topleft&quot;,\n",
              "  &quot;defaultMarkGeocode&quot;: true,\n",
              "  &quot;zoom&quot;: 11,\n",
              "  &quot;provider&quot;: &quot;nominatim&quot;,\n",
              "  &quot;providerOptions&quot;: {\n",
              "},\n",
              "};\n",
              "\n",
              "            // note: geocoder name should start with lowercase\n",
              "            var geocoderName_geocoder_1253870b1dc75f290f828cbddc6c6982 = geocoderOpts_geocoder_1253870b1dc75f290f828cbddc6c6982[&quot;provider&quot;];\n",
              "\n",
              "            var customGeocoder_geocoder_1253870b1dc75f290f828cbddc6c6982 = L.Control.Geocoder[ geocoderName_geocoder_1253870b1dc75f290f828cbddc6c6982 ](\n",
              "                geocoderOpts_geocoder_1253870b1dc75f290f828cbddc6c6982[&#x27;providerOptions&#x27;]\n",
              "            );\n",
              "            geocoderOpts_geocoder_1253870b1dc75f290f828cbddc6c6982[&quot;geocoder&quot;] = customGeocoder_geocoder_1253870b1dc75f290f828cbddc6c6982;\n",
              "\n",
              "            L.Control.geocoder(\n",
              "                geocoderOpts_geocoder_1253870b1dc75f290f828cbddc6c6982\n",
              "            ).on(&#x27;markgeocode&#x27;, function(e) {\n",
              "                var zoom = geocoderOpts_geocoder_1253870b1dc75f290f828cbddc6c6982[&#x27;zoom&#x27;] || map_400d5ecc04c2008aec7375a714b8992f.getZoom();\n",
              "                map_400d5ecc04c2008aec7375a714b8992f.setView(e.geocode.center, zoom);\n",
              "            }).addTo(map_400d5ecc04c2008aec7375a714b8992f);\n",
              "\n",
              "        \n",
              "    \n",
              "            map_400d5ecc04c2008aec7375a714b8992f.fitBounds(\n",
              "                [[20, 0], [20, 0]],\n",
              "                {&quot;maxZoom&quot;: 8}\n",
              "            );\n",
              "        \n",
              "    \n",
              "            var layer_control_1079b62dbb3dc27e5cd47dd5914d1d82_layers = {\n",
              "                base_layers : {\n",
              "                    &quot;openstreetmap&quot; : tile_layer_7280a0d910d8945b63adabf6dd27e09d,\n",
              "                },\n",
              "                overlays :  {\n",
              "                },\n",
              "            };\n",
              "            let layer_control_1079b62dbb3dc27e5cd47dd5914d1d82 = L.control.layers(\n",
              "                layer_control_1079b62dbb3dc27e5cd47dd5914d1d82_layers.base_layers,\n",
              "                layer_control_1079b62dbb3dc27e5cd47dd5914d1d82_layers.overlays,\n",
              "                {\n",
              "  &quot;position&quot;: &quot;topright&quot;,\n",
              "  &quot;collapsed&quot;: true,\n",
              "  &quot;autoZIndex&quot;: true,\n",
              "}\n",
              "            ).addTo(map_400d5ecc04c2008aec7375a714b8992f);\n",
              "\n",
              "        \n",
              "&lt;/script&gt;\n",
              "&lt;/html&gt;\" width=\"100%\" height=\"600\"style=\"border:none !important;\" \"allowfullscreen\" \"webkitallowfullscreen\" \"mozallowfullscreen\"></iframe>"
            ]
          },
          "metadata": {},
          "execution_count": 30
        }
      ]
    },
    {
      "cell_type": "markdown",
      "metadata": {
        "id": "2Mjcbc4mL2Yh"
      },
      "source": [
        "![image](https://github.com/user-attachments/assets/b930fb63-3bd1-4d7e-9bf8-87e6d398e5c3)"
      ]
    },
    {
      "cell_type": "markdown",
      "metadata": {
        "id": "QS0AP4PVL2Yi"
      },
      "source": [
        "## Exercise 2: Adding XYZ and WMS Tile Layers\n",
        "\n",
        "1. Add a custom XYZ tile layer ([USGS Topographic basemap](https://apps.nationalmap.gov/services)) using the following URL:\n",
        "   - URL: `https://basemap.nationalmap.gov/arcgis/rest/services/USGSTopo/MapServer/tile/{z}/{y}/{x}`\n",
        "2. Add two WMS layers to visualize NAIP imagery and NDVI using a USGS WMS service.\n",
        "   - URL: `https://imagery.nationalmap.gov/arcgis/services/USGSNAIPImagery/ImageServer/WMSServer?`\n",
        "   - Layer names: `USGSNAIPImagery:FalseColorComposite`, `USGSNAIPImagery:NDVI_Color`"
      ]
    },
    {
      "cell_type": "code",
      "execution_count": 31,
      "metadata": {
        "id": "wdx2sICGL2Yi",
        "outputId": "dbbd0573-f9a5-4c44-9eff-7ea15ccbd04a",
        "colab": {
          "base_uri": "https://localhost:8080/",
          "height": 17,
          "referenced_widgets": [
            "3aafded09a0e4e70977dc742c8fffc46",
            "76d3616b4cf24b298103feb50875d097",
            "7dd1b9c640474c5f87fde3ef8541b2d4",
            "becd420e219f416684f64a97f3059464",
            "9f5eefcf07b24e219e4ba41cf7f92b75",
            "034b7e2656be40e58021fa58bc5e50b6",
            "e910e8234ebe453fb0fd79efb31e5930",
            "59d55e84668740b5bc9d657413fdfdf2",
            "263bd1b74b0e44569fab195ce6b5d3b1",
            "b0e2bd8480404c7299543d6dee14439f",
            "b25ec1b3e2f041ff89d345c7470b4690",
            "75192453192d48c8850397adde5d63e4",
            "2be11ec6e1374b28adc790200dc7238f",
            "f2075a7eb8ce488e821b0aae70ad88e7",
            "f22f154104164b33b9c9ae08df7d80b5",
            "a0bdc15d6d724a73b523434fd53c6835",
            "944925a1b43b497aab8eeb8025d5e8ff",
            "8137e96d007342cd93bb780affdc3fe4",
            "0a4e95a51f234f43935702fc4a7c83d6",
            "504541c19597477ab09b3817c06f0438",
            "3dd055ed055d495f87d2e6de46d48577",
            "c4e962846aa44de4ae83765039fd41e8",
            "add5fed641e04184bd4df16de1242180",
            "1adb45f0f1924c02802d1a8bc85ce34b",
            "ea961d699d184cc4b779bdba231dfc26",
            "8f63a0473c0b4882bf2b1d074db287b2",
            "c86c11d5b258456491c248d55fd6ba6d",
            "fcd6eac7b87342d9a3afd42455990eae",
            "b0a17a196b614574a7a9daac1bc3d377",
            "1b201e70980b4cb3ac18277cf954e33d",
            "e1d70ced1e664ce58c170793ba2e6e2e"
          ]
        }
      },
      "outputs": [
        {
          "output_type": "display_data",
          "data": {
            "text/plain": [
              "Map(center=[20, 0], controls=(ZoomControl(options=['position', 'zoom_in_text', 'zoom_in_title', 'zoom_out_text…"
            ],
            "application/vnd.jupyter.widget-view+json": {
              "version_major": 2,
              "version_minor": 0,
              "model_id": "ea961d699d184cc4b779bdba231dfc26"
            }
          },
          "metadata": {}
        }
      ],
      "source": [
        "import leafmap\n",
        "m = leafmap.Map()\n",
        "m.add_tile_layer(url= \"https://basemap.nationalmap.gov/arcgis/rest/services/USGSTopo/MapServer/tile/{z}/{y}/{x}\", name=\"USGS Topo\", attribution=\"USGS\")\n",
        "m\n",
        "m.add_wms_layer(url= \"https://imagery.nationalmap.gov/arcgis/services/USGSNAIPImagery/ImageServer/WMSServer?\", layers= \"USGSNAIPImagery:FalseColorComposite\", name= \"NAIP\", format= \"image/png\", transparent= True)\n",
        "m"
      ]
    },
    {
      "cell_type": "markdown",
      "metadata": {
        "id": "MOTgZepwL2Yi"
      },
      "source": [
        "![image](https://github.com/user-attachments/assets/28dd8511-a0ac-4b44-ab02-9ed791817043)"
      ]
    },
    {
      "cell_type": "code",
      "execution_count": 31,
      "metadata": {
        "id": "d_fUqQJ1L2Yi"
      },
      "outputs": [],
      "source": []
    },
    {
      "cell_type": "markdown",
      "metadata": {
        "id": "TtHO7Yo_L2Yj"
      },
      "source": [
        "![image](https://github.com/user-attachments/assets/719c1e07-f955-42d6-985c-b5842c9eac4c)"
      ]
    },
    {
      "cell_type": "markdown",
      "metadata": {
        "id": "AF2EUWIoL2Yj"
      },
      "source": [
        "## Exercise 3: Adding Map Legends\n",
        "\n",
        "1. Add the [ESA World Cover](https://esa-worldcover.org/en) WMS tile layer to the map.\n",
        "    - URL: `https://services.terrascope.be/wms/v2?`\n",
        "    - Layer name: `WORLDCOVER_2021_MAP`\n",
        "2. Add a legend to the map using the leafmap built-in `ESA_WorldCover` legend."
      ]
    },
    {
      "cell_type": "code",
      "execution_count": 32,
      "metadata": {
        "id": "okr6C2oPL2Yj",
        "outputId": "68482282-62c4-4c42-f243-6fff3308eb1c",
        "colab": {
          "base_uri": "https://localhost:8080/",
          "height": 1000,
          "referenced_widgets": [
            "dc6f8d7af60144acbe5f9a2fd22bfb6f",
            "d4dfaa7077244c0387b72ec027d826f1",
            "53fd2ddd07014a23b564c88b84ddc245",
            "d2b184057368450c879d30fd534bba4e",
            "36235788db4247fcb9a5e46b91744efc",
            "ea1fecb1ca8c46bcb0750dcf92fd9a00",
            "73de872c607f4b048f97e52da518d2e0",
            "165f1e856ca6460880679a2a64c2fa78",
            "05aeb145d0ff43708bfa3405c69e91f1",
            "7cc8614ef2744bf0ab5bb648cd074885",
            "29412098d36d4d4d9f8dd47f98eb4a05",
            "4c61223776854a3fa941b31bb42740ba",
            "f76e8e53466c462290cad01320c57c50",
            "f37b45b29196481891d7f24b2b1301c1",
            "7bf70a16f2144eca8472f8450eaf7306",
            "c788b5a4a1d64eb0910aa0bc81ab39e2",
            "f68e332a03f74b54bc0fd93d917a1b61",
            "848af45c1bdd4c8c9fc5ad7d308b1abc",
            "f3059fde9a1c4ae1a23b5a72996031e6",
            "6a94424f27254f439cfcaa8c680209dd",
            "2898d5e527214379b77193b193c63167",
            "b634a5fa58dd4f24812fb7e7e49c4950",
            "0edb3586b7054831b02b66449e1d727b",
            "ddb7e170f9654007a26364a93022bad9",
            "6f7f9bc4df98486b9b05ca88b5a4352e",
            "676019f922d1489289bccb5fa1dce6ae",
            "a8b7e7c945f24821bcc9af6681afa593"
          ]
        }
      },
      "outputs": [
        {
          "output_type": "stream",
          "name": "stdout",
          "text": [
            "Requirement already satisfied: leafmap in /usr/local/lib/python3.11/dist-packages (0.42.7)\n",
            "Requirement already satisfied: anywidget in /usr/local/lib/python3.11/dist-packages (from leafmap) (0.9.13)\n",
            "Requirement already satisfied: bqplot in /usr/local/lib/python3.11/dist-packages (from leafmap) (0.12.44)\n",
            "Requirement already satisfied: colour in /usr/local/lib/python3.11/dist-packages (from leafmap) (0.1.5)\n",
            "Requirement already satisfied: duckdb in /usr/local/lib/python3.11/dist-packages (from leafmap) (1.1.3)\n",
            "Requirement already satisfied: folium in /usr/local/lib/python3.11/dist-packages (from leafmap) (0.19.4)\n",
            "Requirement already satisfied: gdown in /usr/local/lib/python3.11/dist-packages (from leafmap) (5.2.0)\n",
            "Requirement already satisfied: geojson in /usr/local/lib/python3.11/dist-packages (from leafmap) (3.2.0)\n",
            "Requirement already satisfied: ipyevents in /usr/local/lib/python3.11/dist-packages (from leafmap) (2.0.2)\n",
            "Requirement already satisfied: ipyfilechooser in /usr/local/lib/python3.11/dist-packages (from leafmap) (0.6.0)\n",
            "Requirement already satisfied: ipyleaflet in /usr/local/lib/python3.11/dist-packages (from leafmap) (0.19.2)\n",
            "Requirement already satisfied: ipyvuetify in /usr/local/lib/python3.11/dist-packages (from leafmap) (1.10.0)\n",
            "Requirement already satisfied: ipywidgets in /usr/local/lib/python3.11/dist-packages (from leafmap) (7.7.1)\n",
            "Requirement already satisfied: matplotlib in /usr/local/lib/python3.11/dist-packages (from leafmap) (3.10.0)\n",
            "Requirement already satisfied: numpy in /usr/local/lib/python3.11/dist-packages (from leafmap) (1.26.4)\n",
            "Requirement already satisfied: pandas in /usr/local/lib/python3.11/dist-packages (from leafmap) (2.2.2)\n",
            "Requirement already satisfied: plotly in /usr/local/lib/python3.11/dist-packages (from leafmap) (5.24.1)\n",
            "Requirement already satisfied: psutil in /usr/local/lib/python3.11/dist-packages (from leafmap) (5.9.5)\n",
            "Requirement already satisfied: pyshp in /usr/local/lib/python3.11/dist-packages (from leafmap) (2.3.1)\n",
            "Requirement already satisfied: pystac-client in /usr/local/lib/python3.11/dist-packages (from leafmap) (0.8.5)\n",
            "Requirement already satisfied: python-box in /usr/local/lib/python3.11/dist-packages (from leafmap) (7.3.2)\n",
            "Requirement already satisfied: scooby in /usr/local/lib/python3.11/dist-packages (from leafmap) (0.10.0)\n",
            "Requirement already satisfied: whiteboxgui in /usr/local/lib/python3.11/dist-packages (from leafmap) (2.3.0)\n",
            "Requirement already satisfied: xyzservices in /usr/local/lib/python3.11/dist-packages (from leafmap) (2025.1.0)\n",
            "Requirement already satisfied: psygnal>=0.8.1 in /usr/local/lib/python3.11/dist-packages (from anywidget->leafmap) (0.11.1)\n",
            "Requirement already satisfied: typing-extensions>=4.2.0 in /usr/local/lib/python3.11/dist-packages (from anywidget->leafmap) (4.12.2)\n",
            "Requirement already satisfied: ipykernel>=4.5.1 in /usr/local/lib/python3.11/dist-packages (from ipywidgets->leafmap) (5.5.6)\n",
            "Requirement already satisfied: ipython-genutils~=0.2.0 in /usr/local/lib/python3.11/dist-packages (from ipywidgets->leafmap) (0.2.0)\n",
            "Requirement already satisfied: traitlets>=4.3.1 in /usr/local/lib/python3.11/dist-packages (from ipywidgets->leafmap) (5.7.1)\n",
            "Requirement already satisfied: widgetsnbextension~=3.6.0 in /usr/local/lib/python3.11/dist-packages (from ipywidgets->leafmap) (3.6.10)\n",
            "Requirement already satisfied: ipython>=4.0.0 in /usr/local/lib/python3.11/dist-packages (from ipywidgets->leafmap) (7.34.0)\n",
            "Requirement already satisfied: jupyterlab-widgets>=1.0.0 in /usr/local/lib/python3.11/dist-packages (from ipywidgets->leafmap) (3.0.13)\n",
            "Requirement already satisfied: traittypes>=0.0.6 in /usr/local/lib/python3.11/dist-packages (from bqplot->leafmap) (0.2.1)\n",
            "Requirement already satisfied: python-dateutil>=2.8.2 in /usr/local/lib/python3.11/dist-packages (from pandas->leafmap) (2.8.2)\n",
            "Requirement already satisfied: pytz>=2020.1 in /usr/local/lib/python3.11/dist-packages (from pandas->leafmap) (2024.2)\n",
            "Requirement already satisfied: tzdata>=2022.7 in /usr/local/lib/python3.11/dist-packages (from pandas->leafmap) (2025.1)\n",
            "Requirement already satisfied: branca>=0.6.0 in /usr/local/lib/python3.11/dist-packages (from folium->leafmap) (0.8.1)\n",
            "Requirement already satisfied: jinja2>=2.9 in /usr/local/lib/python3.11/dist-packages (from folium->leafmap) (3.1.5)\n",
            "Requirement already satisfied: requests in /usr/local/lib/python3.11/dist-packages (from folium->leafmap) (2.32.3)\n",
            "Requirement already satisfied: beautifulsoup4 in /usr/local/lib/python3.11/dist-packages (from gdown->leafmap) (4.12.3)\n",
            "Requirement already satisfied: filelock in /usr/local/lib/python3.11/dist-packages (from gdown->leafmap) (3.17.0)\n",
            "Requirement already satisfied: tqdm in /usr/local/lib/python3.11/dist-packages (from gdown->leafmap) (4.67.1)\n",
            "Requirement already satisfied: jupyter-leaflet<0.20,>=0.19 in /usr/local/lib/python3.11/dist-packages (from ipyleaflet->leafmap) (0.19.2)\n",
            "Requirement already satisfied: ipyvue<2,>=1.7 in /usr/local/lib/python3.11/dist-packages (from ipyvuetify->leafmap) (1.11.2)\n",
            "Requirement already satisfied: contourpy>=1.0.1 in /usr/local/lib/python3.11/dist-packages (from matplotlib->leafmap) (1.3.1)\n",
            "Requirement already satisfied: cycler>=0.10 in /usr/local/lib/python3.11/dist-packages (from matplotlib->leafmap) (0.12.1)\n",
            "Requirement already satisfied: fonttools>=4.22.0 in /usr/local/lib/python3.11/dist-packages (from matplotlib->leafmap) (4.55.4)\n",
            "Requirement already satisfied: kiwisolver>=1.3.1 in /usr/local/lib/python3.11/dist-packages (from matplotlib->leafmap) (1.4.8)\n",
            "Requirement already satisfied: packaging>=20.0 in /usr/local/lib/python3.11/dist-packages (from matplotlib->leafmap) (24.2)\n",
            "Requirement already satisfied: pillow>=8 in /usr/local/lib/python3.11/dist-packages (from matplotlib->leafmap) (11.1.0)\n",
            "Requirement already satisfied: pyparsing>=2.3.1 in /usr/local/lib/python3.11/dist-packages (from matplotlib->leafmap) (3.2.1)\n",
            "Requirement already satisfied: tenacity>=6.2.0 in /usr/local/lib/python3.11/dist-packages (from plotly->leafmap) (9.0.0)\n",
            "Requirement already satisfied: pystac>=1.10.0 in /usr/local/lib/python3.11/dist-packages (from pystac[validation]>=1.10.0->pystac-client->leafmap) (1.12.0)\n",
            "Requirement already satisfied: ipytree in /usr/local/lib/python3.11/dist-packages (from whiteboxgui->leafmap) (0.2.2)\n",
            "Requirement already satisfied: whitebox in /usr/local/lib/python3.11/dist-packages (from whiteboxgui->leafmap) (2.3.5)\n",
            "Requirement already satisfied: jupyter-client in /usr/local/lib/python3.11/dist-packages (from ipykernel>=4.5.1->ipywidgets->leafmap) (6.1.12)\n",
            "Requirement already satisfied: tornado>=4.2 in /usr/local/lib/python3.11/dist-packages (from ipykernel>=4.5.1->ipywidgets->leafmap) (6.3.3)\n",
            "Requirement already satisfied: setuptools>=18.5 in /usr/local/lib/python3.11/dist-packages (from ipython>=4.0.0->ipywidgets->leafmap) (75.1.0)\n",
            "Requirement already satisfied: jedi>=0.16 in /usr/local/lib/python3.11/dist-packages (from ipython>=4.0.0->ipywidgets->leafmap) (0.19.2)\n",
            "Requirement already satisfied: decorator in /usr/local/lib/python3.11/dist-packages (from ipython>=4.0.0->ipywidgets->leafmap) (4.4.2)\n",
            "Requirement already satisfied: pickleshare in /usr/local/lib/python3.11/dist-packages (from ipython>=4.0.0->ipywidgets->leafmap) (0.7.5)\n",
            "Requirement already satisfied: prompt-toolkit!=3.0.0,!=3.0.1,<3.1.0,>=2.0.0 in /usr/local/lib/python3.11/dist-packages (from ipython>=4.0.0->ipywidgets->leafmap) (3.0.50)\n",
            "Requirement already satisfied: pygments in /usr/local/lib/python3.11/dist-packages (from ipython>=4.0.0->ipywidgets->leafmap) (2.18.0)\n",
            "Requirement already satisfied: backcall in /usr/local/lib/python3.11/dist-packages (from ipython>=4.0.0->ipywidgets->leafmap) (0.2.0)\n",
            "Requirement already satisfied: matplotlib-inline in /usr/local/lib/python3.11/dist-packages (from ipython>=4.0.0->ipywidgets->leafmap) (0.1.7)\n",
            "Requirement already satisfied: pexpect>4.3 in /usr/local/lib/python3.11/dist-packages (from ipython>=4.0.0->ipywidgets->leafmap) (4.9.0)\n",
            "Requirement already satisfied: MarkupSafe>=2.0 in /usr/local/lib/python3.11/dist-packages (from jinja2>=2.9->folium->leafmap) (3.0.2)\n",
            "Requirement already satisfied: jsonschema~=4.18 in /usr/local/lib/python3.11/dist-packages (from pystac[validation]>=1.10.0->pystac-client->leafmap) (4.23.0)\n",
            "Requirement already satisfied: six>=1.5 in /usr/local/lib/python3.11/dist-packages (from python-dateutil>=2.8.2->pandas->leafmap) (1.17.0)\n",
            "Requirement already satisfied: charset-normalizer<4,>=2 in /usr/local/lib/python3.11/dist-packages (from requests->folium->leafmap) (3.4.1)\n",
            "Requirement already satisfied: idna<4,>=2.5 in /usr/local/lib/python3.11/dist-packages (from requests->folium->leafmap) (3.10)\n",
            "Requirement already satisfied: urllib3<3,>=1.21.1 in /usr/local/lib/python3.11/dist-packages (from requests->folium->leafmap) (2.3.0)\n",
            "Requirement already satisfied: certifi>=2017.4.17 in /usr/local/lib/python3.11/dist-packages (from requests->folium->leafmap) (2024.12.14)\n",
            "Requirement already satisfied: notebook>=4.4.1 in /usr/local/lib/python3.11/dist-packages (from widgetsnbextension~=3.6.0->ipywidgets->leafmap) (6.5.5)\n",
            "Requirement already satisfied: soupsieve>1.2 in /usr/local/lib/python3.11/dist-packages (from beautifulsoup4->gdown->leafmap) (2.6)\n",
            "Requirement already satisfied: PySocks!=1.5.7,>=1.5.6 in /usr/local/lib/python3.11/dist-packages (from requests[socks]->gdown->leafmap) (1.7.1)\n",
            "Requirement already satisfied: Click>=6.0 in /usr/local/lib/python3.11/dist-packages (from whitebox->whiteboxgui->leafmap) (8.1.8)\n",
            "Requirement already satisfied: parso<0.9.0,>=0.8.4 in /usr/local/lib/python3.11/dist-packages (from jedi>=0.16->ipython>=4.0.0->ipywidgets->leafmap) (0.8.4)\n",
            "Requirement already satisfied: attrs>=22.2.0 in /usr/local/lib/python3.11/dist-packages (from jsonschema~=4.18->pystac[validation]>=1.10.0->pystac-client->leafmap) (24.3.0)\n",
            "Requirement already satisfied: jsonschema-specifications>=2023.03.6 in /usr/local/lib/python3.11/dist-packages (from jsonschema~=4.18->pystac[validation]>=1.10.0->pystac-client->leafmap) (2024.10.1)\n",
            "Requirement already satisfied: referencing>=0.28.4 in /usr/local/lib/python3.11/dist-packages (from jsonschema~=4.18->pystac[validation]>=1.10.0->pystac-client->leafmap) (0.36.1)\n",
            "Requirement already satisfied: rpds-py>=0.7.1 in /usr/local/lib/python3.11/dist-packages (from jsonschema~=4.18->pystac[validation]>=1.10.0->pystac-client->leafmap) (0.22.3)\n",
            "Requirement already satisfied: pyzmq<25,>=17 in /usr/local/lib/python3.11/dist-packages (from notebook>=4.4.1->widgetsnbextension~=3.6.0->ipywidgets->leafmap) (24.0.1)\n",
            "Requirement already satisfied: argon2-cffi in /usr/local/lib/python3.11/dist-packages (from notebook>=4.4.1->widgetsnbextension~=3.6.0->ipywidgets->leafmap) (23.1.0)\n",
            "Requirement already satisfied: jupyter-core>=4.6.1 in /usr/local/lib/python3.11/dist-packages (from notebook>=4.4.1->widgetsnbextension~=3.6.0->ipywidgets->leafmap) (5.7.2)\n",
            "Requirement already satisfied: nbformat in /usr/local/lib/python3.11/dist-packages (from notebook>=4.4.1->widgetsnbextension~=3.6.0->ipywidgets->leafmap) (5.10.4)\n",
            "Requirement already satisfied: nbconvert>=5 in /usr/local/lib/python3.11/dist-packages (from notebook>=4.4.1->widgetsnbextension~=3.6.0->ipywidgets->leafmap) (7.16.5)\n",
            "Requirement already satisfied: nest-asyncio>=1.5 in /usr/local/lib/python3.11/dist-packages (from notebook>=4.4.1->widgetsnbextension~=3.6.0->ipywidgets->leafmap) (1.6.0)\n",
            "Requirement already satisfied: Send2Trash>=1.8.0 in /usr/local/lib/python3.11/dist-packages (from notebook>=4.4.1->widgetsnbextension~=3.6.0->ipywidgets->leafmap) (1.8.3)\n",
            "Requirement already satisfied: terminado>=0.8.3 in /usr/local/lib/python3.11/dist-packages (from notebook>=4.4.1->widgetsnbextension~=3.6.0->ipywidgets->leafmap) (0.18.1)\n",
            "Requirement already satisfied: prometheus-client in /usr/local/lib/python3.11/dist-packages (from notebook>=4.4.1->widgetsnbextension~=3.6.0->ipywidgets->leafmap) (0.21.1)\n",
            "Requirement already satisfied: nbclassic>=0.4.7 in /usr/local/lib/python3.11/dist-packages (from notebook>=4.4.1->widgetsnbextension~=3.6.0->ipywidgets->leafmap) (1.2.0)\n",
            "Requirement already satisfied: ptyprocess>=0.5 in /usr/local/lib/python3.11/dist-packages (from pexpect>4.3->ipython>=4.0.0->ipywidgets->leafmap) (0.7.0)\n",
            "Requirement already satisfied: wcwidth in /usr/local/lib/python3.11/dist-packages (from prompt-toolkit!=3.0.0,!=3.0.1,<3.1.0,>=2.0.0->ipython>=4.0.0->ipywidgets->leafmap) (0.2.13)\n",
            "Requirement already satisfied: platformdirs>=2.5 in /usr/local/lib/python3.11/dist-packages (from jupyter-core>=4.6.1->notebook>=4.4.1->widgetsnbextension~=3.6.0->ipywidgets->leafmap) (4.3.6)\n",
            "Requirement already satisfied: notebook-shim>=0.2.3 in /usr/local/lib/python3.11/dist-packages (from nbclassic>=0.4.7->notebook>=4.4.1->widgetsnbextension~=3.6.0->ipywidgets->leafmap) (0.2.4)\n",
            "Requirement already satisfied: bleach!=5.0.0 in /usr/local/lib/python3.11/dist-packages (from bleach[css]!=5.0.0->nbconvert>=5->notebook>=4.4.1->widgetsnbextension~=3.6.0->ipywidgets->leafmap) (6.2.0)\n",
            "Requirement already satisfied: defusedxml in /usr/local/lib/python3.11/dist-packages (from nbconvert>=5->notebook>=4.4.1->widgetsnbextension~=3.6.0->ipywidgets->leafmap) (0.7.1)\n",
            "Requirement already satisfied: jupyterlab-pygments in /usr/local/lib/python3.11/dist-packages (from nbconvert>=5->notebook>=4.4.1->widgetsnbextension~=3.6.0->ipywidgets->leafmap) (0.3.0)\n",
            "Requirement already satisfied: mistune<4,>=2.0.3 in /usr/local/lib/python3.11/dist-packages (from nbconvert>=5->notebook>=4.4.1->widgetsnbextension~=3.6.0->ipywidgets->leafmap) (3.1.0)\n",
            "Requirement already satisfied: nbclient>=0.5.0 in /usr/local/lib/python3.11/dist-packages (from nbconvert>=5->notebook>=4.4.1->widgetsnbextension~=3.6.0->ipywidgets->leafmap) (0.10.2)\n",
            "Requirement already satisfied: pandocfilters>=1.4.1 in /usr/local/lib/python3.11/dist-packages (from nbconvert>=5->notebook>=4.4.1->widgetsnbextension~=3.6.0->ipywidgets->leafmap) (1.5.1)\n",
            "Requirement already satisfied: fastjsonschema>=2.15 in /usr/local/lib/python3.11/dist-packages (from nbformat->notebook>=4.4.1->widgetsnbextension~=3.6.0->ipywidgets->leafmap) (2.21.1)\n",
            "Requirement already satisfied: argon2-cffi-bindings in /usr/local/lib/python3.11/dist-packages (from argon2-cffi->notebook>=4.4.1->widgetsnbextension~=3.6.0->ipywidgets->leafmap) (21.2.0)\n",
            "Requirement already satisfied: webencodings in /usr/local/lib/python3.11/dist-packages (from bleach!=5.0.0->bleach[css]!=5.0.0->nbconvert>=5->notebook>=4.4.1->widgetsnbextension~=3.6.0->ipywidgets->leafmap) (0.5.1)\n",
            "Requirement already satisfied: tinycss2<1.5,>=1.1.0 in /usr/local/lib/python3.11/dist-packages (from bleach[css]!=5.0.0->nbconvert>=5->notebook>=4.4.1->widgetsnbextension~=3.6.0->ipywidgets->leafmap) (1.4.0)\n",
            "Requirement already satisfied: jupyter-server<3,>=1.8 in /usr/local/lib/python3.11/dist-packages (from notebook-shim>=0.2.3->nbclassic>=0.4.7->notebook>=4.4.1->widgetsnbextension~=3.6.0->ipywidgets->leafmap) (1.24.0)\n",
            "Requirement already satisfied: cffi>=1.0.1 in /usr/local/lib/python3.11/dist-packages (from argon2-cffi-bindings->argon2-cffi->notebook>=4.4.1->widgetsnbextension~=3.6.0->ipywidgets->leafmap) (1.17.1)\n",
            "Requirement already satisfied: pycparser in /usr/local/lib/python3.11/dist-packages (from cffi>=1.0.1->argon2-cffi-bindings->argon2-cffi->notebook>=4.4.1->widgetsnbextension~=3.6.0->ipywidgets->leafmap) (2.22)\n",
            "Requirement already satisfied: anyio<4,>=3.1.0 in /usr/local/lib/python3.11/dist-packages (from jupyter-server<3,>=1.8->notebook-shim>=0.2.3->nbclassic>=0.4.7->notebook>=4.4.1->widgetsnbextension~=3.6.0->ipywidgets->leafmap) (3.7.1)\n",
            "Requirement already satisfied: websocket-client in /usr/local/lib/python3.11/dist-packages (from jupyter-server<3,>=1.8->notebook-shim>=0.2.3->nbclassic>=0.4.7->notebook>=4.4.1->widgetsnbextension~=3.6.0->ipywidgets->leafmap) (1.8.0)\n",
            "Requirement already satisfied: sniffio>=1.1 in /usr/local/lib/python3.11/dist-packages (from anyio<4,>=3.1.0->jupyter-server<3,>=1.8->notebook-shim>=0.2.3->nbclassic>=0.4.7->notebook>=4.4.1->widgetsnbextension~=3.6.0->ipywidgets->leafmap) (1.3.1)\n"
          ]
        },
        {
          "output_type": "display_data",
          "data": {
            "text/plain": [
              "Map(center=[20, 0], controls=(ZoomControl(options=['position', 'zoom_in_text', 'zoom_in_title', 'zoom_out_text…"
            ],
            "application/vnd.jupyter.widget-view+json": {
              "version_major": 2,
              "version_minor": 0,
              "model_id": "f3059fde9a1c4ae1a23b5a72996031e6"
            }
          },
          "metadata": {}
        }
      ],
      "source": [
        "%pip install -U leafmap\n",
        "import leafmap\n",
        "url = \"https://services.terrascope.be/wms/v2?\"\n",
        "m = leafmap.Map()\n",
        "m.add_wms_layer(\n",
        "    url=url,\n",
        "    layers=\"WORLDCOVER_2021_MAP\",\n",
        "    name=\"ESA World Cover\",\n",
        "    format=\"image/png\",\n",
        "    transparent=True\n",
        ")\n",
        "m.add_legend(title= \"ESA World Cover\", builtin_legend= \"ESA_WorldCover\")\n",
        "m"
      ]
    },
    {
      "cell_type": "markdown",
      "metadata": {
        "id": "hMd7kcMgL2Yj"
      },
      "source": [
        "![image](https://github.com/user-attachments/assets/be5a9b07-4f6c-4245-9737-31db2df14f7f)"
      ]
    },
    {
      "cell_type": "markdown",
      "metadata": {
        "id": "lFjmH7MhL2Yj"
      },
      "source": [
        "## Exercise 4: Creating Marker Clusters\n",
        "\n",
        "1. Create a marker cluster visualization from a GeoJSON file of building centroids:\n",
        "    - URL: https://github.com/opengeos/datasets/releases/download/places/wa_building_centroids.geojson\n",
        "    - Hint: Read the GeoJSON file using GeoPandas and add \"latitude\" and \"longitude\" columns to the GeoDataFrame.\n",
        "2. Create circle markers for each building centroid using the `Map.add_circle_markers_from_xy()` method with the following styling:\n",
        "    * Radius: 5\n",
        "    * Outline color: \"red\"\n",
        "    * Fill color: \"yellow\"\n",
        "    * Fill opacity: 0.8"
      ]
    },
    {
      "cell_type": "code",
      "execution_count": 33,
      "metadata": {
        "id": "qd-P_54BL2Yk",
        "colab": {
          "base_uri": "https://localhost:8080/",
          "height": 1000,
          "referenced_widgets": [
            "74b711cba5ce4749bb43333481117c1a",
            "7950a3f36e3847faa0fbbcb5c3845318",
            "1c7e735e6d0a4fecaec7c2beafd03727",
            "12b5c6b7a92443a984ef8554a750fd8f",
            "1fdf260bde994ded917ca592ec26a18a",
            "001ddede09e54d5aa204d42276d53814",
            "cffe3a6810564ac8a60683e3c1b7a329",
            "b9b4a26311c64e908c03c485baf5d681",
            "bcb00bfd735d4d16b0cf36c1c6aa84ee",
            "40786258a5c349b8a7cbdf25b2b7bf8a",
            "8f1cd0767eec4850911f67e661d7a155",
            "a36e7d3e44264387be2f07432a9bf720",
            "0eef146a98e1415b978cf98d6b8e8b99",
            "32da9f87a30742be99d25999bd742015",
            "2bee2f9e0f1c4d6187990ce30c1f1188",
            "c23955805ca24f97a9a94db887ed63de",
            "8a8991909d45466cb5f9af83c14b49fe"
          ]
        },
        "outputId": "0bdc116b-4aeb-4a0b-febc-0f2d4100892e"
      },
      "outputs": [
        {
          "output_type": "stream",
          "name": "stdout",
          "text": [
            "Requirement already satisfied: leafmap in /usr/local/lib/python3.11/dist-packages (0.42.7)\n",
            "Requirement already satisfied: anywidget in /usr/local/lib/python3.11/dist-packages (from leafmap) (0.9.13)\n",
            "Requirement already satisfied: bqplot in /usr/local/lib/python3.11/dist-packages (from leafmap) (0.12.44)\n",
            "Requirement already satisfied: colour in /usr/local/lib/python3.11/dist-packages (from leafmap) (0.1.5)\n",
            "Requirement already satisfied: duckdb in /usr/local/lib/python3.11/dist-packages (from leafmap) (1.1.3)\n",
            "Requirement already satisfied: folium in /usr/local/lib/python3.11/dist-packages (from leafmap) (0.19.4)\n",
            "Requirement already satisfied: gdown in /usr/local/lib/python3.11/dist-packages (from leafmap) (5.2.0)\n",
            "Requirement already satisfied: geojson in /usr/local/lib/python3.11/dist-packages (from leafmap) (3.2.0)\n",
            "Requirement already satisfied: ipyevents in /usr/local/lib/python3.11/dist-packages (from leafmap) (2.0.2)\n",
            "Requirement already satisfied: ipyfilechooser in /usr/local/lib/python3.11/dist-packages (from leafmap) (0.6.0)\n",
            "Requirement already satisfied: ipyleaflet in /usr/local/lib/python3.11/dist-packages (from leafmap) (0.19.2)\n",
            "Requirement already satisfied: ipyvuetify in /usr/local/lib/python3.11/dist-packages (from leafmap) (1.10.0)\n",
            "Requirement already satisfied: ipywidgets in /usr/local/lib/python3.11/dist-packages (from leafmap) (7.7.1)\n",
            "Requirement already satisfied: matplotlib in /usr/local/lib/python3.11/dist-packages (from leafmap) (3.10.0)\n",
            "Requirement already satisfied: numpy in /usr/local/lib/python3.11/dist-packages (from leafmap) (1.26.4)\n",
            "Requirement already satisfied: pandas in /usr/local/lib/python3.11/dist-packages (from leafmap) (2.2.2)\n",
            "Requirement already satisfied: plotly in /usr/local/lib/python3.11/dist-packages (from leafmap) (5.24.1)\n",
            "Requirement already satisfied: psutil in /usr/local/lib/python3.11/dist-packages (from leafmap) (5.9.5)\n",
            "Requirement already satisfied: pyshp in /usr/local/lib/python3.11/dist-packages (from leafmap) (2.3.1)\n",
            "Requirement already satisfied: pystac-client in /usr/local/lib/python3.11/dist-packages (from leafmap) (0.8.5)\n",
            "Requirement already satisfied: python-box in /usr/local/lib/python3.11/dist-packages (from leafmap) (7.3.2)\n",
            "Requirement already satisfied: scooby in /usr/local/lib/python3.11/dist-packages (from leafmap) (0.10.0)\n",
            "Requirement already satisfied: whiteboxgui in /usr/local/lib/python3.11/dist-packages (from leafmap) (2.3.0)\n",
            "Requirement already satisfied: xyzservices in /usr/local/lib/python3.11/dist-packages (from leafmap) (2025.1.0)\n",
            "Requirement already satisfied: psygnal>=0.8.1 in /usr/local/lib/python3.11/dist-packages (from anywidget->leafmap) (0.11.1)\n",
            "Requirement already satisfied: typing-extensions>=4.2.0 in /usr/local/lib/python3.11/dist-packages (from anywidget->leafmap) (4.12.2)\n",
            "Requirement already satisfied: ipykernel>=4.5.1 in /usr/local/lib/python3.11/dist-packages (from ipywidgets->leafmap) (5.5.6)\n",
            "Requirement already satisfied: ipython-genutils~=0.2.0 in /usr/local/lib/python3.11/dist-packages (from ipywidgets->leafmap) (0.2.0)\n",
            "Requirement already satisfied: traitlets>=4.3.1 in /usr/local/lib/python3.11/dist-packages (from ipywidgets->leafmap) (5.7.1)\n",
            "Requirement already satisfied: widgetsnbextension~=3.6.0 in /usr/local/lib/python3.11/dist-packages (from ipywidgets->leafmap) (3.6.10)\n",
            "Requirement already satisfied: ipython>=4.0.0 in /usr/local/lib/python3.11/dist-packages (from ipywidgets->leafmap) (7.34.0)\n",
            "Requirement already satisfied: jupyterlab-widgets>=1.0.0 in /usr/local/lib/python3.11/dist-packages (from ipywidgets->leafmap) (3.0.13)\n",
            "Requirement already satisfied: traittypes>=0.0.6 in /usr/local/lib/python3.11/dist-packages (from bqplot->leafmap) (0.2.1)\n",
            "Requirement already satisfied: python-dateutil>=2.8.2 in /usr/local/lib/python3.11/dist-packages (from pandas->leafmap) (2.8.2)\n",
            "Requirement already satisfied: pytz>=2020.1 in /usr/local/lib/python3.11/dist-packages (from pandas->leafmap) (2024.2)\n",
            "Requirement already satisfied: tzdata>=2022.7 in /usr/local/lib/python3.11/dist-packages (from pandas->leafmap) (2025.1)\n",
            "Requirement already satisfied: branca>=0.6.0 in /usr/local/lib/python3.11/dist-packages (from folium->leafmap) (0.8.1)\n",
            "Requirement already satisfied: jinja2>=2.9 in /usr/local/lib/python3.11/dist-packages (from folium->leafmap) (3.1.5)\n",
            "Requirement already satisfied: requests in /usr/local/lib/python3.11/dist-packages (from folium->leafmap) (2.32.3)\n",
            "Requirement already satisfied: beautifulsoup4 in /usr/local/lib/python3.11/dist-packages (from gdown->leafmap) (4.12.3)\n",
            "Requirement already satisfied: filelock in /usr/local/lib/python3.11/dist-packages (from gdown->leafmap) (3.17.0)\n",
            "Requirement already satisfied: tqdm in /usr/local/lib/python3.11/dist-packages (from gdown->leafmap) (4.67.1)\n",
            "Requirement already satisfied: jupyter-leaflet<0.20,>=0.19 in /usr/local/lib/python3.11/dist-packages (from ipyleaflet->leafmap) (0.19.2)\n",
            "Requirement already satisfied: ipyvue<2,>=1.7 in /usr/local/lib/python3.11/dist-packages (from ipyvuetify->leafmap) (1.11.2)\n",
            "Requirement already satisfied: contourpy>=1.0.1 in /usr/local/lib/python3.11/dist-packages (from matplotlib->leafmap) (1.3.1)\n",
            "Requirement already satisfied: cycler>=0.10 in /usr/local/lib/python3.11/dist-packages (from matplotlib->leafmap) (0.12.1)\n",
            "Requirement already satisfied: fonttools>=4.22.0 in /usr/local/lib/python3.11/dist-packages (from matplotlib->leafmap) (4.55.4)\n",
            "Requirement already satisfied: kiwisolver>=1.3.1 in /usr/local/lib/python3.11/dist-packages (from matplotlib->leafmap) (1.4.8)\n",
            "Requirement already satisfied: packaging>=20.0 in /usr/local/lib/python3.11/dist-packages (from matplotlib->leafmap) (24.2)\n",
            "Requirement already satisfied: pillow>=8 in /usr/local/lib/python3.11/dist-packages (from matplotlib->leafmap) (11.1.0)\n",
            "Requirement already satisfied: pyparsing>=2.3.1 in /usr/local/lib/python3.11/dist-packages (from matplotlib->leafmap) (3.2.1)\n",
            "Requirement already satisfied: tenacity>=6.2.0 in /usr/local/lib/python3.11/dist-packages (from plotly->leafmap) (9.0.0)\n",
            "Requirement already satisfied: pystac>=1.10.0 in /usr/local/lib/python3.11/dist-packages (from pystac[validation]>=1.10.0->pystac-client->leafmap) (1.12.0)\n",
            "Requirement already satisfied: ipytree in /usr/local/lib/python3.11/dist-packages (from whiteboxgui->leafmap) (0.2.2)\n",
            "Requirement already satisfied: whitebox in /usr/local/lib/python3.11/dist-packages (from whiteboxgui->leafmap) (2.3.5)\n",
            "Requirement already satisfied: jupyter-client in /usr/local/lib/python3.11/dist-packages (from ipykernel>=4.5.1->ipywidgets->leafmap) (6.1.12)\n",
            "Requirement already satisfied: tornado>=4.2 in /usr/local/lib/python3.11/dist-packages (from ipykernel>=4.5.1->ipywidgets->leafmap) (6.3.3)\n",
            "Requirement already satisfied: setuptools>=18.5 in /usr/local/lib/python3.11/dist-packages (from ipython>=4.0.0->ipywidgets->leafmap) (75.1.0)\n",
            "Requirement already satisfied: jedi>=0.16 in /usr/local/lib/python3.11/dist-packages (from ipython>=4.0.0->ipywidgets->leafmap) (0.19.2)\n",
            "Requirement already satisfied: decorator in /usr/local/lib/python3.11/dist-packages (from ipython>=4.0.0->ipywidgets->leafmap) (4.4.2)\n",
            "Requirement already satisfied: pickleshare in /usr/local/lib/python3.11/dist-packages (from ipython>=4.0.0->ipywidgets->leafmap) (0.7.5)\n",
            "Requirement already satisfied: prompt-toolkit!=3.0.0,!=3.0.1,<3.1.0,>=2.0.0 in /usr/local/lib/python3.11/dist-packages (from ipython>=4.0.0->ipywidgets->leafmap) (3.0.50)\n",
            "Requirement already satisfied: pygments in /usr/local/lib/python3.11/dist-packages (from ipython>=4.0.0->ipywidgets->leafmap) (2.18.0)\n",
            "Requirement already satisfied: backcall in /usr/local/lib/python3.11/dist-packages (from ipython>=4.0.0->ipywidgets->leafmap) (0.2.0)\n",
            "Requirement already satisfied: matplotlib-inline in /usr/local/lib/python3.11/dist-packages (from ipython>=4.0.0->ipywidgets->leafmap) (0.1.7)\n",
            "Requirement already satisfied: pexpect>4.3 in /usr/local/lib/python3.11/dist-packages (from ipython>=4.0.0->ipywidgets->leafmap) (4.9.0)\n",
            "Requirement already satisfied: MarkupSafe>=2.0 in /usr/local/lib/python3.11/dist-packages (from jinja2>=2.9->folium->leafmap) (3.0.2)\n",
            "Requirement already satisfied: jsonschema~=4.18 in /usr/local/lib/python3.11/dist-packages (from pystac[validation]>=1.10.0->pystac-client->leafmap) (4.23.0)\n",
            "Requirement already satisfied: six>=1.5 in /usr/local/lib/python3.11/dist-packages (from python-dateutil>=2.8.2->pandas->leafmap) (1.17.0)\n",
            "Requirement already satisfied: charset-normalizer<4,>=2 in /usr/local/lib/python3.11/dist-packages (from requests->folium->leafmap) (3.4.1)\n",
            "Requirement already satisfied: idna<4,>=2.5 in /usr/local/lib/python3.11/dist-packages (from requests->folium->leafmap) (3.10)\n",
            "Requirement already satisfied: urllib3<3,>=1.21.1 in /usr/local/lib/python3.11/dist-packages (from requests->folium->leafmap) (2.3.0)\n",
            "Requirement already satisfied: certifi>=2017.4.17 in /usr/local/lib/python3.11/dist-packages (from requests->folium->leafmap) (2024.12.14)\n",
            "Requirement already satisfied: notebook>=4.4.1 in /usr/local/lib/python3.11/dist-packages (from widgetsnbextension~=3.6.0->ipywidgets->leafmap) (6.5.5)\n",
            "Requirement already satisfied: soupsieve>1.2 in /usr/local/lib/python3.11/dist-packages (from beautifulsoup4->gdown->leafmap) (2.6)\n",
            "Requirement already satisfied: PySocks!=1.5.7,>=1.5.6 in /usr/local/lib/python3.11/dist-packages (from requests[socks]->gdown->leafmap) (1.7.1)\n",
            "Requirement already satisfied: Click>=6.0 in /usr/local/lib/python3.11/dist-packages (from whitebox->whiteboxgui->leafmap) (8.1.8)\n",
            "Requirement already satisfied: parso<0.9.0,>=0.8.4 in /usr/local/lib/python3.11/dist-packages (from jedi>=0.16->ipython>=4.0.0->ipywidgets->leafmap) (0.8.4)\n",
            "Requirement already satisfied: attrs>=22.2.0 in /usr/local/lib/python3.11/dist-packages (from jsonschema~=4.18->pystac[validation]>=1.10.0->pystac-client->leafmap) (24.3.0)\n",
            "Requirement already satisfied: jsonschema-specifications>=2023.03.6 in /usr/local/lib/python3.11/dist-packages (from jsonschema~=4.18->pystac[validation]>=1.10.0->pystac-client->leafmap) (2024.10.1)\n",
            "Requirement already satisfied: referencing>=0.28.4 in /usr/local/lib/python3.11/dist-packages (from jsonschema~=4.18->pystac[validation]>=1.10.0->pystac-client->leafmap) (0.36.1)\n",
            "Requirement already satisfied: rpds-py>=0.7.1 in /usr/local/lib/python3.11/dist-packages (from jsonschema~=4.18->pystac[validation]>=1.10.0->pystac-client->leafmap) (0.22.3)\n",
            "Requirement already satisfied: pyzmq<25,>=17 in /usr/local/lib/python3.11/dist-packages (from notebook>=4.4.1->widgetsnbextension~=3.6.0->ipywidgets->leafmap) (24.0.1)\n",
            "Requirement already satisfied: argon2-cffi in /usr/local/lib/python3.11/dist-packages (from notebook>=4.4.1->widgetsnbextension~=3.6.0->ipywidgets->leafmap) (23.1.0)\n",
            "Requirement already satisfied: jupyter-core>=4.6.1 in /usr/local/lib/python3.11/dist-packages (from notebook>=4.4.1->widgetsnbextension~=3.6.0->ipywidgets->leafmap) (5.7.2)\n",
            "Requirement already satisfied: nbformat in /usr/local/lib/python3.11/dist-packages (from notebook>=4.4.1->widgetsnbextension~=3.6.0->ipywidgets->leafmap) (5.10.4)\n",
            "Requirement already satisfied: nbconvert>=5 in /usr/local/lib/python3.11/dist-packages (from notebook>=4.4.1->widgetsnbextension~=3.6.0->ipywidgets->leafmap) (7.16.5)\n",
            "Requirement already satisfied: nest-asyncio>=1.5 in /usr/local/lib/python3.11/dist-packages (from notebook>=4.4.1->widgetsnbextension~=3.6.0->ipywidgets->leafmap) (1.6.0)\n",
            "Requirement already satisfied: Send2Trash>=1.8.0 in /usr/local/lib/python3.11/dist-packages (from notebook>=4.4.1->widgetsnbextension~=3.6.0->ipywidgets->leafmap) (1.8.3)\n",
            "Requirement already satisfied: terminado>=0.8.3 in /usr/local/lib/python3.11/dist-packages (from notebook>=4.4.1->widgetsnbextension~=3.6.0->ipywidgets->leafmap) (0.18.1)\n",
            "Requirement already satisfied: prometheus-client in /usr/local/lib/python3.11/dist-packages (from notebook>=4.4.1->widgetsnbextension~=3.6.0->ipywidgets->leafmap) (0.21.1)\n",
            "Requirement already satisfied: nbclassic>=0.4.7 in /usr/local/lib/python3.11/dist-packages (from notebook>=4.4.1->widgetsnbextension~=3.6.0->ipywidgets->leafmap) (1.2.0)\n",
            "Requirement already satisfied: ptyprocess>=0.5 in /usr/local/lib/python3.11/dist-packages (from pexpect>4.3->ipython>=4.0.0->ipywidgets->leafmap) (0.7.0)\n",
            "Requirement already satisfied: wcwidth in /usr/local/lib/python3.11/dist-packages (from prompt-toolkit!=3.0.0,!=3.0.1,<3.1.0,>=2.0.0->ipython>=4.0.0->ipywidgets->leafmap) (0.2.13)\n",
            "Requirement already satisfied: platformdirs>=2.5 in /usr/local/lib/python3.11/dist-packages (from jupyter-core>=4.6.1->notebook>=4.4.1->widgetsnbextension~=3.6.0->ipywidgets->leafmap) (4.3.6)\n",
            "Requirement already satisfied: notebook-shim>=0.2.3 in /usr/local/lib/python3.11/dist-packages (from nbclassic>=0.4.7->notebook>=4.4.1->widgetsnbextension~=3.6.0->ipywidgets->leafmap) (0.2.4)\n",
            "Requirement already satisfied: bleach!=5.0.0 in /usr/local/lib/python3.11/dist-packages (from bleach[css]!=5.0.0->nbconvert>=5->notebook>=4.4.1->widgetsnbextension~=3.6.0->ipywidgets->leafmap) (6.2.0)\n",
            "Requirement already satisfied: defusedxml in /usr/local/lib/python3.11/dist-packages (from nbconvert>=5->notebook>=4.4.1->widgetsnbextension~=3.6.0->ipywidgets->leafmap) (0.7.1)\n",
            "Requirement already satisfied: jupyterlab-pygments in /usr/local/lib/python3.11/dist-packages (from nbconvert>=5->notebook>=4.4.1->widgetsnbextension~=3.6.0->ipywidgets->leafmap) (0.3.0)\n",
            "Requirement already satisfied: mistune<4,>=2.0.3 in /usr/local/lib/python3.11/dist-packages (from nbconvert>=5->notebook>=4.4.1->widgetsnbextension~=3.6.0->ipywidgets->leafmap) (3.1.0)\n",
            "Requirement already satisfied: nbclient>=0.5.0 in /usr/local/lib/python3.11/dist-packages (from nbconvert>=5->notebook>=4.4.1->widgetsnbextension~=3.6.0->ipywidgets->leafmap) (0.10.2)\n",
            "Requirement already satisfied: pandocfilters>=1.4.1 in /usr/local/lib/python3.11/dist-packages (from nbconvert>=5->notebook>=4.4.1->widgetsnbextension~=3.6.0->ipywidgets->leafmap) (1.5.1)\n",
            "Requirement already satisfied: fastjsonschema>=2.15 in /usr/local/lib/python3.11/dist-packages (from nbformat->notebook>=4.4.1->widgetsnbextension~=3.6.0->ipywidgets->leafmap) (2.21.1)\n",
            "Requirement already satisfied: argon2-cffi-bindings in /usr/local/lib/python3.11/dist-packages (from argon2-cffi->notebook>=4.4.1->widgetsnbextension~=3.6.0->ipywidgets->leafmap) (21.2.0)\n",
            "Requirement already satisfied: webencodings in /usr/local/lib/python3.11/dist-packages (from bleach!=5.0.0->bleach[css]!=5.0.0->nbconvert>=5->notebook>=4.4.1->widgetsnbextension~=3.6.0->ipywidgets->leafmap) (0.5.1)\n",
            "Requirement already satisfied: tinycss2<1.5,>=1.1.0 in /usr/local/lib/python3.11/dist-packages (from bleach[css]!=5.0.0->nbconvert>=5->notebook>=4.4.1->widgetsnbextension~=3.6.0->ipywidgets->leafmap) (1.4.0)\n",
            "Requirement already satisfied: jupyter-server<3,>=1.8 in /usr/local/lib/python3.11/dist-packages (from notebook-shim>=0.2.3->nbclassic>=0.4.7->notebook>=4.4.1->widgetsnbextension~=3.6.0->ipywidgets->leafmap) (1.24.0)\n",
            "Requirement already satisfied: cffi>=1.0.1 in /usr/local/lib/python3.11/dist-packages (from argon2-cffi-bindings->argon2-cffi->notebook>=4.4.1->widgetsnbextension~=3.6.0->ipywidgets->leafmap) (1.17.1)\n",
            "Requirement already satisfied: pycparser in /usr/local/lib/python3.11/dist-packages (from cffi>=1.0.1->argon2-cffi-bindings->argon2-cffi->notebook>=4.4.1->widgetsnbextension~=3.6.0->ipywidgets->leafmap) (2.22)\n",
            "Requirement already satisfied: anyio<4,>=3.1.0 in /usr/local/lib/python3.11/dist-packages (from jupyter-server<3,>=1.8->notebook-shim>=0.2.3->nbclassic>=0.4.7->notebook>=4.4.1->widgetsnbextension~=3.6.0->ipywidgets->leafmap) (3.7.1)\n",
            "Requirement already satisfied: websocket-client in /usr/local/lib/python3.11/dist-packages (from jupyter-server<3,>=1.8->notebook-shim>=0.2.3->nbclassic>=0.4.7->notebook>=4.4.1->widgetsnbextension~=3.6.0->ipywidgets->leafmap) (1.8.0)\n",
            "Requirement already satisfied: sniffio>=1.1 in /usr/local/lib/python3.11/dist-packages (from anyio<4,>=3.1.0->jupyter-server<3,>=1.8->notebook-shim>=0.2.3->nbclassic>=0.4.7->notebook>=4.4.1->widgetsnbextension~=3.6.0->ipywidgets->leafmap) (1.3.1)\n"
          ]
        },
        {
          "output_type": "display_data",
          "data": {
            "text/plain": [
              "Map(center=[20, 0], controls=(ZoomControl(options=['position', 'zoom_in_text', 'zoom_in_title', 'zoom_out_text…"
            ],
            "application/vnd.jupyter.widget-view+json": {
              "version_major": 2,
              "version_minor": 0,
              "model_id": "2bee2f9e0f1c4d6187990ce30c1f1188"
            }
          },
          "metadata": {}
        }
      ],
      "source": [
        "%pip install leafmap\n",
        "import leafmap\n",
        "import geopandas as gpd\n",
        "\n",
        "url= \"https://github.com/opengeos/datasets/releases/download/places/wa_building_centroids.geojson\"\n",
        "m = leafmap.Map()\n",
        "gdf = gpd.read_file(url)\n",
        "m.add_circle_markers_from_xy(gdf, x= \"longitude\", y= \"latitude\", radius= 5, color= \"red\", fill_color= \"yellow\", fill_opacity= 0.8)\n",
        "m"
      ]
    },
    {
      "cell_type": "markdown",
      "metadata": {
        "id": "d80YL6PdL2Yk"
      },
      "source": [
        "![image](https://github.com/user-attachments/assets/d60cbfc7-b8c9-4cab-8852-bc34e82fd665)"
      ]
    },
    {
      "cell_type": "code",
      "execution_count": 33,
      "metadata": {
        "id": "BzmWKxZlL2Yk"
      },
      "outputs": [],
      "source": []
    },
    {
      "cell_type": "markdown",
      "metadata": {
        "id": "1eynCzouL2Yk"
      },
      "source": [
        "![image](https://github.com/user-attachments/assets/637e00ae-89af-495e-84b4-e668e16cce88)"
      ]
    },
    {
      "cell_type": "markdown",
      "metadata": {
        "id": "pLiAROXxL2Yk"
      },
      "source": [
        "## Exercise 5: Visualizing Vector Data\n",
        "\n",
        "1. Visualize the building polygons GeoJSON file and style it with:\n",
        "    * Outline color: \"red\"\n",
        "    * No fill color\n",
        "    * URL: https://github.com/opengeos/datasets/releases/download/places/wa_overture_buildings.geojson\n",
        "  \n",
        "2. Visualize the road polylines GeoJSON file and style it with:\n",
        "    * Line color: \"red\"\n",
        "    * Line width: 2\n",
        "    * URL: https://github.com/opengeos/datasets/releases/download/places/las_vegas_roads.geojson\n",
        "\n",
        "3. Create a choropleth map of county areas in the US:\n",
        "    * URL: https://github.com/opengeos/datasets/releases/download/us/us_counties.geojson\n",
        "    * Column: `CENSUSAREA`\n"
      ]
    },
    {
      "cell_type": "code",
      "source": [],
      "metadata": {
        "id": "toeJmf8uiIEK"
      },
      "execution_count": 33,
      "outputs": []
    },
    {
      "cell_type": "code",
      "execution_count": 34,
      "metadata": {
        "id": "sxeM-U5OL2Yk",
        "colab": {
          "base_uri": "https://localhost:8080/",
          "height": 1000,
          "referenced_widgets": [
            "f8f2ea23681c487f9a112a24cd3a88bb",
            "5b491cddb086434ba80525bf7c6d10da",
            "428471e64c9f4dcfaf2e2d35da84c288",
            "1ce229d6b79e42dcad2b9d581dbd9824",
            "e67795df620e471e886c5a65301357d5",
            "1b0bf89770b545b396d181a4b5f5f3e7",
            "97b7807ffc974e0f8af1809698a2357a",
            "33c46e023a8e47f4a84b5e7a155b7dcb",
            "eae2780b2dc64c9fa08794f7e7eb4d15",
            "db8fa7fb3d144562921846598683f626",
            "297636246d8140dfbd44098b551c6ded",
            "4b1444a2286d49f5897e428557e11c30",
            "b0544bfde651463e9eeaa9ca527aa5ee",
            "140903c7beac428c8fe3ed77bf8d9dca",
            "a6197562360946af8ed3bfa546b36fde",
            "cc6749ff26cc4d7f9316f89d3f6b1e01",
            "37c56211071b4af58c2fcd03805c12f4",
            "6cd5dba8e1ea478cb9a8d2329e89c0a7",
            "af9a9167b9aa4f05bbfeb0d738ccbca5",
            "b59776ffaab34769ac7e853301dbef2d",
            "346cbbc1e7ec409381f7166c8389aab6",
            "742d93a59fad4775bc8ba2db73182625",
            "96be7c821b8b4fd1ac9b831223a896d8",
            "ca38b1c61bd04144aaf0ddf7acea966a",
            "59d221de3c624d548d330e037ff514e2",
            "9224c24368154651ae01ca55f6359b84",
            "e2723f3a36924c33904d5dae21cd6169",
            "dc495bfd2697461da3edc5c940a4eae1",
            "2989da57ece24388a4b457eaec52bd2f",
            "85e00e6b463340c8ab191bbef322a596",
            "58a752b6526d446d846a2bbc7d59f889",
            "e2e1e53532b240e0964bbe1c3433b001",
            "09ed249174ea47468ed209b45dc2be18",
            "1110142b08754f879623ebfb0e53fd70",
            "51a81ad836ae45298331671ba8782c41",
            "fb33aba6e5164827993b282cb60b5777"
          ]
        },
        "outputId": "f1773006-98f4-48bf-bb2e-8b19aeaf8a45"
      },
      "outputs": [
        {
          "output_type": "stream",
          "name": "stdout",
          "text": [
            "Requirement already satisfied: leafmap in /usr/local/lib/python3.11/dist-packages (0.42.7)\n",
            "Requirement already satisfied: anywidget in /usr/local/lib/python3.11/dist-packages (from leafmap) (0.9.13)\n",
            "Requirement already satisfied: bqplot in /usr/local/lib/python3.11/dist-packages (from leafmap) (0.12.44)\n",
            "Requirement already satisfied: colour in /usr/local/lib/python3.11/dist-packages (from leafmap) (0.1.5)\n",
            "Requirement already satisfied: duckdb in /usr/local/lib/python3.11/dist-packages (from leafmap) (1.1.3)\n",
            "Requirement already satisfied: folium in /usr/local/lib/python3.11/dist-packages (from leafmap) (0.19.4)\n",
            "Requirement already satisfied: gdown in /usr/local/lib/python3.11/dist-packages (from leafmap) (5.2.0)\n",
            "Requirement already satisfied: geojson in /usr/local/lib/python3.11/dist-packages (from leafmap) (3.2.0)\n",
            "Requirement already satisfied: ipyevents in /usr/local/lib/python3.11/dist-packages (from leafmap) (2.0.2)\n",
            "Requirement already satisfied: ipyfilechooser in /usr/local/lib/python3.11/dist-packages (from leafmap) (0.6.0)\n",
            "Requirement already satisfied: ipyleaflet in /usr/local/lib/python3.11/dist-packages (from leafmap) (0.19.2)\n",
            "Requirement already satisfied: ipyvuetify in /usr/local/lib/python3.11/dist-packages (from leafmap) (1.10.0)\n",
            "Requirement already satisfied: ipywidgets in /usr/local/lib/python3.11/dist-packages (from leafmap) (7.7.1)\n",
            "Requirement already satisfied: matplotlib in /usr/local/lib/python3.11/dist-packages (from leafmap) (3.10.0)\n",
            "Requirement already satisfied: numpy in /usr/local/lib/python3.11/dist-packages (from leafmap) (1.26.4)\n",
            "Requirement already satisfied: pandas in /usr/local/lib/python3.11/dist-packages (from leafmap) (2.2.2)\n",
            "Requirement already satisfied: plotly in /usr/local/lib/python3.11/dist-packages (from leafmap) (5.24.1)\n",
            "Requirement already satisfied: psutil in /usr/local/lib/python3.11/dist-packages (from leafmap) (5.9.5)\n",
            "Requirement already satisfied: pyshp in /usr/local/lib/python3.11/dist-packages (from leafmap) (2.3.1)\n",
            "Requirement already satisfied: pystac-client in /usr/local/lib/python3.11/dist-packages (from leafmap) (0.8.5)\n",
            "Requirement already satisfied: python-box in /usr/local/lib/python3.11/dist-packages (from leafmap) (7.3.2)\n",
            "Requirement already satisfied: scooby in /usr/local/lib/python3.11/dist-packages (from leafmap) (0.10.0)\n",
            "Requirement already satisfied: whiteboxgui in /usr/local/lib/python3.11/dist-packages (from leafmap) (2.3.0)\n",
            "Requirement already satisfied: xyzservices in /usr/local/lib/python3.11/dist-packages (from leafmap) (2025.1.0)\n",
            "Requirement already satisfied: psygnal>=0.8.1 in /usr/local/lib/python3.11/dist-packages (from anywidget->leafmap) (0.11.1)\n",
            "Requirement already satisfied: typing-extensions>=4.2.0 in /usr/local/lib/python3.11/dist-packages (from anywidget->leafmap) (4.12.2)\n",
            "Requirement already satisfied: ipykernel>=4.5.1 in /usr/local/lib/python3.11/dist-packages (from ipywidgets->leafmap) (5.5.6)\n",
            "Requirement already satisfied: ipython-genutils~=0.2.0 in /usr/local/lib/python3.11/dist-packages (from ipywidgets->leafmap) (0.2.0)\n",
            "Requirement already satisfied: traitlets>=4.3.1 in /usr/local/lib/python3.11/dist-packages (from ipywidgets->leafmap) (5.7.1)\n",
            "Requirement already satisfied: widgetsnbextension~=3.6.0 in /usr/local/lib/python3.11/dist-packages (from ipywidgets->leafmap) (3.6.10)\n",
            "Requirement already satisfied: ipython>=4.0.0 in /usr/local/lib/python3.11/dist-packages (from ipywidgets->leafmap) (7.34.0)\n",
            "Requirement already satisfied: jupyterlab-widgets>=1.0.0 in /usr/local/lib/python3.11/dist-packages (from ipywidgets->leafmap) (3.0.13)\n",
            "Requirement already satisfied: traittypes>=0.0.6 in /usr/local/lib/python3.11/dist-packages (from bqplot->leafmap) (0.2.1)\n",
            "Requirement already satisfied: python-dateutil>=2.8.2 in /usr/local/lib/python3.11/dist-packages (from pandas->leafmap) (2.8.2)\n",
            "Requirement already satisfied: pytz>=2020.1 in /usr/local/lib/python3.11/dist-packages (from pandas->leafmap) (2024.2)\n",
            "Requirement already satisfied: tzdata>=2022.7 in /usr/local/lib/python3.11/dist-packages (from pandas->leafmap) (2025.1)\n",
            "Requirement already satisfied: branca>=0.6.0 in /usr/local/lib/python3.11/dist-packages (from folium->leafmap) (0.8.1)\n",
            "Requirement already satisfied: jinja2>=2.9 in /usr/local/lib/python3.11/dist-packages (from folium->leafmap) (3.1.5)\n",
            "Requirement already satisfied: requests in /usr/local/lib/python3.11/dist-packages (from folium->leafmap) (2.32.3)\n",
            "Requirement already satisfied: beautifulsoup4 in /usr/local/lib/python3.11/dist-packages (from gdown->leafmap) (4.12.3)\n",
            "Requirement already satisfied: filelock in /usr/local/lib/python3.11/dist-packages (from gdown->leafmap) (3.17.0)\n",
            "Requirement already satisfied: tqdm in /usr/local/lib/python3.11/dist-packages (from gdown->leafmap) (4.67.1)\n",
            "Requirement already satisfied: jupyter-leaflet<0.20,>=0.19 in /usr/local/lib/python3.11/dist-packages (from ipyleaflet->leafmap) (0.19.2)\n",
            "Requirement already satisfied: ipyvue<2,>=1.7 in /usr/local/lib/python3.11/dist-packages (from ipyvuetify->leafmap) (1.11.2)\n",
            "Requirement already satisfied: contourpy>=1.0.1 in /usr/local/lib/python3.11/dist-packages (from matplotlib->leafmap) (1.3.1)\n",
            "Requirement already satisfied: cycler>=0.10 in /usr/local/lib/python3.11/dist-packages (from matplotlib->leafmap) (0.12.1)\n",
            "Requirement already satisfied: fonttools>=4.22.0 in /usr/local/lib/python3.11/dist-packages (from matplotlib->leafmap) (4.55.4)\n",
            "Requirement already satisfied: kiwisolver>=1.3.1 in /usr/local/lib/python3.11/dist-packages (from matplotlib->leafmap) (1.4.8)\n",
            "Requirement already satisfied: packaging>=20.0 in /usr/local/lib/python3.11/dist-packages (from matplotlib->leafmap) (24.2)\n",
            "Requirement already satisfied: pillow>=8 in /usr/local/lib/python3.11/dist-packages (from matplotlib->leafmap) (11.1.0)\n",
            "Requirement already satisfied: pyparsing>=2.3.1 in /usr/local/lib/python3.11/dist-packages (from matplotlib->leafmap) (3.2.1)\n",
            "Requirement already satisfied: tenacity>=6.2.0 in /usr/local/lib/python3.11/dist-packages (from plotly->leafmap) (9.0.0)\n",
            "Requirement already satisfied: pystac>=1.10.0 in /usr/local/lib/python3.11/dist-packages (from pystac[validation]>=1.10.0->pystac-client->leafmap) (1.12.0)\n",
            "Requirement already satisfied: ipytree in /usr/local/lib/python3.11/dist-packages (from whiteboxgui->leafmap) (0.2.2)\n",
            "Requirement already satisfied: whitebox in /usr/local/lib/python3.11/dist-packages (from whiteboxgui->leafmap) (2.3.5)\n",
            "Requirement already satisfied: jupyter-client in /usr/local/lib/python3.11/dist-packages (from ipykernel>=4.5.1->ipywidgets->leafmap) (6.1.12)\n",
            "Requirement already satisfied: tornado>=4.2 in /usr/local/lib/python3.11/dist-packages (from ipykernel>=4.5.1->ipywidgets->leafmap) (6.3.3)\n",
            "Requirement already satisfied: setuptools>=18.5 in /usr/local/lib/python3.11/dist-packages (from ipython>=4.0.0->ipywidgets->leafmap) (75.1.0)\n",
            "Requirement already satisfied: jedi>=0.16 in /usr/local/lib/python3.11/dist-packages (from ipython>=4.0.0->ipywidgets->leafmap) (0.19.2)\n",
            "Requirement already satisfied: decorator in /usr/local/lib/python3.11/dist-packages (from ipython>=4.0.0->ipywidgets->leafmap) (4.4.2)\n",
            "Requirement already satisfied: pickleshare in /usr/local/lib/python3.11/dist-packages (from ipython>=4.0.0->ipywidgets->leafmap) (0.7.5)\n",
            "Requirement already satisfied: prompt-toolkit!=3.0.0,!=3.0.1,<3.1.0,>=2.0.0 in /usr/local/lib/python3.11/dist-packages (from ipython>=4.0.0->ipywidgets->leafmap) (3.0.50)\n",
            "Requirement already satisfied: pygments in /usr/local/lib/python3.11/dist-packages (from ipython>=4.0.0->ipywidgets->leafmap) (2.18.0)\n",
            "Requirement already satisfied: backcall in /usr/local/lib/python3.11/dist-packages (from ipython>=4.0.0->ipywidgets->leafmap) (0.2.0)\n",
            "Requirement already satisfied: matplotlib-inline in /usr/local/lib/python3.11/dist-packages (from ipython>=4.0.0->ipywidgets->leafmap) (0.1.7)\n",
            "Requirement already satisfied: pexpect>4.3 in /usr/local/lib/python3.11/dist-packages (from ipython>=4.0.0->ipywidgets->leafmap) (4.9.0)\n",
            "Requirement already satisfied: MarkupSafe>=2.0 in /usr/local/lib/python3.11/dist-packages (from jinja2>=2.9->folium->leafmap) (3.0.2)\n",
            "Requirement already satisfied: jsonschema~=4.18 in /usr/local/lib/python3.11/dist-packages (from pystac[validation]>=1.10.0->pystac-client->leafmap) (4.23.0)\n",
            "Requirement already satisfied: six>=1.5 in /usr/local/lib/python3.11/dist-packages (from python-dateutil>=2.8.2->pandas->leafmap) (1.17.0)\n",
            "Requirement already satisfied: charset-normalizer<4,>=2 in /usr/local/lib/python3.11/dist-packages (from requests->folium->leafmap) (3.4.1)\n",
            "Requirement already satisfied: idna<4,>=2.5 in /usr/local/lib/python3.11/dist-packages (from requests->folium->leafmap) (3.10)\n",
            "Requirement already satisfied: urllib3<3,>=1.21.1 in /usr/local/lib/python3.11/dist-packages (from requests->folium->leafmap) (2.3.0)\n",
            "Requirement already satisfied: certifi>=2017.4.17 in /usr/local/lib/python3.11/dist-packages (from requests->folium->leafmap) (2024.12.14)\n",
            "Requirement already satisfied: notebook>=4.4.1 in /usr/local/lib/python3.11/dist-packages (from widgetsnbextension~=3.6.0->ipywidgets->leafmap) (6.5.5)\n",
            "Requirement already satisfied: soupsieve>1.2 in /usr/local/lib/python3.11/dist-packages (from beautifulsoup4->gdown->leafmap) (2.6)\n",
            "Requirement already satisfied: PySocks!=1.5.7,>=1.5.6 in /usr/local/lib/python3.11/dist-packages (from requests[socks]->gdown->leafmap) (1.7.1)\n",
            "Requirement already satisfied: Click>=6.0 in /usr/local/lib/python3.11/dist-packages (from whitebox->whiteboxgui->leafmap) (8.1.8)\n",
            "Requirement already satisfied: parso<0.9.0,>=0.8.4 in /usr/local/lib/python3.11/dist-packages (from jedi>=0.16->ipython>=4.0.0->ipywidgets->leafmap) (0.8.4)\n",
            "Requirement already satisfied: attrs>=22.2.0 in /usr/local/lib/python3.11/dist-packages (from jsonschema~=4.18->pystac[validation]>=1.10.0->pystac-client->leafmap) (24.3.0)\n",
            "Requirement already satisfied: jsonschema-specifications>=2023.03.6 in /usr/local/lib/python3.11/dist-packages (from jsonschema~=4.18->pystac[validation]>=1.10.0->pystac-client->leafmap) (2024.10.1)\n",
            "Requirement already satisfied: referencing>=0.28.4 in /usr/local/lib/python3.11/dist-packages (from jsonschema~=4.18->pystac[validation]>=1.10.0->pystac-client->leafmap) (0.36.1)\n",
            "Requirement already satisfied: rpds-py>=0.7.1 in /usr/local/lib/python3.11/dist-packages (from jsonschema~=4.18->pystac[validation]>=1.10.0->pystac-client->leafmap) (0.22.3)\n",
            "Requirement already satisfied: pyzmq<25,>=17 in /usr/local/lib/python3.11/dist-packages (from notebook>=4.4.1->widgetsnbextension~=3.6.0->ipywidgets->leafmap) (24.0.1)\n",
            "Requirement already satisfied: argon2-cffi in /usr/local/lib/python3.11/dist-packages (from notebook>=4.4.1->widgetsnbextension~=3.6.0->ipywidgets->leafmap) (23.1.0)\n",
            "Requirement already satisfied: jupyter-core>=4.6.1 in /usr/local/lib/python3.11/dist-packages (from notebook>=4.4.1->widgetsnbextension~=3.6.0->ipywidgets->leafmap) (5.7.2)\n",
            "Requirement already satisfied: nbformat in /usr/local/lib/python3.11/dist-packages (from notebook>=4.4.1->widgetsnbextension~=3.6.0->ipywidgets->leafmap) (5.10.4)\n",
            "Requirement already satisfied: nbconvert>=5 in /usr/local/lib/python3.11/dist-packages (from notebook>=4.4.1->widgetsnbextension~=3.6.0->ipywidgets->leafmap) (7.16.5)\n",
            "Requirement already satisfied: nest-asyncio>=1.5 in /usr/local/lib/python3.11/dist-packages (from notebook>=4.4.1->widgetsnbextension~=3.6.0->ipywidgets->leafmap) (1.6.0)\n",
            "Requirement already satisfied: Send2Trash>=1.8.0 in /usr/local/lib/python3.11/dist-packages (from notebook>=4.4.1->widgetsnbextension~=3.6.0->ipywidgets->leafmap) (1.8.3)\n",
            "Requirement already satisfied: terminado>=0.8.3 in /usr/local/lib/python3.11/dist-packages (from notebook>=4.4.1->widgetsnbextension~=3.6.0->ipywidgets->leafmap) (0.18.1)\n",
            "Requirement already satisfied: prometheus-client in /usr/local/lib/python3.11/dist-packages (from notebook>=4.4.1->widgetsnbextension~=3.6.0->ipywidgets->leafmap) (0.21.1)\n",
            "Requirement already satisfied: nbclassic>=0.4.7 in /usr/local/lib/python3.11/dist-packages (from notebook>=4.4.1->widgetsnbextension~=3.6.0->ipywidgets->leafmap) (1.2.0)\n",
            "Requirement already satisfied: ptyprocess>=0.5 in /usr/local/lib/python3.11/dist-packages (from pexpect>4.3->ipython>=4.0.0->ipywidgets->leafmap) (0.7.0)\n",
            "Requirement already satisfied: wcwidth in /usr/local/lib/python3.11/dist-packages (from prompt-toolkit!=3.0.0,!=3.0.1,<3.1.0,>=2.0.0->ipython>=4.0.0->ipywidgets->leafmap) (0.2.13)\n",
            "Requirement already satisfied: platformdirs>=2.5 in /usr/local/lib/python3.11/dist-packages (from jupyter-core>=4.6.1->notebook>=4.4.1->widgetsnbextension~=3.6.0->ipywidgets->leafmap) (4.3.6)\n",
            "Requirement already satisfied: notebook-shim>=0.2.3 in /usr/local/lib/python3.11/dist-packages (from nbclassic>=0.4.7->notebook>=4.4.1->widgetsnbextension~=3.6.0->ipywidgets->leafmap) (0.2.4)\n",
            "Requirement already satisfied: bleach!=5.0.0 in /usr/local/lib/python3.11/dist-packages (from bleach[css]!=5.0.0->nbconvert>=5->notebook>=4.4.1->widgetsnbextension~=3.6.0->ipywidgets->leafmap) (6.2.0)\n",
            "Requirement already satisfied: defusedxml in /usr/local/lib/python3.11/dist-packages (from nbconvert>=5->notebook>=4.4.1->widgetsnbextension~=3.6.0->ipywidgets->leafmap) (0.7.1)\n",
            "Requirement already satisfied: jupyterlab-pygments in /usr/local/lib/python3.11/dist-packages (from nbconvert>=5->notebook>=4.4.1->widgetsnbextension~=3.6.0->ipywidgets->leafmap) (0.3.0)\n",
            "Requirement already satisfied: mistune<4,>=2.0.3 in /usr/local/lib/python3.11/dist-packages (from nbconvert>=5->notebook>=4.4.1->widgetsnbextension~=3.6.0->ipywidgets->leafmap) (3.1.0)\n",
            "Requirement already satisfied: nbclient>=0.5.0 in /usr/local/lib/python3.11/dist-packages (from nbconvert>=5->notebook>=4.4.1->widgetsnbextension~=3.6.0->ipywidgets->leafmap) (0.10.2)\n",
            "Requirement already satisfied: pandocfilters>=1.4.1 in /usr/local/lib/python3.11/dist-packages (from nbconvert>=5->notebook>=4.4.1->widgetsnbextension~=3.6.0->ipywidgets->leafmap) (1.5.1)\n",
            "Requirement already satisfied: fastjsonschema>=2.15 in /usr/local/lib/python3.11/dist-packages (from nbformat->notebook>=4.4.1->widgetsnbextension~=3.6.0->ipywidgets->leafmap) (2.21.1)\n",
            "Requirement already satisfied: argon2-cffi-bindings in /usr/local/lib/python3.11/dist-packages (from argon2-cffi->notebook>=4.4.1->widgetsnbextension~=3.6.0->ipywidgets->leafmap) (21.2.0)\n",
            "Requirement already satisfied: webencodings in /usr/local/lib/python3.11/dist-packages (from bleach!=5.0.0->bleach[css]!=5.0.0->nbconvert>=5->notebook>=4.4.1->widgetsnbextension~=3.6.0->ipywidgets->leafmap) (0.5.1)\n",
            "Requirement already satisfied: tinycss2<1.5,>=1.1.0 in /usr/local/lib/python3.11/dist-packages (from bleach[css]!=5.0.0->nbconvert>=5->notebook>=4.4.1->widgetsnbextension~=3.6.0->ipywidgets->leafmap) (1.4.0)\n",
            "Requirement already satisfied: jupyter-server<3,>=1.8 in /usr/local/lib/python3.11/dist-packages (from notebook-shim>=0.2.3->nbclassic>=0.4.7->notebook>=4.4.1->widgetsnbextension~=3.6.0->ipywidgets->leafmap) (1.24.0)\n",
            "Requirement already satisfied: cffi>=1.0.1 in /usr/local/lib/python3.11/dist-packages (from argon2-cffi-bindings->argon2-cffi->notebook>=4.4.1->widgetsnbextension~=3.6.0->ipywidgets->leafmap) (1.17.1)\n",
            "Requirement already satisfied: pycparser in /usr/local/lib/python3.11/dist-packages (from cffi>=1.0.1->argon2-cffi-bindings->argon2-cffi->notebook>=4.4.1->widgetsnbextension~=3.6.0->ipywidgets->leafmap) (2.22)\n",
            "Requirement already satisfied: anyio<4,>=3.1.0 in /usr/local/lib/python3.11/dist-packages (from jupyter-server<3,>=1.8->notebook-shim>=0.2.3->nbclassic>=0.4.7->notebook>=4.4.1->widgetsnbextension~=3.6.0->ipywidgets->leafmap) (3.7.1)\n",
            "Requirement already satisfied: websocket-client in /usr/local/lib/python3.11/dist-packages (from jupyter-server<3,>=1.8->notebook-shim>=0.2.3->nbclassic>=0.4.7->notebook>=4.4.1->widgetsnbextension~=3.6.0->ipywidgets->leafmap) (1.8.0)\n",
            "Requirement already satisfied: sniffio>=1.1 in /usr/local/lib/python3.11/dist-packages (from anyio<4,>=3.1.0->jupyter-server<3,>=1.8->notebook-shim>=0.2.3->nbclassic>=0.4.7->notebook>=4.4.1->widgetsnbextension~=3.6.0->ipywidgets->leafmap) (1.3.1)\n"
          ]
        },
        {
          "output_type": "error",
          "ename": "ModuleNotFoundError",
          "evalue": "No module named 'fiona'",
          "traceback": [
            "\u001b[0;31m---------------------------------------------------------------------------\u001b[0m",
            "\u001b[0;31mModuleNotFoundError\u001b[0m                       Traceback (most recent call last)",
            "\u001b[0;32m<ipython-input-34-317434449b78>\u001b[0m in \u001b[0;36m<cell line: 0>\u001b[0;34m()\u001b[0m\n\u001b[1;32m     11\u001b[0m \u001b[0mm\u001b[0m\u001b[0;34m=\u001b[0m \u001b[0mleafmap\u001b[0m\u001b[0;34m.\u001b[0m\u001b[0mMap\u001b[0m\u001b[0;34m(\u001b[0m\u001b[0mzoom\u001b[0m\u001b[0;34m=\u001b[0m\u001b[0;36m6\u001b[0m\u001b[0;34m)\u001b[0m\u001b[0;34m\u001b[0m\u001b[0;34m\u001b[0m\u001b[0m\n\u001b[1;32m     12\u001b[0m \u001b[0mdata\u001b[0m \u001b[0;34m=\u001b[0m \u001b[0;34m\"https://github.com/opengeos/datasets/releases/download/places/las_vegas_roads.geojson\"\u001b[0m\u001b[0;34m\u001b[0m\u001b[0;34m\u001b[0m\u001b[0m\n\u001b[0;32m---> 13\u001b[0;31m \u001b[0mm\u001b[0m\u001b[0;34m.\u001b[0m\u001b[0madd_vector\u001b[0m\u001b[0;34m(\u001b[0m\u001b[0mdata\u001b[0m\u001b[0;34m,\u001b[0m \u001b[0mlayer_name\u001b[0m\u001b[0;34m=\u001b[0m \u001b[0;34m\"Las Vegas Roads\"\u001b[0m\u001b[0;34m,\u001b[0m \u001b[0mstyle\u001b[0m\u001b[0;34m=\u001b[0m \u001b[0;34m{\u001b[0m\u001b[0;34m\"color\"\u001b[0m\u001b[0;34m:\u001b[0m \u001b[0;34m\"red\"\u001b[0m\u001b[0;34m,\u001b[0m \u001b[0;34m\"weight\"\u001b[0m\u001b[0;34m:\u001b[0m \u001b[0;36m2\u001b[0m\u001b[0;34m}\u001b[0m\u001b[0;34m)\u001b[0m\u001b[0;34m\u001b[0m\u001b[0;34m\u001b[0m\u001b[0m\n\u001b[0m\u001b[1;32m     14\u001b[0m \u001b[0mm\u001b[0m\u001b[0;34m\u001b[0m\u001b[0;34m\u001b[0m\u001b[0m\n\u001b[1;32m     15\u001b[0m \u001b[0;34m\u001b[0m\u001b[0m\n",
            "\u001b[0;32m/usr/local/lib/python3.11/dist-packages/leafmap/leafmap.py\u001b[0m in \u001b[0;36madd_vector\u001b[0;34m(self, filename, layer_name, bbox, mask, rows, style, hover_style, style_callback, fill_colors, info_mode, zoom_to_layer, encoding, **kwargs)\u001b[0m\n\u001b[1;32m   3075\u001b[0m \u001b[0;34m\u001b[0m\u001b[0m\n\u001b[1;32m   3076\u001b[0m         \"\"\"\n\u001b[0;32m-> 3077\u001b[0;31m         \u001b[0;32mimport\u001b[0m \u001b[0mfiona\u001b[0m\u001b[0;34m\u001b[0m\u001b[0;34m\u001b[0m\u001b[0m\n\u001b[0m\u001b[1;32m   3078\u001b[0m         \u001b[0;32mimport\u001b[0m \u001b[0mgeopandas\u001b[0m \u001b[0;32mas\u001b[0m \u001b[0mgpd\u001b[0m\u001b[0;34m\u001b[0m\u001b[0;34m\u001b[0m\u001b[0m\n\u001b[1;32m   3079\u001b[0m \u001b[0;34m\u001b[0m\u001b[0m\n",
            "\u001b[0;31mModuleNotFoundError\u001b[0m: No module named 'fiona'",
            "",
            "\u001b[0;31m---------------------------------------------------------------------------\u001b[0;32m\nNOTE: If your import is failing due to a missing package, you can\nmanually install dependencies using either !pip or !apt.\n\nTo view examples of installing some common dependencies, click the\n\"Open Examples\" button below.\n\u001b[0;31m---------------------------------------------------------------------------\u001b[0m\n"
          ],
          "errorDetails": {
            "actions": [
              {
                "action": "open_url",
                "actionText": "Open Examples",
                "url": "/notebooks/snippets/importing_libraries.ipynb"
              }
            ]
          }
        }
      ],
      "source": [
        "%pip install -U leafmap\n",
        "\n",
        "import leafmap\n",
        "import geopandas as gpd\n",
        "\n",
        "m =leafmap.Map(zoom = 6)\n",
        "url= \"https://github.com/opengeos/datasets/releases/download/places/wa_overture_buildings.geojson\"\n",
        "m.add_geojson(url, layer_name= \"WA Overture Buildings\", zoom_to_layer= True,\n",
        "              style={\"color\": \"red\", \"fillColor\": \"transparent\", \"fillOpacity\": 0.5})\n",
        "\n",
        "m= leafmap.Map(zoom=6)\n",
        "data = \"https://github.com/opengeos/datasets/releases/download/places/las_vegas_roads.geojson\"\n",
        "m.add_vector(data, layer_name= \"Las Vegas Roads\", style= {\"color\": \"red\", \"weight\": 2})\n",
        "m\n",
        "\n",
        "m = leafmap.Map()\n",
        "data_2 = \"https://github.com/opengeos/datasets/releases/download/us/us_counties.geojson\"\n",
        "m.add_data(\n",
        "    data_2, column=\"CENSUSAREA\", scheme=\"Quantiles\", cmap=\"Blues\", legend_title=\"Population\"\n",
        ")\n",
        "m"
      ]
    },
    {
      "cell_type": "markdown",
      "metadata": {
        "id": "H7Z48iTzL2Yk"
      },
      "source": [
        "![image](https://github.com/user-attachments/assets/069eb704-c409-44ee-af9e-7582d1ab23a5)"
      ]
    },
    {
      "cell_type": "markdown",
      "metadata": {
        "id": "DyharfpyL2Yk"
      },
      "source": [
        "![image](https://github.com/user-attachments/assets/f28d19a6-4f60-484c-b2f7-c1ecce7ecb26)"
      ]
    },
    {
      "cell_type": "code",
      "execution_count": null,
      "metadata": {
        "id": "QwIsna0AL2Yl"
      },
      "outputs": [],
      "source": []
    },
    {
      "cell_type": "markdown",
      "metadata": {
        "id": "JXp3I0HiL2Yl"
      },
      "source": [
        "![image](https://github.com/user-attachments/assets/3aa9f54f-64d7-4788-89f1-f3ab88c1aa2e)"
      ]
    },
    {
      "cell_type": "markdown",
      "metadata": {
        "id": "OIbguSl3L2Yl"
      },
      "source": [
        "## Exercise 6: Visualizing GeoParquet Data\n",
        "\n",
        "1. Visualize GeoParquet data of US states:\n",
        "\n",
        "    - URL: https://github.com/opengeos/datasets/releases/download/us/us_states.parquet\n",
        "    - Style: Outline color of \"red\" with no fill."
      ]
    },
    {
      "cell_type": "code",
      "execution_count": null,
      "metadata": {
        "id": "k7O0rDlkL2Yl"
      },
      "outputs": [],
      "source": [
        "%pip install -U leafmap\n",
        "import leafmap\n",
        "import geopandas as gpd\n",
        "url = \"https://github.com/opengeos/datasets/releases/download/us/us_states.parquet\"\n",
        "filename = \"US_states.parquet\"\n",
        "leafmap.download_file(url, filename, quiet=True)\n",
        "gdf = gpd.read_parquet(filename)\n",
        "gdf.head()\n",
        "m = leafmap.Map()\n",
        "m.add_gdf(gdf, layer_name= \"US States\", color= \"red\", fillColor= \"transparent\")\n",
        "m"
      ]
    },
    {
      "cell_type": "markdown",
      "metadata": {
        "id": "UVKIfXMML2Yl"
      },
      "source": [
        "![image](https://github.com/user-attachments/assets/b6d9ec09-035b-4df7-8ab7-a7b4588f1e71)"
      ]
    },
    {
      "cell_type": "markdown",
      "metadata": {
        "id": "G2Nlo034L2Yl"
      },
      "source": [
        "## Exercise 7: Visualizing PMTiles\n",
        "\n",
        "1. Visualize the Overture Maps building dataset using PMTiles:\n",
        "    * URL: https://overturemaps-tiles-us-west-2-beta.s3.amazonaws.com/2024-09-18/buildings.pmtiles\n",
        "    * Style: Blue fill with 0.4 opacity, red outline."
      ]
    },
    {
      "cell_type": "code",
      "execution_count": null,
      "metadata": {
        "id": "LzBTNZ4NL2Yl"
      },
      "outputs": [],
      "source": [
        "%pip install leafmap\n",
        "import leafmap\n",
        "url = \"https://data.source.coop/vida/google-microsoft-open-buildings/pmtiles/go_ms_building_footprints.pmtiles\"\n",
        "metadata = leafmap.pmtiles_metadata(url)\n",
        "layer_names = metadata[\"layer_names\"]\n",
        "print(f\"layer names: {metadata['layer_names']}\")\n",
        "print(f\"bounds: {metadata['bounds']}\")"
      ]
    },
    {
      "cell_type": "markdown",
      "metadata": {
        "id": "hxeKykhOL2Yl"
      },
      "source": [
        "![image](https://github.com/user-attachments/assets/4ee08461-c962-4c37-8979-7105f588842a)"
      ]
    },
    {
      "cell_type": "markdown",
      "metadata": {
        "id": "9OBUdOf3L2Yl"
      },
      "source": [
        "## Exercise 8: Visualizing Cloud Optimized GeoTIFFs (COGs)\n",
        "\n",
        "1. Visualize Digital Elevation Model (DEM) data using the following COG file:\n",
        "    - URL: https://github.com/opengeos/datasets/releases/download/raster/dem.tif\n",
        "    - Apply a terrain colormap to show elevation values."
      ]
    },
    {
      "cell_type": "code",
      "execution_count": null,
      "metadata": {
        "id": "5FVkOPtmL2Yl"
      },
      "outputs": [],
      "source": [
        "%pip install -U leafmap\n",
        "import leafmap\n",
        "m = leafmap.Map()\n",
        "url = \"https://github.com/opengeos/datasets/releases/download/raster/dem.tif\"\n",
        "m.add_cog_layer(url, name= \"Digital Elevation Model\", show_footprints= True, cmap= \"terrain\")\n",
        "m"
      ]
    },
    {
      "cell_type": "markdown",
      "metadata": {
        "id": "n6hRMUwiL2Yl"
      },
      "source": [
        "![image](https://github.com/user-attachments/assets/21e1f7dd-466e-4880-94a5-0365bf1495dc)"
      ]
    },
    {
      "cell_type": "markdown",
      "metadata": {
        "id": "bH1NCQ6IL2Yl"
      },
      "source": [
        "## Exercise 9: Visualizing Local Raster Data\n",
        "\n",
        "1. Visualize the following raster datasets using the Map.add_raster() method:\n",
        "\n",
        "    * Aerial Imagery: https://github.com/opengeos/datasets/releases/download/places/wa_building_image.tif\n",
        "    * Building Footprints: https://github.com/opengeos/datasets/releases/download/places/wa_building_masks.tif (use the \"tab20\" colormap and opacity of 0.7)"
      ]
    },
    {
      "cell_type": "markdown",
      "metadata": {
        "id": "AhRrZtwkL2Ym"
      },
      "source": [
        "![image](https://github.com/user-attachments/assets/faf7c345-6a3f-4ca0-8eca-7417e6568867)"
      ]
    },
    {
      "cell_type": "code",
      "source": [
        "!pip install rasterio\n",
        "!pip install leafmap\n"
      ],
      "metadata": {
        "id": "VXeVQ9-Sqasr",
        "outputId": "301a234e-1741-4e09-8452-7068b2f386fa",
        "colab": {
          "base_uri": "https://localhost:8080/"
        }
      },
      "execution_count": 36,
      "outputs": [
        {
          "output_type": "stream",
          "name": "stdout",
          "text": [
            "Requirement already satisfied: rasterio in /usr/local/lib/python3.11/dist-packages (1.4.3)\n",
            "Requirement already satisfied: affine in /usr/local/lib/python3.11/dist-packages (from rasterio) (2.4.0)\n",
            "Requirement already satisfied: attrs in /usr/local/lib/python3.11/dist-packages (from rasterio) (24.3.0)\n",
            "Requirement already satisfied: certifi in /usr/local/lib/python3.11/dist-packages (from rasterio) (2024.12.14)\n",
            "Requirement already satisfied: click>=4.0 in /usr/local/lib/python3.11/dist-packages (from rasterio) (8.1.8)\n",
            "Requirement already satisfied: cligj>=0.5 in /usr/local/lib/python3.11/dist-packages (from rasterio) (0.7.2)\n",
            "Requirement already satisfied: numpy>=1.24 in /usr/local/lib/python3.11/dist-packages (from rasterio) (1.26.4)\n",
            "Requirement already satisfied: click-plugins in /usr/local/lib/python3.11/dist-packages (from rasterio) (1.1.1)\n",
            "Requirement already satisfied: pyparsing in /usr/local/lib/python3.11/dist-packages (from rasterio) (3.2.1)\n",
            "Requirement already satisfied: leafmap in /usr/local/lib/python3.11/dist-packages (0.42.7)\n",
            "Requirement already satisfied: anywidget in /usr/local/lib/python3.11/dist-packages (from leafmap) (0.9.13)\n",
            "Requirement already satisfied: bqplot in /usr/local/lib/python3.11/dist-packages (from leafmap) (0.12.44)\n",
            "Requirement already satisfied: colour in /usr/local/lib/python3.11/dist-packages (from leafmap) (0.1.5)\n",
            "Requirement already satisfied: duckdb in /usr/local/lib/python3.11/dist-packages (from leafmap) (1.1.3)\n",
            "Requirement already satisfied: folium in /usr/local/lib/python3.11/dist-packages (from leafmap) (0.19.4)\n",
            "Requirement already satisfied: gdown in /usr/local/lib/python3.11/dist-packages (from leafmap) (5.2.0)\n",
            "Requirement already satisfied: geojson in /usr/local/lib/python3.11/dist-packages (from leafmap) (3.2.0)\n",
            "Requirement already satisfied: ipyevents in /usr/local/lib/python3.11/dist-packages (from leafmap) (2.0.2)\n",
            "Requirement already satisfied: ipyfilechooser in /usr/local/lib/python3.11/dist-packages (from leafmap) (0.6.0)\n",
            "Requirement already satisfied: ipyleaflet in /usr/local/lib/python3.11/dist-packages (from leafmap) (0.19.2)\n",
            "Requirement already satisfied: ipyvuetify in /usr/local/lib/python3.11/dist-packages (from leafmap) (1.10.0)\n",
            "Requirement already satisfied: ipywidgets in /usr/local/lib/python3.11/dist-packages (from leafmap) (7.7.1)\n",
            "Requirement already satisfied: matplotlib in /usr/local/lib/python3.11/dist-packages (from leafmap) (3.10.0)\n",
            "Requirement already satisfied: numpy in /usr/local/lib/python3.11/dist-packages (from leafmap) (1.26.4)\n",
            "Requirement already satisfied: pandas in /usr/local/lib/python3.11/dist-packages (from leafmap) (2.2.2)\n",
            "Requirement already satisfied: plotly in /usr/local/lib/python3.11/dist-packages (from leafmap) (5.24.1)\n",
            "Requirement already satisfied: psutil in /usr/local/lib/python3.11/dist-packages (from leafmap) (5.9.5)\n",
            "Requirement already satisfied: pyshp in /usr/local/lib/python3.11/dist-packages (from leafmap) (2.3.1)\n",
            "Requirement already satisfied: pystac-client in /usr/local/lib/python3.11/dist-packages (from leafmap) (0.8.5)\n",
            "Requirement already satisfied: python-box in /usr/local/lib/python3.11/dist-packages (from leafmap) (7.3.2)\n",
            "Requirement already satisfied: scooby in /usr/local/lib/python3.11/dist-packages (from leafmap) (0.10.0)\n",
            "Requirement already satisfied: whiteboxgui in /usr/local/lib/python3.11/dist-packages (from leafmap) (2.3.0)\n",
            "Requirement already satisfied: xyzservices in /usr/local/lib/python3.11/dist-packages (from leafmap) (2025.1.0)\n",
            "Requirement already satisfied: psygnal>=0.8.1 in /usr/local/lib/python3.11/dist-packages (from anywidget->leafmap) (0.11.1)\n",
            "Requirement already satisfied: typing-extensions>=4.2.0 in /usr/local/lib/python3.11/dist-packages (from anywidget->leafmap) (4.12.2)\n",
            "Requirement already satisfied: ipykernel>=4.5.1 in /usr/local/lib/python3.11/dist-packages (from ipywidgets->leafmap) (5.5.6)\n",
            "Requirement already satisfied: ipython-genutils~=0.2.0 in /usr/local/lib/python3.11/dist-packages (from ipywidgets->leafmap) (0.2.0)\n",
            "Requirement already satisfied: traitlets>=4.3.1 in /usr/local/lib/python3.11/dist-packages (from ipywidgets->leafmap) (5.7.1)\n",
            "Requirement already satisfied: widgetsnbextension~=3.6.0 in /usr/local/lib/python3.11/dist-packages (from ipywidgets->leafmap) (3.6.10)\n",
            "Requirement already satisfied: ipython>=4.0.0 in /usr/local/lib/python3.11/dist-packages (from ipywidgets->leafmap) (7.34.0)\n",
            "Requirement already satisfied: jupyterlab-widgets>=1.0.0 in /usr/local/lib/python3.11/dist-packages (from ipywidgets->leafmap) (3.0.13)\n",
            "Requirement already satisfied: traittypes>=0.0.6 in /usr/local/lib/python3.11/dist-packages (from bqplot->leafmap) (0.2.1)\n",
            "Requirement already satisfied: python-dateutil>=2.8.2 in /usr/local/lib/python3.11/dist-packages (from pandas->leafmap) (2.8.2)\n",
            "Requirement already satisfied: pytz>=2020.1 in /usr/local/lib/python3.11/dist-packages (from pandas->leafmap) (2024.2)\n",
            "Requirement already satisfied: tzdata>=2022.7 in /usr/local/lib/python3.11/dist-packages (from pandas->leafmap) (2025.1)\n",
            "Requirement already satisfied: branca>=0.6.0 in /usr/local/lib/python3.11/dist-packages (from folium->leafmap) (0.8.1)\n",
            "Requirement already satisfied: jinja2>=2.9 in /usr/local/lib/python3.11/dist-packages (from folium->leafmap) (3.1.5)\n",
            "Requirement already satisfied: requests in /usr/local/lib/python3.11/dist-packages (from folium->leafmap) (2.32.3)\n",
            "Requirement already satisfied: beautifulsoup4 in /usr/local/lib/python3.11/dist-packages (from gdown->leafmap) (4.12.3)\n",
            "Requirement already satisfied: filelock in /usr/local/lib/python3.11/dist-packages (from gdown->leafmap) (3.17.0)\n",
            "Requirement already satisfied: tqdm in /usr/local/lib/python3.11/dist-packages (from gdown->leafmap) (4.67.1)\n",
            "Requirement already satisfied: jupyter-leaflet<0.20,>=0.19 in /usr/local/lib/python3.11/dist-packages (from ipyleaflet->leafmap) (0.19.2)\n",
            "Requirement already satisfied: ipyvue<2,>=1.7 in /usr/local/lib/python3.11/dist-packages (from ipyvuetify->leafmap) (1.11.2)\n",
            "Requirement already satisfied: contourpy>=1.0.1 in /usr/local/lib/python3.11/dist-packages (from matplotlib->leafmap) (1.3.1)\n",
            "Requirement already satisfied: cycler>=0.10 in /usr/local/lib/python3.11/dist-packages (from matplotlib->leafmap) (0.12.1)\n",
            "Requirement already satisfied: fonttools>=4.22.0 in /usr/local/lib/python3.11/dist-packages (from matplotlib->leafmap) (4.55.4)\n",
            "Requirement already satisfied: kiwisolver>=1.3.1 in /usr/local/lib/python3.11/dist-packages (from matplotlib->leafmap) (1.4.8)\n",
            "Requirement already satisfied: packaging>=20.0 in /usr/local/lib/python3.11/dist-packages (from matplotlib->leafmap) (24.2)\n",
            "Requirement already satisfied: pillow>=8 in /usr/local/lib/python3.11/dist-packages (from matplotlib->leafmap) (11.1.0)\n",
            "Requirement already satisfied: pyparsing>=2.3.1 in /usr/local/lib/python3.11/dist-packages (from matplotlib->leafmap) (3.2.1)\n",
            "Requirement already satisfied: tenacity>=6.2.0 in /usr/local/lib/python3.11/dist-packages (from plotly->leafmap) (9.0.0)\n",
            "Requirement already satisfied: pystac>=1.10.0 in /usr/local/lib/python3.11/dist-packages (from pystac[validation]>=1.10.0->pystac-client->leafmap) (1.12.0)\n",
            "Requirement already satisfied: ipytree in /usr/local/lib/python3.11/dist-packages (from whiteboxgui->leafmap) (0.2.2)\n",
            "Requirement already satisfied: whitebox in /usr/local/lib/python3.11/dist-packages (from whiteboxgui->leafmap) (2.3.5)\n",
            "Requirement already satisfied: jupyter-client in /usr/local/lib/python3.11/dist-packages (from ipykernel>=4.5.1->ipywidgets->leafmap) (6.1.12)\n",
            "Requirement already satisfied: tornado>=4.2 in /usr/local/lib/python3.11/dist-packages (from ipykernel>=4.5.1->ipywidgets->leafmap) (6.3.3)\n",
            "Requirement already satisfied: setuptools>=18.5 in /usr/local/lib/python3.11/dist-packages (from ipython>=4.0.0->ipywidgets->leafmap) (75.1.0)\n",
            "Requirement already satisfied: jedi>=0.16 in /usr/local/lib/python3.11/dist-packages (from ipython>=4.0.0->ipywidgets->leafmap) (0.19.2)\n",
            "Requirement already satisfied: decorator in /usr/local/lib/python3.11/dist-packages (from ipython>=4.0.0->ipywidgets->leafmap) (4.4.2)\n",
            "Requirement already satisfied: pickleshare in /usr/local/lib/python3.11/dist-packages (from ipython>=4.0.0->ipywidgets->leafmap) (0.7.5)\n",
            "Requirement already satisfied: prompt-toolkit!=3.0.0,!=3.0.1,<3.1.0,>=2.0.0 in /usr/local/lib/python3.11/dist-packages (from ipython>=4.0.0->ipywidgets->leafmap) (3.0.50)\n",
            "Requirement already satisfied: pygments in /usr/local/lib/python3.11/dist-packages (from ipython>=4.0.0->ipywidgets->leafmap) (2.18.0)\n",
            "Requirement already satisfied: backcall in /usr/local/lib/python3.11/dist-packages (from ipython>=4.0.0->ipywidgets->leafmap) (0.2.0)\n",
            "Requirement already satisfied: matplotlib-inline in /usr/local/lib/python3.11/dist-packages (from ipython>=4.0.0->ipywidgets->leafmap) (0.1.7)\n",
            "Requirement already satisfied: pexpect>4.3 in /usr/local/lib/python3.11/dist-packages (from ipython>=4.0.0->ipywidgets->leafmap) (4.9.0)\n",
            "Requirement already satisfied: MarkupSafe>=2.0 in /usr/local/lib/python3.11/dist-packages (from jinja2>=2.9->folium->leafmap) (3.0.2)\n",
            "Requirement already satisfied: jsonschema~=4.18 in /usr/local/lib/python3.11/dist-packages (from pystac[validation]>=1.10.0->pystac-client->leafmap) (4.23.0)\n",
            "Requirement already satisfied: six>=1.5 in /usr/local/lib/python3.11/dist-packages (from python-dateutil>=2.8.2->pandas->leafmap) (1.17.0)\n",
            "Requirement already satisfied: charset-normalizer<4,>=2 in /usr/local/lib/python3.11/dist-packages (from requests->folium->leafmap) (3.4.1)\n",
            "Requirement already satisfied: idna<4,>=2.5 in /usr/local/lib/python3.11/dist-packages (from requests->folium->leafmap) (3.10)\n",
            "Requirement already satisfied: urllib3<3,>=1.21.1 in /usr/local/lib/python3.11/dist-packages (from requests->folium->leafmap) (2.3.0)\n",
            "Requirement already satisfied: certifi>=2017.4.17 in /usr/local/lib/python3.11/dist-packages (from requests->folium->leafmap) (2024.12.14)\n",
            "Requirement already satisfied: notebook>=4.4.1 in /usr/local/lib/python3.11/dist-packages (from widgetsnbextension~=3.6.0->ipywidgets->leafmap) (6.5.5)\n",
            "Requirement already satisfied: soupsieve>1.2 in /usr/local/lib/python3.11/dist-packages (from beautifulsoup4->gdown->leafmap) (2.6)\n",
            "Requirement already satisfied: PySocks!=1.5.7,>=1.5.6 in /usr/local/lib/python3.11/dist-packages (from requests[socks]->gdown->leafmap) (1.7.1)\n",
            "Requirement already satisfied: Click>=6.0 in /usr/local/lib/python3.11/dist-packages (from whitebox->whiteboxgui->leafmap) (8.1.8)\n",
            "Requirement already satisfied: parso<0.9.0,>=0.8.4 in /usr/local/lib/python3.11/dist-packages (from jedi>=0.16->ipython>=4.0.0->ipywidgets->leafmap) (0.8.4)\n",
            "Requirement already satisfied: attrs>=22.2.0 in /usr/local/lib/python3.11/dist-packages (from jsonschema~=4.18->pystac[validation]>=1.10.0->pystac-client->leafmap) (24.3.0)\n",
            "Requirement already satisfied: jsonschema-specifications>=2023.03.6 in /usr/local/lib/python3.11/dist-packages (from jsonschema~=4.18->pystac[validation]>=1.10.0->pystac-client->leafmap) (2024.10.1)\n",
            "Requirement already satisfied: referencing>=0.28.4 in /usr/local/lib/python3.11/dist-packages (from jsonschema~=4.18->pystac[validation]>=1.10.0->pystac-client->leafmap) (0.36.1)\n",
            "Requirement already satisfied: rpds-py>=0.7.1 in /usr/local/lib/python3.11/dist-packages (from jsonschema~=4.18->pystac[validation]>=1.10.0->pystac-client->leafmap) (0.22.3)\n",
            "Requirement already satisfied: pyzmq<25,>=17 in /usr/local/lib/python3.11/dist-packages (from notebook>=4.4.1->widgetsnbextension~=3.6.0->ipywidgets->leafmap) (24.0.1)\n",
            "Requirement already satisfied: argon2-cffi in /usr/local/lib/python3.11/dist-packages (from notebook>=4.4.1->widgetsnbextension~=3.6.0->ipywidgets->leafmap) (23.1.0)\n",
            "Requirement already satisfied: jupyter-core>=4.6.1 in /usr/local/lib/python3.11/dist-packages (from notebook>=4.4.1->widgetsnbextension~=3.6.0->ipywidgets->leafmap) (5.7.2)\n",
            "Requirement already satisfied: nbformat in /usr/local/lib/python3.11/dist-packages (from notebook>=4.4.1->widgetsnbextension~=3.6.0->ipywidgets->leafmap) (5.10.4)\n",
            "Requirement already satisfied: nbconvert>=5 in /usr/local/lib/python3.11/dist-packages (from notebook>=4.4.1->widgetsnbextension~=3.6.0->ipywidgets->leafmap) (7.16.5)\n",
            "Requirement already satisfied: nest-asyncio>=1.5 in /usr/local/lib/python3.11/dist-packages (from notebook>=4.4.1->widgetsnbextension~=3.6.0->ipywidgets->leafmap) (1.6.0)\n",
            "Requirement already satisfied: Send2Trash>=1.8.0 in /usr/local/lib/python3.11/dist-packages (from notebook>=4.4.1->widgetsnbextension~=3.6.0->ipywidgets->leafmap) (1.8.3)\n",
            "Requirement already satisfied: terminado>=0.8.3 in /usr/local/lib/python3.11/dist-packages (from notebook>=4.4.1->widgetsnbextension~=3.6.0->ipywidgets->leafmap) (0.18.1)\n",
            "Requirement already satisfied: prometheus-client in /usr/local/lib/python3.11/dist-packages (from notebook>=4.4.1->widgetsnbextension~=3.6.0->ipywidgets->leafmap) (0.21.1)\n",
            "Requirement already satisfied: nbclassic>=0.4.7 in /usr/local/lib/python3.11/dist-packages (from notebook>=4.4.1->widgetsnbextension~=3.6.0->ipywidgets->leafmap) (1.2.0)\n",
            "Requirement already satisfied: ptyprocess>=0.5 in /usr/local/lib/python3.11/dist-packages (from pexpect>4.3->ipython>=4.0.0->ipywidgets->leafmap) (0.7.0)\n",
            "Requirement already satisfied: wcwidth in /usr/local/lib/python3.11/dist-packages (from prompt-toolkit!=3.0.0,!=3.0.1,<3.1.0,>=2.0.0->ipython>=4.0.0->ipywidgets->leafmap) (0.2.13)\n",
            "Requirement already satisfied: platformdirs>=2.5 in /usr/local/lib/python3.11/dist-packages (from jupyter-core>=4.6.1->notebook>=4.4.1->widgetsnbextension~=3.6.0->ipywidgets->leafmap) (4.3.6)\n",
            "Requirement already satisfied: notebook-shim>=0.2.3 in /usr/local/lib/python3.11/dist-packages (from nbclassic>=0.4.7->notebook>=4.4.1->widgetsnbextension~=3.6.0->ipywidgets->leafmap) (0.2.4)\n",
            "Requirement already satisfied: bleach!=5.0.0 in /usr/local/lib/python3.11/dist-packages (from bleach[css]!=5.0.0->nbconvert>=5->notebook>=4.4.1->widgetsnbextension~=3.6.0->ipywidgets->leafmap) (6.2.0)\n",
            "Requirement already satisfied: defusedxml in /usr/local/lib/python3.11/dist-packages (from nbconvert>=5->notebook>=4.4.1->widgetsnbextension~=3.6.0->ipywidgets->leafmap) (0.7.1)\n",
            "Requirement already satisfied: jupyterlab-pygments in /usr/local/lib/python3.11/dist-packages (from nbconvert>=5->notebook>=4.4.1->widgetsnbextension~=3.6.0->ipywidgets->leafmap) (0.3.0)\n",
            "Requirement already satisfied: mistune<4,>=2.0.3 in /usr/local/lib/python3.11/dist-packages (from nbconvert>=5->notebook>=4.4.1->widgetsnbextension~=3.6.0->ipywidgets->leafmap) (3.1.0)\n",
            "Requirement already satisfied: nbclient>=0.5.0 in /usr/local/lib/python3.11/dist-packages (from nbconvert>=5->notebook>=4.4.1->widgetsnbextension~=3.6.0->ipywidgets->leafmap) (0.10.2)\n",
            "Requirement already satisfied: pandocfilters>=1.4.1 in /usr/local/lib/python3.11/dist-packages (from nbconvert>=5->notebook>=4.4.1->widgetsnbextension~=3.6.0->ipywidgets->leafmap) (1.5.1)\n",
            "Requirement already satisfied: fastjsonschema>=2.15 in /usr/local/lib/python3.11/dist-packages (from nbformat->notebook>=4.4.1->widgetsnbextension~=3.6.0->ipywidgets->leafmap) (2.21.1)\n",
            "Requirement already satisfied: argon2-cffi-bindings in /usr/local/lib/python3.11/dist-packages (from argon2-cffi->notebook>=4.4.1->widgetsnbextension~=3.6.0->ipywidgets->leafmap) (21.2.0)\n",
            "Requirement already satisfied: webencodings in /usr/local/lib/python3.11/dist-packages (from bleach!=5.0.0->bleach[css]!=5.0.0->nbconvert>=5->notebook>=4.4.1->widgetsnbextension~=3.6.0->ipywidgets->leafmap) (0.5.1)\n",
            "Requirement already satisfied: tinycss2<1.5,>=1.1.0 in /usr/local/lib/python3.11/dist-packages (from bleach[css]!=5.0.0->nbconvert>=5->notebook>=4.4.1->widgetsnbextension~=3.6.0->ipywidgets->leafmap) (1.4.0)\n",
            "Requirement already satisfied: jupyter-server<3,>=1.8 in /usr/local/lib/python3.11/dist-packages (from notebook-shim>=0.2.3->nbclassic>=0.4.7->notebook>=4.4.1->widgetsnbextension~=3.6.0->ipywidgets->leafmap) (1.24.0)\n",
            "Requirement already satisfied: cffi>=1.0.1 in /usr/local/lib/python3.11/dist-packages (from argon2-cffi-bindings->argon2-cffi->notebook>=4.4.1->widgetsnbextension~=3.6.0->ipywidgets->leafmap) (1.17.1)\n",
            "Requirement already satisfied: pycparser in /usr/local/lib/python3.11/dist-packages (from cffi>=1.0.1->argon2-cffi-bindings->argon2-cffi->notebook>=4.4.1->widgetsnbextension~=3.6.0->ipywidgets->leafmap) (2.22)\n",
            "Requirement already satisfied: anyio<4,>=3.1.0 in /usr/local/lib/python3.11/dist-packages (from jupyter-server<3,>=1.8->notebook-shim>=0.2.3->nbclassic>=0.4.7->notebook>=4.4.1->widgetsnbextension~=3.6.0->ipywidgets->leafmap) (3.7.1)\n",
            "Requirement already satisfied: websocket-client in /usr/local/lib/python3.11/dist-packages (from jupyter-server<3,>=1.8->notebook-shim>=0.2.3->nbclassic>=0.4.7->notebook>=4.4.1->widgetsnbextension~=3.6.0->ipywidgets->leafmap) (1.8.0)\n",
            "Requirement already satisfied: sniffio>=1.1 in /usr/local/lib/python3.11/dist-packages (from anyio<4,>=3.1.0->jupyter-server<3,>=1.8->notebook-shim>=0.2.3->nbclassic>=0.4.7->notebook>=4.4.1->widgetsnbextension~=3.6.0->ipywidgets->leafmap) (1.3.1)\n"
          ]
        }
      ]
    },
    {
      "cell_type": "code",
      "source": [
        "!pip install rasterio\n",
        "!pip install leafmap\n",
        "\n",
        "import rasterio\n",
        "import leafmap.foliumap as leafmap\n",
        "\n",
        "from google.colab import output\n",
        "output.disable_custom_widget_manager()\n",
        "\n",
        "image_url = \"https://github.com/opengeos/datasets/releases/download/places/wa_building_image.tif\"\n",
        "filename = \"wa_building_image.tif\"\n",
        "\n",
        "leafmap.download_file(image_url, filename, quiet=True)\n",
        "\n",
        "m = leafmap.Map()\n",
        "\n",
        "m.add_raster(filename, colormap=\"tab20\", layer_name=\"DEM\")\n",
        "\n",
        "m\n"
      ],
      "metadata": {
        "id": "-e4MdTMNrrLE",
        "outputId": "e79abf24-f627-463a-892b-bb9f38e413e1",
        "colab": {
          "base_uri": "https://localhost:8080/",
          "height": 1000
        }
      },
      "execution_count": 41,
      "outputs": [
        {
          "output_type": "stream",
          "name": "stdout",
          "text": [
            "Requirement already satisfied: rasterio in /usr/local/lib/python3.11/dist-packages (1.4.3)\n",
            "Requirement already satisfied: affine in /usr/local/lib/python3.11/dist-packages (from rasterio) (2.4.0)\n",
            "Requirement already satisfied: attrs in /usr/local/lib/python3.11/dist-packages (from rasterio) (24.3.0)\n",
            "Requirement already satisfied: certifi in /usr/local/lib/python3.11/dist-packages (from rasterio) (2024.12.14)\n",
            "Requirement already satisfied: click>=4.0 in /usr/local/lib/python3.11/dist-packages (from rasterio) (8.1.8)\n",
            "Requirement already satisfied: cligj>=0.5 in /usr/local/lib/python3.11/dist-packages (from rasterio) (0.7.2)\n",
            "Requirement already satisfied: numpy>=1.24 in /usr/local/lib/python3.11/dist-packages (from rasterio) (1.26.4)\n",
            "Requirement already satisfied: click-plugins in /usr/local/lib/python3.11/dist-packages (from rasterio) (1.1.1)\n",
            "Requirement already satisfied: pyparsing in /usr/local/lib/python3.11/dist-packages (from rasterio) (3.2.1)\n",
            "Requirement already satisfied: leafmap in /usr/local/lib/python3.11/dist-packages (0.42.7)\n",
            "Requirement already satisfied: anywidget in /usr/local/lib/python3.11/dist-packages (from leafmap) (0.9.13)\n",
            "Requirement already satisfied: bqplot in /usr/local/lib/python3.11/dist-packages (from leafmap) (0.12.44)\n",
            "Requirement already satisfied: colour in /usr/local/lib/python3.11/dist-packages (from leafmap) (0.1.5)\n",
            "Requirement already satisfied: duckdb in /usr/local/lib/python3.11/dist-packages (from leafmap) (1.1.3)\n",
            "Requirement already satisfied: folium in /usr/local/lib/python3.11/dist-packages (from leafmap) (0.19.4)\n",
            "Requirement already satisfied: gdown in /usr/local/lib/python3.11/dist-packages (from leafmap) (5.2.0)\n",
            "Requirement already satisfied: geojson in /usr/local/lib/python3.11/dist-packages (from leafmap) (3.2.0)\n",
            "Requirement already satisfied: ipyevents in /usr/local/lib/python3.11/dist-packages (from leafmap) (2.0.2)\n",
            "Requirement already satisfied: ipyfilechooser in /usr/local/lib/python3.11/dist-packages (from leafmap) (0.6.0)\n",
            "Requirement already satisfied: ipyleaflet in /usr/local/lib/python3.11/dist-packages (from leafmap) (0.19.2)\n",
            "Requirement already satisfied: ipyvuetify in /usr/local/lib/python3.11/dist-packages (from leafmap) (1.10.0)\n",
            "Requirement already satisfied: ipywidgets in /usr/local/lib/python3.11/dist-packages (from leafmap) (7.7.1)\n",
            "Requirement already satisfied: matplotlib in /usr/local/lib/python3.11/dist-packages (from leafmap) (3.10.0)\n",
            "Requirement already satisfied: numpy in /usr/local/lib/python3.11/dist-packages (from leafmap) (1.26.4)\n",
            "Requirement already satisfied: pandas in /usr/local/lib/python3.11/dist-packages (from leafmap) (2.2.2)\n",
            "Requirement already satisfied: plotly in /usr/local/lib/python3.11/dist-packages (from leafmap) (5.24.1)\n",
            "Requirement already satisfied: psutil in /usr/local/lib/python3.11/dist-packages (from leafmap) (5.9.5)\n",
            "Requirement already satisfied: pyshp in /usr/local/lib/python3.11/dist-packages (from leafmap) (2.3.1)\n",
            "Requirement already satisfied: pystac-client in /usr/local/lib/python3.11/dist-packages (from leafmap) (0.8.5)\n",
            "Requirement already satisfied: python-box in /usr/local/lib/python3.11/dist-packages (from leafmap) (7.3.2)\n",
            "Requirement already satisfied: scooby in /usr/local/lib/python3.11/dist-packages (from leafmap) (0.10.0)\n",
            "Requirement already satisfied: whiteboxgui in /usr/local/lib/python3.11/dist-packages (from leafmap) (2.3.0)\n",
            "Requirement already satisfied: xyzservices in /usr/local/lib/python3.11/dist-packages (from leafmap) (2025.1.0)\n",
            "Requirement already satisfied: psygnal>=0.8.1 in /usr/local/lib/python3.11/dist-packages (from anywidget->leafmap) (0.11.1)\n",
            "Requirement already satisfied: typing-extensions>=4.2.0 in /usr/local/lib/python3.11/dist-packages (from anywidget->leafmap) (4.12.2)\n",
            "Requirement already satisfied: ipykernel>=4.5.1 in /usr/local/lib/python3.11/dist-packages (from ipywidgets->leafmap) (5.5.6)\n",
            "Requirement already satisfied: ipython-genutils~=0.2.0 in /usr/local/lib/python3.11/dist-packages (from ipywidgets->leafmap) (0.2.0)\n",
            "Requirement already satisfied: traitlets>=4.3.1 in /usr/local/lib/python3.11/dist-packages (from ipywidgets->leafmap) (5.7.1)\n",
            "Requirement already satisfied: widgetsnbextension~=3.6.0 in /usr/local/lib/python3.11/dist-packages (from ipywidgets->leafmap) (3.6.10)\n",
            "Requirement already satisfied: ipython>=4.0.0 in /usr/local/lib/python3.11/dist-packages (from ipywidgets->leafmap) (7.34.0)\n",
            "Requirement already satisfied: jupyterlab-widgets>=1.0.0 in /usr/local/lib/python3.11/dist-packages (from ipywidgets->leafmap) (3.0.13)\n",
            "Requirement already satisfied: traittypes>=0.0.6 in /usr/local/lib/python3.11/dist-packages (from bqplot->leafmap) (0.2.1)\n",
            "Requirement already satisfied: python-dateutil>=2.8.2 in /usr/local/lib/python3.11/dist-packages (from pandas->leafmap) (2.8.2)\n",
            "Requirement already satisfied: pytz>=2020.1 in /usr/local/lib/python3.11/dist-packages (from pandas->leafmap) (2024.2)\n",
            "Requirement already satisfied: tzdata>=2022.7 in /usr/local/lib/python3.11/dist-packages (from pandas->leafmap) (2025.1)\n",
            "Requirement already satisfied: branca>=0.6.0 in /usr/local/lib/python3.11/dist-packages (from folium->leafmap) (0.8.1)\n",
            "Requirement already satisfied: jinja2>=2.9 in /usr/local/lib/python3.11/dist-packages (from folium->leafmap) (3.1.5)\n",
            "Requirement already satisfied: requests in /usr/local/lib/python3.11/dist-packages (from folium->leafmap) (2.32.3)\n",
            "Requirement already satisfied: beautifulsoup4 in /usr/local/lib/python3.11/dist-packages (from gdown->leafmap) (4.12.3)\n",
            "Requirement already satisfied: filelock in /usr/local/lib/python3.11/dist-packages (from gdown->leafmap) (3.17.0)\n",
            "Requirement already satisfied: tqdm in /usr/local/lib/python3.11/dist-packages (from gdown->leafmap) (4.67.1)\n",
            "Requirement already satisfied: jupyter-leaflet<0.20,>=0.19 in /usr/local/lib/python3.11/dist-packages (from ipyleaflet->leafmap) (0.19.2)\n",
            "Requirement already satisfied: ipyvue<2,>=1.7 in /usr/local/lib/python3.11/dist-packages (from ipyvuetify->leafmap) (1.11.2)\n",
            "Requirement already satisfied: contourpy>=1.0.1 in /usr/local/lib/python3.11/dist-packages (from matplotlib->leafmap) (1.3.1)\n",
            "Requirement already satisfied: cycler>=0.10 in /usr/local/lib/python3.11/dist-packages (from matplotlib->leafmap) (0.12.1)\n",
            "Requirement already satisfied: fonttools>=4.22.0 in /usr/local/lib/python3.11/dist-packages (from matplotlib->leafmap) (4.55.4)\n",
            "Requirement already satisfied: kiwisolver>=1.3.1 in /usr/local/lib/python3.11/dist-packages (from matplotlib->leafmap) (1.4.8)\n",
            "Requirement already satisfied: packaging>=20.0 in /usr/local/lib/python3.11/dist-packages (from matplotlib->leafmap) (24.2)\n",
            "Requirement already satisfied: pillow>=8 in /usr/local/lib/python3.11/dist-packages (from matplotlib->leafmap) (11.1.0)\n",
            "Requirement already satisfied: pyparsing>=2.3.1 in /usr/local/lib/python3.11/dist-packages (from matplotlib->leafmap) (3.2.1)\n",
            "Requirement already satisfied: tenacity>=6.2.0 in /usr/local/lib/python3.11/dist-packages (from plotly->leafmap) (9.0.0)\n",
            "Requirement already satisfied: pystac>=1.10.0 in /usr/local/lib/python3.11/dist-packages (from pystac[validation]>=1.10.0->pystac-client->leafmap) (1.12.0)\n",
            "Requirement already satisfied: ipytree in /usr/local/lib/python3.11/dist-packages (from whiteboxgui->leafmap) (0.2.2)\n",
            "Requirement already satisfied: whitebox in /usr/local/lib/python3.11/dist-packages (from whiteboxgui->leafmap) (2.3.5)\n",
            "Requirement already satisfied: jupyter-client in /usr/local/lib/python3.11/dist-packages (from ipykernel>=4.5.1->ipywidgets->leafmap) (6.1.12)\n",
            "Requirement already satisfied: tornado>=4.2 in /usr/local/lib/python3.11/dist-packages (from ipykernel>=4.5.1->ipywidgets->leafmap) (6.3.3)\n",
            "Requirement already satisfied: setuptools>=18.5 in /usr/local/lib/python3.11/dist-packages (from ipython>=4.0.0->ipywidgets->leafmap) (75.1.0)\n",
            "Requirement already satisfied: jedi>=0.16 in /usr/local/lib/python3.11/dist-packages (from ipython>=4.0.0->ipywidgets->leafmap) (0.19.2)\n",
            "Requirement already satisfied: decorator in /usr/local/lib/python3.11/dist-packages (from ipython>=4.0.0->ipywidgets->leafmap) (4.4.2)\n",
            "Requirement already satisfied: pickleshare in /usr/local/lib/python3.11/dist-packages (from ipython>=4.0.0->ipywidgets->leafmap) (0.7.5)\n",
            "Requirement already satisfied: prompt-toolkit!=3.0.0,!=3.0.1,<3.1.0,>=2.0.0 in /usr/local/lib/python3.11/dist-packages (from ipython>=4.0.0->ipywidgets->leafmap) (3.0.50)\n",
            "Requirement already satisfied: pygments in /usr/local/lib/python3.11/dist-packages (from ipython>=4.0.0->ipywidgets->leafmap) (2.18.0)\n",
            "Requirement already satisfied: backcall in /usr/local/lib/python3.11/dist-packages (from ipython>=4.0.0->ipywidgets->leafmap) (0.2.0)\n",
            "Requirement already satisfied: matplotlib-inline in /usr/local/lib/python3.11/dist-packages (from ipython>=4.0.0->ipywidgets->leafmap) (0.1.7)\n",
            "Requirement already satisfied: pexpect>4.3 in /usr/local/lib/python3.11/dist-packages (from ipython>=4.0.0->ipywidgets->leafmap) (4.9.0)\n",
            "Requirement already satisfied: MarkupSafe>=2.0 in /usr/local/lib/python3.11/dist-packages (from jinja2>=2.9->folium->leafmap) (3.0.2)\n",
            "Requirement already satisfied: jsonschema~=4.18 in /usr/local/lib/python3.11/dist-packages (from pystac[validation]>=1.10.0->pystac-client->leafmap) (4.23.0)\n",
            "Requirement already satisfied: six>=1.5 in /usr/local/lib/python3.11/dist-packages (from python-dateutil>=2.8.2->pandas->leafmap) (1.17.0)\n",
            "Requirement already satisfied: charset-normalizer<4,>=2 in /usr/local/lib/python3.11/dist-packages (from requests->folium->leafmap) (3.4.1)\n",
            "Requirement already satisfied: idna<4,>=2.5 in /usr/local/lib/python3.11/dist-packages (from requests->folium->leafmap) (3.10)\n",
            "Requirement already satisfied: urllib3<3,>=1.21.1 in /usr/local/lib/python3.11/dist-packages (from requests->folium->leafmap) (2.3.0)\n",
            "Requirement already satisfied: certifi>=2017.4.17 in /usr/local/lib/python3.11/dist-packages (from requests->folium->leafmap) (2024.12.14)\n",
            "Requirement already satisfied: notebook>=4.4.1 in /usr/local/lib/python3.11/dist-packages (from widgetsnbextension~=3.6.0->ipywidgets->leafmap) (6.5.5)\n",
            "Requirement already satisfied: soupsieve>1.2 in /usr/local/lib/python3.11/dist-packages (from beautifulsoup4->gdown->leafmap) (2.6)\n",
            "Requirement already satisfied: PySocks!=1.5.7,>=1.5.6 in /usr/local/lib/python3.11/dist-packages (from requests[socks]->gdown->leafmap) (1.7.1)\n",
            "Requirement already satisfied: Click>=6.0 in /usr/local/lib/python3.11/dist-packages (from whitebox->whiteboxgui->leafmap) (8.1.8)\n",
            "Requirement already satisfied: parso<0.9.0,>=0.8.4 in /usr/local/lib/python3.11/dist-packages (from jedi>=0.16->ipython>=4.0.0->ipywidgets->leafmap) (0.8.4)\n",
            "Requirement already satisfied: attrs>=22.2.0 in /usr/local/lib/python3.11/dist-packages (from jsonschema~=4.18->pystac[validation]>=1.10.0->pystac-client->leafmap) (24.3.0)\n",
            "Requirement already satisfied: jsonschema-specifications>=2023.03.6 in /usr/local/lib/python3.11/dist-packages (from jsonschema~=4.18->pystac[validation]>=1.10.0->pystac-client->leafmap) (2024.10.1)\n",
            "Requirement already satisfied: referencing>=0.28.4 in /usr/local/lib/python3.11/dist-packages (from jsonschema~=4.18->pystac[validation]>=1.10.0->pystac-client->leafmap) (0.36.1)\n",
            "Requirement already satisfied: rpds-py>=0.7.1 in /usr/local/lib/python3.11/dist-packages (from jsonschema~=4.18->pystac[validation]>=1.10.0->pystac-client->leafmap) (0.22.3)\n",
            "Requirement already satisfied: pyzmq<25,>=17 in /usr/local/lib/python3.11/dist-packages (from notebook>=4.4.1->widgetsnbextension~=3.6.0->ipywidgets->leafmap) (24.0.1)\n",
            "Requirement already satisfied: argon2-cffi in /usr/local/lib/python3.11/dist-packages (from notebook>=4.4.1->widgetsnbextension~=3.6.0->ipywidgets->leafmap) (23.1.0)\n",
            "Requirement already satisfied: jupyter-core>=4.6.1 in /usr/local/lib/python3.11/dist-packages (from notebook>=4.4.1->widgetsnbextension~=3.6.0->ipywidgets->leafmap) (5.7.2)\n",
            "Requirement already satisfied: nbformat in /usr/local/lib/python3.11/dist-packages (from notebook>=4.4.1->widgetsnbextension~=3.6.0->ipywidgets->leafmap) (5.10.4)\n",
            "Requirement already satisfied: nbconvert>=5 in /usr/local/lib/python3.11/dist-packages (from notebook>=4.4.1->widgetsnbextension~=3.6.0->ipywidgets->leafmap) (7.16.5)\n",
            "Requirement already satisfied: nest-asyncio>=1.5 in /usr/local/lib/python3.11/dist-packages (from notebook>=4.4.1->widgetsnbextension~=3.6.0->ipywidgets->leafmap) (1.6.0)\n",
            "Requirement already satisfied: Send2Trash>=1.8.0 in /usr/local/lib/python3.11/dist-packages (from notebook>=4.4.1->widgetsnbextension~=3.6.0->ipywidgets->leafmap) (1.8.3)\n",
            "Requirement already satisfied: terminado>=0.8.3 in /usr/local/lib/python3.11/dist-packages (from notebook>=4.4.1->widgetsnbextension~=3.6.0->ipywidgets->leafmap) (0.18.1)\n",
            "Requirement already satisfied: prometheus-client in /usr/local/lib/python3.11/dist-packages (from notebook>=4.4.1->widgetsnbextension~=3.6.0->ipywidgets->leafmap) (0.21.1)\n",
            "Requirement already satisfied: nbclassic>=0.4.7 in /usr/local/lib/python3.11/dist-packages (from notebook>=4.4.1->widgetsnbextension~=3.6.0->ipywidgets->leafmap) (1.2.0)\n",
            "Requirement already satisfied: ptyprocess>=0.5 in /usr/local/lib/python3.11/dist-packages (from pexpect>4.3->ipython>=4.0.0->ipywidgets->leafmap) (0.7.0)\n",
            "Requirement already satisfied: wcwidth in /usr/local/lib/python3.11/dist-packages (from prompt-toolkit!=3.0.0,!=3.0.1,<3.1.0,>=2.0.0->ipython>=4.0.0->ipywidgets->leafmap) (0.2.13)\n",
            "Requirement already satisfied: platformdirs>=2.5 in /usr/local/lib/python3.11/dist-packages (from jupyter-core>=4.6.1->notebook>=4.4.1->widgetsnbextension~=3.6.0->ipywidgets->leafmap) (4.3.6)\n",
            "Requirement already satisfied: notebook-shim>=0.2.3 in /usr/local/lib/python3.11/dist-packages (from nbclassic>=0.4.7->notebook>=4.4.1->widgetsnbextension~=3.6.0->ipywidgets->leafmap) (0.2.4)\n",
            "Requirement already satisfied: bleach!=5.0.0 in /usr/local/lib/python3.11/dist-packages (from bleach[css]!=5.0.0->nbconvert>=5->notebook>=4.4.1->widgetsnbextension~=3.6.0->ipywidgets->leafmap) (6.2.0)\n",
            "Requirement already satisfied: defusedxml in /usr/local/lib/python3.11/dist-packages (from nbconvert>=5->notebook>=4.4.1->widgetsnbextension~=3.6.0->ipywidgets->leafmap) (0.7.1)\n",
            "Requirement already satisfied: jupyterlab-pygments in /usr/local/lib/python3.11/dist-packages (from nbconvert>=5->notebook>=4.4.1->widgetsnbextension~=3.6.0->ipywidgets->leafmap) (0.3.0)\n",
            "Requirement already satisfied: mistune<4,>=2.0.3 in /usr/local/lib/python3.11/dist-packages (from nbconvert>=5->notebook>=4.4.1->widgetsnbextension~=3.6.0->ipywidgets->leafmap) (3.1.0)\n",
            "Requirement already satisfied: nbclient>=0.5.0 in /usr/local/lib/python3.11/dist-packages (from nbconvert>=5->notebook>=4.4.1->widgetsnbextension~=3.6.0->ipywidgets->leafmap) (0.10.2)\n",
            "Requirement already satisfied: pandocfilters>=1.4.1 in /usr/local/lib/python3.11/dist-packages (from nbconvert>=5->notebook>=4.4.1->widgetsnbextension~=3.6.0->ipywidgets->leafmap) (1.5.1)\n",
            "Requirement already satisfied: fastjsonschema>=2.15 in /usr/local/lib/python3.11/dist-packages (from nbformat->notebook>=4.4.1->widgetsnbextension~=3.6.0->ipywidgets->leafmap) (2.21.1)\n",
            "Requirement already satisfied: argon2-cffi-bindings in /usr/local/lib/python3.11/dist-packages (from argon2-cffi->notebook>=4.4.1->widgetsnbextension~=3.6.0->ipywidgets->leafmap) (21.2.0)\n",
            "Requirement already satisfied: webencodings in /usr/local/lib/python3.11/dist-packages (from bleach!=5.0.0->bleach[css]!=5.0.0->nbconvert>=5->notebook>=4.4.1->widgetsnbextension~=3.6.0->ipywidgets->leafmap) (0.5.1)\n",
            "Requirement already satisfied: tinycss2<1.5,>=1.1.0 in /usr/local/lib/python3.11/dist-packages (from bleach[css]!=5.0.0->nbconvert>=5->notebook>=4.4.1->widgetsnbextension~=3.6.0->ipywidgets->leafmap) (1.4.0)\n",
            "Requirement already satisfied: jupyter-server<3,>=1.8 in /usr/local/lib/python3.11/dist-packages (from notebook-shim>=0.2.3->nbclassic>=0.4.7->notebook>=4.4.1->widgetsnbextension~=3.6.0->ipywidgets->leafmap) (1.24.0)\n",
            "Requirement already satisfied: cffi>=1.0.1 in /usr/local/lib/python3.11/dist-packages (from argon2-cffi-bindings->argon2-cffi->notebook>=4.4.1->widgetsnbextension~=3.6.0->ipywidgets->leafmap) (1.17.1)\n",
            "Requirement already satisfied: pycparser in /usr/local/lib/python3.11/dist-packages (from cffi>=1.0.1->argon2-cffi-bindings->argon2-cffi->notebook>=4.4.1->widgetsnbextension~=3.6.0->ipywidgets->leafmap) (2.22)\n",
            "Requirement already satisfied: anyio<4,>=3.1.0 in /usr/local/lib/python3.11/dist-packages (from jupyter-server<3,>=1.8->notebook-shim>=0.2.3->nbclassic>=0.4.7->notebook>=4.4.1->widgetsnbextension~=3.6.0->ipywidgets->leafmap) (3.7.1)\n",
            "Requirement already satisfied: websocket-client in /usr/local/lib/python3.11/dist-packages (from jupyter-server<3,>=1.8->notebook-shim>=0.2.3->nbclassic>=0.4.7->notebook>=4.4.1->widgetsnbextension~=3.6.0->ipywidgets->leafmap) (1.8.0)\n",
            "Requirement already satisfied: sniffio>=1.1 in /usr/local/lib/python3.11/dist-packages (from anyio<4,>=3.1.0->jupyter-server<3,>=1.8->notebook-shim>=0.2.3->nbclassic>=0.4.7->notebook>=4.4.1->widgetsnbextension~=3.6.0->ipywidgets->leafmap) (1.3.1)\n",
            "wa_building_image.tif already exists. Skip downloading. Set overwrite=True to overwrite.\n"
          ]
        },
        {
          "output_type": "error",
          "ename": "ImportError",
          "evalue": "localtileserver is not installed. Please install it before proceeding. https://github.com/banesullivan/localtileserver",
          "traceback": [
            "\u001b[0;31m---------------------------------------------------------------------------\u001b[0m",
            "\u001b[0;31mModuleNotFoundError\u001b[0m                       Traceback (most recent call last)",
            "\u001b[0;32m/usr/local/lib/python3.11/dist-packages/leafmap/common.py\u001b[0m in \u001b[0;36mcheck_package\u001b[0;34m(name, URL)\u001b[0m\n\u001b[1;32m    165\u001b[0m     \u001b[0;32mtry\u001b[0m\u001b[0;34m:\u001b[0m\u001b[0;34m\u001b[0m\u001b[0;34m\u001b[0m\u001b[0m\n\u001b[0;32m--> 166\u001b[0;31m         \u001b[0m__import__\u001b[0m\u001b[0;34m(\u001b[0m\u001b[0mname\u001b[0m\u001b[0;34m.\u001b[0m\u001b[0mlower\u001b[0m\u001b[0;34m(\u001b[0m\u001b[0;34m)\u001b[0m\u001b[0;34m)\u001b[0m\u001b[0;34m\u001b[0m\u001b[0;34m\u001b[0m\u001b[0m\n\u001b[0m\u001b[1;32m    167\u001b[0m     \u001b[0;32mexcept\u001b[0m \u001b[0mException\u001b[0m\u001b[0;34m:\u001b[0m\u001b[0;34m\u001b[0m\u001b[0;34m\u001b[0m\u001b[0m\n",
            "\u001b[0;31mModuleNotFoundError\u001b[0m: No module named 'localtileserver'",
            "\nDuring handling of the above exception, another exception occurred:\n",
            "\u001b[0;31mImportError\u001b[0m                               Traceback (most recent call last)",
            "\u001b[0;32m<ipython-input-41-81b30edff98a>\u001b[0m in \u001b[0;36m<cell line: 0>\u001b[0;34m()\u001b[0m\n\u001b[1;32m     15\u001b[0m \u001b[0mm\u001b[0m \u001b[0;34m=\u001b[0m \u001b[0mleafmap\u001b[0m\u001b[0;34m.\u001b[0m\u001b[0mMap\u001b[0m\u001b[0;34m(\u001b[0m\u001b[0;34m)\u001b[0m\u001b[0;34m\u001b[0m\u001b[0;34m\u001b[0m\u001b[0m\n\u001b[1;32m     16\u001b[0m \u001b[0;34m\u001b[0m\u001b[0m\n\u001b[0;32m---> 17\u001b[0;31m \u001b[0mm\u001b[0m\u001b[0;34m.\u001b[0m\u001b[0madd_raster\u001b[0m\u001b[0;34m(\u001b[0m\u001b[0mfilename\u001b[0m\u001b[0;34m,\u001b[0m \u001b[0mcolormap\u001b[0m\u001b[0;34m=\u001b[0m\u001b[0;34m\"tab20\"\u001b[0m\u001b[0;34m,\u001b[0m \u001b[0mlayer_name\u001b[0m\u001b[0;34m=\u001b[0m\u001b[0;34m\"DEM\"\u001b[0m\u001b[0;34m)\u001b[0m\u001b[0;34m\u001b[0m\u001b[0;34m\u001b[0m\u001b[0m\n\u001b[0m\u001b[1;32m     18\u001b[0m \u001b[0;34m\u001b[0m\u001b[0m\n\u001b[1;32m     19\u001b[0m \u001b[0mm\u001b[0m\u001b[0;34m\u001b[0m\u001b[0;34m\u001b[0m\u001b[0m\n",
            "\u001b[0;32m/usr/local/lib/python3.11/dist-packages/leafmap/foliumap.py\u001b[0m in \u001b[0;36madd_raster\u001b[0;34m(self, source, indexes, colormap, vmin, vmax, nodata, attribution, layer_name, array_args, **kwargs)\u001b[0m\n\u001b[1;32m    620\u001b[0m             \u001b[0mkwargs\u001b[0m\u001b[0;34m[\u001b[0m\u001b[0;34m\"cors_all\"\u001b[0m\u001b[0;34m]\u001b[0m \u001b[0;34m=\u001b[0m \u001b[0;32mTrue\u001b[0m\u001b[0;34m\u001b[0m\u001b[0;34m\u001b[0m\u001b[0m\n\u001b[1;32m    621\u001b[0m \u001b[0;34m\u001b[0m\u001b[0m\n\u001b[0;32m--> 622\u001b[0;31m         tile_layer, tile_client = common.get_local_tile_layer(\n\u001b[0m\u001b[1;32m    623\u001b[0m             \u001b[0msource\u001b[0m\u001b[0;34m,\u001b[0m\u001b[0;34m\u001b[0m\u001b[0;34m\u001b[0m\u001b[0m\n\u001b[1;32m    624\u001b[0m             \u001b[0mindexes\u001b[0m\u001b[0;34m=\u001b[0m\u001b[0mindexes\u001b[0m\u001b[0;34m,\u001b[0m\u001b[0;34m\u001b[0m\u001b[0;34m\u001b[0m\u001b[0m\n",
            "\u001b[0;32m/usr/local/lib/python3.11/dist-packages/leafmap/common.py\u001b[0m in \u001b[0;36mget_local_tile_layer\u001b[0;34m(source, port, debug, indexes, colormap, vmin, vmax, nodata, attribution, tile_format, layer_name, client_args, return_client, quiet, **kwargs)\u001b[0m\n\u001b[1;32m   2862\u001b[0m     \u001b[0;32mimport\u001b[0m \u001b[0mrasterio\u001b[0m\u001b[0;34m\u001b[0m\u001b[0;34m\u001b[0m\u001b[0m\n\u001b[1;32m   2863\u001b[0m \u001b[0;34m\u001b[0m\u001b[0m\n\u001b[0;32m-> 2864\u001b[0;31m     check_package(\n\u001b[0m\u001b[1;32m   2865\u001b[0m         \u001b[0;34m\"localtileserver\"\u001b[0m\u001b[0;34m,\u001b[0m \u001b[0mURL\u001b[0m\u001b[0;34m=\u001b[0m\u001b[0;34m\"https://github.com/banesullivan/localtileserver\"\u001b[0m\u001b[0;34m\u001b[0m\u001b[0;34m\u001b[0m\u001b[0m\n\u001b[1;32m   2866\u001b[0m     )\n",
            "\u001b[0;32m/usr/local/lib/python3.11/dist-packages/leafmap/common.py\u001b[0m in \u001b[0;36mcheck_package\u001b[0;34m(name, URL)\u001b[0m\n\u001b[1;32m    166\u001b[0m         \u001b[0m__import__\u001b[0m\u001b[0;34m(\u001b[0m\u001b[0mname\u001b[0m\u001b[0;34m.\u001b[0m\u001b[0mlower\u001b[0m\u001b[0;34m(\u001b[0m\u001b[0;34m)\u001b[0m\u001b[0;34m)\u001b[0m\u001b[0;34m\u001b[0m\u001b[0;34m\u001b[0m\u001b[0m\n\u001b[1;32m    167\u001b[0m     \u001b[0;32mexcept\u001b[0m \u001b[0mException\u001b[0m\u001b[0;34m:\u001b[0m\u001b[0;34m\u001b[0m\u001b[0;34m\u001b[0m\u001b[0m\n\u001b[0;32m--> 168\u001b[0;31m         raise ImportError(\n\u001b[0m\u001b[1;32m    169\u001b[0m             \u001b[0;34mf\"{name} is not installed. Please install it before proceeding. {URL}\"\u001b[0m\u001b[0;34m\u001b[0m\u001b[0;34m\u001b[0m\u001b[0m\n\u001b[1;32m    170\u001b[0m         )\n",
            "\u001b[0;31mImportError\u001b[0m: localtileserver is not installed. Please install it before proceeding. https://github.com/banesullivan/localtileserver",
            "",
            "\u001b[0;31m---------------------------------------------------------------------------\u001b[0;32m\nNOTE: If your import is failing due to a missing package, you can\nmanually install dependencies using either !pip or !apt.\n\nTo view examples of installing some common dependencies, click the\n\"Open Examples\" button below.\n\u001b[0;31m---------------------------------------------------------------------------\u001b[0m\n"
          ],
          "errorDetails": {
            "actions": [
              {
                "action": "open_url",
                "actionText": "Open Examples",
                "url": "/notebooks/snippets/importing_libraries.ipynb"
              }
            ]
          }
        }
      ]
    },
    {
      "cell_type": "code",
      "source": [
        "import rasterio\n",
        "print(rasterio.__version__)\n"
      ],
      "metadata": {
        "id": "WtZgTjKjr0UX",
        "outputId": "f92af104-30d9-4920-c99e-218c0fdd3322",
        "colab": {
          "base_uri": "https://localhost:8080/"
        }
      },
      "execution_count": 38,
      "outputs": [
        {
          "output_type": "stream",
          "name": "stdout",
          "text": [
            "1.4.3\n"
          ]
        }
      ]
    },
    {
      "cell_type": "markdown",
      "metadata": {
        "id": "EqLpB1QtL2Ym"
      },
      "source": [
        "## Exercise 10: Creating a Split Map\n",
        "\n",
        "1. Create a split map to compare imagery of Libya before and after the 2023 flood event:\n",
        "\n",
        "    * Pre-event imagery: https://github.com/opengeos/datasets/releases/download/raster/Libya-2023-07-01.tif\n",
        "    * Post-event imagery: https://github.com/opengeos/datasets/releases/download/raster/Libya-2023-09-13.tif"
      ]
    },
    {
      "cell_type": "code",
      "source": [
        "!pip install ipywidgets\n",
        "from google.colab import output\n",
        "output.enable_custom_widget_manager()\n"
      ],
      "metadata": {
        "id": "Ziftx3vtdYNK"
      },
      "execution_count": null,
      "outputs": []
    },
    {
      "cell_type": "code",
      "execution_count": null,
      "metadata": {
        "id": "1gl1MqB6L2Ym"
      },
      "outputs": [],
      "source": [
        "%pip install leafmap\n",
        "\n",
        "import leafmap.foliumap as leafmap\n",
        "\n",
        "from google.colab import output\n",
        "output.disable_custom_widget_manager()\n",
        "\n",
        "m = leafmap.Map(zoom=6)\n",
        "\n",
        "url_1 = \"https://github.com/opengeos/datasets/releases/download/raster/Libya-2023-07-01.tif\"\n",
        "url_2 = \"https://github.com/opengeos/datasets/releases/download/raster/Libya-2023-09-13.tif\"\n",
        "\n",
        "left_label = \"Pre-event\"\n",
        "right_label = \"Post-event\"\n",
        "\n",
        "m.split_map(url_1, url_2, left_label=left_label, right_label=right_label)\n",
        "\n",
        "m\n"
      ]
    },
    {
      "cell_type": "markdown",
      "source": [
        "Support for third party widgets will remain active for the duration of the session. To disable support:"
      ],
      "metadata": {
        "id": "Rpc7mmo7dYNK"
      }
    }
  ],
  "metadata": {
    "kernelspec": {
      "display_name": "geo",
      "language": "python",
      "name": "python3"
    },
    "language_info": {
      "codemirror_mode": {
        "name": "ipython",
        "version": 3
      },
      "file_extension": ".py",
      "mimetype": "text/x-python",
      "name": "python",
      "nbconvert_exporter": "python",
      "pygments_lexer": "ipython3",
      "version": "3.12.2"
    },
    "colab": {
      "provenance": [],
      "include_colab_link": true
    },
    "widgets": {
      "application/vnd.jupyter.widget-state+json": {
        "3aafded09a0e4e70977dc742c8fffc46": {
          "model_module": "@jupyter-widgets/controls",
          "model_name": "CheckboxModel",
          "model_module_version": "1.5.0",
          "state": {
            "_dom_classes": [],
            "_model_module": "@jupyter-widgets/controls",
            "_model_module_version": "1.5.0",
            "_model_name": "CheckboxModel",
            "_view_count": null,
            "_view_module": "@jupyter-widgets/controls",
            "_view_module_version": "1.5.0",
            "_view_name": "CheckboxView",
            "description": "OpenStreetMap.Mapnik",
            "description_tooltip": null,
            "disabled": false,
            "indent": false,
            "layout": "IPY_MODEL_7dd1b9c640474c5f87fde3ef8541b2d4",
            "style": "IPY_MODEL_becd420e219f416684f64a97f3059464",
            "value": true
          }
        },
        "76d3616b4cf24b298103feb50875d097": {
          "model_module": "jupyter-leaflet",
          "model_name": "LeafletTileLayerModel",
          "model_module_version": "^0.19",
          "state": {
            "_model_module": "jupyter-leaflet",
            "_model_module_version": "^0.19",
            "_model_name": "LeafletTileLayerModel",
            "_view_count": null,
            "_view_module": "jupyter-leaflet",
            "_view_module_version": "^0.19",
            "_view_name": "LeafletTileLayerView",
            "attribution": "&copy; <a href=\"https://www.openstreetmap.org/copyright\">OpenStreetMap</a> contributors",
            "base": true,
            "bottom": true,
            "bounds": null,
            "detect_retina": false,
            "loading": false,
            "max_native_zoom": null,
            "max_zoom": 19,
            "min_native_zoom": null,
            "min_zoom": 1,
            "name": "OpenStreetMap",
            "no_wrap": false,
            "opacity": 1,
            "options": [
              "attribution",
              "bounds",
              "detect_retina",
              "max_native_zoom",
              "max_zoom",
              "min_native_zoom",
              "min_zoom",
              "no_wrap",
              "tile_size",
              "tms",
              "zoom_offset"
            ],
            "pane": "",
            "popup": null,
            "popup_max_height": null,
            "popup_max_width": 300,
            "popup_min_width": 50,
            "show_loading": false,
            "subitems": [],
            "tile_size": 256,
            "tms": false,
            "url": "https://tile.openstreetmap.org/{z}/{x}/{y}.png",
            "visible": true,
            "zoom_offset": 0
          }
        },
        "7dd1b9c640474c5f87fde3ef8541b2d4": {
          "model_module": "@jupyter-widgets/base",
          "model_name": "LayoutModel",
          "model_module_version": "1.2.0",
          "state": {
            "_model_module": "@jupyter-widgets/base",
            "_model_module_version": "1.2.0",
            "_model_name": "LayoutModel",
            "_view_count": null,
            "_view_module": "@jupyter-widgets/base",
            "_view_module_version": "1.2.0",
            "_view_name": "LayoutView",
            "align_content": null,
            "align_items": null,
            "align_self": null,
            "border": null,
            "bottom": null,
            "display": null,
            "flex": null,
            "flex_flow": null,
            "grid_area": null,
            "grid_auto_columns": null,
            "grid_auto_flow": null,
            "grid_auto_rows": null,
            "grid_column": null,
            "grid_gap": null,
            "grid_row": null,
            "grid_template_areas": null,
            "grid_template_columns": null,
            "grid_template_rows": null,
            "height": "18px",
            "justify_content": null,
            "justify_items": null,
            "left": null,
            "margin": null,
            "max_height": null,
            "max_width": null,
            "min_height": null,
            "min_width": null,
            "object_fit": null,
            "object_position": null,
            "order": null,
            "overflow": null,
            "overflow_x": null,
            "overflow_y": null,
            "padding": null,
            "right": null,
            "top": null,
            "visibility": null,
            "width": "25ex"
          }
        },
        "becd420e219f416684f64a97f3059464": {
          "model_module": "@jupyter-widgets/controls",
          "model_name": "DescriptionStyleModel",
          "model_module_version": "1.5.0",
          "state": {
            "_model_module": "@jupyter-widgets/controls",
            "_model_module_version": "1.5.0",
            "_model_name": "DescriptionStyleModel",
            "_view_count": null,
            "_view_module": "@jupyter-widgets/base",
            "_view_module_version": "1.2.0",
            "_view_name": "StyleView",
            "description_width": ""
          }
        },
        "9f5eefcf07b24e219e4ba41cf7f92b75": {
          "model_module": "@jupyter-widgets/controls",
          "model_name": "CheckboxModel",
          "model_module_version": "1.5.0",
          "state": {
            "_dom_classes": [],
            "_model_module": "@jupyter-widgets/controls",
            "_model_module_version": "1.5.0",
            "_model_name": "CheckboxModel",
            "_view_count": null,
            "_view_module": "@jupyter-widgets/controls",
            "_view_module_version": "1.5.0",
            "_view_name": "CheckboxView",
            "description": "OpenStreetMap.Mapnik",
            "description_tooltip": null,
            "disabled": false,
            "indent": false,
            "layout": "IPY_MODEL_034b7e2656be40e58021fa58bc5e50b6",
            "style": "IPY_MODEL_e910e8234ebe453fb0fd79efb31e5930",
            "value": true
          }
        },
        "034b7e2656be40e58021fa58bc5e50b6": {
          "model_module": "@jupyter-widgets/base",
          "model_name": "LayoutModel",
          "model_module_version": "1.2.0",
          "state": {
            "_model_module": "@jupyter-widgets/base",
            "_model_module_version": "1.2.0",
            "_model_name": "LayoutModel",
            "_view_count": null,
            "_view_module": "@jupyter-widgets/base",
            "_view_module_version": "1.2.0",
            "_view_name": "LayoutView",
            "align_content": null,
            "align_items": null,
            "align_self": null,
            "border": null,
            "bottom": null,
            "display": null,
            "flex": null,
            "flex_flow": null,
            "grid_area": null,
            "grid_auto_columns": null,
            "grid_auto_flow": null,
            "grid_auto_rows": null,
            "grid_column": null,
            "grid_gap": null,
            "grid_row": null,
            "grid_template_areas": null,
            "grid_template_columns": null,
            "grid_template_rows": null,
            "height": "18px",
            "justify_content": null,
            "justify_items": null,
            "left": null,
            "margin": null,
            "max_height": null,
            "max_width": null,
            "min_height": null,
            "min_width": null,
            "object_fit": null,
            "object_position": null,
            "order": null,
            "overflow": null,
            "overflow_x": null,
            "overflow_y": null,
            "padding": null,
            "right": null,
            "top": null,
            "visibility": null,
            "width": "25ex"
          }
        },
        "e910e8234ebe453fb0fd79efb31e5930": {
          "model_module": "@jupyter-widgets/controls",
          "model_name": "DescriptionStyleModel",
          "model_module_version": "1.5.0",
          "state": {
            "_model_module": "@jupyter-widgets/controls",
            "_model_module_version": "1.5.0",
            "_model_name": "DescriptionStyleModel",
            "_view_count": null,
            "_view_module": "@jupyter-widgets/base",
            "_view_module_version": "1.2.0",
            "_view_name": "StyleView",
            "description_width": ""
          }
        },
        "59d55e84668740b5bc9d657413fdfdf2": {
          "model_module": "@jupyter-widgets/controls",
          "model_name": "CheckboxModel",
          "model_module_version": "1.5.0",
          "state": {
            "_dom_classes": [],
            "_model_module": "@jupyter-widgets/controls",
            "_model_module_version": "1.5.0",
            "_model_name": "CheckboxModel",
            "_view_count": null,
            "_view_module": "@jupyter-widgets/controls",
            "_view_module_version": "1.5.0",
            "_view_name": "CheckboxView",
            "description": "OpenStreetMap.Mapnik",
            "description_tooltip": null,
            "disabled": false,
            "indent": false,
            "layout": "IPY_MODEL_2be11ec6e1374b28adc790200dc7238f",
            "style": "IPY_MODEL_f2075a7eb8ce488e821b0aae70ad88e7",
            "value": true
          }
        },
        "263bd1b74b0e44569fab195ce6b5d3b1": {
          "model_module": "@jupyter-widgets/controls",
          "model_name": "CheckboxModel",
          "model_module_version": "1.5.0",
          "state": {
            "_dom_classes": [],
            "_model_module": "@jupyter-widgets/controls",
            "_model_module_version": "1.5.0",
            "_model_name": "CheckboxModel",
            "_view_count": null,
            "_view_module": "@jupyter-widgets/controls",
            "_view_module_version": "1.5.0",
            "_view_name": "CheckboxView",
            "description": "OpenStreetMap",
            "description_tooltip": null,
            "disabled": false,
            "indent": false,
            "layout": "IPY_MODEL_f22f154104164b33b9c9ae08df7d80b5",
            "style": "IPY_MODEL_a0bdc15d6d724a73b523434fd53c6835",
            "value": true
          }
        },
        "b0e2bd8480404c7299543d6dee14439f": {
          "model_module": "@jupyter-widgets/controls",
          "model_name": "CheckboxModel",
          "model_module_version": "1.5.0",
          "state": {
            "_dom_classes": [],
            "_model_module": "@jupyter-widgets/controls",
            "_model_module_version": "1.5.0",
            "_model_name": "CheckboxModel",
            "_view_count": null,
            "_view_module": "@jupyter-widgets/controls",
            "_view_module_version": "1.5.0",
            "_view_name": "CheckboxView",
            "description": "OpenStreetMap",
            "description_tooltip": null,
            "disabled": false,
            "indent": false,
            "layout": "IPY_MODEL_944925a1b43b497aab8eeb8025d5e8ff",
            "style": "IPY_MODEL_8137e96d007342cd93bb780affdc3fe4",
            "value": true
          }
        },
        "b25ec1b3e2f041ff89d345c7470b4690": {
          "model_module": "@jupyter-widgets/controls",
          "model_name": "CheckboxModel",
          "model_module_version": "1.5.0",
          "state": {
            "_dom_classes": [],
            "_model_module": "@jupyter-widgets/controls",
            "_model_module_version": "1.5.0",
            "_model_name": "CheckboxModel",
            "_view_count": null,
            "_view_module": "@jupyter-widgets/controls",
            "_view_module_version": "1.5.0",
            "_view_name": "CheckboxView",
            "description": "USGS Topo",
            "description_tooltip": null,
            "disabled": false,
            "indent": false,
            "layout": "IPY_MODEL_0a4e95a51f234f43935702fc4a7c83d6",
            "style": "IPY_MODEL_504541c19597477ab09b3817c06f0438",
            "value": true
          }
        },
        "75192453192d48c8850397adde5d63e4": {
          "model_module": "jupyter-leaflet",
          "model_name": "LeafletTileLayerModel",
          "model_module_version": "^0.19",
          "state": {
            "_model_module": "jupyter-leaflet",
            "_model_module_version": "^0.19",
            "_model_name": "LeafletTileLayerModel",
            "_view_count": null,
            "_view_module": "jupyter-leaflet",
            "_view_module_version": "^0.19",
            "_view_name": "LeafletTileLayerView",
            "attribution": "USGS",
            "base": false,
            "bottom": true,
            "bounds": null,
            "detect_retina": false,
            "loading": false,
            "max_native_zoom": 30,
            "max_zoom": 30,
            "min_native_zoom": null,
            "min_zoom": 0,
            "name": "USGS Topo",
            "no_wrap": false,
            "opacity": 1,
            "options": [
              "attribution",
              "bounds",
              "detect_retina",
              "max_native_zoom",
              "max_zoom",
              "min_native_zoom",
              "min_zoom",
              "no_wrap",
              "tile_size",
              "tms",
              "zoom_offset"
            ],
            "pane": "",
            "popup": null,
            "popup_max_height": null,
            "popup_max_width": 300,
            "popup_min_width": 50,
            "show_loading": false,
            "subitems": [],
            "tile_size": 256,
            "tms": false,
            "url": "https://basemap.nationalmap.gov/arcgis/rest/services/USGSTopo/MapServer/tile/{z}/{y}/{x}",
            "visible": true,
            "zoom_offset": 0
          }
        },
        "2be11ec6e1374b28adc790200dc7238f": {
          "model_module": "@jupyter-widgets/base",
          "model_name": "LayoutModel",
          "model_module_version": "1.2.0",
          "state": {
            "_model_module": "@jupyter-widgets/base",
            "_model_module_version": "1.2.0",
            "_model_name": "LayoutModel",
            "_view_count": null,
            "_view_module": "@jupyter-widgets/base",
            "_view_module_version": "1.2.0",
            "_view_name": "LayoutView",
            "align_content": null,
            "align_items": null,
            "align_self": null,
            "border": null,
            "bottom": null,
            "display": null,
            "flex": null,
            "flex_flow": null,
            "grid_area": null,
            "grid_auto_columns": null,
            "grid_auto_flow": null,
            "grid_auto_rows": null,
            "grid_column": null,
            "grid_gap": null,
            "grid_row": null,
            "grid_template_areas": null,
            "grid_template_columns": null,
            "grid_template_rows": null,
            "height": "18px",
            "justify_content": null,
            "justify_items": null,
            "left": null,
            "margin": null,
            "max_height": null,
            "max_width": null,
            "min_height": null,
            "min_width": null,
            "object_fit": null,
            "object_position": null,
            "order": null,
            "overflow": null,
            "overflow_x": null,
            "overflow_y": null,
            "padding": null,
            "right": null,
            "top": null,
            "visibility": null,
            "width": "25ex"
          }
        },
        "f2075a7eb8ce488e821b0aae70ad88e7": {
          "model_module": "@jupyter-widgets/controls",
          "model_name": "DescriptionStyleModel",
          "model_module_version": "1.5.0",
          "state": {
            "_model_module": "@jupyter-widgets/controls",
            "_model_module_version": "1.5.0",
            "_model_name": "DescriptionStyleModel",
            "_view_count": null,
            "_view_module": "@jupyter-widgets/base",
            "_view_module_version": "1.2.0",
            "_view_name": "StyleView",
            "description_width": ""
          }
        },
        "f22f154104164b33b9c9ae08df7d80b5": {
          "model_module": "@jupyter-widgets/base",
          "model_name": "LayoutModel",
          "model_module_version": "1.2.0",
          "state": {
            "_model_module": "@jupyter-widgets/base",
            "_model_module_version": "1.2.0",
            "_model_name": "LayoutModel",
            "_view_count": null,
            "_view_module": "@jupyter-widgets/base",
            "_view_module_version": "1.2.0",
            "_view_name": "LayoutView",
            "align_content": null,
            "align_items": null,
            "align_self": null,
            "border": null,
            "bottom": null,
            "display": null,
            "flex": null,
            "flex_flow": null,
            "grid_area": null,
            "grid_auto_columns": null,
            "grid_auto_flow": null,
            "grid_auto_rows": null,
            "grid_column": null,
            "grid_gap": null,
            "grid_row": null,
            "grid_template_areas": null,
            "grid_template_columns": null,
            "grid_template_rows": null,
            "height": "18px",
            "justify_content": null,
            "justify_items": null,
            "left": null,
            "margin": null,
            "max_height": null,
            "max_width": null,
            "min_height": null,
            "min_width": null,
            "object_fit": null,
            "object_position": null,
            "order": null,
            "overflow": null,
            "overflow_x": null,
            "overflow_y": null,
            "padding": null,
            "right": null,
            "top": null,
            "visibility": null,
            "width": "25ex"
          }
        },
        "a0bdc15d6d724a73b523434fd53c6835": {
          "model_module": "@jupyter-widgets/controls",
          "model_name": "DescriptionStyleModel",
          "model_module_version": "1.5.0",
          "state": {
            "_model_module": "@jupyter-widgets/controls",
            "_model_module_version": "1.5.0",
            "_model_name": "DescriptionStyleModel",
            "_view_count": null,
            "_view_module": "@jupyter-widgets/base",
            "_view_module_version": "1.2.0",
            "_view_name": "StyleView",
            "description_width": ""
          }
        },
        "944925a1b43b497aab8eeb8025d5e8ff": {
          "model_module": "@jupyter-widgets/base",
          "model_name": "LayoutModel",
          "model_module_version": "1.2.0",
          "state": {
            "_model_module": "@jupyter-widgets/base",
            "_model_module_version": "1.2.0",
            "_model_name": "LayoutModel",
            "_view_count": null,
            "_view_module": "@jupyter-widgets/base",
            "_view_module_version": "1.2.0",
            "_view_name": "LayoutView",
            "align_content": null,
            "align_items": null,
            "align_self": null,
            "border": null,
            "bottom": null,
            "display": null,
            "flex": null,
            "flex_flow": null,
            "grid_area": null,
            "grid_auto_columns": null,
            "grid_auto_flow": null,
            "grid_auto_rows": null,
            "grid_column": null,
            "grid_gap": null,
            "grid_row": null,
            "grid_template_areas": null,
            "grid_template_columns": null,
            "grid_template_rows": null,
            "height": "18px",
            "justify_content": null,
            "justify_items": null,
            "left": null,
            "margin": null,
            "max_height": null,
            "max_width": null,
            "min_height": null,
            "min_width": null,
            "object_fit": null,
            "object_position": null,
            "order": null,
            "overflow": null,
            "overflow_x": null,
            "overflow_y": null,
            "padding": null,
            "right": null,
            "top": null,
            "visibility": null,
            "width": "25ex"
          }
        },
        "8137e96d007342cd93bb780affdc3fe4": {
          "model_module": "@jupyter-widgets/controls",
          "model_name": "DescriptionStyleModel",
          "model_module_version": "1.5.0",
          "state": {
            "_model_module": "@jupyter-widgets/controls",
            "_model_module_version": "1.5.0",
            "_model_name": "DescriptionStyleModel",
            "_view_count": null,
            "_view_module": "@jupyter-widgets/base",
            "_view_module_version": "1.2.0",
            "_view_name": "StyleView",
            "description_width": ""
          }
        },
        "0a4e95a51f234f43935702fc4a7c83d6": {
          "model_module": "@jupyter-widgets/base",
          "model_name": "LayoutModel",
          "model_module_version": "1.2.0",
          "state": {
            "_model_module": "@jupyter-widgets/base",
            "_model_module_version": "1.2.0",
            "_model_name": "LayoutModel",
            "_view_count": null,
            "_view_module": "@jupyter-widgets/base",
            "_view_module_version": "1.2.0",
            "_view_name": "LayoutView",
            "align_content": null,
            "align_items": null,
            "align_self": null,
            "border": null,
            "bottom": null,
            "display": null,
            "flex": null,
            "flex_flow": null,
            "grid_area": null,
            "grid_auto_columns": null,
            "grid_auto_flow": null,
            "grid_auto_rows": null,
            "grid_column": null,
            "grid_gap": null,
            "grid_row": null,
            "grid_template_areas": null,
            "grid_template_columns": null,
            "grid_template_rows": null,
            "height": "18px",
            "justify_content": null,
            "justify_items": null,
            "left": null,
            "margin": null,
            "max_height": null,
            "max_width": null,
            "min_height": null,
            "min_width": null,
            "object_fit": null,
            "object_position": null,
            "order": null,
            "overflow": null,
            "overflow_x": null,
            "overflow_y": null,
            "padding": null,
            "right": null,
            "top": null,
            "visibility": null,
            "width": "25ex"
          }
        },
        "504541c19597477ab09b3817c06f0438": {
          "model_module": "@jupyter-widgets/controls",
          "model_name": "DescriptionStyleModel",
          "model_module_version": "1.5.0",
          "state": {
            "_model_module": "@jupyter-widgets/controls",
            "_model_module_version": "1.5.0",
            "_model_name": "DescriptionStyleModel",
            "_view_count": null,
            "_view_module": "@jupyter-widgets/base",
            "_view_module_version": "1.2.0",
            "_view_name": "StyleView",
            "description_width": ""
          }
        },
        "3dd055ed055d495f87d2e6de46d48577": {
          "model_module": "@jupyter-widgets/controls",
          "model_name": "CheckboxModel",
          "model_module_version": "1.5.0",
          "state": {
            "_dom_classes": [],
            "_model_module": "@jupyter-widgets/controls",
            "_model_module_version": "1.5.0",
            "_model_name": "CheckboxModel",
            "_view_count": null,
            "_view_module": "@jupyter-widgets/controls",
            "_view_module_version": "1.5.0",
            "_view_name": "CheckboxView",
            "description": "OpenStreetMap",
            "description_tooltip": null,
            "disabled": false,
            "indent": false,
            "layout": "IPY_MODEL_8f63a0473c0b4882bf2b1d074db287b2",
            "style": "IPY_MODEL_c86c11d5b258456491c248d55fd6ba6d",
            "value": true
          }
        },
        "c4e962846aa44de4ae83765039fd41e8": {
          "model_module": "@jupyter-widgets/controls",
          "model_name": "CheckboxModel",
          "model_module_version": "1.5.0",
          "state": {
            "_dom_classes": [],
            "_model_module": "@jupyter-widgets/controls",
            "_model_module_version": "1.5.0",
            "_model_name": "CheckboxModel",
            "_view_count": null,
            "_view_module": "@jupyter-widgets/controls",
            "_view_module_version": "1.5.0",
            "_view_name": "CheckboxView",
            "description": "USGS Topo",
            "description_tooltip": null,
            "disabled": false,
            "indent": false,
            "layout": "IPY_MODEL_fcd6eac7b87342d9a3afd42455990eae",
            "style": "IPY_MODEL_b0a17a196b614574a7a9daac1bc3d377",
            "value": true
          }
        },
        "add5fed641e04184bd4df16de1242180": {
          "model_module": "@jupyter-widgets/controls",
          "model_name": "CheckboxModel",
          "model_module_version": "1.5.0",
          "state": {
            "_dom_classes": [],
            "_model_module": "@jupyter-widgets/controls",
            "_model_module_version": "1.5.0",
            "_model_name": "CheckboxModel",
            "_view_count": null,
            "_view_module": "@jupyter-widgets/controls",
            "_view_module_version": "1.5.0",
            "_view_name": "CheckboxView",
            "description": "NAIP",
            "description_tooltip": null,
            "disabled": false,
            "indent": false,
            "layout": "IPY_MODEL_1b201e70980b4cb3ac18277cf954e33d",
            "style": "IPY_MODEL_e1d70ced1e664ce58c170793ba2e6e2e",
            "value": true
          }
        },
        "1adb45f0f1924c02802d1a8bc85ce34b": {
          "model_module": "jupyter-leaflet",
          "model_name": "LeafletWMSLayerModel",
          "model_module_version": "^0.19",
          "state": {
            "_model_module": "jupyter-leaflet",
            "_model_module_version": "^0.19",
            "_model_name": "LeafletWMSLayerModel",
            "_view_count": null,
            "_view_module": "jupyter-leaflet",
            "_view_module_version": "^0.19",
            "_view_name": "LeafletWMSLayerView",
            "attribution": "",
            "base": false,
            "bottom": true,
            "bounds": null,
            "crs": {
              "name": "EPSG3857",
              "custom": false
            },
            "detect_retina": false,
            "format": "image/png",
            "layers": "USGSNAIPImagery:FalseColorComposite",
            "loading": false,
            "max_native_zoom": null,
            "max_zoom": 18,
            "min_native_zoom": null,
            "min_zoom": 0,
            "name": "NAIP",
            "no_wrap": false,
            "opacity": 1,
            "options": [
              "attribution",
              "bounds",
              "detect_retina",
              "format",
              "layers",
              "max_native_zoom",
              "max_zoom",
              "min_native_zoom",
              "min_zoom",
              "no_wrap",
              "styles",
              "tile_size",
              "tms",
              "transparent",
              "uppercase",
              "zoom_offset"
            ],
            "pane": "",
            "popup": null,
            "popup_max_height": null,
            "popup_max_width": 300,
            "popup_min_width": 50,
            "show_loading": false,
            "styles": "",
            "subitems": [],
            "tile_size": 256,
            "tms": false,
            "transparent": true,
            "uppercase": false,
            "url": "https://imagery.nationalmap.gov/arcgis/services/USGSNAIPImagery/ImageServer/WMSServer?",
            "visible": true,
            "zoom_offset": 0
          }
        },
        "ea961d699d184cc4b779bdba231dfc26": {
          "model_module": "jupyter-leaflet",
          "model_name": "LeafletMapModel",
          "model_module_version": "^0.19",
          "state": {
            "_dom_classes": [],
            "_model_module": "jupyter-leaflet",
            "_model_module_version": "^0.19",
            "_model_name": "LeafletMapModel",
            "_view_count": null,
            "_view_module": "jupyter-leaflet",
            "_view_module_version": "^0.19",
            "_view_name": "LeafletMapView",
            "bottom": 0,
            "bounce_at_zoom_limits": true,
            "box_zoom": true,
            "center": [
              20,
              0
            ],
            "close_popup_on_click": true,
            "controls": [
              "IPY_MODEL_cced0303f82c4ec9bb1d199cc2943aff",
              "IPY_MODEL_383ad3125aac4855a0bf8176df3dc1b8",
              "IPY_MODEL_854315c4b69f4924be2de3372b24e742",
              "IPY_MODEL_a943c548ea9c48e98831af2b7c058ca0",
              "IPY_MODEL_d79575f2db6d477f9e3580fc6154bc32",
              "IPY_MODEL_ebcd6c1ec4f04fcc8b3ddae10d2f91b7"
            ],
            "crs": {
              "name": "EPSG3857",
              "custom": false
            },
            "default_style": "IPY_MODEL_f887ad898903484488b996b3f443f059",
            "double_click_zoom": true,
            "dragging": true,
            "dragging_style": "IPY_MODEL_ef5dae9f9a2740ed8a185c768c497ef6",
            "east": 0,
            "fullscreen": false,
            "inertia": true,
            "inertia_deceleration": 3000,
            "inertia_max_speed": 1500,
            "interpolation": "bilinear",
            "keyboard": true,
            "keyboard_pan_offset": 80,
            "keyboard_zoom_offset": 1,
            "layers": [
              "IPY_MODEL_76d3616b4cf24b298103feb50875d097",
              "IPY_MODEL_75192453192d48c8850397adde5d63e4",
              "IPY_MODEL_1adb45f0f1924c02802d1a8bc85ce34b"
            ],
            "layout": "IPY_MODEL_56d3361b3ff540d5aded2f7459316312",
            "left": 9007199254740991,
            "max_zoom": 24,
            "min_zoom": null,
            "modisdate": "2025-01-24",
            "north": 0,
            "options": [
              "bounce_at_zoom_limits",
              "box_zoom",
              "center",
              "close_popup_on_click",
              "double_click_zoom",
              "dragging",
              "fullscreen",
              "inertia",
              "inertia_deceleration",
              "inertia_max_speed",
              "interpolation",
              "keyboard",
              "keyboard_pan_offset",
              "keyboard_zoom_offset",
              "max_zoom",
              "min_zoom",
              "prefer_canvas",
              "scroll_wheel_zoom",
              "tap",
              "tap_tolerance",
              "touch_zoom",
              "world_copy_jump",
              "zoom",
              "zoom_animation_threshold",
              "zoom_delta",
              "zoom_snap"
            ],
            "panes": {},
            "prefer_canvas": false,
            "right": 0,
            "scroll_wheel_zoom": true,
            "south": 0,
            "style": "IPY_MODEL_87a94c526fd84775a96ea17f5a3cb10b",
            "tap": true,
            "tap_tolerance": 15,
            "top": 9007199254740991,
            "touch_zoom": true,
            "west": 0,
            "window_url": "",
            "world_copy_jump": false,
            "zoom": 2,
            "zoom_animation_threshold": 4,
            "zoom_delta": 1,
            "zoom_snap": 1
          }
        },
        "8f63a0473c0b4882bf2b1d074db287b2": {
          "model_module": "@jupyter-widgets/base",
          "model_name": "LayoutModel",
          "model_module_version": "1.2.0",
          "state": {
            "_model_module": "@jupyter-widgets/base",
            "_model_module_version": "1.2.0",
            "_model_name": "LayoutModel",
            "_view_count": null,
            "_view_module": "@jupyter-widgets/base",
            "_view_module_version": "1.2.0",
            "_view_name": "LayoutView",
            "align_content": null,
            "align_items": null,
            "align_self": null,
            "border": null,
            "bottom": null,
            "display": null,
            "flex": null,
            "flex_flow": null,
            "grid_area": null,
            "grid_auto_columns": null,
            "grid_auto_flow": null,
            "grid_auto_rows": null,
            "grid_column": null,
            "grid_gap": null,
            "grid_row": null,
            "grid_template_areas": null,
            "grid_template_columns": null,
            "grid_template_rows": null,
            "height": "18px",
            "justify_content": null,
            "justify_items": null,
            "left": null,
            "margin": null,
            "max_height": null,
            "max_width": null,
            "min_height": null,
            "min_width": null,
            "object_fit": null,
            "object_position": null,
            "order": null,
            "overflow": null,
            "overflow_x": null,
            "overflow_y": null,
            "padding": null,
            "right": null,
            "top": null,
            "visibility": null,
            "width": "25ex"
          }
        },
        "c86c11d5b258456491c248d55fd6ba6d": {
          "model_module": "@jupyter-widgets/controls",
          "model_name": "DescriptionStyleModel",
          "model_module_version": "1.5.0",
          "state": {
            "_model_module": "@jupyter-widgets/controls",
            "_model_module_version": "1.5.0",
            "_model_name": "DescriptionStyleModel",
            "_view_count": null,
            "_view_module": "@jupyter-widgets/base",
            "_view_module_version": "1.2.0",
            "_view_name": "StyleView",
            "description_width": ""
          }
        },
        "fcd6eac7b87342d9a3afd42455990eae": {
          "model_module": "@jupyter-widgets/base",
          "model_name": "LayoutModel",
          "model_module_version": "1.2.0",
          "state": {
            "_model_module": "@jupyter-widgets/base",
            "_model_module_version": "1.2.0",
            "_model_name": "LayoutModel",
            "_view_count": null,
            "_view_module": "@jupyter-widgets/base",
            "_view_module_version": "1.2.0",
            "_view_name": "LayoutView",
            "align_content": null,
            "align_items": null,
            "align_self": null,
            "border": null,
            "bottom": null,
            "display": null,
            "flex": null,
            "flex_flow": null,
            "grid_area": null,
            "grid_auto_columns": null,
            "grid_auto_flow": null,
            "grid_auto_rows": null,
            "grid_column": null,
            "grid_gap": null,
            "grid_row": null,
            "grid_template_areas": null,
            "grid_template_columns": null,
            "grid_template_rows": null,
            "height": "18px",
            "justify_content": null,
            "justify_items": null,
            "left": null,
            "margin": null,
            "max_height": null,
            "max_width": null,
            "min_height": null,
            "min_width": null,
            "object_fit": null,
            "object_position": null,
            "order": null,
            "overflow": null,
            "overflow_x": null,
            "overflow_y": null,
            "padding": null,
            "right": null,
            "top": null,
            "visibility": null,
            "width": "25ex"
          }
        },
        "b0a17a196b614574a7a9daac1bc3d377": {
          "model_module": "@jupyter-widgets/controls",
          "model_name": "DescriptionStyleModel",
          "model_module_version": "1.5.0",
          "state": {
            "_model_module": "@jupyter-widgets/controls",
            "_model_module_version": "1.5.0",
            "_model_name": "DescriptionStyleModel",
            "_view_count": null,
            "_view_module": "@jupyter-widgets/base",
            "_view_module_version": "1.2.0",
            "_view_name": "StyleView",
            "description_width": ""
          }
        },
        "1b201e70980b4cb3ac18277cf954e33d": {
          "model_module": "@jupyter-widgets/base",
          "model_name": "LayoutModel",
          "model_module_version": "1.2.0",
          "state": {
            "_model_module": "@jupyter-widgets/base",
            "_model_module_version": "1.2.0",
            "_model_name": "LayoutModel",
            "_view_count": null,
            "_view_module": "@jupyter-widgets/base",
            "_view_module_version": "1.2.0",
            "_view_name": "LayoutView",
            "align_content": null,
            "align_items": null,
            "align_self": null,
            "border": null,
            "bottom": null,
            "display": null,
            "flex": null,
            "flex_flow": null,
            "grid_area": null,
            "grid_auto_columns": null,
            "grid_auto_flow": null,
            "grid_auto_rows": null,
            "grid_column": null,
            "grid_gap": null,
            "grid_row": null,
            "grid_template_areas": null,
            "grid_template_columns": null,
            "grid_template_rows": null,
            "height": "18px",
            "justify_content": null,
            "justify_items": null,
            "left": null,
            "margin": null,
            "max_height": null,
            "max_width": null,
            "min_height": null,
            "min_width": null,
            "object_fit": null,
            "object_position": null,
            "order": null,
            "overflow": null,
            "overflow_x": null,
            "overflow_y": null,
            "padding": null,
            "right": null,
            "top": null,
            "visibility": null,
            "width": "25ex"
          }
        },
        "e1d70ced1e664ce58c170793ba2e6e2e": {
          "model_module": "@jupyter-widgets/controls",
          "model_name": "DescriptionStyleModel",
          "model_module_version": "1.5.0",
          "state": {
            "_model_module": "@jupyter-widgets/controls",
            "_model_module_version": "1.5.0",
            "_model_name": "DescriptionStyleModel",
            "_view_count": null,
            "_view_module": "@jupyter-widgets/base",
            "_view_module_version": "1.2.0",
            "_view_name": "StyleView",
            "description_width": ""
          }
        },
        "dc6f8d7af60144acbe5f9a2fd22bfb6f": {
          "model_module": "@jupyter-widgets/controls",
          "model_name": "CheckboxModel",
          "model_module_version": "1.5.0",
          "state": {
            "_dom_classes": [],
            "_model_module": "@jupyter-widgets/controls",
            "_model_module_version": "1.5.0",
            "_model_name": "CheckboxModel",
            "_view_count": null,
            "_view_module": "@jupyter-widgets/controls",
            "_view_module_version": "1.5.0",
            "_view_name": "CheckboxView",
            "description": "OpenStreetMap.Mapnik",
            "description_tooltip": null,
            "disabled": false,
            "indent": false,
            "layout": "IPY_MODEL_d2b184057368450c879d30fd534bba4e",
            "style": "IPY_MODEL_36235788db4247fcb9a5e46b91744efc",
            "value": true
          }
        },
        "d4dfaa7077244c0387b72ec027d826f1": {
          "model_module": "jupyter-leaflet",
          "model_name": "LeafletTileLayerModel",
          "model_module_version": "^0.19",
          "state": {
            "_model_module": "jupyter-leaflet",
            "_model_module_version": "^0.19",
            "_model_name": "LeafletTileLayerModel",
            "_view_count": null,
            "_view_module": "jupyter-leaflet",
            "_view_module_version": "^0.19",
            "_view_name": "LeafletTileLayerView",
            "attribution": "&copy; <a href=\"https://www.openstreetmap.org/copyright\">OpenStreetMap</a> contributors",
            "base": true,
            "bottom": true,
            "bounds": null,
            "detect_retina": false,
            "loading": false,
            "max_native_zoom": null,
            "max_zoom": 19,
            "min_native_zoom": null,
            "min_zoom": 1,
            "name": "OpenStreetMap",
            "no_wrap": false,
            "opacity": 1,
            "options": [
              "attribution",
              "bounds",
              "detect_retina",
              "max_native_zoom",
              "max_zoom",
              "min_native_zoom",
              "min_zoom",
              "no_wrap",
              "tile_size",
              "tms",
              "zoom_offset"
            ],
            "pane": "",
            "popup": null,
            "popup_max_height": null,
            "popup_max_width": 300,
            "popup_min_width": 50,
            "show_loading": false,
            "subitems": [],
            "tile_size": 256,
            "tms": false,
            "url": "https://tile.openstreetmap.org/{z}/{x}/{y}.png",
            "visible": true,
            "zoom_offset": 0
          }
        },
        "53fd2ddd07014a23b564c88b84ddc245": {
          "model_module": "@jupyter-widgets/controls",
          "model_name": "CheckboxModel",
          "model_module_version": "1.5.0",
          "state": {
            "_dom_classes": [],
            "_model_module": "@jupyter-widgets/controls",
            "_model_module_version": "1.5.0",
            "_model_name": "CheckboxModel",
            "_view_count": null,
            "_view_module": "@jupyter-widgets/controls",
            "_view_module_version": "1.5.0",
            "_view_name": "CheckboxView",
            "description": "OpenStreetMap.Mapnik",
            "description_tooltip": null,
            "disabled": false,
            "indent": false,
            "layout": "IPY_MODEL_ea1fecb1ca8c46bcb0750dcf92fd9a00",
            "style": "IPY_MODEL_73de872c607f4b048f97e52da518d2e0",
            "value": true
          }
        },
        "d2b184057368450c879d30fd534bba4e": {
          "model_module": "@jupyter-widgets/base",
          "model_name": "LayoutModel",
          "model_module_version": "1.2.0",
          "state": {
            "_model_module": "@jupyter-widgets/base",
            "_model_module_version": "1.2.0",
            "_model_name": "LayoutModel",
            "_view_count": null,
            "_view_module": "@jupyter-widgets/base",
            "_view_module_version": "1.2.0",
            "_view_name": "LayoutView",
            "align_content": null,
            "align_items": null,
            "align_self": null,
            "border": null,
            "bottom": null,
            "display": null,
            "flex": null,
            "flex_flow": null,
            "grid_area": null,
            "grid_auto_columns": null,
            "grid_auto_flow": null,
            "grid_auto_rows": null,
            "grid_column": null,
            "grid_gap": null,
            "grid_row": null,
            "grid_template_areas": null,
            "grid_template_columns": null,
            "grid_template_rows": null,
            "height": "18px",
            "justify_content": null,
            "justify_items": null,
            "left": null,
            "margin": null,
            "max_height": null,
            "max_width": null,
            "min_height": null,
            "min_width": null,
            "object_fit": null,
            "object_position": null,
            "order": null,
            "overflow": null,
            "overflow_x": null,
            "overflow_y": null,
            "padding": null,
            "right": null,
            "top": null,
            "visibility": null,
            "width": "25ex"
          }
        },
        "36235788db4247fcb9a5e46b91744efc": {
          "model_module": "@jupyter-widgets/controls",
          "model_name": "DescriptionStyleModel",
          "model_module_version": "1.5.0",
          "state": {
            "_model_module": "@jupyter-widgets/controls",
            "_model_module_version": "1.5.0",
            "_model_name": "DescriptionStyleModel",
            "_view_count": null,
            "_view_module": "@jupyter-widgets/base",
            "_view_module_version": "1.2.0",
            "_view_name": "StyleView",
            "description_width": ""
          }
        },
        "ea1fecb1ca8c46bcb0750dcf92fd9a00": {
          "model_module": "@jupyter-widgets/base",
          "model_name": "LayoutModel",
          "model_module_version": "1.2.0",
          "state": {
            "_model_module": "@jupyter-widgets/base",
            "_model_module_version": "1.2.0",
            "_model_name": "LayoutModel",
            "_view_count": null,
            "_view_module": "@jupyter-widgets/base",
            "_view_module_version": "1.2.0",
            "_view_name": "LayoutView",
            "align_content": null,
            "align_items": null,
            "align_self": null,
            "border": null,
            "bottom": null,
            "display": null,
            "flex": null,
            "flex_flow": null,
            "grid_area": null,
            "grid_auto_columns": null,
            "grid_auto_flow": null,
            "grid_auto_rows": null,
            "grid_column": null,
            "grid_gap": null,
            "grid_row": null,
            "grid_template_areas": null,
            "grid_template_columns": null,
            "grid_template_rows": null,
            "height": "18px",
            "justify_content": null,
            "justify_items": null,
            "left": null,
            "margin": null,
            "max_height": null,
            "max_width": null,
            "min_height": null,
            "min_width": null,
            "object_fit": null,
            "object_position": null,
            "order": null,
            "overflow": null,
            "overflow_x": null,
            "overflow_y": null,
            "padding": null,
            "right": null,
            "top": null,
            "visibility": null,
            "width": "25ex"
          }
        },
        "73de872c607f4b048f97e52da518d2e0": {
          "model_module": "@jupyter-widgets/controls",
          "model_name": "DescriptionStyleModel",
          "model_module_version": "1.5.0",
          "state": {
            "_model_module": "@jupyter-widgets/controls",
            "_model_module_version": "1.5.0",
            "_model_name": "DescriptionStyleModel",
            "_view_count": null,
            "_view_module": "@jupyter-widgets/base",
            "_view_module_version": "1.2.0",
            "_view_name": "StyleView",
            "description_width": ""
          }
        },
        "165f1e856ca6460880679a2a64c2fa78": {
          "model_module": "@jupyter-widgets/controls",
          "model_name": "CheckboxModel",
          "model_module_version": "1.5.0",
          "state": {
            "_dom_classes": [],
            "_model_module": "@jupyter-widgets/controls",
            "_model_module_version": "1.5.0",
            "_model_name": "CheckboxModel",
            "_view_count": null,
            "_view_module": "@jupyter-widgets/controls",
            "_view_module_version": "1.5.0",
            "_view_name": "CheckboxView",
            "description": "OpenStreetMap.Mapnik",
            "description_tooltip": null,
            "disabled": false,
            "indent": false,
            "layout": "IPY_MODEL_7cc8614ef2744bf0ab5bb648cd074885",
            "style": "IPY_MODEL_29412098d36d4d4d9f8dd47f98eb4a05",
            "value": true
          }
        },
        "05aeb145d0ff43708bfa3405c69e91f1": {
          "model_module": "@jupyter-widgets/controls",
          "model_name": "CheckboxModel",
          "model_module_version": "1.5.0",
          "state": {
            "_dom_classes": [],
            "_model_module": "@jupyter-widgets/controls",
            "_model_module_version": "1.5.0",
            "_model_name": "CheckboxModel",
            "_view_count": null,
            "_view_module": "@jupyter-widgets/controls",
            "_view_module_version": "1.5.0",
            "_view_name": "CheckboxView",
            "description": "OpenStreetMap",
            "description_tooltip": null,
            "disabled": false,
            "indent": false,
            "layout": "IPY_MODEL_4c61223776854a3fa941b31bb42740ba",
            "style": "IPY_MODEL_f76e8e53466c462290cad01320c57c50",
            "value": true
          }
        },
        "7cc8614ef2744bf0ab5bb648cd074885": {
          "model_module": "@jupyter-widgets/base",
          "model_name": "LayoutModel",
          "model_module_version": "1.2.0",
          "state": {
            "_model_module": "@jupyter-widgets/base",
            "_model_module_version": "1.2.0",
            "_model_name": "LayoutModel",
            "_view_count": null,
            "_view_module": "@jupyter-widgets/base",
            "_view_module_version": "1.2.0",
            "_view_name": "LayoutView",
            "align_content": null,
            "align_items": null,
            "align_self": null,
            "border": null,
            "bottom": null,
            "display": null,
            "flex": null,
            "flex_flow": null,
            "grid_area": null,
            "grid_auto_columns": null,
            "grid_auto_flow": null,
            "grid_auto_rows": null,
            "grid_column": null,
            "grid_gap": null,
            "grid_row": null,
            "grid_template_areas": null,
            "grid_template_columns": null,
            "grid_template_rows": null,
            "height": "18px",
            "justify_content": null,
            "justify_items": null,
            "left": null,
            "margin": null,
            "max_height": null,
            "max_width": null,
            "min_height": null,
            "min_width": null,
            "object_fit": null,
            "object_position": null,
            "order": null,
            "overflow": null,
            "overflow_x": null,
            "overflow_y": null,
            "padding": null,
            "right": null,
            "top": null,
            "visibility": null,
            "width": "25ex"
          }
        },
        "29412098d36d4d4d9f8dd47f98eb4a05": {
          "model_module": "@jupyter-widgets/controls",
          "model_name": "DescriptionStyleModel",
          "model_module_version": "1.5.0",
          "state": {
            "_model_module": "@jupyter-widgets/controls",
            "_model_module_version": "1.5.0",
            "_model_name": "DescriptionStyleModel",
            "_view_count": null,
            "_view_module": "@jupyter-widgets/base",
            "_view_module_version": "1.2.0",
            "_view_name": "StyleView",
            "description_width": ""
          }
        },
        "4c61223776854a3fa941b31bb42740ba": {
          "model_module": "@jupyter-widgets/base",
          "model_name": "LayoutModel",
          "model_module_version": "1.2.0",
          "state": {
            "_model_module": "@jupyter-widgets/base",
            "_model_module_version": "1.2.0",
            "_model_name": "LayoutModel",
            "_view_count": null,
            "_view_module": "@jupyter-widgets/base",
            "_view_module_version": "1.2.0",
            "_view_name": "LayoutView",
            "align_content": null,
            "align_items": null,
            "align_self": null,
            "border": null,
            "bottom": null,
            "display": null,
            "flex": null,
            "flex_flow": null,
            "grid_area": null,
            "grid_auto_columns": null,
            "grid_auto_flow": null,
            "grid_auto_rows": null,
            "grid_column": null,
            "grid_gap": null,
            "grid_row": null,
            "grid_template_areas": null,
            "grid_template_columns": null,
            "grid_template_rows": null,
            "height": "18px",
            "justify_content": null,
            "justify_items": null,
            "left": null,
            "margin": null,
            "max_height": null,
            "max_width": null,
            "min_height": null,
            "min_width": null,
            "object_fit": null,
            "object_position": null,
            "order": null,
            "overflow": null,
            "overflow_x": null,
            "overflow_y": null,
            "padding": null,
            "right": null,
            "top": null,
            "visibility": null,
            "width": "25ex"
          }
        },
        "f76e8e53466c462290cad01320c57c50": {
          "model_module": "@jupyter-widgets/controls",
          "model_name": "DescriptionStyleModel",
          "model_module_version": "1.5.0",
          "state": {
            "_model_module": "@jupyter-widgets/controls",
            "_model_module_version": "1.5.0",
            "_model_name": "DescriptionStyleModel",
            "_view_count": null,
            "_view_module": "@jupyter-widgets/base",
            "_view_module_version": "1.2.0",
            "_view_name": "StyleView",
            "description_width": ""
          }
        },
        "f37b45b29196481891d7f24b2b1301c1": {
          "model_module": "@jupyter-widgets/controls",
          "model_name": "CheckboxModel",
          "model_module_version": "1.5.0",
          "state": {
            "_dom_classes": [],
            "_model_module": "@jupyter-widgets/controls",
            "_model_module_version": "1.5.0",
            "_model_name": "CheckboxModel",
            "_view_count": null,
            "_view_module": "@jupyter-widgets/controls",
            "_view_module_version": "1.5.0",
            "_view_name": "CheckboxView",
            "description": "OpenStreetMap",
            "description_tooltip": null,
            "disabled": false,
            "indent": false,
            "layout": "IPY_MODEL_6a94424f27254f439cfcaa8c680209dd",
            "style": "IPY_MODEL_2898d5e527214379b77193b193c63167",
            "value": true
          }
        },
        "7bf70a16f2144eca8472f8450eaf7306": {
          "model_module": "@jupyter-widgets/controls",
          "model_name": "CheckboxModel",
          "model_module_version": "1.5.0",
          "state": {
            "_dom_classes": [],
            "_model_module": "@jupyter-widgets/controls",
            "_model_module_version": "1.5.0",
            "_model_name": "CheckboxModel",
            "_view_count": null,
            "_view_module": "@jupyter-widgets/controls",
            "_view_module_version": "1.5.0",
            "_view_name": "CheckboxView",
            "description": "ESA World Cover",
            "description_tooltip": null,
            "disabled": false,
            "indent": false,
            "layout": "IPY_MODEL_b634a5fa58dd4f24812fb7e7e49c4950",
            "style": "IPY_MODEL_0edb3586b7054831b02b66449e1d727b",
            "value": true
          }
        },
        "c788b5a4a1d64eb0910aa0bc81ab39e2": {
          "model_module": "jupyter-leaflet",
          "model_name": "LeafletWMSLayerModel",
          "model_module_version": "^0.19",
          "state": {
            "_model_module": "jupyter-leaflet",
            "_model_module_version": "^0.19",
            "_model_name": "LeafletWMSLayerModel",
            "_view_count": null,
            "_view_module": "jupyter-leaflet",
            "_view_module_version": "^0.19",
            "_view_name": "LeafletWMSLayerView",
            "attribution": "",
            "base": false,
            "bottom": true,
            "bounds": null,
            "crs": {
              "name": "EPSG3857",
              "custom": false
            },
            "detect_retina": false,
            "format": "image/png",
            "layers": "WORLDCOVER_2021_MAP",
            "loading": false,
            "max_native_zoom": null,
            "max_zoom": 18,
            "min_native_zoom": null,
            "min_zoom": 0,
            "name": "ESA World Cover",
            "no_wrap": false,
            "opacity": 1,
            "options": [
              "attribution",
              "bounds",
              "detect_retina",
              "format",
              "layers",
              "max_native_zoom",
              "max_zoom",
              "min_native_zoom",
              "min_zoom",
              "no_wrap",
              "styles",
              "tile_size",
              "tms",
              "transparent",
              "uppercase",
              "zoom_offset"
            ],
            "pane": "",
            "popup": null,
            "popup_max_height": null,
            "popup_max_width": 300,
            "popup_min_width": 50,
            "show_loading": false,
            "styles": "",
            "subitems": [],
            "tile_size": 256,
            "tms": false,
            "transparent": true,
            "uppercase": false,
            "url": "https://services.terrascope.be/wms/v2?",
            "visible": true,
            "zoom_offset": 0
          }
        },
        "f68e332a03f74b54bc0fd93d917a1b61": {
          "model_module": "@jupyter-widgets/controls",
          "model_name": "CheckboxModel",
          "model_module_version": "1.5.0",
          "state": {
            "_dom_classes": [],
            "_model_module": "@jupyter-widgets/controls",
            "_model_module_version": "1.5.0",
            "_model_name": "CheckboxModel",
            "_view_count": null,
            "_view_module": "@jupyter-widgets/controls",
            "_view_module_version": "1.5.0",
            "_view_name": "CheckboxView",
            "description": "OpenStreetMap",
            "description_tooltip": null,
            "disabled": false,
            "indent": false,
            "layout": "IPY_MODEL_ddb7e170f9654007a26364a93022bad9",
            "style": "IPY_MODEL_6f7f9bc4df98486b9b05ca88b5a4352e",
            "value": true
          }
        },
        "848af45c1bdd4c8c9fc5ad7d308b1abc": {
          "model_module": "@jupyter-widgets/controls",
          "model_name": "CheckboxModel",
          "model_module_version": "1.5.0",
          "state": {
            "_dom_classes": [],
            "_model_module": "@jupyter-widgets/controls",
            "_model_module_version": "1.5.0",
            "_model_name": "CheckboxModel",
            "_view_count": null,
            "_view_module": "@jupyter-widgets/controls",
            "_view_module_version": "1.5.0",
            "_view_name": "CheckboxView",
            "description": "ESA World Cover",
            "description_tooltip": null,
            "disabled": false,
            "indent": false,
            "layout": "IPY_MODEL_676019f922d1489289bccb5fa1dce6ae",
            "style": "IPY_MODEL_a8b7e7c945f24821bcc9af6681afa593",
            "value": true
          }
        },
        "f3059fde9a1c4ae1a23b5a72996031e6": {
          "model_module": "jupyter-leaflet",
          "model_name": "LeafletMapModel",
          "model_module_version": "^0.19",
          "state": {
            "_dom_classes": [],
            "_model_module": "jupyter-leaflet",
            "_model_module_version": "^0.19",
            "_model_name": "LeafletMapModel",
            "_view_count": null,
            "_view_module": "jupyter-leaflet",
            "_view_module_version": "^0.19",
            "_view_name": "LeafletMapView",
            "bottom": 0,
            "bounce_at_zoom_limits": true,
            "box_zoom": true,
            "center": [
              20,
              0
            ],
            "close_popup_on_click": true,
            "controls": [
              "IPY_MODEL_08e64c00552144bf99f9df3d2a076e91",
              "IPY_MODEL_9e9138233c0c4420a740d9d3469f3186",
              "IPY_MODEL_12774a87a6184a12b6bb286789bcf4e6",
              "IPY_MODEL_3d9befe72fae44ee9d0a33ae870e72bf",
              "IPY_MODEL_c827cdecee414fc0bc1b9ffb94a0442a",
              "IPY_MODEL_516c66761237403a829a61070960fb32",
              "IPY_MODEL_6ecbff5f30624490bd232e9778f6fad3"
            ],
            "crs": {
              "name": "EPSG3857",
              "custom": false
            },
            "default_style": "IPY_MODEL_f56083574b364ba8bb88fa3e29ad692a",
            "double_click_zoom": true,
            "dragging": true,
            "dragging_style": "IPY_MODEL_9270acc3af1a46b992344ff223253a22",
            "east": 0,
            "fullscreen": false,
            "inertia": true,
            "inertia_deceleration": 3000,
            "inertia_max_speed": 1500,
            "interpolation": "bilinear",
            "keyboard": true,
            "keyboard_pan_offset": 80,
            "keyboard_zoom_offset": 1,
            "layers": [
              "IPY_MODEL_d4dfaa7077244c0387b72ec027d826f1",
              "IPY_MODEL_c788b5a4a1d64eb0910aa0bc81ab39e2"
            ],
            "layout": "IPY_MODEL_65b3cc50498b4b49aca0430a12c9f5b7",
            "left": 9007199254740991,
            "max_zoom": 24,
            "min_zoom": null,
            "modisdate": "2025-01-24",
            "north": 0,
            "options": [
              "bounce_at_zoom_limits",
              "box_zoom",
              "center",
              "close_popup_on_click",
              "double_click_zoom",
              "dragging",
              "fullscreen",
              "inertia",
              "inertia_deceleration",
              "inertia_max_speed",
              "interpolation",
              "keyboard",
              "keyboard_pan_offset",
              "keyboard_zoom_offset",
              "max_zoom",
              "min_zoom",
              "prefer_canvas",
              "scroll_wheel_zoom",
              "tap",
              "tap_tolerance",
              "touch_zoom",
              "world_copy_jump",
              "zoom",
              "zoom_animation_threshold",
              "zoom_delta",
              "zoom_snap"
            ],
            "panes": {},
            "prefer_canvas": false,
            "right": 0,
            "scroll_wheel_zoom": true,
            "south": 0,
            "style": "IPY_MODEL_3c5f259b47164256988cd7f9dfa311f2",
            "tap": true,
            "tap_tolerance": 15,
            "top": 9007199254740991,
            "touch_zoom": true,
            "west": 0,
            "window_url": "",
            "world_copy_jump": false,
            "zoom": 2,
            "zoom_animation_threshold": 4,
            "zoom_delta": 1,
            "zoom_snap": 1
          }
        },
        "6a94424f27254f439cfcaa8c680209dd": {
          "model_module": "@jupyter-widgets/base",
          "model_name": "LayoutModel",
          "model_module_version": "1.2.0",
          "state": {
            "_model_module": "@jupyter-widgets/base",
            "_model_module_version": "1.2.0",
            "_model_name": "LayoutModel",
            "_view_count": null,
            "_view_module": "@jupyter-widgets/base",
            "_view_module_version": "1.2.0",
            "_view_name": "LayoutView",
            "align_content": null,
            "align_items": null,
            "align_self": null,
            "border": null,
            "bottom": null,
            "display": null,
            "flex": null,
            "flex_flow": null,
            "grid_area": null,
            "grid_auto_columns": null,
            "grid_auto_flow": null,
            "grid_auto_rows": null,
            "grid_column": null,
            "grid_gap": null,
            "grid_row": null,
            "grid_template_areas": null,
            "grid_template_columns": null,
            "grid_template_rows": null,
            "height": "18px",
            "justify_content": null,
            "justify_items": null,
            "left": null,
            "margin": null,
            "max_height": null,
            "max_width": null,
            "min_height": null,
            "min_width": null,
            "object_fit": null,
            "object_position": null,
            "order": null,
            "overflow": null,
            "overflow_x": null,
            "overflow_y": null,
            "padding": null,
            "right": null,
            "top": null,
            "visibility": null,
            "width": "25ex"
          }
        },
        "2898d5e527214379b77193b193c63167": {
          "model_module": "@jupyter-widgets/controls",
          "model_name": "DescriptionStyleModel",
          "model_module_version": "1.5.0",
          "state": {
            "_model_module": "@jupyter-widgets/controls",
            "_model_module_version": "1.5.0",
            "_model_name": "DescriptionStyleModel",
            "_view_count": null,
            "_view_module": "@jupyter-widgets/base",
            "_view_module_version": "1.2.0",
            "_view_name": "StyleView",
            "description_width": ""
          }
        },
        "b634a5fa58dd4f24812fb7e7e49c4950": {
          "model_module": "@jupyter-widgets/base",
          "model_name": "LayoutModel",
          "model_module_version": "1.2.0",
          "state": {
            "_model_module": "@jupyter-widgets/base",
            "_model_module_version": "1.2.0",
            "_model_name": "LayoutModel",
            "_view_count": null,
            "_view_module": "@jupyter-widgets/base",
            "_view_module_version": "1.2.0",
            "_view_name": "LayoutView",
            "align_content": null,
            "align_items": null,
            "align_self": null,
            "border": null,
            "bottom": null,
            "display": null,
            "flex": null,
            "flex_flow": null,
            "grid_area": null,
            "grid_auto_columns": null,
            "grid_auto_flow": null,
            "grid_auto_rows": null,
            "grid_column": null,
            "grid_gap": null,
            "grid_row": null,
            "grid_template_areas": null,
            "grid_template_columns": null,
            "grid_template_rows": null,
            "height": "18px",
            "justify_content": null,
            "justify_items": null,
            "left": null,
            "margin": null,
            "max_height": null,
            "max_width": null,
            "min_height": null,
            "min_width": null,
            "object_fit": null,
            "object_position": null,
            "order": null,
            "overflow": null,
            "overflow_x": null,
            "overflow_y": null,
            "padding": null,
            "right": null,
            "top": null,
            "visibility": null,
            "width": "25ex"
          }
        },
        "0edb3586b7054831b02b66449e1d727b": {
          "model_module": "@jupyter-widgets/controls",
          "model_name": "DescriptionStyleModel",
          "model_module_version": "1.5.0",
          "state": {
            "_model_module": "@jupyter-widgets/controls",
            "_model_module_version": "1.5.0",
            "_model_name": "DescriptionStyleModel",
            "_view_count": null,
            "_view_module": "@jupyter-widgets/base",
            "_view_module_version": "1.2.0",
            "_view_name": "StyleView",
            "description_width": ""
          }
        },
        "ddb7e170f9654007a26364a93022bad9": {
          "model_module": "@jupyter-widgets/base",
          "model_name": "LayoutModel",
          "model_module_version": "1.2.0",
          "state": {
            "_model_module": "@jupyter-widgets/base",
            "_model_module_version": "1.2.0",
            "_model_name": "LayoutModel",
            "_view_count": null,
            "_view_module": "@jupyter-widgets/base",
            "_view_module_version": "1.2.0",
            "_view_name": "LayoutView",
            "align_content": null,
            "align_items": null,
            "align_self": null,
            "border": null,
            "bottom": null,
            "display": null,
            "flex": null,
            "flex_flow": null,
            "grid_area": null,
            "grid_auto_columns": null,
            "grid_auto_flow": null,
            "grid_auto_rows": null,
            "grid_column": null,
            "grid_gap": null,
            "grid_row": null,
            "grid_template_areas": null,
            "grid_template_columns": null,
            "grid_template_rows": null,
            "height": "18px",
            "justify_content": null,
            "justify_items": null,
            "left": null,
            "margin": null,
            "max_height": null,
            "max_width": null,
            "min_height": null,
            "min_width": null,
            "object_fit": null,
            "object_position": null,
            "order": null,
            "overflow": null,
            "overflow_x": null,
            "overflow_y": null,
            "padding": null,
            "right": null,
            "top": null,
            "visibility": null,
            "width": "25ex"
          }
        },
        "6f7f9bc4df98486b9b05ca88b5a4352e": {
          "model_module": "@jupyter-widgets/controls",
          "model_name": "DescriptionStyleModel",
          "model_module_version": "1.5.0",
          "state": {
            "_model_module": "@jupyter-widgets/controls",
            "_model_module_version": "1.5.0",
            "_model_name": "DescriptionStyleModel",
            "_view_count": null,
            "_view_module": "@jupyter-widgets/base",
            "_view_module_version": "1.2.0",
            "_view_name": "StyleView",
            "description_width": ""
          }
        },
        "676019f922d1489289bccb5fa1dce6ae": {
          "model_module": "@jupyter-widgets/base",
          "model_name": "LayoutModel",
          "model_module_version": "1.2.0",
          "state": {
            "_model_module": "@jupyter-widgets/base",
            "_model_module_version": "1.2.0",
            "_model_name": "LayoutModel",
            "_view_count": null,
            "_view_module": "@jupyter-widgets/base",
            "_view_module_version": "1.2.0",
            "_view_name": "LayoutView",
            "align_content": null,
            "align_items": null,
            "align_self": null,
            "border": null,
            "bottom": null,
            "display": null,
            "flex": null,
            "flex_flow": null,
            "grid_area": null,
            "grid_auto_columns": null,
            "grid_auto_flow": null,
            "grid_auto_rows": null,
            "grid_column": null,
            "grid_gap": null,
            "grid_row": null,
            "grid_template_areas": null,
            "grid_template_columns": null,
            "grid_template_rows": null,
            "height": "18px",
            "justify_content": null,
            "justify_items": null,
            "left": null,
            "margin": null,
            "max_height": null,
            "max_width": null,
            "min_height": null,
            "min_width": null,
            "object_fit": null,
            "object_position": null,
            "order": null,
            "overflow": null,
            "overflow_x": null,
            "overflow_y": null,
            "padding": null,
            "right": null,
            "top": null,
            "visibility": null,
            "width": "25ex"
          }
        },
        "a8b7e7c945f24821bcc9af6681afa593": {
          "model_module": "@jupyter-widgets/controls",
          "model_name": "DescriptionStyleModel",
          "model_module_version": "1.5.0",
          "state": {
            "_model_module": "@jupyter-widgets/controls",
            "_model_module_version": "1.5.0",
            "_model_name": "DescriptionStyleModel",
            "_view_count": null,
            "_view_module": "@jupyter-widgets/base",
            "_view_module_version": "1.2.0",
            "_view_name": "StyleView",
            "description_width": ""
          }
        },
        "74b711cba5ce4749bb43333481117c1a": {
          "model_module": "@jupyter-widgets/controls",
          "model_name": "CheckboxModel",
          "model_module_version": "1.5.0",
          "state": {
            "_dom_classes": [],
            "_model_module": "@jupyter-widgets/controls",
            "_model_module_version": "1.5.0",
            "_model_name": "CheckboxModel",
            "_view_count": null,
            "_view_module": "@jupyter-widgets/controls",
            "_view_module_version": "1.5.0",
            "_view_name": "CheckboxView",
            "description": "OpenStreetMap.Mapnik",
            "description_tooltip": null,
            "disabled": false,
            "indent": false,
            "layout": "IPY_MODEL_1c7e735e6d0a4fecaec7c2beafd03727",
            "style": "IPY_MODEL_12b5c6b7a92443a984ef8554a750fd8f",
            "value": true
          }
        },
        "7950a3f36e3847faa0fbbcb5c3845318": {
          "model_module": "jupyter-leaflet",
          "model_name": "LeafletTileLayerModel",
          "model_module_version": "^0.19",
          "state": {
            "_model_module": "jupyter-leaflet",
            "_model_module_version": "^0.19",
            "_model_name": "LeafletTileLayerModel",
            "_view_count": null,
            "_view_module": "jupyter-leaflet",
            "_view_module_version": "^0.19",
            "_view_name": "LeafletTileLayerView",
            "attribution": "&copy; <a href=\"https://www.openstreetmap.org/copyright\">OpenStreetMap</a> contributors",
            "base": true,
            "bottom": true,
            "bounds": null,
            "detect_retina": false,
            "loading": false,
            "max_native_zoom": null,
            "max_zoom": 19,
            "min_native_zoom": null,
            "min_zoom": 1,
            "name": "OpenStreetMap",
            "no_wrap": false,
            "opacity": 1,
            "options": [
              "attribution",
              "bounds",
              "detect_retina",
              "max_native_zoom",
              "max_zoom",
              "min_native_zoom",
              "min_zoom",
              "no_wrap",
              "tile_size",
              "tms",
              "zoom_offset"
            ],
            "pane": "",
            "popup": null,
            "popup_max_height": null,
            "popup_max_width": 300,
            "popup_min_width": 50,
            "show_loading": false,
            "subitems": [],
            "tile_size": 256,
            "tms": false,
            "url": "https://tile.openstreetmap.org/{z}/{x}/{y}.png",
            "visible": true,
            "zoom_offset": 0
          }
        },
        "1c7e735e6d0a4fecaec7c2beafd03727": {
          "model_module": "@jupyter-widgets/base",
          "model_name": "LayoutModel",
          "model_module_version": "1.2.0",
          "state": {
            "_model_module": "@jupyter-widgets/base",
            "_model_module_version": "1.2.0",
            "_model_name": "LayoutModel",
            "_view_count": null,
            "_view_module": "@jupyter-widgets/base",
            "_view_module_version": "1.2.0",
            "_view_name": "LayoutView",
            "align_content": null,
            "align_items": null,
            "align_self": null,
            "border": null,
            "bottom": null,
            "display": null,
            "flex": null,
            "flex_flow": null,
            "grid_area": null,
            "grid_auto_columns": null,
            "grid_auto_flow": null,
            "grid_auto_rows": null,
            "grid_column": null,
            "grid_gap": null,
            "grid_row": null,
            "grid_template_areas": null,
            "grid_template_columns": null,
            "grid_template_rows": null,
            "height": "18px",
            "justify_content": null,
            "justify_items": null,
            "left": null,
            "margin": null,
            "max_height": null,
            "max_width": null,
            "min_height": null,
            "min_width": null,
            "object_fit": null,
            "object_position": null,
            "order": null,
            "overflow": null,
            "overflow_x": null,
            "overflow_y": null,
            "padding": null,
            "right": null,
            "top": null,
            "visibility": null,
            "width": "25ex"
          }
        },
        "12b5c6b7a92443a984ef8554a750fd8f": {
          "model_module": "@jupyter-widgets/controls",
          "model_name": "DescriptionStyleModel",
          "model_module_version": "1.5.0",
          "state": {
            "_model_module": "@jupyter-widgets/controls",
            "_model_module_version": "1.5.0",
            "_model_name": "DescriptionStyleModel",
            "_view_count": null,
            "_view_module": "@jupyter-widgets/base",
            "_view_module_version": "1.2.0",
            "_view_name": "StyleView",
            "description_width": ""
          }
        },
        "1fdf260bde994ded917ca592ec26a18a": {
          "model_module": "@jupyter-widgets/controls",
          "model_name": "CheckboxModel",
          "model_module_version": "1.5.0",
          "state": {
            "_dom_classes": [],
            "_model_module": "@jupyter-widgets/controls",
            "_model_module_version": "1.5.0",
            "_model_name": "CheckboxModel",
            "_view_count": null,
            "_view_module": "@jupyter-widgets/controls",
            "_view_module_version": "1.5.0",
            "_view_name": "CheckboxView",
            "description": "OpenStreetMap.Mapnik",
            "description_tooltip": null,
            "disabled": false,
            "indent": false,
            "layout": "IPY_MODEL_001ddede09e54d5aa204d42276d53814",
            "style": "IPY_MODEL_cffe3a6810564ac8a60683e3c1b7a329",
            "value": true
          }
        },
        "001ddede09e54d5aa204d42276d53814": {
          "model_module": "@jupyter-widgets/base",
          "model_name": "LayoutModel",
          "model_module_version": "1.2.0",
          "state": {
            "_model_module": "@jupyter-widgets/base",
            "_model_module_version": "1.2.0",
            "_model_name": "LayoutModel",
            "_view_count": null,
            "_view_module": "@jupyter-widgets/base",
            "_view_module_version": "1.2.0",
            "_view_name": "LayoutView",
            "align_content": null,
            "align_items": null,
            "align_self": null,
            "border": null,
            "bottom": null,
            "display": null,
            "flex": null,
            "flex_flow": null,
            "grid_area": null,
            "grid_auto_columns": null,
            "grid_auto_flow": null,
            "grid_auto_rows": null,
            "grid_column": null,
            "grid_gap": null,
            "grid_row": null,
            "grid_template_areas": null,
            "grid_template_columns": null,
            "grid_template_rows": null,
            "height": "18px",
            "justify_content": null,
            "justify_items": null,
            "left": null,
            "margin": null,
            "max_height": null,
            "max_width": null,
            "min_height": null,
            "min_width": null,
            "object_fit": null,
            "object_position": null,
            "order": null,
            "overflow": null,
            "overflow_x": null,
            "overflow_y": null,
            "padding": null,
            "right": null,
            "top": null,
            "visibility": null,
            "width": "25ex"
          }
        },
        "cffe3a6810564ac8a60683e3c1b7a329": {
          "model_module": "@jupyter-widgets/controls",
          "model_name": "DescriptionStyleModel",
          "model_module_version": "1.5.0",
          "state": {
            "_model_module": "@jupyter-widgets/controls",
            "_model_module_version": "1.5.0",
            "_model_name": "DescriptionStyleModel",
            "_view_count": null,
            "_view_module": "@jupyter-widgets/base",
            "_view_module_version": "1.2.0",
            "_view_name": "StyleView",
            "description_width": ""
          }
        },
        "b9b4a26311c64e908c03c485baf5d681": {
          "model_module": "@jupyter-widgets/controls",
          "model_name": "CheckboxModel",
          "model_module_version": "1.5.0",
          "state": {
            "_dom_classes": [],
            "_model_module": "@jupyter-widgets/controls",
            "_model_module_version": "1.5.0",
            "_model_name": "CheckboxModel",
            "_view_count": null,
            "_view_module": "@jupyter-widgets/controls",
            "_view_module_version": "1.5.0",
            "_view_name": "CheckboxView",
            "description": "OpenStreetMap.Mapnik",
            "description_tooltip": null,
            "disabled": false,
            "indent": false,
            "layout": "IPY_MODEL_bcb00bfd735d4d16b0cf36c1c6aa84ee",
            "style": "IPY_MODEL_40786258a5c349b8a7cbdf25b2b7bf8a",
            "value": true
          }
        },
        "bcb00bfd735d4d16b0cf36c1c6aa84ee": {
          "model_module": "@jupyter-widgets/base",
          "model_name": "LayoutModel",
          "model_module_version": "1.2.0",
          "state": {
            "_model_module": "@jupyter-widgets/base",
            "_model_module_version": "1.2.0",
            "_model_name": "LayoutModel",
            "_view_count": null,
            "_view_module": "@jupyter-widgets/base",
            "_view_module_version": "1.2.0",
            "_view_name": "LayoutView",
            "align_content": null,
            "align_items": null,
            "align_self": null,
            "border": null,
            "bottom": null,
            "display": null,
            "flex": null,
            "flex_flow": null,
            "grid_area": null,
            "grid_auto_columns": null,
            "grid_auto_flow": null,
            "grid_auto_rows": null,
            "grid_column": null,
            "grid_gap": null,
            "grid_row": null,
            "grid_template_areas": null,
            "grid_template_columns": null,
            "grid_template_rows": null,
            "height": "18px",
            "justify_content": null,
            "justify_items": null,
            "left": null,
            "margin": null,
            "max_height": null,
            "max_width": null,
            "min_height": null,
            "min_width": null,
            "object_fit": null,
            "object_position": null,
            "order": null,
            "overflow": null,
            "overflow_x": null,
            "overflow_y": null,
            "padding": null,
            "right": null,
            "top": null,
            "visibility": null,
            "width": "25ex"
          }
        },
        "40786258a5c349b8a7cbdf25b2b7bf8a": {
          "model_module": "@jupyter-widgets/controls",
          "model_name": "DescriptionStyleModel",
          "model_module_version": "1.5.0",
          "state": {
            "_model_module": "@jupyter-widgets/controls",
            "_model_module_version": "1.5.0",
            "_model_name": "DescriptionStyleModel",
            "_view_count": null,
            "_view_module": "@jupyter-widgets/base",
            "_view_module_version": "1.2.0",
            "_view_name": "StyleView",
            "description_width": ""
          }
        },
        "8f1cd0767eec4850911f67e661d7a155": {
          "model_module": "@jupyter-widgets/controls",
          "model_name": "CheckboxModel",
          "model_module_version": "1.5.0",
          "state": {
            "_dom_classes": [],
            "_model_module": "@jupyter-widgets/controls",
            "_model_module_version": "1.5.0",
            "_model_name": "CheckboxModel",
            "_view_count": null,
            "_view_module": "@jupyter-widgets/controls",
            "_view_module_version": "1.5.0",
            "_view_name": "CheckboxView",
            "description": "OpenStreetMap",
            "description_tooltip": null,
            "disabled": false,
            "indent": false,
            "layout": "IPY_MODEL_a36e7d3e44264387be2f07432a9bf720",
            "style": "IPY_MODEL_0eef146a98e1415b978cf98d6b8e8b99",
            "value": true
          }
        },
        "a36e7d3e44264387be2f07432a9bf720": {
          "model_module": "@jupyter-widgets/base",
          "model_name": "LayoutModel",
          "model_module_version": "1.2.0",
          "state": {
            "_model_module": "@jupyter-widgets/base",
            "_model_module_version": "1.2.0",
            "_model_name": "LayoutModel",
            "_view_count": null,
            "_view_module": "@jupyter-widgets/base",
            "_view_module_version": "1.2.0",
            "_view_name": "LayoutView",
            "align_content": null,
            "align_items": null,
            "align_self": null,
            "border": null,
            "bottom": null,
            "display": null,
            "flex": null,
            "flex_flow": null,
            "grid_area": null,
            "grid_auto_columns": null,
            "grid_auto_flow": null,
            "grid_auto_rows": null,
            "grid_column": null,
            "grid_gap": null,
            "grid_row": null,
            "grid_template_areas": null,
            "grid_template_columns": null,
            "grid_template_rows": null,
            "height": "18px",
            "justify_content": null,
            "justify_items": null,
            "left": null,
            "margin": null,
            "max_height": null,
            "max_width": null,
            "min_height": null,
            "min_width": null,
            "object_fit": null,
            "object_position": null,
            "order": null,
            "overflow": null,
            "overflow_x": null,
            "overflow_y": null,
            "padding": null,
            "right": null,
            "top": null,
            "visibility": null,
            "width": "25ex"
          }
        },
        "0eef146a98e1415b978cf98d6b8e8b99": {
          "model_module": "@jupyter-widgets/controls",
          "model_name": "DescriptionStyleModel",
          "model_module_version": "1.5.0",
          "state": {
            "_model_module": "@jupyter-widgets/controls",
            "_model_module_version": "1.5.0",
            "_model_name": "DescriptionStyleModel",
            "_view_count": null,
            "_view_module": "@jupyter-widgets/base",
            "_view_module_version": "1.2.0",
            "_view_name": "StyleView",
            "description_width": ""
          }
        },
        "32da9f87a30742be99d25999bd742015": {
          "model_module": "@jupyter-widgets/controls",
          "model_name": "CheckboxModel",
          "model_module_version": "1.5.0",
          "state": {
            "_dom_classes": [],
            "_model_module": "@jupyter-widgets/controls",
            "_model_module_version": "1.5.0",
            "_model_name": "CheckboxModel",
            "_view_count": null,
            "_view_module": "@jupyter-widgets/controls",
            "_view_module_version": "1.5.0",
            "_view_name": "CheckboxView",
            "description": "OpenStreetMap",
            "description_tooltip": null,
            "disabled": false,
            "indent": false,
            "layout": "IPY_MODEL_c23955805ca24f97a9a94db887ed63de",
            "style": "IPY_MODEL_8a8991909d45466cb5f9af83c14b49fe",
            "value": true
          }
        },
        "2bee2f9e0f1c4d6187990ce30c1f1188": {
          "model_module": "jupyter-leaflet",
          "model_name": "LeafletMapModel",
          "model_module_version": "^0.19",
          "state": {
            "_dom_classes": [],
            "_model_module": "jupyter-leaflet",
            "_model_module_version": "^0.19",
            "_model_name": "LeafletMapModel",
            "_view_count": null,
            "_view_module": "jupyter-leaflet",
            "_view_module_version": "^0.19",
            "_view_name": "LeafletMapView",
            "bottom": 0,
            "bounce_at_zoom_limits": true,
            "box_zoom": true,
            "center": [
              20,
              0
            ],
            "close_popup_on_click": true,
            "controls": [
              "IPY_MODEL_7916d1e7edb14215903fff9c68bf57b4",
              "IPY_MODEL_a9bea017ded04a8980146a0568568a01",
              "IPY_MODEL_740448b4dc3049fb9cadafe51d5d9fa8",
              "IPY_MODEL_5531f66c40684f8c9ebda66d027f5962",
              "IPY_MODEL_8174f5df86c44de9ba91be72d49f3285",
              "IPY_MODEL_dd5c439fbb2a4d94990bbf288fc0be2c"
            ],
            "crs": {
              "name": "EPSG3857",
              "custom": false
            },
            "default_style": "IPY_MODEL_6bd2294aa06f4dc4a7ffce7316516d6c",
            "double_click_zoom": true,
            "dragging": true,
            "dragging_style": "IPY_MODEL_492b6048c6864ab496a142aae12874a5",
            "east": 0,
            "fullscreen": false,
            "inertia": true,
            "inertia_deceleration": 3000,
            "inertia_max_speed": 1500,
            "interpolation": "bilinear",
            "keyboard": true,
            "keyboard_pan_offset": 80,
            "keyboard_zoom_offset": 1,
            "layers": [
              "IPY_MODEL_7950a3f36e3847faa0fbbcb5c3845318",
              "IPY_MODEL_5ae45cc8520a4afd863472272c1b0122"
            ],
            "layout": "IPY_MODEL_e92b58e6b21b4f039c74d730cc8cdd84",
            "left": 9007199254740991,
            "max_zoom": 24,
            "min_zoom": null,
            "modisdate": "2025-01-24",
            "north": 0,
            "options": [
              "bounce_at_zoom_limits",
              "box_zoom",
              "center",
              "close_popup_on_click",
              "double_click_zoom",
              "dragging",
              "fullscreen",
              "inertia",
              "inertia_deceleration",
              "inertia_max_speed",
              "interpolation",
              "keyboard",
              "keyboard_pan_offset",
              "keyboard_zoom_offset",
              "max_zoom",
              "min_zoom",
              "prefer_canvas",
              "scroll_wheel_zoom",
              "tap",
              "tap_tolerance",
              "touch_zoom",
              "world_copy_jump",
              "zoom",
              "zoom_animation_threshold",
              "zoom_delta",
              "zoom_snap"
            ],
            "panes": {},
            "prefer_canvas": false,
            "right": 0,
            "scroll_wheel_zoom": true,
            "south": 0,
            "style": "IPY_MODEL_5dc300b1f07641b88bef411bb471728d",
            "tap": true,
            "tap_tolerance": 15,
            "top": 9007199254740991,
            "touch_zoom": true,
            "west": 0,
            "window_url": "",
            "world_copy_jump": false,
            "zoom": 2,
            "zoom_animation_threshold": 4,
            "zoom_delta": 1,
            "zoom_snap": 1
          }
        },
        "c23955805ca24f97a9a94db887ed63de": {
          "model_module": "@jupyter-widgets/base",
          "model_name": "LayoutModel",
          "model_module_version": "1.2.0",
          "state": {
            "_model_module": "@jupyter-widgets/base",
            "_model_module_version": "1.2.0",
            "_model_name": "LayoutModel",
            "_view_count": null,
            "_view_module": "@jupyter-widgets/base",
            "_view_module_version": "1.2.0",
            "_view_name": "LayoutView",
            "align_content": null,
            "align_items": null,
            "align_self": null,
            "border": null,
            "bottom": null,
            "display": null,
            "flex": null,
            "flex_flow": null,
            "grid_area": null,
            "grid_auto_columns": null,
            "grid_auto_flow": null,
            "grid_auto_rows": null,
            "grid_column": null,
            "grid_gap": null,
            "grid_row": null,
            "grid_template_areas": null,
            "grid_template_columns": null,
            "grid_template_rows": null,
            "height": "18px",
            "justify_content": null,
            "justify_items": null,
            "left": null,
            "margin": null,
            "max_height": null,
            "max_width": null,
            "min_height": null,
            "min_width": null,
            "object_fit": null,
            "object_position": null,
            "order": null,
            "overflow": null,
            "overflow_x": null,
            "overflow_y": null,
            "padding": null,
            "right": null,
            "top": null,
            "visibility": null,
            "width": "25ex"
          }
        },
        "8a8991909d45466cb5f9af83c14b49fe": {
          "model_module": "@jupyter-widgets/controls",
          "model_name": "DescriptionStyleModel",
          "model_module_version": "1.5.0",
          "state": {
            "_model_module": "@jupyter-widgets/controls",
            "_model_module_version": "1.5.0",
            "_model_name": "DescriptionStyleModel",
            "_view_count": null,
            "_view_module": "@jupyter-widgets/base",
            "_view_module_version": "1.2.0",
            "_view_name": "StyleView",
            "description_width": ""
          }
        },
        "f8f2ea23681c487f9a112a24cd3a88bb": {
          "model_module": "@jupyter-widgets/controls",
          "model_name": "CheckboxModel",
          "model_module_version": "1.5.0",
          "state": {
            "_dom_classes": [],
            "_model_module": "@jupyter-widgets/controls",
            "_model_module_version": "1.5.0",
            "_model_name": "CheckboxModel",
            "_view_count": null,
            "_view_module": "@jupyter-widgets/controls",
            "_view_module_version": "1.5.0",
            "_view_name": "CheckboxView",
            "description": "OpenStreetMap.Mapnik",
            "description_tooltip": null,
            "disabled": false,
            "indent": false,
            "layout": "IPY_MODEL_428471e64c9f4dcfaf2e2d35da84c288",
            "style": "IPY_MODEL_1ce229d6b79e42dcad2b9d581dbd9824",
            "value": true
          }
        },
        "5b491cddb086434ba80525bf7c6d10da": {
          "model_module": "jupyter-leaflet",
          "model_name": "LeafletTileLayerModel",
          "model_module_version": "^0.19",
          "state": {
            "_model_module": "jupyter-leaflet",
            "_model_module_version": "^0.19",
            "_model_name": "LeafletTileLayerModel",
            "_view_count": null,
            "_view_module": "jupyter-leaflet",
            "_view_module_version": "^0.19",
            "_view_name": "LeafletTileLayerView",
            "attribution": "&copy; <a href=\"https://www.openstreetmap.org/copyright\">OpenStreetMap</a> contributors",
            "base": true,
            "bottom": true,
            "bounds": null,
            "detect_retina": false,
            "loading": false,
            "max_native_zoom": null,
            "max_zoom": 19,
            "min_native_zoom": null,
            "min_zoom": 1,
            "name": "OpenStreetMap",
            "no_wrap": false,
            "opacity": 1,
            "options": [
              "attribution",
              "bounds",
              "detect_retina",
              "max_native_zoom",
              "max_zoom",
              "min_native_zoom",
              "min_zoom",
              "no_wrap",
              "tile_size",
              "tms",
              "zoom_offset"
            ],
            "pane": "",
            "popup": null,
            "popup_max_height": null,
            "popup_max_width": 300,
            "popup_min_width": 50,
            "show_loading": false,
            "subitems": [],
            "tile_size": 256,
            "tms": false,
            "url": "https://tile.openstreetmap.org/{z}/{x}/{y}.png",
            "visible": true,
            "zoom_offset": 0
          }
        },
        "428471e64c9f4dcfaf2e2d35da84c288": {
          "model_module": "@jupyter-widgets/base",
          "model_name": "LayoutModel",
          "model_module_version": "1.2.0",
          "state": {
            "_model_module": "@jupyter-widgets/base",
            "_model_module_version": "1.2.0",
            "_model_name": "LayoutModel",
            "_view_count": null,
            "_view_module": "@jupyter-widgets/base",
            "_view_module_version": "1.2.0",
            "_view_name": "LayoutView",
            "align_content": null,
            "align_items": null,
            "align_self": null,
            "border": null,
            "bottom": null,
            "display": null,
            "flex": null,
            "flex_flow": null,
            "grid_area": null,
            "grid_auto_columns": null,
            "grid_auto_flow": null,
            "grid_auto_rows": null,
            "grid_column": null,
            "grid_gap": null,
            "grid_row": null,
            "grid_template_areas": null,
            "grid_template_columns": null,
            "grid_template_rows": null,
            "height": "18px",
            "justify_content": null,
            "justify_items": null,
            "left": null,
            "margin": null,
            "max_height": null,
            "max_width": null,
            "min_height": null,
            "min_width": null,
            "object_fit": null,
            "object_position": null,
            "order": null,
            "overflow": null,
            "overflow_x": null,
            "overflow_y": null,
            "padding": null,
            "right": null,
            "top": null,
            "visibility": null,
            "width": "25ex"
          }
        },
        "1ce229d6b79e42dcad2b9d581dbd9824": {
          "model_module": "@jupyter-widgets/controls",
          "model_name": "DescriptionStyleModel",
          "model_module_version": "1.5.0",
          "state": {
            "_model_module": "@jupyter-widgets/controls",
            "_model_module_version": "1.5.0",
            "_model_name": "DescriptionStyleModel",
            "_view_count": null,
            "_view_module": "@jupyter-widgets/base",
            "_view_module_version": "1.2.0",
            "_view_name": "StyleView",
            "description_width": ""
          }
        },
        "e67795df620e471e886c5a65301357d5": {
          "model_module": "@jupyter-widgets/controls",
          "model_name": "CheckboxModel",
          "model_module_version": "1.5.0",
          "state": {
            "_dom_classes": [],
            "_model_module": "@jupyter-widgets/controls",
            "_model_module_version": "1.5.0",
            "_model_name": "CheckboxModel",
            "_view_count": null,
            "_view_module": "@jupyter-widgets/controls",
            "_view_module_version": "1.5.0",
            "_view_name": "CheckboxView",
            "description": "OpenStreetMap.Mapnik",
            "description_tooltip": null,
            "disabled": false,
            "indent": false,
            "layout": "IPY_MODEL_33c46e023a8e47f4a84b5e7a155b7dcb",
            "style": "IPY_MODEL_eae2780b2dc64c9fa08794f7e7eb4d15",
            "value": true
          }
        },
        "1b0bf89770b545b396d181a4b5f5f3e7": {
          "model_module": "@jupyter-widgets/controls",
          "model_name": "CheckboxModel",
          "model_module_version": "1.5.0",
          "state": {
            "_dom_classes": [],
            "_model_module": "@jupyter-widgets/controls",
            "_model_module_version": "1.5.0",
            "_model_name": "CheckboxModel",
            "_view_count": null,
            "_view_module": "@jupyter-widgets/controls",
            "_view_module_version": "1.5.0",
            "_view_name": "CheckboxView",
            "description": "OpenStreetMap.Mapnik",
            "description_tooltip": null,
            "disabled": false,
            "indent": false,
            "layout": "IPY_MODEL_db8fa7fb3d144562921846598683f626",
            "style": "IPY_MODEL_297636246d8140dfbd44098b551c6ded",
            "value": true
          }
        },
        "97b7807ffc974e0f8af1809698a2357a": {
          "model_module": "@jupyter-widgets/controls",
          "model_name": "CheckboxModel",
          "model_module_version": "1.5.0",
          "state": {
            "_dom_classes": [],
            "_model_module": "@jupyter-widgets/controls",
            "_model_module_version": "1.5.0",
            "_model_name": "CheckboxModel",
            "_view_count": null,
            "_view_module": "@jupyter-widgets/controls",
            "_view_module_version": "1.5.0",
            "_view_name": "CheckboxView",
            "description": "OpenStreetMap",
            "description_tooltip": null,
            "disabled": false,
            "indent": false,
            "layout": "IPY_MODEL_4b1444a2286d49f5897e428557e11c30",
            "style": "IPY_MODEL_b0544bfde651463e9eeaa9ca527aa5ee",
            "value": true
          }
        },
        "33c46e023a8e47f4a84b5e7a155b7dcb": {
          "model_module": "@jupyter-widgets/base",
          "model_name": "LayoutModel",
          "model_module_version": "1.2.0",
          "state": {
            "_model_module": "@jupyter-widgets/base",
            "_model_module_version": "1.2.0",
            "_model_name": "LayoutModel",
            "_view_count": null,
            "_view_module": "@jupyter-widgets/base",
            "_view_module_version": "1.2.0",
            "_view_name": "LayoutView",
            "align_content": null,
            "align_items": null,
            "align_self": null,
            "border": null,
            "bottom": null,
            "display": null,
            "flex": null,
            "flex_flow": null,
            "grid_area": null,
            "grid_auto_columns": null,
            "grid_auto_flow": null,
            "grid_auto_rows": null,
            "grid_column": null,
            "grid_gap": null,
            "grid_row": null,
            "grid_template_areas": null,
            "grid_template_columns": null,
            "grid_template_rows": null,
            "height": "18px",
            "justify_content": null,
            "justify_items": null,
            "left": null,
            "margin": null,
            "max_height": null,
            "max_width": null,
            "min_height": null,
            "min_width": null,
            "object_fit": null,
            "object_position": null,
            "order": null,
            "overflow": null,
            "overflow_x": null,
            "overflow_y": null,
            "padding": null,
            "right": null,
            "top": null,
            "visibility": null,
            "width": "25ex"
          }
        },
        "eae2780b2dc64c9fa08794f7e7eb4d15": {
          "model_module": "@jupyter-widgets/controls",
          "model_name": "DescriptionStyleModel",
          "model_module_version": "1.5.0",
          "state": {
            "_model_module": "@jupyter-widgets/controls",
            "_model_module_version": "1.5.0",
            "_model_name": "DescriptionStyleModel",
            "_view_count": null,
            "_view_module": "@jupyter-widgets/base",
            "_view_module_version": "1.2.0",
            "_view_name": "StyleView",
            "description_width": ""
          }
        },
        "db8fa7fb3d144562921846598683f626": {
          "model_module": "@jupyter-widgets/base",
          "model_name": "LayoutModel",
          "model_module_version": "1.2.0",
          "state": {
            "_model_module": "@jupyter-widgets/base",
            "_model_module_version": "1.2.0",
            "_model_name": "LayoutModel",
            "_view_count": null,
            "_view_module": "@jupyter-widgets/base",
            "_view_module_version": "1.2.0",
            "_view_name": "LayoutView",
            "align_content": null,
            "align_items": null,
            "align_self": null,
            "border": null,
            "bottom": null,
            "display": null,
            "flex": null,
            "flex_flow": null,
            "grid_area": null,
            "grid_auto_columns": null,
            "grid_auto_flow": null,
            "grid_auto_rows": null,
            "grid_column": null,
            "grid_gap": null,
            "grid_row": null,
            "grid_template_areas": null,
            "grid_template_columns": null,
            "grid_template_rows": null,
            "height": "18px",
            "justify_content": null,
            "justify_items": null,
            "left": null,
            "margin": null,
            "max_height": null,
            "max_width": null,
            "min_height": null,
            "min_width": null,
            "object_fit": null,
            "object_position": null,
            "order": null,
            "overflow": null,
            "overflow_x": null,
            "overflow_y": null,
            "padding": null,
            "right": null,
            "top": null,
            "visibility": null,
            "width": "25ex"
          }
        },
        "297636246d8140dfbd44098b551c6ded": {
          "model_module": "@jupyter-widgets/controls",
          "model_name": "DescriptionStyleModel",
          "model_module_version": "1.5.0",
          "state": {
            "_model_module": "@jupyter-widgets/controls",
            "_model_module_version": "1.5.0",
            "_model_name": "DescriptionStyleModel",
            "_view_count": null,
            "_view_module": "@jupyter-widgets/base",
            "_view_module_version": "1.2.0",
            "_view_name": "StyleView",
            "description_width": ""
          }
        },
        "4b1444a2286d49f5897e428557e11c30": {
          "model_module": "@jupyter-widgets/base",
          "model_name": "LayoutModel",
          "model_module_version": "1.2.0",
          "state": {
            "_model_module": "@jupyter-widgets/base",
            "_model_module_version": "1.2.0",
            "_model_name": "LayoutModel",
            "_view_count": null,
            "_view_module": "@jupyter-widgets/base",
            "_view_module_version": "1.2.0",
            "_view_name": "LayoutView",
            "align_content": null,
            "align_items": null,
            "align_self": null,
            "border": null,
            "bottom": null,
            "display": null,
            "flex": null,
            "flex_flow": null,
            "grid_area": null,
            "grid_auto_columns": null,
            "grid_auto_flow": null,
            "grid_auto_rows": null,
            "grid_column": null,
            "grid_gap": null,
            "grid_row": null,
            "grid_template_areas": null,
            "grid_template_columns": null,
            "grid_template_rows": null,
            "height": "18px",
            "justify_content": null,
            "justify_items": null,
            "left": null,
            "margin": null,
            "max_height": null,
            "max_width": null,
            "min_height": null,
            "min_width": null,
            "object_fit": null,
            "object_position": null,
            "order": null,
            "overflow": null,
            "overflow_x": null,
            "overflow_y": null,
            "padding": null,
            "right": null,
            "top": null,
            "visibility": null,
            "width": "25ex"
          }
        },
        "b0544bfde651463e9eeaa9ca527aa5ee": {
          "model_module": "@jupyter-widgets/controls",
          "model_name": "DescriptionStyleModel",
          "model_module_version": "1.5.0",
          "state": {
            "_model_module": "@jupyter-widgets/controls",
            "_model_module_version": "1.5.0",
            "_model_name": "DescriptionStyleModel",
            "_view_count": null,
            "_view_module": "@jupyter-widgets/base",
            "_view_module_version": "1.2.0",
            "_view_name": "StyleView",
            "description_width": ""
          }
        },
        "140903c7beac428c8fe3ed77bf8d9dca": {
          "model_module": "@jupyter-widgets/controls",
          "model_name": "CheckboxModel",
          "model_module_version": "1.5.0",
          "state": {
            "_dom_classes": [],
            "_model_module": "@jupyter-widgets/controls",
            "_model_module_version": "1.5.0",
            "_model_name": "CheckboxModel",
            "_view_count": null,
            "_view_module": "@jupyter-widgets/controls",
            "_view_module_version": "1.5.0",
            "_view_name": "CheckboxView",
            "description": "OpenStreetMap",
            "description_tooltip": null,
            "disabled": false,
            "indent": false,
            "layout": "IPY_MODEL_a6197562360946af8ed3bfa546b36fde",
            "style": "IPY_MODEL_cc6749ff26cc4d7f9316f89d3f6b1e01",
            "value": true
          }
        },
        "a6197562360946af8ed3bfa546b36fde": {
          "model_module": "@jupyter-widgets/base",
          "model_name": "LayoutModel",
          "model_module_version": "1.2.0",
          "state": {
            "_model_module": "@jupyter-widgets/base",
            "_model_module_version": "1.2.0",
            "_model_name": "LayoutModel",
            "_view_count": null,
            "_view_module": "@jupyter-widgets/base",
            "_view_module_version": "1.2.0",
            "_view_name": "LayoutView",
            "align_content": null,
            "align_items": null,
            "align_self": null,
            "border": null,
            "bottom": null,
            "display": null,
            "flex": null,
            "flex_flow": null,
            "grid_area": null,
            "grid_auto_columns": null,
            "grid_auto_flow": null,
            "grid_auto_rows": null,
            "grid_column": null,
            "grid_gap": null,
            "grid_row": null,
            "grid_template_areas": null,
            "grid_template_columns": null,
            "grid_template_rows": null,
            "height": "18px",
            "justify_content": null,
            "justify_items": null,
            "left": null,
            "margin": null,
            "max_height": null,
            "max_width": null,
            "min_height": null,
            "min_width": null,
            "object_fit": null,
            "object_position": null,
            "order": null,
            "overflow": null,
            "overflow_x": null,
            "overflow_y": null,
            "padding": null,
            "right": null,
            "top": null,
            "visibility": null,
            "width": "25ex"
          }
        },
        "cc6749ff26cc4d7f9316f89d3f6b1e01": {
          "model_module": "@jupyter-widgets/controls",
          "model_name": "DescriptionStyleModel",
          "model_module_version": "1.5.0",
          "state": {
            "_model_module": "@jupyter-widgets/controls",
            "_model_module_version": "1.5.0",
            "_model_name": "DescriptionStyleModel",
            "_view_count": null,
            "_view_module": "@jupyter-widgets/base",
            "_view_module_version": "1.2.0",
            "_view_name": "StyleView",
            "description_width": ""
          }
        },
        "37c56211071b4af58c2fcd03805c12f4": {
          "model_module": "@jupyter-widgets/controls",
          "model_name": "CheckboxModel",
          "model_module_version": "1.5.0",
          "state": {
            "_dom_classes": [],
            "_model_module": "@jupyter-widgets/controls",
            "_model_module_version": "1.5.0",
            "_model_name": "CheckboxModel",
            "_view_count": null,
            "_view_module": "@jupyter-widgets/controls",
            "_view_module_version": "1.5.0",
            "_view_name": "CheckboxView",
            "description": "OpenStreetMap",
            "description_tooltip": null,
            "disabled": false,
            "indent": false,
            "layout": "IPY_MODEL_b59776ffaab34769ac7e853301dbef2d",
            "style": "IPY_MODEL_346cbbc1e7ec409381f7166c8389aab6",
            "value": true
          }
        },
        "6cd5dba8e1ea478cb9a8d2329e89c0a7": {
          "model_module": "@jupyter-widgets/controls",
          "model_name": "CheckboxModel",
          "model_module_version": "1.5.0",
          "state": {
            "_dom_classes": [],
            "_model_module": "@jupyter-widgets/controls",
            "_model_module_version": "1.5.0",
            "_model_name": "CheckboxModel",
            "_view_count": null,
            "_view_module": "@jupyter-widgets/controls",
            "_view_module_version": "1.5.0",
            "_view_name": "CheckboxView",
            "description": "WA Overture Buildings",
            "description_tooltip": null,
            "disabled": false,
            "indent": false,
            "layout": "IPY_MODEL_742d93a59fad4775bc8ba2db73182625",
            "style": "IPY_MODEL_96be7c821b8b4fd1ac9b831223a896d8",
            "value": true
          }
        },
        "af9a9167b9aa4f05bbfeb0d738ccbca5": {
          "model_module": "jupyter-leaflet",
          "model_name": "LeafletGeoJSONModel",
          "model_module_version": "^0.19",
          "state": {
            "_model_module": "jupyter-leaflet",
            "_model_module_version": "^0.19",
            "_model_name": "LeafletGeoJSONModel",
            "_view_count": null,
            "_view_module": "jupyter-leaflet",
            "_view_module_version": "^0.19",
            "_view_name": "LeafletGeoJSONView",
            "base": false,
            "bottom": false,
            "data": {
              "type": "FeatureCollection",
              "features": [
                {
                  "id": "0",
                  "type": "Feature",
                  "properties": {
                    "id": "08b12db703662fff0200b5c87d31a381",
                    "height": null,
                    "style": {
                      "color": "red",
                      "fillColor": "transparent",
                      "fillOpacity": 0.5,
                      "weight": 1
                    }
                  },
                  "geometry": {
                    "type": "Polygon",
                    "coordinates": [
                      [
                        [
                          -117.6011069,
                          47.6502018
                        ],
                        [
                          -117.6010868,
                          47.6502018
                        ],
                        [
                          -117.6010868,
                          47.650198
                        ],
                        [
                          -117.6010057,
                          47.650198
                        ],
                        [
                          -117.6010057,
                          47.6502059
                        ],
                        [
                          -117.6008754,
                          47.6502059
                        ],
                        [
                          -117.6008754,
                          47.6502754
                        ],
                        [
                          -117.6008575,
                          47.6502754
                        ],
                        [
                          -117.6008575,
                          47.6503233
                        ],
                        [
                          -117.600899,
                          47.6503233
                        ],
                        [
                          -117.600899,
                          47.6503459
                        ],
                        [
                          -117.6008575,
                          47.6503459
                        ],
                        [
                          -117.6008575,
                          47.6503929
                        ],
                        [
                          -117.6008755,
                          47.6503929
                        ],
                        [
                          -117.6008755,
                          47.6504932
                        ],
                        [
                          -117.6008588,
                          47.6504932
                        ],
                        [
                          -117.6008588,
                          47.6505406
                        ],
                        [
                          -117.6008997,
                          47.6505406
                        ],
                        [
                          -117.6008997,
                          47.6505632
                        ],
                        [
                          -117.6008581,
                          47.6505632
                        ],
                        [
                          -117.6008581,
                          47.6506106
                        ],
                        [
                          -117.6008755,
                          47.6506106
                        ],
                        [
                          -117.6008756,
                          47.650682
                        ],
                        [
                          -117.6010077,
                          47.650682
                        ],
                        [
                          -117.6010077,
                          47.6506879
                        ],
                        [
                          -117.6010875,
                          47.6506878
                        ],
                        [
                          -117.6010875,
                          47.6506819
                        ],
                        [
                          -117.6011071,
                          47.6506819
                        ],
                        [
                          -117.601107,
                          47.6505948
                        ],
                        [
                          -117.6011224,
                          47.6505948
                        ],
                        [
                          -117.6011223,
                          47.6505112
                        ],
                        [
                          -117.601107,
                          47.6505112
                        ],
                        [
                          -117.601107,
                          47.6503753
                        ],
                        [
                          -117.6011217,
                          47.6503753
                        ],
                        [
                          -117.6011217,
                          47.6502908
                        ],
                        [
                          -117.6011069,
                          47.6502908
                        ],
                        [
                          -117.6011069,
                          47.6502018
                        ]
                      ]
                    ]
                  },
                  "bbox": [
                    -117.6011224,
                    47.650198,
                    -117.6008575,
                    47.6506879
                  ]
                },
                {
                  "id": "1",
                  "type": "Feature",
                  "properties": {
                    "id": "08b12db703644fff0200487bc2795e9e",
                    "height": null,
                    "style": {
                      "color": "red",
                      "fillColor": "transparent",
                      "fillOpacity": 0.5,
                      "weight": 1
                    }
                  },
                  "geometry": {
                    "type": "Polygon",
                    "coordinates": [
                      [
                        [
                          -117.6008025,
                          47.6504245
                        ],
                        [
                          -117.6008024,
                          47.6502262
                        ],
                        [
                          -117.6007301,
                          47.6502262
                        ],
                        [
                          -117.6007301,
                          47.6504245
                        ],
                        [
                          -117.6008025,
                          47.6504245
                        ]
                      ]
                    ]
                  },
                  "bbox": [
                    -117.6008025,
                    47.6502262,
                    -117.6007301,
                    47.6504245
                  ]
                },
                {
                  "id": "2",
                  "type": "Feature",
                  "properties": {
                    "id": "08b12db703663fff0200a01822744942",
                    "height": null,
                    "style": {
                      "color": "red",
                      "fillColor": "transparent",
                      "fillOpacity": 0.5,
                      "weight": 1
                    }
                  },
                  "geometry": {
                    "type": "Polygon",
                    "coordinates": [
                      [
                        [
                          -117.6004867,
                          47.6504629
                        ],
                        [
                          -117.6004866,
                          47.6504136
                        ],
                        [
                          -117.6001929,
                          47.6504137
                        ],
                        [
                          -117.600193,
                          47.6504629
                        ],
                        [
                          -117.6004867,
                          47.6504629
                        ]
                      ]
                    ]
                  },
                  "bbox": [
                    -117.6004867,
                    47.6504136,
                    -117.6001929,
                    47.6504629
                  ]
                },
                {
                  "id": "3",
                  "type": "Feature",
                  "properties": {
                    "id": "08b12db703663fff0200bb2807796a98",
                    "height": null,
                    "style": {
                      "color": "red",
                      "fillColor": "transparent",
                      "fillOpacity": 0.5,
                      "weight": 1
                    }
                  },
                  "geometry": {
                    "type": "Polygon",
                    "coordinates": [
                      [
                        [
                          -117.6004818,
                          47.6502066
                        ],
                        [
                          -117.6003477,
                          47.6502066
                        ],
                        [
                          -117.6003477,
                          47.6501975
                        ],
                        [
                          -117.6002256,
                          47.6501976
                        ],
                        [
                          -117.6002256,
                          47.6502095
                        ],
                        [
                          -117.6000245,
                          47.6502095
                        ],
                        [
                          -117.6000245,
                          47.6501975
                        ],
                        [
                          -117.5999004,
                          47.6501976
                        ],
                        [
                          -117.5999004,
                          47.6502067
                        ],
                        [
                          -117.5997676,
                          47.6502067
                        ],
                        [
                          -117.5997676,
                          47.6502224
                        ],
                        [
                          -117.5997609,
                          47.6502224
                        ],
                        [
                          -117.599761,
                          47.6502739
                        ],
                        [
                          -117.5997677,
                          47.6502739
                        ],
                        [
                          -117.5997677,
                          47.6503647
                        ],
                        [
                          -117.5998756,
                          47.6503647
                        ],
                        [
                          -117.5998756,
                          47.6503768
                        ],
                        [
                          -117.5999467,
                          47.6503768
                        ],
                        [
                          -117.5999467,
                          47.6503471
                        ],
                        [
                          -117.5999789,
                          47.6503471
                        ],
                        [
                          -117.5999789,
                          47.650376
                        ],
                        [
                          -117.60005,
                          47.650376
                        ],
                        [
                          -117.60005,
                          47.6503646
                        ],
                        [
                          -117.6001975,
                          47.6503646
                        ],
                        [
                          -117.6001975,
                          47.650376
                        ],
                        [
                          -117.6002686,
                          47.650376
                        ],
                        [
                          -117.6002685,
                          47.6503471
                        ],
                        [
                          -117.6003007,
                          47.6503471
                        ],
                        [
                          -117.6003007,
                          47.650376
                        ],
                        [
                          -117.6003732,
                          47.650376
                        ],
                        [
                          -117.6003732,
                          47.6503646
                        ],
                        [
                          -117.6004791,
                          47.6503646
                        ],
                        [
                          -117.6004791,
                          47.6502748
                        ],
                        [
                          -117.6004868,
                          47.6502748
                        ],
                        [
                          -117.6004868,
                          47.6502201
                        ],
                        [
                          -117.6004818,
                          47.6502201
                        ],
                        [
                          -117.6004818,
                          47.6502066
                        ]
                      ]
                    ]
                  },
                  "bbox": [
                    -117.6004868,
                    47.6501975,
                    -117.5997609,
                    47.6503768
                  ]
                },
                {
                  "id": "4",
                  "type": "Feature",
                  "properties": {
                    "id": "08b12db703661fff0200a2316bd409a3",
                    "height": null,
                    "style": {
                      "color": "red",
                      "fillColor": "transparent",
                      "fillOpacity": 0.5,
                      "weight": 1
                    }
                  },
                  "geometry": {
                    "type": "Polygon",
                    "coordinates": [
                      [
                        [
                          -117.6001205,
                          47.6504624
                        ],
                        [
                          -117.6001205,
                          47.6504127
                        ],
                        [
                          -117.5998805,
                          47.6504128
                        ],
                        [
                          -117.5998805,
                          47.6504625
                        ],
                        [
                          -117.6001205,
                          47.6504624
                        ]
                      ]
                    ]
                  },
                  "bbox": [
                    -117.6001205,
                    47.6504127,
                    -117.5998805,
                    47.6504625
                  ]
                },
                {
                  "id": "5",
                  "type": "Feature",
                  "properties": {
                    "id": "08b12db70366cfff020082fa34314a33",
                    "height": null,
                    "style": {
                      "color": "red",
                      "fillColor": "transparent",
                      "fillOpacity": 0.5,
                      "weight": 1
                    }
                  },
                  "geometry": {
                    "type": "Polygon",
                    "coordinates": [
                      [
                        [
                          -117.5994996,
                          47.6502714
                        ],
                        [
                          -117.5994264,
                          47.6502714
                        ],
                        [
                          -117.5994265,
                          47.6504683
                        ],
                        [
                          -117.5994997,
                          47.6504683
                        ],
                        [
                          -117.5994996,
                          47.6502714
                        ]
                      ]
                    ]
                  },
                  "bbox": [
                    -117.5994997,
                    47.6502714,
                    -117.5994264,
                    47.6504683
                  ]
                },
                {
                  "id": "6",
                  "type": "Feature",
                  "properties": {
                    "id": "08b12db70366dfff02006577ec794dbb",
                    "height": 4.7255282,
                    "style": {
                      "color": "red",
                      "fillColor": "transparent",
                      "fillOpacity": 0.5,
                      "weight": 1
                    }
                  },
                  "geometry": {
                    "type": "Polygon",
                    "coordinates": [
                      [
                        [
                          -117.59886939691972,
                          47.65019786326986
                        ],
                        [
                          -117.59869673889686,
                          47.65019766789701
                        ],
                        [
                          -117.59869638574823,
                          47.650339297741546
                        ],
                        [
                          -117.59872588996069,
                          47.6503393325183
                        ],
                        [
                          -117.59872550873624,
                          47.65049222170274
                        ],
                        [
                          -117.59873183968652,
                          47.65049222886655
                        ],
                        [
                          -117.59873155340736,
                          47.65060244772474
                        ],
                        [
                          -117.59887371006732,
                          47.65060260858224
                        ],
                        [
                          -117.59887406492003,
                          47.650465988551694
                        ],
                        [
                          -117.59889284032566,
                          47.65046601068231
                        ],
                        [
                          -117.59889318944042,
                          47.65033159943205
                        ],
                        [
                          -117.59886904963022,
                          47.65033157211649
                        ],
                        [
                          -117.59886939691972,
                          47.65019786326986
                        ]
                      ]
                    ]
                  },
                  "bbox": [
                    -117.59889318944042,
                    47.65019766789701,
                    -117.59869638574823,
                    47.65060260858224
                  ]
                },
                {
                  "id": "7",
                  "type": "Feature",
                  "properties": {
                    "id": "08b12db70366dfff02006d729df4ab93",
                    "height": 0.91149974,
                    "style": {
                      "color": "red",
                      "fillColor": "transparent",
                      "fillOpacity": 0.5,
                      "weight": 1
                    }
                  },
                  "geometry": {
                    "type": "Polygon",
                    "coordinates": [
                      [
                        [
                          -117.59862797290043,
                          47.650282186887836
                        ],
                        [
                          -117.59856094751994,
                          47.65028123568907
                        ],
                        [
                          -117.59855964416523,
                          47.65032277543986
                        ],
                        [
                          -117.59856938452312,
                          47.650322913671225
                        ],
                        [
                          -117.59856593924086,
                          47.65043308431669
                        ],
                        [
                          -117.59862321282245,
                          47.65043389711928
                        ],
                        [
                          -117.59862797290043,
                          47.650282186887836
                        ]
                      ]
                    ]
                  },
                  "bbox": [
                    -117.59862797290043,
                    47.65028123568907,
                    -117.59855964416523,
                    47.65043389711928
                  ]
                },
                {
                  "id": "8",
                  "type": "Feature",
                  "properties": {
                    "id": "08b12db70329afff020033323e5c3bc4",
                    "height": 5.0569534,
                    "style": {
                      "color": "red",
                      "fillColor": "transparent",
                      "fillOpacity": 0.5,
                      "weight": 1
                    }
                  },
                  "geometry": {
                    "type": "Polygon",
                    "coordinates": [
                      [
                        [
                          -117.59777297633657,
                          47.650181129002696
                        ],
                        [
                          -117.5977753412031,
                          47.65029494030281
                        ],
                        [
                          -117.5980149981298,
                          47.650292680422815
                        ],
                        [
                          -117.59801496077988,
                          47.65029087389431
                        ],
                        [
                          -117.59816414778363,
                          47.65028946711357
                        ],
                        [
                          -117.59816429793388,
                          47.65029669322026
                        ],
                        [
                          -117.59837177444409,
                          47.65029473679026
                        ],
                        [
                          -117.59836939806604,
                          47.6501797967862
                        ],
                        [
                          -117.59816459109953,
                          47.65018171839128
                        ],
                        [
                          -117.59816481632515,
                          47.65019255758391
                        ],
                        [
                          -117.59798246166356,
                          47.65019426852942
                        ],
                        [
                          -117.59798214765526,
                          47.6501791565869
                        ],
                        [
                          -117.59777297633657,
                          47.650181129002696
                        ]
                      ]
                    ]
                  },
                  "bbox": [
                    -117.59837177444409,
                    47.6501791565869,
                    -117.59777297633657,
                    47.65029669322026
                  ]
                },
                {
                  "id": "9",
                  "type": "Feature",
                  "properties": {
                    "id": "08b12db70329efff0200d26e060a5987",
                    "height": 0.9593377,
                    "style": {
                      "color": "red",
                      "fillColor": "transparent",
                      "fillOpacity": 0.5,
                      "weight": 1
                    }
                  },
                  "geometry": {
                    "type": "Polygon",
                    "coordinates": [
                      [
                        [
                          -117.59787633805458,
                          47.65039273314957
                        ],
                        [
                          -117.59830011883984,
                          47.65039147437955
                        ],
                        [
                          -117.59829981135293,
                          47.65034449646376
                        ],
                        [
                          -117.59787603056769,
                          47.65034575523491
                        ],
                        [
                          -117.59787633805458,
                          47.65039273314957
                        ]
                      ]
                    ]
                  },
                  "bbox": [
                    -117.59830011883984,
                    47.65034449646376,
                    -117.59787603056769,
                    47.65039273314957
                  ]
                },
                {
                  "id": "10",
                  "type": "Feature",
                  "properties": {
                    "id": "08b12db703298fff020065e4bc4b6750",
                    "height": 2.4304717,
                    "style": {
                      "color": "red",
                      "fillColor": "transparent",
                      "fillOpacity": 0.5,
                      "weight": 1
                    }
                  },
                  "geometry": {
                    "type": "Polygon",
                    "coordinates": [
                      [
                        [
                          -117.59766029754886,
                          47.65028807168736
                        ],
                        [
                          -117.59765721356003,
                          47.650557924728965
                        ],
                        [
                          -117.5977108545321,
                          47.65055820545508
                        ],
                        [
                          -117.59771236187044,
                          47.650426311560324
                        ],
                        [
                          -117.59772309006485,
                          47.65042636770569
                        ],
                        [
                          -117.59772466674998,
                          47.650288405525735
                        ],
                        [
                          -117.59766029754886,
                          47.65028807168736
                        ]
                      ]
                    ]
                  },
                  "bbox": [
                    -117.59772466674998,
                    47.65028807168736,
                    -117.59765721356003,
                    47.65055820545508
                  ]
                },
                {
                  "id": "11",
                  "type": "Feature",
                  "properties": {
                    "id": "08b12db703662fff02005b55c9062694",
                    "height": null,
                    "style": {
                      "color": "red",
                      "fillColor": "transparent",
                      "fillOpacity": 0.5,
                      "weight": 1
                    }
                  },
                  "geometry": {
                    "type": "Polygon",
                    "coordinates": [
                      [
                        [
                          -117.6008025,
                          47.6507091
                        ],
                        [
                          -117.6008024,
                          47.6505108
                        ],
                        [
                          -117.6007307,
                          47.6505108
                        ],
                        [
                          -117.6007308,
                          47.6507091
                        ],
                        [
                          -117.6008025,
                          47.6507091
                        ]
                      ]
                    ]
                  },
                  "bbox": [
                    -117.6008025,
                    47.6505108,
                    -117.6007307,
                    47.6507091
                  ]
                },
                {
                  "id": "12",
                  "type": "Feature",
                  "properties": {
                    "id": "08b12db703666fff02001f0cdfced882",
                    "height": null,
                    "style": {
                      "color": "red",
                      "fillColor": "transparent",
                      "fillOpacity": 0.5,
                      "weight": 1
                    }
                  },
                  "geometry": {
                    "type": "Polygon",
                    "coordinates": [
                      [
                        [
                          -117.6010647,
                          47.6509327
                        ],
                        [
                          -117.6010647,
                          47.6508834
                        ],
                        [
                          -117.6008447,
                          47.6508834
                        ],
                        [
                          -117.6008447,
                          47.6509327
                        ],
                        [
                          -117.6010647,
                          47.6509327
                        ]
                      ]
                    ]
                  },
                  "bbox": [
                    -117.6010647,
                    47.6508834,
                    -117.6008447,
                    47.6509327
                  ]
                },
                {
                  "id": "13",
                  "type": "Feature",
                  "properties": {
                    "id": "08b12db703660fff020002b87276ae5f",
                    "height": null,
                    "style": {
                      "color": "red",
                      "fillColor": "transparent",
                      "fillOpacity": 0.5,
                      "weight": 1
                    }
                  },
                  "geometry": {
                    "type": "Polygon",
                    "coordinates": [
                      [
                        [
                          -117.600608,
                          47.6507805
                        ],
                        [
                          -117.6005349,
                          47.6507805
                        ],
                        [
                          -117.6005349,
                          47.6509282
                        ],
                        [
                          -117.6006081,
                          47.6509282
                        ],
                        [
                          -117.600608,
                          47.6507805
                        ]
                      ]
                    ]
                  },
                  "bbox": [
                    -117.6006081,
                    47.6507805,
                    -117.6005349,
                    47.6509282
                  ]
                },
                {
                  "id": "14",
                  "type": "Feature",
                  "properties": {
                    "id": "08b12db703759fff0200ff82469613f8",
                    "height": null,
                    "style": {
                      "color": "red",
                      "fillColor": "transparent",
                      "fillOpacity": 0.5,
                      "weight": 1
                    }
                  },
                  "geometry": {
                    "type": "Polygon",
                    "coordinates": [
                      [
                        [
                          -117.6011056,
                          47.6509968
                        ],
                        [
                          -117.6008747,
                          47.6509969
                        ],
                        [
                          -117.6008748,
                          47.6510718
                        ],
                        [
                          -117.6008588,
                          47.6510718
                        ],
                        [
                          -117.6008588,
                          47.6511179
                        ],
                        [
                          -117.600899,
                          47.6511179
                        ],
                        [
                          -117.600899,
                          47.6511418
                        ],
                        [
                          -117.6008568,
                          47.6511418
                        ],
                        [
                          -117.6008568,
                          47.6511888
                        ],
                        [
                          -117.6008748,
                          47.6511888
                        ],
                        [
                          -117.6008748,
                          47.6512895
                        ],
                        [
                          -117.6008571,
                          47.6512895
                        ],
                        [
                          -117.6008571,
                          47.6513361
                        ],
                        [
                          -117.6008997,
                          47.6513361
                        ],
                        [
                          -117.6008997,
                          47.6513593
                        ],
                        [
                          -117.6008578,
                          47.6513593
                        ],
                        [
                          -117.6008578,
                          47.6514072
                        ],
                        [
                          -117.6008749,
                          47.6514072
                        ],
                        [
                          -117.6008749,
                          47.6514774
                        ],
                        [
                          -117.6010067,
                          47.6514774
                        ],
                        [
                          -117.6010067,
                          47.6514833
                        ],
                        [
                          -117.6010858,
                          47.6514833
                        ],
                        [
                          -117.6010858,
                          47.6514774
                        ],
                        [
                          -117.6011057,
                          47.6514774
                        ],
                        [
                          -117.6011057,
                          47.6513902
                        ],
                        [
                          -117.601121,
                          47.6513902
                        ],
                        [
                          -117.601121,
                          47.6513062
                        ],
                        [
                          -117.6011057,
                          47.6513062
                        ],
                        [
                          -117.6011056,
                          47.6511705
                        ],
                        [
                          -117.6011217,
                          47.6511705
                        ],
                        [
                          -117.6011216,
                          47.6510863
                        ],
                        [
                          -117.6011056,
                          47.6510863
                        ],
                        [
                          -117.6011056,
                          47.6509968
                        ]
                      ]
                    ]
                  },
                  "bbox": [
                    -117.6011217,
                    47.6509968,
                    -117.6008568,
                    47.6514833
                  ]
                },
                {
                  "id": "15",
                  "type": "Feature",
                  "properties": {
                    "id": "08b12db703666fff0200e27728c11a7f",
                    "height": null,
                    "style": {
                      "color": "red",
                      "fillColor": "transparent",
                      "fillOpacity": 0.5,
                      "weight": 1
                    }
                  },
                  "geometry": {
                    "type": "Polygon",
                    "coordinates": [
                      [
                        [
                          -117.6008025,
                          47.6510596
                        ],
                        [
                          -117.6007293,
                          47.6510596
                        ],
                        [
                          -117.6007294,
                          47.6512561
                        ],
                        [
                          -117.6008026,
                          47.6512561
                        ],
                        [
                          -117.6008025,
                          47.6510596
                        ]
                      ]
                    ]
                  },
                  "bbox": [
                    -117.6008026,
                    47.6510596,
                    -117.6007293,
                    47.6512561
                  ]
                },
                {
                  "id": "16",
                  "type": "Feature",
                  "properties": {
                    "id": "08b12db703759fff0200e59f60206c53",
                    "height": null,
                    "style": {
                      "color": "red",
                      "fillColor": "transparent",
                      "fillOpacity": 0.5,
                      "weight": 1
                    }
                  },
                  "geometry": {
                    "type": "Polygon",
                    "coordinates": [
                      [
                        [
                          -117.6008025,
                          47.6513049
                        ],
                        [
                          -117.6007293,
                          47.6513049
                        ],
                        [
                          -117.6007294,
                          47.6515014
                        ],
                        [
                          -117.6008026,
                          47.6515014
                        ],
                        [
                          -117.6008025,
                          47.6513049
                        ]
                      ]
                    ]
                  },
                  "bbox": [
                    -117.6008026,
                    47.6513049,
                    -117.6007293,
                    47.6515014
                  ]
                },
                {
                  "id": "17",
                  "type": "Feature",
                  "properties": {
                    "id": "08b12db703743fff0200f099aff9f620",
                    "height": 0.624508,
                    "style": {
                      "color": "red",
                      "fillColor": "transparent",
                      "fillOpacity": 0.5,
                      "weight": 1
                    }
                  },
                  "geometry": {
                    "type": "Polygon",
                    "coordinates": [
                      [
                        [
                          -117.60110547804435,
                          47.651784283766126
                        ],
                        [
                          -117.60086678568692,
                          47.65178266324753
                        ],
                        [
                          -117.60086470440801,
                          47.65192177477274
                        ],
                        [
                          -117.60088615990082,
                          47.651921920436955
                        ],
                        [
                          -117.60088291634926,
                          47.65213871687976
                        ],
                        [
                          -117.6009054895475,
                          47.65213887013158
                        ],
                        [
                          -117.60090359561988,
                          47.65226634358318
                        ],
                        [
                          -117.60114765219357,
                          47.652267988998496
                        ],
                        [
                          -117.60115032436563,
                          47.65208813462983
                        ],
                        [
                          -117.60112507450158,
                          47.65208796320567
                        ],
                        [
                          -117.60112839914193,
                          47.65186574662431
                        ],
                        [
                          -117.6011042617125,
                          47.651865582751896
                        ],
                        [
                          -117.60110547804435,
                          47.651784283766126
                        ]
                      ]
                    ]
                  },
                  "bbox": [
                    -117.60115032436563,
                    47.65178266324753,
                    -117.60086470440801,
                    47.652267988998496
                  ]
                },
                {
                  "id": "18",
                  "type": "Feature",
                  "properties": {
                    "id": "08b12db703743fff0200b90447e3ca18",
                    "height": 0.032115173,
                    "style": {
                      "color": "red",
                      "fillColor": "transparent",
                      "fillOpacity": 0.5,
                      "weight": 1
                    }
                  },
                  "geometry": {
                    "type": "Polygon",
                    "coordinates": [
                      [
                        [
                          -117.60083228960735,
                          47.65220529339457
                        ],
                        [
                          -117.60081831908349,
                          47.65195811687944
                        ],
                        [
                          -117.60074758477144,
                          47.651959927725414
                        ],
                        [
                          -117.60076152965124,
                          47.6522071048885
                        ],
                        [
                          -117.60083228960735,
                          47.65220529339457
                        ]
                      ]
                    ]
                  },
                  "bbox": [
                    -117.60083228960735,
                    47.65195811687944,
                    -117.60074758477144,
                    47.6522071048885
                  ]
                },
                {
                  "id": "19",
                  "type": "Feature",
                  "properties": {
                    "id": "08b12db70374efff020008e6bafe47d9",
                    "height": 0.016526138,
                    "style": {
                      "color": "red",
                      "fillColor": "transparent",
                      "fillOpacity": 0.5,
                      "weight": 1
                    }
                  },
                  "geometry": {
                    "type": "Polygon",
                    "coordinates": [
                      [
                        [
                          -117.60054504025159,
                          47.65190986427904
                        ],
                        [
                          -117.60055712065852,
                          47.65210828086132
                        ],
                        [
                          -117.60062941868925,
                          47.65210628341828
                        ],
                        [
                          -117.60061733828233,
                          47.65190786682841
                        ],
                        [
                          -117.60054504025159,
                          47.65190986427904
                        ]
                      ]
                    ]
                  },
                  "bbox": [
                    -117.60062941868925,
                    47.65190786682841,
                    -117.60054504025159,
                    47.65210828086132
                  ]
                },
                {
                  "id": "20",
                  "type": "Feature",
                  "properties": {
                    "id": "08b12db703740fff020037aa595e5ac4",
                    "height": 0.2399537,
                    "style": {
                      "color": "red",
                      "fillColor": "transparent",
                      "fillOpacity": 0.5,
                      "weight": 1
                    }
                  },
                  "geometry": {
                    "type": "Polygon",
                    "coordinates": [
                      [
                        [
                          -117.60092868639147,
                          47.6525651923262
                        ],
                        [
                          -117.60092489275861,
                          47.652689809112616
                        ],
                        [
                          -117.60095706573726,
                          47.65269025354364
                        ],
                        [
                          -117.60095646095519,
                          47.6527101199602
                        ],
                        [
                          -117.60092965013969,
                          47.65270974960116
                        ],
                        [
                          -117.60092365729945,
                          47.65290660732179
                        ],
                        [
                          -117.60095851135961,
                          47.65290708878673
                        ],
                        [
                          -117.60095782096315,
                          47.65292976744686
                        ],
                        [
                          -117.60092564793838,
                          47.652929324534064
                        ],
                        [
                          -117.6009219949463,
                          47.65304932059024
                        ],
                        [
                          -117.60116329228597,
                          47.65305265379983
                        ],
                        [
                          -117.60117802697576,
                          47.65256863667471
                        ],
                        [
                          -117.60092868639147,
                          47.6525651923262
                        ]
                      ]
                    ]
                  },
                  "bbox": [
                    -117.60117802697576,
                    47.6525651923262,
                    -117.6009219949463,
                    47.65305265379983
                  ]
                },
                {
                  "id": "21",
                  "type": "Feature",
                  "properties": {
                    "id": "08b12db703740fff0200db9c43ebafa6",
                    "height": 0,
                    "style": {
                      "color": "red",
                      "fillColor": "transparent",
                      "fillOpacity": 0.5,
                      "weight": 1
                    }
                  },
                  "geometry": {
                    "type": "Polygon",
                    "coordinates": [
                      [
                        [
                          -117.6007875086704,
                          47.65280265199694
                        ],
                        [
                          -117.60085991979211,
                          47.65280318115022
                        ],
                        [
                          -117.60086253824207,
                          47.6526405885906
                        ],
                        [
                          -117.60079012712035,
                          47.65264005943565
                        ],
                        [
                          -117.6007875086704,
                          47.65280265199694
                        ]
                      ]
                    ]
                  },
                  "bbox": [
                    -117.60086253824207,
                    47.65264005943565,
                    -117.6007875086704,
                    47.65280318115022
                  ]
                },
                {
                  "id": "22",
                  "type": "Feature",
                  "properties": {
                    "id": "08b12db703741fff0200c12488e771f2",
                    "height": 0.0014114326,
                    "style": {
                      "color": "red",
                      "fillColor": "transparent",
                      "fillOpacity": 0.5,
                      "weight": 1
                    }
                  },
                  "geometry": {
                    "type": "Polygon",
                    "coordinates": [
                      [
                        [
                          -117.60066343510351,
                          47.65248644148782
                        ],
                        [
                          -117.60059370923256,
                          47.65248704635348
                        ],
                        [
                          -117.60059747361274,
                          47.65268395504199
                        ],
                        [
                          -117.6006671994837,
                          47.6526833501786
                        ],
                        [
                          -117.60066343510351,
                          47.65248644148782
                        ]
                      ]
                    ]
                  },
                  "bbox": [
                    -117.6006671994837,
                    47.65248644148782,
                    -117.60059370923256,
                    47.65268395504199
                  ]
                },
                {
                  "id": "23",
                  "type": "Feature",
                  "properties": {
                    "id": "08b12db703745fff02009a56ae8a102a",
                    "height": 0,
                    "style": {
                      "color": "red",
                      "fillColor": "transparent",
                      "fillOpacity": 0.5,
                      "weight": 1
                    }
                  },
                  "geometry": {
                    "type": "Polygon",
                    "coordinates": [
                      [
                        [
                          -117.6003040517467,
                          47.65284944948465
                        ],
                        [
                          -117.60052389499472,
                          47.65284632970597
                        ],
                        [
                          -117.60052245385546,
                          47.65280040078375
                        ],
                        [
                          -117.60030261093252,
                          47.652803530925276
                        ],
                        [
                          -117.6003040517467,
                          47.65284944948465
                        ]
                      ]
                    ]
                  },
                  "bbox": [
                    -117.60052389499472,
                    47.65280040078375,
                    -117.60030261093252,
                    47.65284944948465
                  ]
                },
                {
                  "id": "24",
                  "type": "Feature",
                  "properties": {
                    "id": "08b12db703744fff0200ebe863997f0c",
                    "height": 0,
                    "style": {
                      "color": "red",
                      "fillColor": "transparent",
                      "fillOpacity": 0.5,
                      "weight": 1
                    }
                  },
                  "geometry": {
                    "type": "Polygon",
                    "coordinates": [
                      [
                        [
                          -117.60079059676166,
                          47.65285158290932
                        ],
                        [
                          -117.60078643582102,
                          47.653097274279375
                        ],
                        [
                          -117.60085884609832,
                          47.65309782732036
                        ],
                        [
                          -117.60086300703892,
                          47.652852135952905
                        ],
                        [
                          -117.60079059676166,
                          47.65285158290932
                        ]
                      ]
                    ]
                  },
                  "bbox": [
                    -117.60086300703892,
                    47.65285158290932,
                    -117.60078643582102,
                    47.65309782732036
                  ]
                },
                {
                  "id": "25",
                  "type": "Feature",
                  "properties": {
                    "id": "08b12db703660fff0200c1b0fa7a5453",
                    "height": null,
                    "style": {
                      "color": "red",
                      "fillColor": "transparent",
                      "fillOpacity": 0.5,
                      "weight": 1
                    }
                  },
                  "geometry": {
                    "type": "Polygon",
                    "coordinates": [
                      [
                        [
                          -117.6004002,
                          47.6507665
                        ],
                        [
                          -117.6004001,
                          47.6507484
                        ],
                        [
                          -117.600482,
                          47.6507484
                        ],
                        [
                          -117.6004819,
                          47.6506684
                        ],
                        [
                          -117.6004001,
                          47.6506684
                        ],
                        [
                          -117.6004001,
                          47.6506418
                        ],
                        [
                          -117.6003438,
                          47.6506418
                        ],
                        [
                          -117.6003438,
                          47.6506481
                        ],
                        [
                          -117.6002292,
                          47.6506481
                        ],
                        [
                          -117.6002292,
                          47.6506409
                        ],
                        [
                          -117.6001594,
                          47.6506409
                        ],
                        [
                          -117.6001594,
                          47.6506481
                        ],
                        [
                          -117.6000836,
                          47.6506481
                        ],
                        [
                          -117.6000837,
                          47.6506693
                        ],
                        [
                          -117.6000682,
                          47.6506693
                        ],
                        [
                          -117.6000682,
                          47.6507267
                        ],
                        [
                          -117.6000837,
                          47.6507267
                        ],
                        [
                          -117.6000837,
                          47.6507665
                        ],
                        [
                          -117.6004002,
                          47.6507665
                        ]
                      ]
                    ]
                  },
                  "bbox": [
                    -117.600482,
                    47.6506409,
                    -117.6000682,
                    47.6507665
                  ]
                },
                {
                  "id": "26",
                  "type": "Feature",
                  "properties": {
                    "id": "08b12db703665fff02003b86d3986953",
                    "height": null,
                    "style": {
                      "color": "red",
                      "fillColor": "transparent",
                      "fillOpacity": 0.5,
                      "weight": 1
                    }
                  },
                  "geometry": {
                    "type": "Polygon",
                    "coordinates": [
                      [
                        [
                          -117.6004779,
                          47.6510068
                        ],
                        [
                          -117.6003438,
                          47.6510068
                        ],
                        [
                          -117.6003438,
                          47.6509977
                        ],
                        [
                          -117.6002218,
                          47.6509977
                        ],
                        [
                          -117.6002218,
                          47.6510068
                        ],
                        [
                          -117.6000206,
                          47.6510068
                        ],
                        [
                          -117.6000206,
                          47.6509977
                        ],
                        [
                          -117.5998966,
                          47.6509977
                        ],
                        [
                          -117.5998966,
                          47.6510069
                        ],
                        [
                          -117.5997638,
                          47.6510069
                        ],
                        [
                          -117.5997638,
                          47.6510226
                        ],
                        [
                          -117.5997571,
                          47.6510226
                        ],
                        [
                          -117.5997571,
                          47.6510741
                        ],
                        [
                          -117.5997638,
                          47.6510741
                        ],
                        [
                          -117.5997638,
                          47.6511649
                        ],
                        [
                          -117.5998718,
                          47.6511648
                        ],
                        [
                          -117.5998718,
                          47.651177
                        ],
                        [
                          -117.5999428,
                          47.651177
                        ],
                        [
                          -117.5999428,
                          47.6511472
                        ],
                        [
                          -117.599975,
                          47.6511472
                        ],
                        [
                          -117.599975,
                          47.6511762
                        ],
                        [
                          -117.6000461,
                          47.6511762
                        ],
                        [
                          -117.6000461,
                          47.6511648
                        ],
                        [
                          -117.6001936,
                          47.6511648
                        ],
                        [
                          -117.6001936,
                          47.6511762
                        ],
                        [
                          -117.6002647,
                          47.6511762
                        ],
                        [
                          -117.6002647,
                          47.6511472
                        ],
                        [
                          -117.6002969,
                          47.6511472
                        ],
                        [
                          -117.6002969,
                          47.6511762
                        ],
                        [
                          -117.6003693,
                          47.6511762
                        ],
                        [
                          -117.6003693,
                          47.6511648
                        ],
                        [
                          -117.6004753,
                          47.6511648
                        ],
                        [
                          -117.6004752,
                          47.651075
                        ],
                        [
                          -117.600483,
                          47.651075
                        ],
                        [
                          -117.600483,
                          47.6510203
                        ],
                        [
                          -117.6004779,
                          47.6510203
                        ],
                        [
                          -117.6004779,
                          47.6510068
                        ]
                      ]
                    ]
                  },
                  "bbox": [
                    -117.600483,
                    47.6509977,
                    -117.5997571,
                    47.651177
                  ]
                },
                {
                  "id": "27",
                  "type": "Feature",
                  "properties": {
                    "id": "08b12db70366cfff02004e66a04b79c3",
                    "height": null,
                    "style": {
                      "color": "red",
                      "fillColor": "transparent",
                      "fillOpacity": 0.5,
                      "weight": 1
                    }
                  },
                  "geometry": {
                    "type": "Polygon",
                    "coordinates": [
                      [
                        [
                          -117.5994983,
                          47.6504932
                        ],
                        [
                          -117.5994265,
                          47.6504932
                        ],
                        [
                          -117.5994265,
                          47.6506553
                        ],
                        [
                          -117.5994983,
                          47.6506553
                        ],
                        [
                          -117.5994983,
                          47.6504932
                        ]
                      ]
                    ]
                  },
                  "bbox": [
                    -117.5994983,
                    47.6504932,
                    -117.5994265,
                    47.6506553
                  ]
                },
                {
                  "id": "28",
                  "type": "Feature",
                  "properties": {
                    "id": "08b12db70366cfff0200330aaa90edb8",
                    "height": null,
                    "style": {
                      "color": "red",
                      "fillColor": "transparent",
                      "fillOpacity": 0.5,
                      "weight": 1
                    }
                  },
                  "geometry": {
                    "type": "Polygon",
                    "coordinates": [
                      [
                        [
                          -117.5993333,
                          47.6502172
                        ],
                        [
                          -117.5991992,
                          47.650217
                        ],
                        [
                          -117.5991992,
                          47.6502109
                        ],
                        [
                          -117.5991214,
                          47.6502108
                        ],
                        [
                          -117.5991214,
                          47.650217
                        ],
                        [
                          -117.5991026,
                          47.6502169
                        ],
                        [
                          -117.5991027,
                          47.6503043
                        ],
                        [
                          -117.5990855,
                          47.6503043
                        ],
                        [
                          -117.5990856,
                          47.6503875
                        ],
                        [
                          -117.5991028,
                          47.6503875
                        ],
                        [
                          -117.5991028,
                          47.6505232
                        ],
                        [
                          -117.5990852,
                          47.6505232
                        ],
                        [
                          -117.5990852,
                          47.6506065
                        ],
                        [
                          -117.5991029,
                          47.6506065
                        ],
                        [
                          -117.599103,
                          47.6506951
                        ],
                        [
                          -117.5991207,
                          47.650695
                        ],
                        [
                          -117.5991208,
                          47.6507004
                        ],
                        [
                          -117.5991996,
                          47.6507001
                        ],
                        [
                          -117.5991995,
                          47.6506947
                        ],
                        [
                          -117.5993333,
                          47.6506942
                        ],
                        [
                          -117.5993333,
                          47.6506237
                        ],
                        [
                          -117.5993497,
                          47.6506237
                        ],
                        [
                          -117.5993497,
                          47.6505758
                        ],
                        [
                          -117.5993333,
                          47.6505758
                        ],
                        [
                          -117.5993333,
                          47.6505537
                        ],
                        [
                          -117.5993504,
                          47.6505537
                        ],
                        [
                          -117.5993504,
                          47.650506
                        ],
                        [
                          -117.5993333,
                          47.650506
                        ],
                        [
                          -117.5993333,
                          47.6504053
                        ],
                        [
                          -117.5993504,
                          47.6504053
                        ],
                        [
                          -117.5993504,
                          47.6503574
                        ],
                        [
                          -117.5993333,
                          47.6503574
                        ],
                        [
                          -117.5993333,
                          47.650336
                        ],
                        [
                          -117.5993501,
                          47.650336
                        ],
                        [
                          -117.5993501,
                          47.6502879
                        ],
                        [
                          -117.5993333,
                          47.6502879
                        ],
                        [
                          -117.5993333,
                          47.6502172
                        ]
                      ]
                    ]
                  },
                  "bbox": [
                    -117.5993504,
                    47.6502108,
                    -117.5990852,
                    47.6507004
                  ]
                },
                {
                  "id": "29",
                  "type": "Feature",
                  "properties": {
                    "id": "08b12db703665fff0200e052429481e0",
                    "height": null,
                    "style": {
                      "color": "red",
                      "fillColor": "transparent",
                      "fillOpacity": 0.5,
                      "weight": 1
                    }
                  },
                  "geometry": {
                    "type": "Polygon",
                    "coordinates": [
                      [
                        [
                          -117.599692,
                          47.6509629
                        ],
                        [
                          -117.599692,
                          47.6507664
                        ],
                        [
                          -117.599621,
                          47.6507665
                        ],
                        [
                          -117.599621,
                          47.650963
                        ],
                        [
                          -117.599692,
                          47.6509629
                        ]
                      ]
                    ]
                  },
                  "bbox": [
                    -117.599692,
                    47.6507664,
                    -117.599621,
                    47.650963
                  ]
                },
                {
                  "id": "30",
                  "type": "Feature",
                  "properties": {
                    "id": "08b12db703292fff0200c2ee839c9dd9",
                    "height": null,
                    "style": {
                      "color": "red",
                      "fillColor": "transparent",
                      "fillOpacity": 0.5,
                      "weight": 1
                    }
                  },
                  "geometry": {
                    "type": "Polygon",
                    "coordinates": [
                      [
                        [
                          -117.5994983,
                          47.6509449
                        ],
                        [
                          -117.5994265,
                          47.6509449
                        ],
                        [
                          -117.5994265,
                          47.6510926
                        ],
                        [
                          -117.5994983,
                          47.6510926
                        ],
                        [
                          -117.5994983,
                          47.6509449
                        ]
                      ]
                    ]
                  },
                  "bbox": [
                    -117.5994983,
                    47.6509449,
                    -117.5994265,
                    47.6510926
                  ]
                },
                {
                  "id": "31",
                  "type": "Feature",
                  "properties": {
                    "id": "08b12db703292fff02002bcac742768a",
                    "height": null,
                    "style": {
                      "color": "red",
                      "fillColor": "transparent",
                      "fillOpacity": 0.5,
                      "weight": 1
                    }
                  },
                  "geometry": {
                    "type": "Polygon",
                    "coordinates": [
                      [
                        [
                          -117.5993628,
                          47.6509209
                        ],
                        [
                          -117.5993628,
                          47.6508721
                        ],
                        [
                          -117.5991435,
                          47.6508722
                        ],
                        [
                          -117.5991436,
                          47.650921
                        ],
                        [
                          -117.5993628,
                          47.6509209
                        ]
                      ]
                    ]
                  },
                  "bbox": [
                    -117.5993628,
                    47.6508721,
                    -117.5991435,
                    47.650921
                  ]
                },
                {
                  "id": "32",
                  "type": "Feature",
                  "properties": {
                    "id": "08b12db703664fff02001aeaa680b0cb",
                    "height": null,
                    "style": {
                      "color": "red",
                      "fillColor": "transparent",
                      "fillOpacity": 0.5,
                      "weight": 1
                    }
                  },
                  "geometry": {
                    "type": "Polygon",
                    "coordinates": [
                      [
                        [
                          -117.6004437,
                          47.6512136
                        ],
                        [
                          -117.6000783,
                          47.6512137
                        ],
                        [
                          -117.6000783,
                          47.6512629
                        ],
                        [
                          -117.6004438,
                          47.6512628
                        ],
                        [
                          -117.6004437,
                          47.6512136
                        ]
                      ]
                    ]
                  },
                  "bbox": [
                    -117.6004438,
                    47.6512136,
                    -117.6000783,
                    47.6512629
                  ]
                },
                {
                  "id": "33",
                  "type": "Feature",
                  "properties": {
                    "id": "08b12db70374bfff0200588c2f3ccc86",
                    "height": null,
                    "style": {
                      "color": "red",
                      "fillColor": "transparent",
                      "fillOpacity": 0.5,
                      "weight": 1
                    }
                  },
                  "geometry": {
                    "type": "Polygon",
                    "coordinates": [
                      [
                        [
                          -117.6003331,
                          47.651346
                        ],
                        [
                          -117.599969,
                          47.6513461
                        ],
                        [
                          -117.599969,
                          47.6513934
                        ],
                        [
                          -117.6003331,
                          47.6513934
                        ],
                        [
                          -117.6003331,
                          47.651346
                        ]
                      ]
                    ]
                  },
                  "bbox": [
                    -117.6003331,
                    47.651346,
                    -117.599969,
                    47.6513934
                  ]
                },
                {
                  "id": "34",
                  "type": "Feature",
                  "properties": {
                    "id": "08b12db70374bfff0200390b87411b05",
                    "height": null,
                    "style": {
                      "color": "red",
                      "fillColor": "transparent",
                      "fillOpacity": 0.5,
                      "weight": 1
                    }
                  },
                  "geometry": {
                    "type": "Polygon",
                    "coordinates": [
                      [
                        [
                          -117.6000059,
                          47.6512136
                        ],
                        [
                          -117.5997859,
                          47.6512137
                        ],
                        [
                          -117.5997859,
                          47.651262
                        ],
                        [
                          -117.6000059,
                          47.6512619
                        ],
                        [
                          -117.6000059,
                          47.6512136
                        ]
                      ]
                    ]
                  },
                  "bbox": [
                    -117.6000059,
                    47.6512136,
                    -117.5997859,
                    47.651262
                  ]
                },
                {
                  "id": "35",
                  "type": "Feature",
                  "properties": {
                    "id": "08b12db70374bfff0200a4a83ddad7d7",
                    "height": null,
                    "style": {
                      "color": "red",
                      "fillColor": "transparent",
                      "fillOpacity": 0.5,
                      "weight": 1
                    }
                  },
                  "geometry": {
                    "type": "Polygon",
                    "coordinates": [
                      [
                        [
                          -117.6003579,
                          47.651444
                        ],
                        [
                          -117.6002506,
                          47.651444
                        ],
                        [
                          -117.6002506,
                          47.6514318
                        ],
                        [
                          -117.6001802,
                          47.6514319
                        ],
                        [
                          -117.6001802,
                          47.6514621
                        ],
                        [
                          -117.6001474,
                          47.6514621
                        ],
                        [
                          -117.6001474,
                          47.6514319
                        ],
                        [
                          -117.6000763,
                          47.6514319
                        ],
                        [
                          -117.6000763,
                          47.6514436
                        ],
                        [
                          -117.5999281,
                          47.6514436
                        ],
                        [
                          -117.5999281,
                          47.6514319
                        ],
                        [
                          -117.5998577,
                          47.6514319
                        ],
                        [
                          -117.5998577,
                          47.6514612
                        ],
                        [
                          -117.5998255,
                          47.6514612
                        ],
                        [
                          -117.5998255,
                          47.6514319
                        ],
                        [
                          -117.5997544,
                          47.6514319
                        ],
                        [
                          -117.5997544,
                          47.6514449
                        ],
                        [
                          -117.5996478,
                          47.6514449
                        ],
                        [
                          -117.5996478,
                          47.6515344
                        ],
                        [
                          -117.5996397,
                          47.6515344
                        ],
                        [
                          -117.5996398,
                          47.6515859
                        ],
                        [
                          -117.5996478,
                          47.6515859
                        ],
                        [
                          -117.5996478,
                          47.6516017
                        ],
                        [
                          -117.5997775,
                          47.6516016
                        ],
                        [
                          -117.5997775,
                          47.6516114
                        ],
                        [
                          -117.5999026,
                          47.6516114
                        ],
                        [
                          -117.5999026,
                          47.6516016
                        ],
                        [
                          -117.6001024,
                          47.6516016
                        ],
                        [
                          -117.6001024,
                          47.6516107
                        ],
                        [
                          -117.6002272,
                          47.6516107
                        ],
                        [
                          -117.6002271,
                          47.6516016
                        ],
                        [
                          -117.600358,
                          47.6516016
                        ],
                        [
                          -117.600358,
                          47.6515868
                        ],
                        [
                          -117.6003666,
                          47.6515868
                        ],
                        [
                          -117.6003666,
                          47.6515335
                        ],
                        [
                          -117.6003579,
                          47.6515335
                        ],
                        [
                          -117.6003579,
                          47.651444
                        ]
                      ]
                    ]
                  },
                  "bbox": [
                    -117.6003666,
                    47.6514318,
                    -117.5996397,
                    47.6516114
                  ]
                },
                {
                  "id": "36",
                  "type": "Feature",
                  "properties": {
                    "id": "08b12db703296fff020015d1f69197d2",
                    "height": null,
                    "style": {
                      "color": "red",
                      "fillColor": "transparent",
                      "fillOpacity": 0.5,
                      "weight": 1
                    }
                  },
                  "geometry": {
                    "type": "Polygon",
                    "coordinates": [
                      [
                        [
                          -117.5994989,
                          47.6511423
                        ],
                        [
                          -117.5994251,
                          47.6511423
                        ],
                        [
                          -117.5994252,
                          47.6513026
                        ],
                        [
                          -117.599499,
                          47.6513026
                        ],
                        [
                          -117.5994989,
                          47.6511423
                        ]
                      ]
                    ]
                  },
                  "bbox": [
                    -117.599499,
                    47.6511423,
                    -117.5994251,
                    47.6513026
                  ]
                },
                {
                  "id": "37",
                  "type": "Feature",
                  "properties": {
                    "id": "08b12db70374bfff020062eaef70a081",
                    "height": null,
                    "style": {
                      "color": "red",
                      "fillColor": "transparent",
                      "fillOpacity": 0.5,
                      "weight": 1
                    }
                  },
                  "geometry": {
                    "type": "Polygon",
                    "coordinates": [
                      [
                        [
                          -117.5998959,
                          47.6513437
                        ],
                        [
                          -117.5995291,
                          47.6513438
                        ],
                        [
                          -117.5995291,
                          47.6513939
                        ],
                        [
                          -117.5998959,
                          47.6513938
                        ],
                        [
                          -117.5998959,
                          47.6513437
                        ]
                      ]
                    ]
                  },
                  "bbox": [
                    -117.5998959,
                    47.6513437,
                    -117.5995291,
                    47.6513939
                  ]
                },
                {
                  "id": "38",
                  "type": "Feature",
                  "properties": {
                    "id": "08b12db703296fff0200a53565b590b4",
                    "height": null,
                    "style": {
                      "color": "red",
                      "fillColor": "transparent",
                      "fillOpacity": 0.5,
                      "weight": 1
                    }
                  },
                  "geometry": {
                    "type": "Polygon",
                    "coordinates": [
                      [
                        [
                          -117.5993326,
                          47.6509955
                        ],
                        [
                          -117.5991995,
                          47.6509955
                        ],
                        [
                          -117.5991995,
                          47.6509894
                        ],
                        [
                          -117.5991194,
                          47.6509894
                        ],
                        [
                          -117.5991194,
                          47.6509955
                        ],
                        [
                          -117.5991019,
                          47.6509955
                        ],
                        [
                          -117.599102,
                          47.6510822
                        ],
                        [
                          -117.5990854,
                          47.6510822
                        ],
                        [
                          -117.5990855,
                          47.6511662
                        ],
                        [
                          -117.5991026,
                          47.6511662
                        ],
                        [
                          -117.5991027,
                          47.6513022
                        ],
                        [
                          -117.5990855,
                          47.6513022
                        ],
                        [
                          -117.5990855,
                          47.6513864
                        ],
                        [
                          -117.5991006,
                          47.6513864
                        ],
                        [
                          -117.5991006,
                          47.6514743
                        ],
                        [
                          -117.5991222,
                          47.6514743
                        ],
                        [
                          -117.5991222,
                          47.6514795
                        ],
                        [
                          -117.5992005,
                          47.6514795
                        ],
                        [
                          -117.5992005,
                          47.6514743
                        ],
                        [
                          -117.5993328,
                          47.6514742
                        ],
                        [
                          -117.5993328,
                          47.651402
                        ],
                        [
                          -117.5993501,
                          47.651402
                        ],
                        [
                          -117.5993501,
                          47.6513539
                        ],
                        [
                          -117.5993082,
                          47.6513539
                        ],
                        [
                          -117.5993082,
                          47.6513329
                        ],
                        [
                          -117.5993501,
                          47.6513329
                        ],
                        [
                          -117.5993501,
                          47.6512841
                        ],
                        [
                          -117.5993327,
                          47.6512841
                        ],
                        [
                          -117.5993327,
                          47.6511852
                        ],
                        [
                          -117.5993501,
                          47.6511852
                        ],
                        [
                          -117.5993501,
                          47.6511371
                        ],
                        [
                          -117.5993068,
                          47.6511371
                        ],
                        [
                          -117.5993068,
                          47.6511147
                        ],
                        [
                          -117.5993494,
                          47.6511147
                        ],
                        [
                          -117.5993494,
                          47.6510668
                        ],
                        [
                          -117.5993327,
                          47.6510668
                        ],
                        [
                          -117.5993326,
                          47.6509955
                        ]
                      ]
                    ]
                  },
                  "bbox": [
                    -117.5993501,
                    47.6509894,
                    -117.5990854,
                    47.6514795
                  ]
                },
                {
                  "id": "39",
                  "type": "Feature",
                  "properties": {
                    "id": "08b12db703290fff020043df2416cc6b",
                    "height": 4.432957,
                    "style": {
                      "color": "red",
                      "fillColor": "transparent",
                      "fillOpacity": 0.5,
                      "weight": 1
                    }
                  },
                  "geometry": {
                    "type": "Polygon",
                    "coordinates": [
                      [
                        [
                          -117.59892526018717,
                          47.65067568058817
                        ],
                        [
                          -117.59875359903896,
                          47.65067581008353
                        ],
                        [
                          -117.59875384477012,
                          47.65081493850214
                        ],
                        [
                          -117.59876189138645,
                          47.650814932432056
                        ],
                        [
                          -117.59876210397415,
                          47.650935295346436
                        ],
                        [
                          -117.5987540573585,
                          47.650935301795876
                        ],
                        [
                          -117.5987543158549,
                          47.65108165691529
                        ],
                        [
                          -117.59892597698882,
                          47.651081519327555
                        ],
                        [
                          -117.59892572806639,
                          47.65094058477505
                        ],
                        [
                          -117.59890695262986,
                          47.65094059982374
                        ],
                        [
                          -117.59890672728896,
                          47.65081301631043
                        ],
                        [
                          -117.59892550272704,
                          47.65081300214692
                        ],
                        [
                          -117.59892526018717,
                          47.65067568058817
                        ]
                      ]
                    ]
                  },
                  "bbox": [
                    -117.59892597698882,
                    47.65067568058817,
                    -117.59875359903896,
                    47.65108165691529
                  ]
                },
                {
                  "id": "40",
                  "type": "Feature",
                  "properties": {
                    "id": "08b12db703293fff0200110595a0eacd",
                    "height": 0.48599818,
                    "style": {
                      "color": "red",
                      "fillColor": "transparent",
                      "fillOpacity": 0.5,
                      "weight": 1
                    }
                  },
                  "geometry": {
                    "type": "Polygon",
                    "coordinates": [
                      [
                        [
                          -117.59860972381263,
                          47.65075333512946
                        ],
                        [
                          -117.59861152472268,
                          47.65090148797621
                        ],
                        [
                          -117.59868393955182,
                          47.65090109193002
                        ],
                        [
                          -117.59868213864179,
                          47.650752939082146
                        ],
                        [
                          -117.59860972381263,
                          47.65075333512946
                        ]
                      ]
                    ]
                  },
                  "bbox": [
                    -117.59868393955182,
                    47.650752939082146,
                    -117.59860972381263,
                    47.65090148797621
                  ]
                },
                {
                  "id": "41",
                  "type": "Feature",
                  "properties": {
                    "id": "08b12db70329efff0200c68a479dab66",
                    "height": 3.5563107,
                    "style": {
                      "color": "red",
                      "fillColor": "transparent",
                      "fillOpacity": 0.5,
                      "weight": 1
                    }
                  },
                  "geometry": {
                    "type": "Polygon",
                    "coordinates": [
                      [
                        [
                          -117.59834684676167,
                          47.6506886922519
                        ],
                        [
                          -117.5983393542735,
                          47.650582326500476
                        ],
                        [
                          -117.5982296307717,
                          47.65058583395733
                        ],
                        [
                          -117.59823031292368,
                          47.65059551801271
                        ],
                        [
                          -117.59816780498234,
                          47.65059751321413
                        ],
                        [
                          -117.59816628332399,
                          47.6505758793385
                        ],
                        [
                          -117.59808064490178,
                          47.6505786128466
                        ],
                        [
                          -117.59807958383558,
                          47.650563527343564
                        ],
                        [
                          -117.5980377169109,
                          47.6505648656757
                        ],
                        [
                          -117.5980363200063,
                          47.6505450347423
                        ],
                        [
                          -117.59792832224373,
                          47.6505484870361
                        ],
                        [
                          -117.59793161915924,
                          47.65059536029148
                        ],
                        [
                          -117.59785764133876,
                          47.65059772508979
                        ],
                        [
                          -117.59786399090501,
                          47.650687865544526
                        ],
                        [
                          -117.59793528318951,
                          47.650685586596836
                        ],
                        [
                          -117.59793731206061,
                          47.650714431606346
                        ],
                        [
                          -117.59806941267199,
                          47.65071020884595
                        ],
                        [
                          -117.5980685237327,
                          47.65069758919706
                        ],
                        [
                          -117.59834684676167,
                          47.6506886922519
                        ]
                      ]
                    ]
                  },
                  "bbox": [
                    -117.59834684676167,
                    47.6505450347423,
                    -117.59785764133876,
                    47.650714431606346
                  ]
                },
                {
                  "id": "42",
                  "type": "Feature",
                  "properties": {
                    "id": "08b12db703291fff02005572482e2b11",
                    "height": 4.465024,
                    "style": {
                      "color": "red",
                      "fillColor": "transparent",
                      "fillOpacity": 0.5,
                      "weight": 1
                    }
                  },
                  "geometry": {
                    "type": "Polygon",
                    "coordinates": [
                      [
                        [
                          -117.59844145976585,
                          47.65080413789128
                        ],
                        [
                          -117.59822786475279,
                          47.65080363436485
                        ],
                        [
                          -117.59822779458354,
                          47.650817417713284
                        ],
                        [
                          -117.59805345304804,
                          47.650817014942454
                        ],
                        [
                          -117.59805351743681,
                          47.65080436705213
                        ],
                        [
                          -117.59784332848758,
                          47.65080388146506
                        ],
                        [
                          -117.59784273376887,
                          47.650918365565616
                        ],
                        [
                          -117.59804926133386,
                          47.650918852430266
                        ],
                        [
                          -117.5980492894922,
                          47.65091343191941
                        ],
                        [
                          -117.59819949135766,
                          47.65091378600282
                        ],
                        [
                          -117.59819947606613,
                          47.65091672963347
                        ],
                        [
                          -117.59844087198047,
                          47.65091728731494
                        ],
                        [
                          -117.59844145976585,
                          47.65080413789128
                        ]
                      ]
                    ]
                  },
                  "bbox": [
                    -117.59844145976585,
                    47.65080363436485,
                    -117.59784273376887,
                    47.650918852430266
                  ]
                },
                {
                  "id": "43",
                  "type": "Feature",
                  "properties": {
                    "id": "08b12db703291fff020014bf39d9b67c",
                    "height": 2.680162,
                    "style": {
                      "color": "red",
                      "fillColor": "transparent",
                      "fillOpacity": 0.5,
                      "weight": 1
                    }
                  },
                  "geometry": {
                    "type": "Polygon",
                    "coordinates": [
                      [
                        [
                          -117.598186154557,
                          47.651020240448496
                        ],
                        [
                          -117.59838998818405,
                          47.65102139367983
                        ],
                        [
                          -117.59839056896331,
                          47.6509744187032
                        ],
                        [
                          -117.59818673533626,
                          47.65097326547084
                        ],
                        [
                          -117.598186154557,
                          47.651020240448496
                        ]
                      ]
                    ]
                  },
                  "bbox": [
                    -117.59839056896331,
                    47.65097326547084,
                    -117.598186154557,
                    47.65102139367983
                  ]
                },
                {
                  "id": "44",
                  "type": "Feature",
                  "properties": {
                    "id": "08b12db703295fff020044d3de6430ab",
                    "height": 2.3237762,
                    "style": {
                      "color": "red",
                      "fillColor": "transparent",
                      "fillOpacity": 0.5,
                      "weight": 1
                    }
                  },
                  "geometry": {
                    "type": "Polygon",
                    "coordinates": [
                      [
                        [
                          -117.59833472303764,
                          47.65109018355318
                        ],
                        [
                          -117.59818720498214,
                          47.65109066345571
                        ],
                        [
                          -117.59818754175221,
                          47.65113764051807
                        ],
                        [
                          -117.59833505980771,
                          47.651137160615974
                        ],
                        [
                          -117.59833472303764,
                          47.65109018355318
                        ]
                      ]
                    ]
                  },
                  "bbox": [
                    -117.59833505980771,
                    47.65109018355318,
                    -117.59818720498214,
                    47.65113764051807
                  ]
                },
                {
                  "id": "45",
                  "type": "Feature",
                  "properties": {
                    "id": "08b12db703291fff0200494e346fc616",
                    "height": 2.1771684,
                    "style": {
                      "color": "red",
                      "fillColor": "transparent",
                      "fillOpacity": 0.5,
                      "weight": 1
                    }
                  },
                  "geometry": {
                    "type": "Polygon",
                    "coordinates": [
                      [
                        [
                          -117.59793435214381,
                          47.65097502145294
                        ],
                        [
                          -117.59793321204666,
                          47.65102017979752
                        ],
                        [
                          -117.59807800945119,
                          47.651021838721185
                        ],
                        [
                          -117.59807914954834,
                          47.650976680378044
                        ],
                        [
                          -117.59793435214381,
                          47.65097502145294
                        ]
                      ]
                    ]
                  },
                  "bbox": [
                    -117.59807914954834,
                    47.65097502145294,
                    -117.59793321204666,
                    47.651021838721185
                  ]
                },
                {
                  "id": "46",
                  "type": "Feature",
                  "properties": {
                    "id": "08b12db703295fff0200376ee7171231",
                    "height": 2.462055,
                    "style": {
                      "color": "red",
                      "fillColor": "transparent",
                      "fillOpacity": 0.5,
                      "weight": 1
                    }
                  },
                  "geometry": {
                    "type": "Polygon",
                    "coordinates": [
                      [
                        [
                          -117.59807836298629,
                          47.651088976602246
                        ],
                        [
                          -117.59792831548386,
                          47.651092237885095
                        ],
                        [
                          -117.59793061820915,
                          47.6511403154706
                        ],
                        [
                          -117.59808066537309,
                          47.65113704712375
                        ],
                        [
                          -117.59807836298629,
                          47.651088976602246
                        ]
                      ]
                    ]
                  },
                  "bbox": [
                    -117.59808066537309,
                    47.651088976602246,
                    -117.59792831548386,
                    47.6511403154706
                  ]
                },
                {
                  "id": "47",
                  "type": "Feature",
                  "properties": {
                    "id": "08b12db703282fff02000265fc58cffc",
                    "height": 5.0639744,
                    "style": {
                      "color": "red",
                      "fillColor": "transparent",
                      "fillOpacity": 0.5,
                      "weight": 1
                    }
                  },
                  "geometry": {
                    "type": "Polygon",
                    "coordinates": [
                      [
                        [
                          -117.59765720538073,
                          47.6512081526861
                        ],
                        [
                          -117.59780740299296,
                          47.65120879709602
                        ],
                        [
                          -117.5978087354081,
                          47.65106786840411
                        ],
                        [
                          -117.59778459650614,
                          47.651067764837954
                        ],
                        [
                          -117.59778584351004,
                          47.65093586969177
                        ],
                        [
                          -117.59765978479977,
                          47.65093532884492
                        ],
                        [
                          -117.59765720538073,
                          47.6512081526861
                        ]
                      ]
                    ]
                  },
                  "bbox": [
                    -117.5978087354081,
                    47.65093532884492,
                    -117.59765720538073,
                    47.65120879709602
                  ]
                },
                {
                  "id": "48",
                  "type": "Feature",
                  "properties": {
                    "id": "08b12db703294fff02001a43c58ffa86",
                    "height": 3.688264,
                    "style": {
                      "color": "red",
                      "fillColor": "transparent",
                      "fillOpacity": 0.5,
                      "weight": 1
                    }
                  },
                  "geometry": {
                    "type": "Polygon",
                    "coordinates": [
                      [
                        [
                          -117.59877891019747,
                          47.65115419418927
                        ],
                        [
                          -117.59877675894563,
                          47.651286078210376
                        ],
                        [
                          -117.59875530386404,
                          47.651285919397026
                        ],
                        [
                          -117.59875300526616,
                          47.65142683620265
                        ],
                        [
                          -117.59877878038378,
                          47.651427026992955
                        ],
                        [
                          -117.59877664508826,
                          47.65155710360628
                        ],
                        [
                          -117.59894934298835,
                          47.65155838193221
                        ],
                        [
                          -117.5989516415862,
                          47.65141746548156
                        ],
                        [
                          -117.5989248227342,
                          47.65141726696539
                        ],
                        [
                          -117.59892682664002,
                          47.651294416415645
                        ],
                        [
                          -117.59894828172162,
                          47.65129457522896
                        ],
                        [
                          -117.59895055085028,
                          47.65115546469916
                        ],
                        [
                          -117.59877891019747,
                          47.65115419418927
                        ]
                      ]
                    ]
                  },
                  "bbox": [
                    -117.5989516415862,
                    47.65115419418927,
                    -117.59875300526616,
                    47.65155838193221
                  ]
                },
                {
                  "id": "49",
                  "type": "Feature",
                  "properties": {
                    "id": "08b12db703294fff0200702ab7b73fe5",
                    "height": 1.7993007,
                    "style": {
                      "color": "red",
                      "fillColor": "transparent",
                      "fillOpacity": 0.5,
                      "weight": 1
                    }
                  },
                  "geometry": {
                    "type": "Polygon",
                    "coordinates": [
                      [
                        [
                          -117.59827293350051,
                          47.65149839635538
                        ],
                        [
                          -117.59842042343813,
                          47.65149694302595
                        ],
                        [
                          -117.59841940356091,
                          47.651449975240865
                        ],
                        [
                          -117.59827191362328,
                          47.65145142857158
                        ],
                        [
                          -117.59827293350051,
                          47.65149839635538
                        ]
                      ]
                    ]
                  },
                  "bbox": [
                    -117.59842042343813,
                    47.651449975240865,
                    -117.59827191362328,
                    47.65149839635538
                  ]
                },
                {
                  "id": "50",
                  "type": "Feature",
                  "properties": {
                    "id": "08b12db703295fff020081ca6879b563",
                    "height": 4.0945106,
                    "style": {
                      "color": "red",
                      "fillColor": "transparent",
                      "fillOpacity": 0.5,
                      "weight": 1
                    }
                  },
                  "geometry": {
                    "type": "Polygon",
                    "coordinates": [
                      [
                        [
                          -117.59845669068103,
                          47.651185918693
                        ],
                        [
                          -117.59824480411513,
                          47.651186787814815
                        ],
                        [
                          -117.59824498582572,
                          47.651206662412555
                        ],
                        [
                          -117.59785876221189,
                          47.65120824663395
                        ],
                        [
                          -117.59785964826627,
                          47.651305158728356
                        ],
                        [
                          -117.59805812420447,
                          47.65130433525884
                        ],
                        [
                          -117.59805817982691,
                          47.65131041894943
                        ],
                        [
                          -117.59845781398289,
                          47.65130877972356
                        ],
                        [
                          -117.59845669068103,
                          47.651185918693
                        ]
                      ]
                    ]
                  },
                  "bbox": [
                    -117.59845781398289,
                    47.651185918693,
                    -117.59785876221189,
                    47.65131041894943
                  ]
                },
                {
                  "id": "51",
                  "type": "Feature",
                  "properties": {
                    "id": "08b12db703295fff020040c052cd59cb",
                    "height": 1.8853147,
                    "style": {
                      "color": "red",
                      "fillColor": "transparent",
                      "fillOpacity": 0.5,
                      "weight": 1
                    }
                  },
                  "geometry": {
                    "type": "Polygon",
                    "coordinates": [
                      [
                        [
                          -117.59802140819724,
                          47.65149799858391
                        ],
                        [
                          -117.59816891210936,
                          47.65149691369936
                        ],
                        [
                          -117.59816815078916,
                          47.651449941464094
                        ],
                        [
                          -117.59802064687703,
                          47.651451026349626
                        ],
                        [
                          -117.59802140819724,
                          47.65149799858391
                        ]
                      ]
                    ]
                  },
                  "bbox": [
                    -117.59816891210936,
                    47.651449941464094,
                    -117.59802064687703,
                    47.65149799858391
                  ]
                },
                {
                  "id": "52",
                  "type": "Feature",
                  "properties": {
                    "id": "08b12db7032b3fff0200c0229a23f169",
                    "height": 4.711743,
                    "style": {
                      "color": "red",
                      "fillColor": "transparent",
                      "fillOpacity": 0.5,
                      "weight": 1
                    }
                  },
                  "geometry": {
                    "type": "Polygon",
                    "coordinates": [
                      [
                        [
                          -117.59860792436584,
                          47.651547690705726
                        ],
                        [
                          -117.5981197843617,
                          47.65154990008664
                        ],
                        [
                          -117.59811974832019,
                          47.65154628657534
                        ],
                        [
                          -117.59791590963715,
                          47.651547209173984
                        ],
                        [
                          -117.59791706296498,
                          47.65166284140956
                        ],
                        [
                          -117.59812090164803,
                          47.65166191881296
                        ],
                        [
                          -117.5981207755028,
                          47.65164927154944
                        ],
                        [
                          -117.59830154221217,
                          47.65164845337893
                        ],
                        [
                          -117.5983016878798,
                          47.65166290738757
                        ],
                        [
                          -117.59860905967292,
                          47.65166151618855
                        ],
                        [
                          -117.59860792436584,
                          47.651547690705726
                        ]
                      ]
                    ]
                  },
                  "bbox": [
                    -117.59860905967292,
                    47.65154628657534,
                    -117.59791590963715,
                    47.65166290738757
                  ]
                },
                {
                  "id": "53",
                  "type": "Feature",
                  "properties": {
                    "id": "08b12db70374efff0200566bb3048a0c",
                    "height": 0,
                    "style": {
                      "color": "red",
                      "fillColor": "transparent",
                      "fillOpacity": 0.5,
                      "weight": 1
                    }
                  },
                  "geometry": {
                    "type": "Polygon",
                    "coordinates": [
                      [
                        [
                          -117.60014062007522,
                          47.6521677215984
                        ],
                        [
                          -117.6002118791423,
                          47.65216658604739
                        ],
                        [
                          -117.60020846483515,
                          47.652069072311086
                        ],
                        [
                          -117.60013719564229,
                          47.65207020802558
                        ],
                        [
                          -117.60014062007522,
                          47.6521677215984
                        ]
                      ]
                    ]
                  },
                  "bbox": [
                    -117.6002118791423,
                    47.652069072311086,
                    -117.60013719564229,
                    47.6521677215984
                  ]
                },
                {
                  "id": "54",
                  "type": "Feature",
                  "properties": {
                    "id": "08b12db703748fff0200345b6089f089",
                    "height": 0.014271152,
                    "style": {
                      "color": "red",
                      "fillColor": "transparent",
                      "fillOpacity": 0.5,
                      "weight": 1
                    }
                  },
                  "geometry": {
                    "type": "Polygon",
                    "coordinates": [
                      [
                        [
                          -117.59994631761386,
                          47.65202888883294
                        ],
                        [
                          -117.60001873144563,
                          47.65202845183189
                        ],
                        [
                          -117.60001611252227,
                          47.651831523820334
                        ],
                        [
                          -117.59994369869051,
                          47.651831960823024
                        ],
                        [
                          -117.59994631761386,
                          47.65202888883294
                        ]
                      ]
                    ]
                  },
                  "bbox": [
                    -117.60001873144563,
                    47.651831523820334,
                    -117.59994369869051,
                    47.65202888883294
                  ]
                },
                {
                  "id": "55",
                  "type": "Feature",
                  "properties": {
                    "id": "08b12db70374cfff02005b94b09847d7",
                    "height": 0,
                    "style": {
                      "color": "red",
                      "fillColor": "transparent",
                      "fillOpacity": 0.5,
                      "weight": 1
                    }
                  },
                  "geometry": {
                    "type": "Polygon",
                    "coordinates": [
                      [
                        [
                          -117.5999407885507,
                          47.652295991310716
                        ],
                        [
                          -117.60001316414201,
                          47.65229719242279
                        ],
                        [
                          -117.6000185284863,
                          47.6521509295271
                        ],
                        [
                          -117.59994615289499,
                          47.652149728411665
                        ],
                        [
                          -117.5999407885507,
                          47.652295991310716
                        ]
                      ]
                    ]
                  },
                  "bbox": [
                    -117.6000185284863,
                    47.652149728411665,
                    -117.5999407885507,
                    47.65229719242279
                  ]
                },
                {
                  "id": "56",
                  "type": "Feature",
                  "properties": {
                    "id": "08b12db70374dfff02001c28f5a0c295",
                    "height": null,
                    "style": {
                      "color": "red",
                      "fillColor": "transparent",
                      "fillOpacity": 0.5,
                      "weight": 1
                    }
                  },
                  "geometry": {
                    "type": "Polygon",
                    "coordinates": [
                      [
                        [
                          -117.5994622,
                          47.6520131
                        ],
                        [
                          -117.5994633,
                          47.6519397
                        ],
                        [
                          -117.5994733,
                          47.6519397
                        ],
                        [
                          -117.5994741,
                          47.6518544
                        ],
                        [
                          -117.5993258,
                          47.6518565
                        ],
                        [
                          -117.599325,
                          47.6518469
                        ],
                        [
                          -117.5992295,
                          47.6518463
                        ],
                        [
                          -117.5992307,
                          47.6518585
                        ],
                        [
                          -117.5990254,
                          47.6518585
                        ],
                        [
                          -117.599025,
                          47.6518474
                        ],
                        [
                          -117.5989306,
                          47.6518463
                        ],
                        [
                          -117.5989314,
                          47.6518578
                        ],
                        [
                          -117.5988274,
                          47.6518583
                        ],
                        [
                          -117.5988274,
                          47.6518554
                        ],
                        [
                          -117.5987847,
                          47.6518559
                        ],
                        [
                          -117.5987847,
                          47.6519413
                        ],
                        [
                          -117.5989418,
                          47.6519405
                        ],
                        [
                          -117.598944,
                          47.6519988
                        ],
                        [
                          -117.5989948,
                          47.6519998
                        ],
                        [
                          -117.598994,
                          47.6520233
                        ],
                        [
                          -117.5990477,
                          47.652025
                        ],
                        [
                          -117.5990487,
                          47.6520118
                        ],
                        [
                          -117.5992094,
                          47.6520119
                        ],
                        [
                          -117.5992092,
                          47.6520235
                        ],
                        [
                          -117.5992658,
                          47.6520228
                        ],
                        [
                          -117.5992646,
                          47.6519992
                        ],
                        [
                          -117.5992976,
                          47.652
                        ],
                        [
                          -117.5992971,
                          47.6520233
                        ],
                        [
                          -117.5993535,
                          47.6520232
                        ],
                        [
                          -117.5993543,
                          47.652012
                        ],
                        [
                          -117.5994622,
                          47.6520131
                        ]
                      ]
                    ]
                  },
                  "bbox": [
                    -117.5994741,
                    47.6518463,
                    -117.5987847,
                    47.652025
                  ]
                },
                {
                  "id": "57",
                  "type": "Feature",
                  "properties": {
                    "id": "08b12db70374dfff0200e1176a270577",
                    "height": 0.42839903,
                    "style": {
                      "color": "red",
                      "fillColor": "transparent",
                      "fillOpacity": 0.5,
                      "weight": 1
                    }
                  },
                  "geometry": {
                    "type": "Polygon",
                    "coordinates": [
                      [
                        [
                          -117.59883247414224,
                          47.65212661099333
                        ],
                        [
                          -117.59936601921207,
                          47.652133805272236
                        ],
                        [
                          -117.5993673655947,
                          47.65208865298347
                        ],
                        [
                          -117.59883382052487,
                          47.65208145869833
                        ],
                        [
                          -117.59883247414224,
                          47.65212661099333
                        ]
                      ]
                    ]
                  },
                  "bbox": [
                    -117.5993673655947,
                    47.65208145869833,
                    -117.59883247414224,
                    47.652133805272236
                  ]
                },
                {
                  "id": "58",
                  "type": "Feature",
                  "properties": {
                    "id": "08b12db70376afff02002601916a592b",
                    "height": 0,
                    "style": {
                      "color": "red",
                      "fillColor": "transparent",
                      "fillOpacity": 0.5,
                      "weight": 1
                    }
                  },
                  "geometry": {
                    "type": "Polygon",
                    "coordinates": [
                      [
                        [
                          -117.6001383416246,
                          47.65273621839386
                        ],
                        [
                          -117.60021075870509,
                          47.65273592818877
                        ],
                        [
                          -117.60020900354223,
                          47.65253718727133
                        ],
                        [
                          -117.60013658646174,
                          47.65253747747752
                        ],
                        [
                          -117.6001383416246,
                          47.65273621839386
                        ]
                      ]
                    ]
                  },
                  "bbox": [
                    -117.60021075870509,
                    47.65253718727133,
                    -117.60013658646174,
                    47.65273621839386
                  ]
                },
                {
                  "id": "59",
                  "type": "Feature",
                  "properties": {
                    "id": "08b12db70376afff020084212428922c",
                    "height": 0,
                    "style": {
                      "color": "red",
                      "fillColor": "transparent",
                      "fillOpacity": 0.5,
                      "weight": 1
                    }
                  },
                  "geometry": {
                    "type": "Polygon",
                    "coordinates": [
                      [
                        [
                          -117.59994087581919,
                          47.65247127631726
                        ],
                        [
                          -117.59994645139386,
                          47.65263741723199
                        ],
                        [
                          -117.60001883404622,
                          47.65263631497482
                        ],
                        [
                          -117.60001325847153,
                          47.65247017405659
                        ],
                        [
                          -117.59994087581919,
                          47.65247127631726
                        ]
                      ]
                    ]
                  },
                  "bbox": [
                    -117.60001883404622,
                    47.65247017405659,
                    -117.59994087581919,
                    47.65263741723199
                  ]
                },
                {
                  "id": "60",
                  "type": "Feature",
                  "properties": {
                    "id": "08b12db70376afff0200704316b72fca",
                    "height": 0.019448416,
                    "style": {
                      "color": "red",
                      "fillColor": "transparent",
                      "fillOpacity": 0.5,
                      "weight": 1
                    }
                  },
                  "geometry": {
                    "type": "Polygon",
                    "coordinates": [
                      [
                        [
                          -117.59987693358082,
                          47.652437257099514
                        ],
                        [
                          -117.59962489328895,
                          47.652440417915194
                        ],
                        [
                          -117.59963832108065,
                          47.65292627816416
                        ],
                        [
                          -117.5998796362537,
                          47.65292325187945
                        ],
                        [
                          -117.59987624186772,
                          47.652800432608046
                        ],
                        [
                          -117.59984674779099,
                          47.65280080248817
                        ],
                        [
                          -117.59984614878171,
                          47.652779128469284
                        ],
                        [
                          -117.59987832413813,
                          47.65277872496352
                        ],
                        [
                          -117.59987418099051,
                          47.652628812752
                        ],
                        [
                          -117.59988758738899,
                          47.652628644624116
                        ],
                        [
                          -117.59988628953553,
                          47.65258168408366
                        ],
                        [
                          -117.59984607034002,
                          47.65258218846775
                        ],
                        [
                          -117.59984547133074,
                          47.652560514358115
                        ],
                        [
                          -117.59988032796683,
                          47.65256007722506
                        ],
                        [
                          -117.59987693358082,
                          47.652437257099514
                        ]
                      ]
                    ]
                  },
                  "bbox": [
                    -117.59988758738899,
                    47.652437257099514,
                    -117.59962489328895,
                    47.65292627816416
                  ]
                },
                {
                  "id": "61",
                  "type": "Feature",
                  "properties": {
                    "id": "08b12db70376afff0200d3217813c939",
                    "height": 0,
                    "style": {
                      "color": "red",
                      "fillColor": "transparent",
                      "fillOpacity": 0.5,
                      "weight": 1
                    }
                  },
                  "geometry": {
                    "type": "Polygon",
                    "coordinates": [
                      [
                        [
                          -117.60001165530755,
                          47.65268696290248
                        ],
                        [
                          -117.59994198914394,
                          47.65268846391248
                        ],
                        [
                          -117.59994918815087,
                          47.65284007959618
                        ],
                        [
                          -117.5999920596362,
                          47.65283915590041
                        ],
                        [
                          -117.59999140980548,
                          47.65282547006852
                        ],
                        [
                          -117.60001820454372,
                          47.65282489402047
                        ],
                        [
                          -117.60001165530755,
                          47.65268696290248
                        ]
                      ]
                    ]
                  },
                  "bbox": [
                    -117.60001820454372,
                    47.65268696290248,
                    -117.59994198914394,
                    47.65284007959618
                  ]
                },
                {
                  "id": "62",
                  "type": "Feature",
                  "properties": {
                    "id": "08b12db703745fff020049123a2c0b99",
                    "height": 0,
                    "style": {
                      "color": "red",
                      "fillColor": "transparent",
                      "fillOpacity": 0.5,
                      "weight": 1
                    }
                  },
                  "geometry": {
                    "type": "Polygon",
                    "coordinates": [
                      [
                        [
                          -117.60050235756458,
                          47.652932233110796
                        ],
                        [
                          -117.6002636983185,
                          47.65292973521276
                        ],
                        [
                          -117.60026263752638,
                          47.65297593331922
                        ],
                        [
                          -117.60050129703079,
                          47.65297841996595
                        ],
                        [
                          -117.60050235756458,
                          47.652932233110796
                        ]
                      ]
                    ]
                  },
                  "bbox": [
                    -117.60050235756458,
                    47.65292973521276,
                    -117.60026263752638,
                    47.65297841996595
                  ]
                },
                {
                  "id": "63",
                  "type": "Feature",
                  "properties": {
                    "id": "08b12db70376efff02008d35dedc2641",
                    "height": 0,
                    "style": {
                      "color": "red",
                      "fillColor": "transparent",
                      "fillOpacity": 0.5,
                      "weight": 1
                    }
                  },
                  "geometry": {
                    "type": "Polygon",
                    "coordinates": [
                      [
                        [
                          -117.6002275879674,
                          47.65293201941109
                        ],
                        [
                          -117.60000768309929,
                          47.65293012213994
                        ],
                        [
                          -117.60000677073717,
                          47.652977846003026
                        ],
                        [
                          -117.60022667540709,
                          47.65297975363832
                        ],
                        [
                          -117.6002275879674,
                          47.65293201941109
                        ]
                      ]
                    ]
                  },
                  "bbox": [
                    -117.6002275879674,
                    47.65293012213994,
                    -117.60000677073717,
                    47.65297975363832
                  ]
                },
                {
                  "id": "64",
                  "type": "Feature",
                  "properties": {
                    "id": "08b12db70376efff02002f52e6df9cfa",
                    "height": 0.0014659772,
                    "style": {
                      "color": "red",
                      "fillColor": "transparent",
                      "fillOpacity": 0.5,
                      "weight": 1
                    }
                  },
                  "geometry": {
                    "type": "Polygon",
                    "coordinates": [
                      [
                        [
                          -117.5998270924886,
                          47.65322298538444
                        ],
                        [
                          -117.60054135355371,
                          47.653184495695065
                        ],
                        [
                          -117.60052323114594,
                          47.65303189569155
                        ],
                        [
                          -117.60033546647016,
                          47.6530420138787
                        ],
                        [
                          -117.60033427921535,
                          47.653032007814005
                        ],
                        [
                          -117.60010094735,
                          47.65304457050655
                        ],
                        [
                          -117.60009902849615,
                          47.65302841274705
                        ],
                        [
                          -117.60002853118249,
                          47.6530322083547
                        ],
                        [
                          -117.60003185033133,
                          47.65306018180355
                        ],
                        [
                          -117.59999986831465,
                          47.653061905236775
                        ],
                        [
                          -117.59999646000344,
                          47.65303318033706
                        ],
                        [
                          -117.59980577200889,
                          47.65304345605456
                        ],
                        [
                          -117.5998270924886,
                          47.65322298538444
                        ]
                      ]
                    ]
                  },
                  "bbox": [
                    -117.60054135355371,
                    47.65302841274705,
                    -117.59980577200889,
                    47.65322298538444
                  ]
                },
                {
                  "id": "65",
                  "type": "Feature",
                  "properties": {
                    "id": "08b12db70376bfff02008e76c82d7d3d",
                    "height": null,
                    "style": {
                      "color": "red",
                      "fillColor": "transparent",
                      "fillOpacity": 0.5,
                      "weight": 1
                    }
                  },
                  "geometry": {
                    "type": "Polygon",
                    "coordinates": [
                      [
                        [
                          -117.5992405,
                          47.6523048
                        ],
                        [
                          -117.5992409,
                          47.6524093
                        ],
                        [
                          -117.599153,
                          47.6524114
                        ],
                        [
                          -117.5991566,
                          47.652445
                        ],
                        [
                          -117.5991164,
                          47.6524462
                        ],
                        [
                          -117.5991204,
                          47.6524807
                        ],
                        [
                          -117.5991355,
                          47.6524814
                        ],
                        [
                          -117.5991357,
                          47.6525909
                        ],
                        [
                          -117.599118,
                          47.6525912
                        ],
                        [
                          -117.5991189,
                          47.6526267
                        ],
                        [
                          -117.5991551,
                          47.6526252
                        ],
                        [
                          -117.5991569,
                          47.6526505
                        ],
                        [
                          -117.5991189,
                          47.6526517
                        ],
                        [
                          -117.5991211,
                          47.6526874
                        ],
                        [
                          -117.5991352,
                          47.6526877
                        ],
                        [
                          -117.5991349,
                          47.6527617
                        ],
                        [
                          -117.599241,
                          47.6527629
                        ],
                        [
                          -117.5992415,
                          47.6527584
                        ],
                        [
                          -117.5993008,
                          47.652759
                        ],
                        [
                          -117.5993008,
                          47.6527665
                        ],
                        [
                          -117.5993691,
                          47.6527676
                        ],
                        [
                          -117.5993704,
                          47.6527385
                        ],
                        [
                          -117.5993665,
                          47.6527384
                        ],
                        [
                          -117.5993659,
                          47.652672
                        ],
                        [
                          -117.5993813,
                          47.6526716
                        ],
                        [
                          -117.599382,
                          47.6526074
                        ],
                        [
                          -117.5993665,
                          47.652607
                        ],
                        [
                          -117.5993665,
                          47.6524678
                        ],
                        [
                          -117.5993813,
                          47.6524678
                        ],
                        [
                          -117.5993826,
                          47.6524028
                        ],
                        [
                          -117.5993665,
                          47.6524028
                        ],
                        [
                          -117.5993665,
                          47.652335
                        ],
                        [
                          -117.5993719,
                          47.6523355
                        ],
                        [
                          -117.5993712,
                          47.6523034
                        ],
                        [
                          -117.5992405,
                          47.6523048
                        ]
                      ]
                    ]
                  },
                  "bbox": [
                    -117.5993826,
                    47.6523034,
                    -117.5991164,
                    47.6527676
                  ]
                },
                {
                  "id": "66",
                  "type": "Feature",
                  "properties": {
                    "id": "08b12db7032b0fff02008a5acd7011d8",
                    "height": 0.53065324,
                    "style": {
                      "color": "red",
                      "fillColor": "transparent",
                      "fillOpacity": 0.5,
                      "weight": 1
                    }
                  },
                  "geometry": {
                    "type": "Polygon",
                    "coordinates": [
                      [
                        [
                          -117.59866204147411,
                          47.65212923808938
                        ],
                        [
                          -117.59866181620718,
                          47.652084068162566
                        ],
                        [
                          -117.59812917500284,
                          47.652085298661795
                        ],
                        [
                          -117.59812940496275,
                          47.65213046857671
                        ],
                        [
                          -117.59866204147411,
                          47.65212923808938
                        ]
                      ]
                    ]
                  },
                  "bbox": [
                    -117.59866204147411,
                    47.652084068162566,
                    -117.59812917500284,
                    47.65213046857671
                  ]
                },
                {
                  "id": "67",
                  "type": "Feature",
                  "properties": {
                    "id": "08b12db70376bfff0200a8cffe9fae0c",
                    "height": 0.33773088,
                    "style": {
                      "color": "red",
                      "fillColor": "transparent",
                      "fillOpacity": 0.5,
                      "weight": 1
                    }
                  },
                  "geometry": {
                    "type": "Polygon",
                    "coordinates": [
                      [
                        [
                          -117.59898528971367,
                          47.652527580786995
                        ],
                        [
                          -117.59906037002764,
                          47.652528437407106
                        ],
                        [
                          -117.59906406661655,
                          47.65238141751594
                        ],
                        [
                          -117.59898898621358,
                          47.652380564432185
                        ],
                        [
                          -117.59898528971367,
                          47.652527580786995
                        ]
                      ]
                    ]
                  },
                  "bbox": [
                    -117.59906406661655,
                    47.652380564432185,
                    -117.59898528971367,
                    47.652528437407106
                  ]
                },
                {
                  "id": "68",
                  "type": "Feature",
                  "properties": {
                    "id": "08b12db7032b6fff02002d1198f1708f",
                    "height": 0.32926276,
                    "style": {
                      "color": "red",
                      "fillColor": "transparent",
                      "fillOpacity": 0.5,
                      "weight": 1
                    }
                  },
                  "geometry": {
                    "type": "Polygon",
                    "coordinates": [
                      [
                        [
                          -117.59879638090061,
                          47.652528597088796
                        ],
                        [
                          -117.59887032021754,
                          47.65252822060525
                        ],
                        [
                          -117.5988686780966,
                          47.65238187769392
                        ],
                        [
                          -117.59879472357574,
                          47.65238225425595
                        ],
                        [
                          -117.59879638090061,
                          47.652528597088796
                        ]
                      ]
                    ]
                  },
                  "bbox": [
                    -117.59887032021754,
                    47.65238187769392,
                    -117.59879472357574,
                    47.652528597088796
                  ]
                },
                {
                  "id": "69",
                  "type": "Feature",
                  "properties": {
                    "id": "08b12db7032b6fff02003ed7d7be6838",
                    "height": null,
                    "style": {
                      "color": "red",
                      "fillColor": "transparent",
                      "fillOpacity": 0.5,
                      "weight": 1
                    }
                  },
                  "geometry": {
                    "type": "Polygon",
                    "coordinates": [
                      [
                        [
                          -117.5986827,
                          47.6524065
                        ],
                        [
                          -117.5986825,
                          47.6523757
                        ],
                        [
                          -117.5986863,
                          47.6523757
                        ],
                        [
                          -117.5986863,
                          47.6523419
                        ],
                        [
                          -117.5986819,
                          47.6523419
                        ],
                        [
                          -117.598682,
                          47.6523153
                        ],
                        [
                          -117.5986086,
                          47.6523152
                        ],
                        [
                          -117.5986086,
                          47.6523046
                        ],
                        [
                          -117.5985317,
                          47.6523045
                        ],
                        [
                          -117.5985317,
                          47.6522818
                        ],
                        [
                          -117.5985,
                          47.6522818
                        ],
                        [
                          -117.5985001,
                          47.6522781
                        ],
                        [
                          -117.5984596,
                          47.6522782
                        ],
                        [
                          -117.5984596,
                          47.6522827
                        ],
                        [
                          -117.5984344,
                          47.6522827
                        ],
                        [
                          -117.5984345,
                          47.6523073
                        ],
                        [
                          -117.5983442,
                          47.6523075
                        ],
                        [
                          -117.5983447,
                          47.6524073
                        ],
                        [
                          -117.5986827,
                          47.6524065
                        ]
                      ]
                    ]
                  },
                  "bbox": [
                    -117.5986863,
                    47.6522781,
                    -117.5983442,
                    47.6524073
                  ]
                },
                {
                  "id": "70",
                  "type": "Feature",
                  "properties": {
                    "id": "08b12db7032b0fff0200321f41773d4a",
                    "height": null,
                    "style": {
                      "color": "red",
                      "fillColor": "transparent",
                      "fillOpacity": 0.5,
                      "weight": 1
                    }
                  },
                  "geometry": {
                    "type": "Polygon",
                    "coordinates": [
                      [
                        [
                          -117.5986195,
                          47.6520112
                        ],
                        [
                          -117.5986166,
                          47.6519377
                        ],
                        [
                          -117.5986393,
                          47.6519377
                        ],
                        [
                          -117.5986325,
                          47.6518538
                        ],
                        [
                          -117.5985876,
                          47.6518547
                        ],
                        [
                          -117.5985876,
                          47.6518586
                        ],
                        [
                          -117.5984863,
                          47.6518572
                        ],
                        [
                          -117.5984863,
                          47.6518464
                        ],
                        [
                          -117.5983901,
                          47.6518459
                        ],
                        [
                          -117.5983901,
                          47.6518572
                        ],
                        [
                          -117.5981845,
                          47.6518565
                        ],
                        [
                          -117.5981838,
                          47.6518468
                        ],
                        [
                          -117.5980893,
                          47.6518459
                        ],
                        [
                          -117.5980899,
                          47.6518565
                        ],
                        [
                          -117.5980008,
                          47.6518561
                        ],
                        [
                          -117.5980001,
                          47.651852
                        ],
                        [
                          -117.5979582,
                          47.6518522
                        ],
                        [
                          -117.5979599,
                          47.6519381
                        ],
                        [
                          -117.5980977,
                          47.6519381
                        ],
                        [
                          -117.5981014,
                          47.6519986
                        ],
                        [
                          -117.598153,
                          47.6519996
                        ],
                        [
                          -117.5981522,
                          47.652023
                        ],
                        [
                          -117.5982084,
                          47.652023
                        ],
                        [
                          -117.5982084,
                          47.6520116
                        ],
                        [
                          -117.5983679,
                          47.6520116
                        ],
                        [
                          -117.5983679,
                          47.6520235
                        ],
                        [
                          -117.5984241,
                          47.6520225
                        ],
                        [
                          -117.5984244,
                          47.6519993
                        ],
                        [
                          -117.5984565,
                          47.6519993
                        ],
                        [
                          -117.5984557,
                          47.652023
                        ],
                        [
                          -117.5985135,
                          47.652023
                        ],
                        [
                          -117.5985136,
                          47.6520112
                        ],
                        [
                          -117.5986195,
                          47.6520112
                        ]
                      ]
                    ]
                  },
                  "bbox": [
                    -117.5986393,
                    47.6518459,
                    -117.5979582,
                    47.6520235
                  ]
                },
                {
                  "id": "71",
                  "type": "Feature",
                  "properties": {
                    "id": "08b12db703769fff02006d7f7171c50a",
                    "height": 0.1056213,
                    "style": {
                      "color": "red",
                      "fillColor": "transparent",
                      "fillOpacity": 0.5,
                      "weight": 1
                    }
                  },
                  "geometry": {
                    "type": "Polygon",
                    "coordinates": [
                      [
                        [
                          -117.59899000698078,
                          47.65279969026813
                        ],
                        [
                          -117.59907313061888,
                          47.65279872228886
                        ],
                        [
                          -117.59906805977913,
                          47.652601129447675
                        ],
                        [
                          -117.59898493624156,
                          47.65260210134839
                        ],
                        [
                          -117.59899000698078,
                          47.65279969026813
                        ]
                      ]
                    ]
                  },
                  "bbox": [
                    -117.59907313061888,
                    47.652601129447675,
                    -117.59898493624156,
                    47.65279969026813
                  ]
                },
                {
                  "id": "72",
                  "type": "Feature",
                  "properties": {
                    "id": "08b12db703769fff0200fd11ca18afa4",
                    "height": 0,
                    "style": {
                      "color": "red",
                      "fillColor": "transparent",
                      "fillOpacity": 0.5,
                      "weight": 1
                    }
                  },
                  "geometry": {
                    "type": "Polygon",
                    "coordinates": [
                      [
                        [
                          -117.59879829628782,
                          47.652836555629825
                        ],
                        [
                          -117.59887070735456,
                          47.652836023063365
                        ],
                        [
                          -117.59886690735388,
                          47.65260006213423
                        ],
                        [
                          -117.59879449623217,
                          47.65260059128957
                        ],
                        [
                          -117.59879829628782,
                          47.652836555629825
                        ]
                      ]
                    ]
                  },
                  "bbox": [
                    -117.59887070735456,
                    47.65260006213423,
                    -117.59879449623217,
                    47.652836555629825
                  ]
                },
                {
                  "id": "73",
                  "type": "Feature",
                  "properties": {
                    "id": "08b12db703769fff02009ad684225427",
                    "height": null,
                    "style": {
                      "color": "red",
                      "fillColor": "transparent",
                      "fillOpacity": 0.5,
                      "weight": 1
                    }
                  },
                  "geometry": {
                    "type": "Polygon",
                    "coordinates": [
                      [
                        [
                          -117.5985528,
                          47.6529651
                        ],
                        [
                          -117.5985525,
                          47.6528529
                        ],
                        [
                          -117.5986365,
                          47.6528528
                        ],
                        [
                          -117.5986364,
                          47.6528206
                        ],
                        [
                          -117.5986726,
                          47.6528206
                        ],
                        [
                          -117.5986726,
                          47.6527892
                        ],
                        [
                          -117.5986557,
                          47.6527892
                        ],
                        [
                          -117.5986555,
                          47.6526785
                        ],
                        [
                          -117.598674,
                          47.6526785
                        ],
                        [
                          -117.5986739,
                          47.6526417
                        ],
                        [
                          -117.59864,
                          47.6526417
                        ],
                        [
                          -117.59864,
                          47.6526246
                        ],
                        [
                          -117.5986837,
                          47.6526245
                        ],
                        [
                          -117.5986836,
                          47.6525821
                        ],
                        [
                          -117.5986684,
                          47.6525821
                        ],
                        [
                          -117.5986683,
                          47.6525075
                        ],
                        [
                          -117.5985519,
                          47.6525077
                        ],
                        [
                          -117.5985519,
                          47.6524998
                        ],
                        [
                          -117.5984233,
                          47.6524999
                        ],
                        [
                          -117.5984234,
                          47.6525289
                        ],
                        [
                          -117.5984304,
                          47.6525289
                        ],
                        [
                          -117.5984306,
                          47.6526011
                        ],
                        [
                          -117.5984137,
                          47.6526012
                        ],
                        [
                          -117.5984139,
                          47.6526645
                        ],
                        [
                          -117.5984297,
                          47.6526645
                        ],
                        [
                          -117.59843,
                          47.6528034
                        ],
                        [
                          -117.5984126,
                          47.6528035
                        ],
                        [
                          -117.5984127,
                          47.6528678
                        ],
                        [
                          -117.5984291,
                          47.6528677
                        ],
                        [
                          -117.5984293,
                          47.6529353
                        ],
                        [
                          -117.5984242,
                          47.6529353
                        ],
                        [
                          -117.5984243,
                          47.6529652
                        ],
                        [
                          -117.5985528,
                          47.6529651
                        ]
                      ]
                    ]
                  },
                  "bbox": [
                    -117.5986837,
                    47.6524998,
                    -117.5984126,
                    47.6529652
                  ]
                },
                {
                  "id": "74",
                  "type": "Feature",
                  "properties": {
                    "id": "08b12db703775fff020097a245f144b2",
                    "height": null,
                    "style": {
                      "color": "red",
                      "fillColor": "transparent",
                      "fillOpacity": 0.5,
                      "weight": 1
                    }
                  },
                  "geometry": {
                    "type": "Polygon",
                    "coordinates": [
                      [
                        [
                          -117.6017981,
                          47.6535321
                        ],
                        [
                          -117.6016525,
                          47.6535322
                        ],
                        [
                          -117.6016526,
                          47.6535732
                        ],
                        [
                          -117.6016705,
                          47.6535732
                        ],
                        [
                          -117.6016705,
                          47.6535769
                        ],
                        [
                          -117.6016458,
                          47.653577
                        ],
                        [
                          -117.6016459,
                          47.6536176
                        ],
                        [
                          -117.6016853,
                          47.6536176
                        ],
                        [
                          -117.6016853,
                          47.6536354
                        ],
                        [
                          -117.6016522,
                          47.6536354
                        ],
                        [
                          -117.6016522,
                          47.6536736
                        ],
                        [
                          -117.6016707,
                          47.6536736
                        ],
                        [
                          -117.6016707,
                          47.6536776
                        ],
                        [
                          -117.6016458,
                          47.6536777
                        ],
                        [
                          -117.6016458,
                          47.6537185
                        ],
                        [
                          -117.6016855,
                          47.6537184
                        ],
                        [
                          -117.6016856,
                          47.6537422
                        ],
                        [
                          -117.6017876,
                          47.6537421
                        ],
                        [
                          -117.6017876,
                          47.6537169
                        ],
                        [
                          -117.601798,
                          47.6537168
                        ],
                        [
                          -117.6017979,
                          47.6536355
                        ],
                        [
                          -117.6017885,
                          47.6536355
                        ],
                        [
                          -117.6017885,
                          47.6536177
                        ],
                        [
                          -117.6017982,
                          47.6536177
                        ],
                        [
                          -117.6017981,
                          47.6535321
                        ]
                      ]
                    ]
                  },
                  "bbox": [
                    -117.6017982,
                    47.6535321,
                    -117.6016458,
                    47.6537422
                  ]
                },
                {
                  "id": "75",
                  "type": "Feature",
                  "properties": {
                    "id": "08b12db703762fff0200633ad8a4f03f",
                    "height": null,
                    "style": {
                      "color": "red",
                      "fillColor": "transparent",
                      "fillOpacity": 0.5,
                      "weight": 1
                    }
                  },
                  "geometry": {
                    "type": "Polygon",
                    "coordinates": [
                      [
                        [
                          -117.6010375,
                          47.653743
                        ],
                        [
                          -117.6011831,
                          47.6537429
                        ],
                        [
                          -117.6011831,
                          47.6537019
                        ],
                        [
                          -117.6011652,
                          47.6537019
                        ],
                        [
                          -117.6011652,
                          47.6536982
                        ],
                        [
                          -117.6011898,
                          47.6536982
                        ],
                        [
                          -117.6011898,
                          47.6536575
                        ],
                        [
                          -117.6011504,
                          47.6536575
                        ],
                        [
                          -117.6011503,
                          47.6536397
                        ],
                        [
                          -117.6011835,
                          47.6536397
                        ],
                        [
                          -117.6011834,
                          47.6536015
                        ],
                        [
                          -117.6011649,
                          47.6536015
                        ],
                        [
                          -117.6011649,
                          47.6535975
                        ],
                        [
                          -117.6011899,
                          47.6535974
                        ],
                        [
                          -117.6011898,
                          47.6535566
                        ],
                        [
                          -117.6011501,
                          47.6535567
                        ],
                        [
                          -117.6011501,
                          47.6535329
                        ],
                        [
                          -117.601048,
                          47.653533
                        ],
                        [
                          -117.6010481,
                          47.6535583
                        ],
                        [
                          -117.6010376,
                          47.6535583
                        ],
                        [
                          -117.6010378,
                          47.6536396
                        ],
                        [
                          -117.6010471,
                          47.6536396
                        ],
                        [
                          -117.6010472,
                          47.6536574
                        ],
                        [
                          -117.6010374,
                          47.6536574
                        ],
                        [
                          -117.6010375,
                          47.653743
                        ]
                      ]
                    ]
                  },
                  "bbox": [
                    -117.6011899,
                    47.6535329,
                    -117.6010374,
                    47.653743
                  ]
                },
                {
                  "id": "76",
                  "type": "Feature",
                  "properties": {
                    "id": "08b12db703760fff0200b14d7bdd73ad",
                    "height": null,
                    "style": {
                      "color": "red",
                      "fillColor": "transparent",
                      "fillOpacity": 0.5,
                      "weight": 1
                    }
                  },
                  "geometry": {
                    "type": "Polygon",
                    "coordinates": [
                      [
                        [
                          -117.6007157,
                          47.6536522
                        ],
                        [
                          -117.6007159,
                          47.6535535
                        ],
                        [
                          -117.60058,
                          47.6535534
                        ],
                        [
                          -117.6005798,
                          47.653652
                        ],
                        [
                          -117.6007157,
                          47.6536522
                        ]
                      ]
                    ]
                  },
                  "bbox": [
                    -117.6007159,
                    47.6535534,
                    -117.6005798,
                    47.6536522
                  ]
                },
                {
                  "id": "77",
                  "type": "Feature",
                  "properties": {
                    "id": "08b12db7030dbfff0200a6893b4af343",
                    "height": null,
                    "style": {
                      "color": "red",
                      "fillColor": "transparent",
                      "fillOpacity": 0.5,
                      "weight": 1
                    }
                  },
                  "geometry": {
                    "type": "Polygon",
                    "coordinates": [
                      [
                        [
                          -117.6017975,
                          47.6538607
                        ],
                        [
                          -117.6016519,
                          47.6538607
                        ],
                        [
                          -117.6016519,
                          47.6539018
                        ],
                        [
                          -117.6016698,
                          47.6539018
                        ],
                        [
                          -117.6016698,
                          47.6539055
                        ],
                        [
                          -117.6016451,
                          47.6539055
                        ],
                        [
                          -117.6016452,
                          47.6539462
                        ],
                        [
                          -117.6016846,
                          47.6539462
                        ],
                        [
                          -117.6016847,
                          47.653964
                        ],
                        [
                          -117.6016515,
                          47.653964
                        ],
                        [
                          -117.6016516,
                          47.6540021
                        ],
                        [
                          -117.6016701,
                          47.6540021
                        ],
                        [
                          -117.6016701,
                          47.6540062
                        ],
                        [
                          -117.6016451,
                          47.6540062
                        ],
                        [
                          -117.6016452,
                          47.654047
                        ],
                        [
                          -117.6016849,
                          47.654047
                        ],
                        [
                          -117.6016849,
                          47.6540708
                        ],
                        [
                          -117.601787,
                          47.6540707
                        ],
                        [
                          -117.6017869,
                          47.6540454
                        ],
                        [
                          -117.6017974,
                          47.6540454
                        ],
                        [
                          -117.6017972,
                          47.653964
                        ],
                        [
                          -117.6017879,
                          47.653964
                        ],
                        [
                          -117.6017878,
                          47.6539463
                        ],
                        [
                          -117.6017975,
                          47.6539463
                        ],
                        [
                          -117.6017975,
                          47.6538607
                        ]
                      ]
                    ]
                  },
                  "bbox": [
                    -117.6017975,
                    47.6538607,
                    -117.6016451,
                    47.6540708
                  ]
                },
                {
                  "id": "78",
                  "type": "Feature",
                  "properties": {
                    "id": "08b12db703766fff02001d4f87de972c",
                    "height": null,
                    "style": {
                      "color": "red",
                      "fillColor": "transparent",
                      "fillOpacity": 0.5,
                      "weight": 1
                    }
                  },
                  "geometry": {
                    "type": "Polygon",
                    "coordinates": [
                      [
                        [
                          -117.6010375,
                          47.6540719
                        ],
                        [
                          -117.6011831,
                          47.6540718
                        ],
                        [
                          -117.6011831,
                          47.6540307
                        ],
                        [
                          -117.6011652,
                          47.6540307
                        ],
                        [
                          -117.6011652,
                          47.654027
                        ],
                        [
                          -117.6011898,
                          47.654027
                        ],
                        [
                          -117.6011898,
                          47.6539863
                        ],
                        [
                          -117.6011503,
                          47.6539864
                        ],
                        [
                          -117.6011503,
                          47.6539686
                        ],
                        [
                          -117.6011835,
                          47.6539686
                        ],
                        [
                          -117.6011834,
                          47.6539304
                        ],
                        [
                          -117.6011649,
                          47.6539304
                        ],
                        [
                          -117.6011649,
                          47.6539263
                        ],
                        [
                          -117.6011899,
                          47.6539263
                        ],
                        [
                          -117.6011898,
                          47.6538855
                        ],
                        [
                          -117.6011501,
                          47.6538855
                        ],
                        [
                          -117.6011501,
                          47.6538618
                        ],
                        [
                          -117.601048,
                          47.6538619
                        ],
                        [
                          -117.6010481,
                          47.6538871
                        ],
                        [
                          -117.6010376,
                          47.6538871
                        ],
                        [
                          -117.6010378,
                          47.6539685
                        ],
                        [
                          -117.6010471,
                          47.6539685
                        ],
                        [
                          -117.6010472,
                          47.6539863
                        ],
                        [
                          -117.6010374,
                          47.6539863
                        ],
                        [
                          -117.6010375,
                          47.6540719
                        ]
                      ]
                    ]
                  },
                  "bbox": [
                    -117.6011899,
                    47.6538618,
                    -117.6010374,
                    47.6540719
                  ]
                },
                {
                  "id": "79",
                  "type": "Feature",
                  "properties": {
                    "id": "08b12db7030d8fff0200035a29d0734b",
                    "height": null,
                    "style": {
                      "color": "red",
                      "fillColor": "transparent",
                      "fillOpacity": 0.5,
                      "weight": 1
                    }
                  },
                  "geometry": {
                    "type": "Polygon",
                    "coordinates": [
                      [
                        [
                          -117.6017983,
                          47.6541895
                        ],
                        [
                          -117.6016527,
                          47.6541896
                        ],
                        [
                          -117.6016528,
                          47.6542306
                        ],
                        [
                          -117.6016707,
                          47.6542306
                        ],
                        [
                          -117.6016707,
                          47.6542344
                        ],
                        [
                          -117.601646,
                          47.6542344
                        ],
                        [
                          -117.601646,
                          47.6542751
                        ],
                        [
                          -117.6016855,
                          47.654275
                        ],
                        [
                          -117.6016855,
                          47.6542928
                        ],
                        [
                          -117.6016524,
                          47.6542928
                        ],
                        [
                          -117.6016524,
                          47.654331
                        ],
                        [
                          -117.6016709,
                          47.654331
                        ],
                        [
                          -117.6016709,
                          47.6543351
                        ],
                        [
                          -117.601646,
                          47.6543351
                        ],
                        [
                          -117.601646,
                          47.6543759
                        ],
                        [
                          -117.6016857,
                          47.6543759
                        ],
                        [
                          -117.6016857,
                          47.6543996
                        ],
                        [
                          -117.6017878,
                          47.6543995
                        ],
                        [
                          -117.6017878,
                          47.6543743
                        ],
                        [
                          -117.6017982,
                          47.6543743
                        ],
                        [
                          -117.6017981,
                          47.6542929
                        ],
                        [
                          -117.6017887,
                          47.6542929
                        ],
                        [
                          -117.6017887,
                          47.6542751
                        ],
                        [
                          -117.6017984,
                          47.6542751
                        ],
                        [
                          -117.6017983,
                          47.6541895
                        ]
                      ]
                    ]
                  },
                  "bbox": [
                    -117.6017984,
                    47.6541895,
                    -117.601646,
                    47.6543996
                  ]
                },
                {
                  "id": "80",
                  "type": "Feature",
                  "properties": {
                    "id": "08b12db7030d9fff02000e84cf890aab",
                    "height": null,
                    "style": {
                      "color": "red",
                      "fillColor": "transparent",
                      "fillOpacity": 0.5,
                      "weight": 1
                    }
                  },
                  "geometry": {
                    "type": "Polygon",
                    "coordinates": [
                      [
                        [
                          -117.6010359,
                          47.6544002
                        ],
                        [
                          -117.6011814,
                          47.6544001
                        ],
                        [
                          -117.6011814,
                          47.654359
                        ],
                        [
                          -117.6011635,
                          47.654359
                        ],
                        [
                          -117.6011635,
                          47.6543553
                        ],
                        [
                          -117.6011882,
                          47.6543553
                        ],
                        [
                          -117.6011881,
                          47.6543146
                        ],
                        [
                          -117.6011487,
                          47.6543146
                        ],
                        [
                          -117.6011486,
                          47.6542969
                        ],
                        [
                          -117.6011818,
                          47.6542968
                        ],
                        [
                          -117.6011817,
                          47.6542587
                        ],
                        [
                          -117.6011632,
                          47.6542587
                        ],
                        [
                          -117.6011632,
                          47.6542546
                        ],
                        [
                          -117.6011882,
                          47.6542546
                        ],
                        [
                          -117.6011881,
                          47.6542138
                        ],
                        [
                          -117.6011484,
                          47.6542138
                        ],
                        [
                          -117.6011484,
                          47.6541901
                        ],
                        [
                          -117.6010463,
                          47.6541901
                        ],
                        [
                          -117.6010464,
                          47.6542154
                        ],
                        [
                          -117.6010359,
                          47.6542154
                        ],
                        [
                          -117.6010361,
                          47.6542968
                        ],
                        [
                          -117.6010455,
                          47.6542968
                        ],
                        [
                          -117.6010455,
                          47.6543146
                        ],
                        [
                          -117.6010358,
                          47.6543146
                        ],
                        [
                          -117.6010359,
                          47.6544002
                        ]
                      ]
                    ]
                  },
                  "bbox": [
                    -117.6011882,
                    47.6541901,
                    -117.6010358,
                    47.6544002
                  ]
                },
                {
                  "id": "81",
                  "type": "Feature",
                  "properties": {
                    "id": "08b12db703764fff0200ca54da42993b",
                    "height": null,
                    "style": {
                      "color": "red",
                      "fillColor": "transparent",
                      "fillOpacity": 0.5,
                      "weight": 1
                    }
                  },
                  "geometry": {
                    "type": "Polygon",
                    "coordinates": [
                      [
                        [
                          -117.600673,
                          47.6540031
                        ],
                        [
                          -117.600673,
                          47.6539648
                        ],
                        [
                          -117.6006634,
                          47.6539648
                        ],
                        [
                          -117.6006634,
                          47.6539448
                        ],
                        [
                          -117.6006739,
                          47.6539448
                        ],
                        [
                          -117.6006738,
                          47.6539027
                        ],
                        [
                          -117.6005206,
                          47.6539028
                        ],
                        [
                          -117.6005206,
                          47.6539456
                        ],
                        [
                          -117.6005599,
                          47.6539456
                        ],
                        [
                          -117.6005599,
                          47.6539634
                        ],
                        [
                          -117.6005212,
                          47.6539634
                        ],
                        [
                          -117.6005212,
                          47.6540038
                        ],
                        [
                          -117.6005614,
                          47.6540038
                        ],
                        [
                          -117.6005614,
                          47.6540283
                        ],
                        [
                          -117.6006639,
                          47.6540283
                        ],
                        [
                          -117.6006638,
                          47.6540031
                        ],
                        [
                          -117.600673,
                          47.6540031
                        ]
                      ]
                    ]
                  },
                  "bbox": [
                    -117.6006739,
                    47.6539027,
                    -117.6005206,
                    47.6540283
                  ]
                },
                {
                  "id": "82",
                  "type": "Feature",
                  "properties": {
                    "id": "08b12db7030cafff020017121ec811af",
                    "height": null,
                    "style": {
                      "color": "red",
                      "fillColor": "transparent",
                      "fillOpacity": 0.5,
                      "weight": 1
                    }
                  },
                  "geometry": {
                    "type": "Polygon",
                    "coordinates": [
                      [
                        [
                          -117.6006753,
                          47.6543398
                        ],
                        [
                          -117.6006749,
                          47.6542481
                        ],
                        [
                          -117.6005257,
                          47.6542484
                        ],
                        [
                          -117.6005259,
                          47.6542879
                        ],
                        [
                          -117.6005454,
                          47.6542878
                        ],
                        [
                          -117.6005454,
                          47.6542926
                        ],
                        [
                          -117.6005271,
                          47.6542926
                        ],
                        [
                          -117.6005272,
                          47.6543308
                        ],
                        [
                          -117.600545,
                          47.6543307
                        ],
                        [
                          -117.600545,
                          47.6543401
                        ],
                        [
                          -117.6006753,
                          47.6543398
                        ]
                      ]
                    ]
                  },
                  "bbox": [
                    -117.6006753,
                    47.6542481,
                    -117.6005257,
                    47.6543401
                  ]
                },
                {
                  "id": "83",
                  "type": "Feature",
                  "properties": {
                    "id": "08b12db7030d8fff0200d2457f85f065",
                    "height": null,
                    "style": {
                      "color": "red",
                      "fillColor": "transparent",
                      "fillOpacity": 0.5,
                      "weight": 1
                    }
                  },
                  "geometry": {
                    "type": "Polygon",
                    "coordinates": [
                      [
                        [
                          -117.6017975,
                          47.6545189
                        ],
                        [
                          -117.6016519,
                          47.654519
                        ],
                        [
                          -117.6016519,
                          47.6545601
                        ],
                        [
                          -117.6016698,
                          47.6545601
                        ],
                        [
                          -117.6016698,
                          47.6545638
                        ],
                        [
                          -117.6016451,
                          47.6545638
                        ],
                        [
                          -117.6016452,
                          47.6546045
                        ],
                        [
                          -117.6016846,
                          47.6546044
                        ],
                        [
                          -117.6016847,
                          47.6546222
                        ],
                        [
                          -117.6016515,
                          47.6546222
                        ],
                        [
                          -117.6016516,
                          47.6546604
                        ],
                        [
                          -117.6016701,
                          47.6546604
                        ],
                        [
                          -117.6016701,
                          47.6546645
                        ],
                        [
                          -117.6016451,
                          47.6546645
                        ],
                        [
                          -117.6016452,
                          47.6547053
                        ],
                        [
                          -117.6016849,
                          47.6547053
                        ],
                        [
                          -117.6016849,
                          47.654729
                        ],
                        [
                          -117.601787,
                          47.654729
                        ],
                        [
                          -117.6017869,
                          47.6547037
                        ],
                        [
                          -117.6017974,
                          47.6547037
                        ],
                        [
                          -117.6017972,
                          47.6546223
                        ],
                        [
                          -117.6017879,
                          47.6546223
                        ],
                        [
                          -117.6017878,
                          47.6546045
                        ],
                        [
                          -117.6017975,
                          47.6546045
                        ],
                        [
                          -117.6017975,
                          47.6545189
                        ]
                      ]
                    ]
                  },
                  "bbox": [
                    -117.6017975,
                    47.6545189,
                    -117.6016451,
                    47.654729
                  ]
                },
                {
                  "id": "84",
                  "type": "Feature",
                  "properties": {
                    "id": "08b12db7030ddfff0200f691d5ab1ed2",
                    "height": null,
                    "style": {
                      "color": "red",
                      "fillColor": "transparent",
                      "fillOpacity": 0.5,
                      "weight": 1
                    }
                  },
                  "geometry": {
                    "type": "Polygon",
                    "coordinates": [
                      [
                        [
                          -117.6010367,
                          47.6547284
                        ],
                        [
                          -117.6011823,
                          47.6547284
                        ],
                        [
                          -117.6011822,
                          47.6546873
                        ],
                        [
                          -117.6011643,
                          47.6546873
                        ],
                        [
                          -117.6011643,
                          47.6546836
                        ],
                        [
                          -117.601189,
                          47.6546836
                        ],
                        [
                          -117.601189,
                          47.6546429
                        ],
                        [
                          -117.6011495,
                          47.6546429
                        ],
                        [
                          -117.6011495,
                          47.6546251
                        ],
                        [
                          -117.6011826,
                          47.6546251
                        ],
                        [
                          -117.6011826,
                          47.654587
                        ],
                        [
                          -117.6011641,
                          47.654587
                        ],
                        [
                          -117.6011641,
                          47.6545829
                        ],
                        [
                          -117.601189,
                          47.6545829
                        ],
                        [
                          -117.601189,
                          47.6545421
                        ],
                        [
                          -117.6011493,
                          47.6545421
                        ],
                        [
                          -117.6011492,
                          47.6545183
                        ],
                        [
                          -117.6010472,
                          47.6545184
                        ],
                        [
                          -117.6010472,
                          47.6545437
                        ],
                        [
                          -117.6010368,
                          47.6545437
                        ],
                        [
                          -117.6010369,
                          47.6546251
                        ],
                        [
                          -117.6010463,
                          47.6546251
                        ],
                        [
                          -117.6010463,
                          47.6546428
                        ],
                        [
                          -117.6010366,
                          47.6546428
                        ],
                        [
                          -117.6010367,
                          47.6547284
                        ]
                      ]
                    ]
                  },
                  "bbox": [
                    -117.601189,
                    47.6545183,
                    -117.6010366,
                    47.6547284
                  ]
                },
                {
                  "id": "85",
                  "type": "Feature",
                  "properties": {
                    "id": "08b12db7030dcfff02002954144fd180",
                    "height": null,
                    "style": {
                      "color": "red",
                      "fillColor": "transparent",
                      "fillOpacity": 0.5,
                      "weight": 1
                    }
                  },
                  "geometry": {
                    "type": "Polygon",
                    "coordinates": [
                      [
                        [
                          -117.6017975,
                          47.6548466
                        ],
                        [
                          -117.6016519,
                          47.6548467
                        ],
                        [
                          -117.6016519,
                          47.6548878
                        ],
                        [
                          -117.6016698,
                          47.6548878
                        ],
                        [
                          -117.6016698,
                          47.6548915
                        ],
                        [
                          -117.6016451,
                          47.6548915
                        ],
                        [
                          -117.6016452,
                          47.6549322
                        ],
                        [
                          -117.6016846,
                          47.6549322
                        ],
                        [
                          -117.6016847,
                          47.6549499
                        ],
                        [
                          -117.6016515,
                          47.65495
                        ],
                        [
                          -117.6016516,
                          47.6549881
                        ],
                        [
                          -117.6016701,
                          47.6549881
                        ],
                        [
                          -117.6016701,
                          47.6549922
                        ],
                        [
                          -117.6016451,
                          47.6549922
                        ],
                        [
                          -117.6016452,
                          47.655033
                        ],
                        [
                          -117.6016849,
                          47.655033
                        ],
                        [
                          -117.6016849,
                          47.6550567
                        ],
                        [
                          -117.601787,
                          47.6550567
                        ],
                        [
                          -117.6017869,
                          47.6550314
                        ],
                        [
                          -117.6017974,
                          47.6550314
                        ],
                        [
                          -117.6017972,
                          47.65495
                        ],
                        [
                          -117.6017879,
                          47.65495
                        ],
                        [
                          -117.6017878,
                          47.6549322
                        ],
                        [
                          -117.6017975,
                          47.6549322
                        ],
                        [
                          -117.6017975,
                          47.6548466
                        ]
                      ]
                    ]
                  },
                  "bbox": [
                    -117.6017975,
                    47.6548466,
                    -117.6016451,
                    47.6550567
                  ]
                },
                {
                  "id": "86",
                  "type": "Feature",
                  "properties": {
                    "id": "08b12db7030c3fff02006ecbdfb690a1",
                    "height": null,
                    "style": {
                      "color": "red",
                      "fillColor": "transparent",
                      "fillOpacity": 0.5,
                      "weight": 1
                    }
                  },
                  "geometry": {
                    "type": "Polygon",
                    "coordinates": [
                      [
                        [
                          -117.6010359,
                          47.6550579
                        ],
                        [
                          -117.6011814,
                          47.6550578
                        ],
                        [
                          -117.6011814,
                          47.6550167
                        ],
                        [
                          -117.6011635,
                          47.6550167
                        ],
                        [
                          -117.6011635,
                          47.655013
                        ],
                        [
                          -117.6011882,
                          47.655013
                        ],
                        [
                          -117.6011881,
                          47.6549723
                        ],
                        [
                          -117.6011487,
                          47.6549723
                        ],
                        [
                          -117.6011486,
                          47.6549546
                        ],
                        [
                          -117.6011818,
                          47.6549545
                        ],
                        [
                          -117.6011817,
                          47.6549164
                        ],
                        [
                          -117.6011632,
                          47.6549164
                        ],
                        [
                          -117.6011632,
                          47.6549123
                        ],
                        [
                          -117.6011882,
                          47.6549123
                        ],
                        [
                          -117.6011881,
                          47.6548715
                        ],
                        [
                          -117.6011484,
                          47.6548715
                        ],
                        [
                          -117.6011484,
                          47.6548478
                        ],
                        [
                          -117.6010463,
                          47.6548478
                        ],
                        [
                          -117.6010464,
                          47.6548731
                        ],
                        [
                          -117.6010359,
                          47.6548731
                        ],
                        [
                          -117.6010361,
                          47.6549545
                        ],
                        [
                          -117.6010455,
                          47.6549545
                        ],
                        [
                          -117.6010455,
                          47.6549723
                        ],
                        [
                          -117.6010358,
                          47.6549723
                        ],
                        [
                          -117.6010359,
                          47.6550579
                        ]
                      ]
                    ]
                  },
                  "bbox": [
                    -117.6011882,
                    47.6548478,
                    -117.6010358,
                    47.6550579
                  ]
                },
                {
                  "id": "87",
                  "type": "Feature",
                  "properties": {
                    "id": "08b12db7030cafff0200dc14be4bf4c0",
                    "height": null,
                    "style": {
                      "color": "red",
                      "fillColor": "transparent",
                      "fillOpacity": 0.5,
                      "weight": 1
                    }
                  },
                  "geometry": {
                    "type": "Polygon",
                    "coordinates": [
                      [
                        [
                          -117.6006722,
                          47.6545616
                        ],
                        [
                          -117.6005207,
                          47.6545619
                        ],
                        [
                          -117.6005209,
                          47.6546036
                        ],
                        [
                          -117.6005602,
                          47.6546035
                        ],
                        [
                          -117.6005603,
                          47.6546217
                        ],
                        [
                          -117.6005212,
                          47.6546218
                        ],
                        [
                          -117.6005214,
                          47.6546622
                        ],
                        [
                          -117.6005603,
                          47.6546621
                        ],
                        [
                          -117.6005604,
                          47.6546871
                        ],
                        [
                          -117.6006628,
                          47.6546869
                        ],
                        [
                          -117.6006627,
                          47.6546626
                        ],
                        [
                          -117.6006728,
                          47.6546626
                        ],
                        [
                          -117.6006726,
                          47.6546217
                        ],
                        [
                          -117.6006624,
                          47.6546217
                        ],
                        [
                          -117.6006623,
                          47.6546026
                        ],
                        [
                          -117.6006724,
                          47.6546026
                        ],
                        [
                          -117.6006722,
                          47.6545616
                        ]
                      ]
                    ]
                  },
                  "bbox": [
                    -117.6006728,
                    47.6545616,
                    -117.6005207,
                    47.6546871
                  ]
                },
                {
                  "id": "88",
                  "type": "Feature",
                  "properties": {
                    "id": "08b12db7030cefff0200444b2f259d85",
                    "height": null,
                    "style": {
                      "color": "red",
                      "fillColor": "transparent",
                      "fillOpacity": 0.5,
                      "weight": 1
                    }
                  },
                  "geometry": {
                    "type": "Polygon",
                    "coordinates": [
                      [
                        [
                          -117.600674,
                          47.6549984
                        ],
                        [
                          -117.6006736,
                          47.6549068
                        ],
                        [
                          -117.6005244,
                          47.654907
                        ],
                        [
                          -117.6005246,
                          47.6549465
                        ],
                        [
                          -117.6005441,
                          47.6549465
                        ],
                        [
                          -117.6005441,
                          47.6549512
                        ],
                        [
                          -117.6005258,
                          47.6549513
                        ],
                        [
                          -117.600526,
                          47.6549894
                        ],
                        [
                          -117.6005437,
                          47.6549894
                        ],
                        [
                          -117.6005437,
                          47.6549987
                        ],
                        [
                          -117.600674,
                          47.6549984
                        ]
                      ]
                    ]
                  },
                  "bbox": [
                    -117.600674,
                    47.6549068,
                    -117.6005244,
                    47.6549987
                  ]
                },
                {
                  "id": "89",
                  "type": "Feature",
                  "properties": {
                    "id": "08b12db703761fff0200760664a100a4",
                    "height": null,
                    "style": {
                      "color": "red",
                      "fillColor": "transparent",
                      "fillOpacity": 0.5,
                      "weight": 1
                    }
                  },
                  "geometry": {
                    "type": "Polygon",
                    "coordinates": [
                      [
                        [
                          -117.5999682,
                          47.6537201
                        ],
                        [
                          -117.5999682,
                          47.6536207
                        ],
                        [
                          -117.5999313,
                          47.6536207
                        ],
                        [
                          -117.5999313,
                          47.6536109
                        ],
                        [
                          -117.5998533,
                          47.6536109
                        ],
                        [
                          -117.5998533,
                          47.6536425
                        ],
                        [
                          -117.5998287,
                          47.6536425
                        ],
                        [
                          -117.5998287,
                          47.6536315
                        ],
                        [
                          -117.5997515,
                          47.6536315
                        ],
                        [
                          -117.5997515,
                          47.6537201
                        ],
                        [
                          -117.5999682,
                          47.6537201
                        ]
                      ]
                    ]
                  },
                  "bbox": [
                    -117.5999682,
                    47.6536109,
                    -117.5997515,
                    47.6537201
                  ]
                },
                {
                  "id": "90",
                  "type": "Feature",
                  "properties": {
                    "id": "08b12db703765fff02005a97e2c9e5e2",
                    "height": null,
                    "style": {
                      "color": "red",
                      "fillColor": "transparent",
                      "fillOpacity": 0.5,
                      "weight": 1
                    }
                  },
                  "geometry": {
                    "type": "Polygon",
                    "coordinates": [
                      [
                        [
                          -117.6000196,
                          47.6538964
                        ],
                        [
                          -117.6000197,
                          47.6538765
                        ],
                        [
                          -117.6000274,
                          47.6538765
                        ],
                        [
                          -117.6000275,
                          47.6538365
                        ],
                        [
                          -117.6000208,
                          47.6538365
                        ],
                        [
                          -117.6000209,
                          47.6537984
                        ],
                        [
                          -117.5997746,
                          47.6537981
                        ],
                        [
                          -117.5997746,
                          47.653818
                        ],
                        [
                          -117.5997185,
                          47.6538179
                        ],
                        [
                          -117.5997182,
                          47.6538964
                        ],
                        [
                          -117.5997755,
                          47.6538965
                        ],
                        [
                          -117.5997754,
                          47.6539239
                        ],
                        [
                          -117.5998263,
                          47.653924
                        ],
                        [
                          -117.5998264,
                          47.6539128
                        ],
                        [
                          -117.5999237,
                          47.6539129
                        ],
                        [
                          -117.5999236,
                          47.6539239
                        ],
                        [
                          -117.5999802,
                          47.653924
                        ],
                        [
                          -117.5999803,
                          47.6538963
                        ],
                        [
                          -117.6000196,
                          47.6538964
                        ]
                      ]
                    ]
                  },
                  "bbox": [
                    -117.6000275,
                    47.6537981,
                    -117.5997182,
                    47.653924
                  ]
                },
                {
                  "id": "91",
                  "type": "Feature",
                  "properties": {
                    "id": "08b12db703392fff020022ffcb2e9198",
                    "height": null,
                    "style": {
                      "color": "red",
                      "fillColor": "transparent",
                      "fillOpacity": 0.5,
                      "weight": 1
                    }
                  },
                  "geometry": {
                    "type": "Polygon",
                    "coordinates": [
                      [
                        [
                          -117.5994104,
                          47.6537168
                        ],
                        [
                          -117.5994268,
                          47.6536355
                        ],
                        [
                          -117.599394,
                          47.6536325
                        ],
                        [
                          -117.5993957,
                          47.6536244
                        ],
                        [
                          -117.5993223,
                          47.6536176
                        ],
                        [
                          -117.5993204,
                          47.6536269
                        ],
                        [
                          -117.5992972,
                          47.6536248
                        ],
                        [
                          -117.599299,
                          47.6536158
                        ],
                        [
                          -117.599222,
                          47.6536087
                        ],
                        [
                          -117.5992039,
                          47.6536978
                        ],
                        [
                          -117.5994104,
                          47.6537168
                        ]
                      ]
                    ]
                  },
                  "bbox": [
                    -117.5994268,
                    47.6536087,
                    -117.5992039,
                    47.6537168
                  ]
                },
                {
                  "id": "92",
                  "type": "Feature",
                  "properties": {
                    "id": "08b12db703392fff02002b8d1ab6c429",
                    "height": null,
                    "style": {
                      "color": "red",
                      "fillColor": "transparent",
                      "fillOpacity": 0.5,
                      "weight": 1
                    }
                  },
                  "geometry": {
                    "type": "Polygon",
                    "coordinates": [
                      [
                        [
                          -117.5993507,
                          47.653907
                        ],
                        [
                          -117.5993728,
                          47.6538192
                        ],
                        [
                          -117.5993426,
                          47.6538158
                        ],
                        [
                          -117.5993455,
                          47.653804
                        ],
                        [
                          -117.5992684,
                          47.6537952
                        ],
                        [
                          -117.5992654,
                          47.6538069
                        ],
                        [
                          -117.5991124,
                          47.6537893
                        ],
                        [
                          -117.5990924,
                          47.6538683
                        ],
                        [
                          -117.5991255,
                          47.6538721
                        ],
                        [
                          -117.5991235,
                          47.6538799
                        ],
                        [
                          -117.5992757,
                          47.6538973
                        ],
                        [
                          -117.5992716,
                          47.6539135
                        ],
                        [
                          -117.5993202,
                          47.6539191
                        ],
                        [
                          -117.599324,
                          47.653904
                        ],
                        [
                          -117.5993507,
                          47.653907
                        ]
                      ]
                    ]
                  },
                  "bbox": [
                    -117.5993728,
                    47.6537893,
                    -117.5990924,
                    47.6539191
                  ]
                },
                {
                  "id": "93",
                  "type": "Feature",
                  "properties": {
                    "id": "08b12db7030cbfff0200200c69897f77",
                    "height": null,
                    "style": {
                      "color": "red",
                      "fillColor": "transparent",
                      "fillOpacity": 0.5,
                      "weight": 1
                    }
                  },
                  "geometry": {
                    "type": "Polygon",
                    "coordinates": [
                      [
                        [
                          -117.5999555,
                          47.6544962
                        ],
                        [
                          -117.5999555,
                          47.6543976
                        ],
                        [
                          -117.5998198,
                          47.6543976
                        ],
                        [
                          -117.5998198,
                          47.6544962
                        ],
                        [
                          -117.5999555,
                          47.6544962
                        ]
                      ]
                    ]
                  },
                  "bbox": [
                    -117.5999555,
                    47.6543976,
                    -117.5998198,
                    47.6544962
                  ]
                },
                {
                  "id": "94",
                  "type": "Feature",
                  "properties": {
                    "id": "08b12db7030c9fff02004a6ad5919466",
                    "height": null,
                    "style": {
                      "color": "red",
                      "fillColor": "transparent",
                      "fillOpacity": 0.5,
                      "weight": 1
                    }
                  },
                  "geometry": {
                    "type": "Polygon",
                    "coordinates": [
                      [
                        [
                          -117.5994131,
                          47.654496
                        ],
                        [
                          -117.599425,
                          47.6543965
                        ],
                        [
                          -117.5992892,
                          47.6543891
                        ],
                        [
                          -117.5992773,
                          47.6544887
                        ],
                        [
                          -117.5994131,
                          47.654496
                        ]
                      ]
                    ]
                  },
                  "bbox": [
                    -117.599425,
                    47.6543891,
                    -117.5992773,
                    47.654496
                  ]
                },
                {
                  "id": "95",
                  "type": "Feature",
                  "properties": {
                    "id": "08b12db703393fff0200649ce071a2a6",
                    "height": null,
                    "style": {
                      "color": "red",
                      "fillColor": "transparent",
                      "fillOpacity": 0.5,
                      "weight": 1
                    }
                  },
                  "geometry": {
                    "type": "Polygon",
                    "coordinates": [
                      [
                        [
                          -117.598857,
                          47.6536406
                        ],
                        [
                          -117.5988904,
                          47.6535641
                        ],
                        [
                          -117.5988599,
                          47.653558
                        ],
                        [
                          -117.5988642,
                          47.6535481
                        ],
                        [
                          -117.5987939,
                          47.6535342
                        ],
                        [
                          -117.5987898,
                          47.6535435
                        ],
                        [
                          -117.5987661,
                          47.6535388
                        ],
                        [
                          -117.5987707,
                          47.6535282
                        ],
                        [
                          -117.5986953,
                          47.6535133
                        ],
                        [
                          -117.598657,
                          47.6536011
                        ],
                        [
                          -117.598857,
                          47.6536406
                        ]
                      ]
                    ]
                  },
                  "bbox": [
                    -117.5988904,
                    47.6535133,
                    -117.598657,
                    47.6536406
                  ]
                },
                {
                  "id": "96",
                  "type": "Feature",
                  "properties": {
                    "id": "08b12db703393fff02005af373ce74fd",
                    "height": null,
                    "style": {
                      "color": "red",
                      "fillColor": "transparent",
                      "fillOpacity": 0.5,
                      "weight": 1
                    }
                  },
                  "geometry": {
                    "type": "Polygon",
                    "coordinates": [
                      [
                        [
                          -117.5987838,
                          47.6538111
                        ],
                        [
                          -117.598822,
                          47.6537254
                        ],
                        [
                          -117.5986241,
                          47.6536854
                        ],
                        [
                          -117.5985901,
                          47.6537618
                        ],
                        [
                          -117.59862,
                          47.6537678
                        ],
                        [
                          -117.5986156,
                          47.6537779
                        ],
                        [
                          -117.5986869,
                          47.6537923
                        ],
                        [
                          -117.5986913,
                          47.6537824
                        ],
                        [
                          -117.5987136,
                          47.6537869
                        ],
                        [
                          -117.5987095,
                          47.6537961
                        ],
                        [
                          -117.5987838,
                          47.6538111
                        ]
                      ]
                    ]
                  },
                  "bbox": [
                    -117.598822,
                    47.6536854,
                    -117.5985901,
                    47.6538111
                  ]
                },
                {
                  "id": "97",
                  "type": "Feature",
                  "properties": {
                    "id": "08b12db70339efff0200c54204c217d9",
                    "height": null,
                    "style": {
                      "color": "red",
                      "fillColor": "transparent",
                      "fillOpacity": 0.5,
                      "weight": 1
                    }
                  },
                  "geometry": {
                    "type": "Polygon",
                    "coordinates": [
                      [
                        [
                          -117.5983668,
                          47.6535363
                        ],
                        [
                          -117.5984095,
                          47.6534388
                        ],
                        [
                          -117.5983716,
                          47.6534313
                        ],
                        [
                          -117.5983758,
                          47.6534216
                        ],
                        [
                          -117.598302,
                          47.653407
                        ],
                        [
                          -117.5982889,
                          47.6534368
                        ],
                        [
                          -117.5982637,
                          47.6534318
                        ],
                        [
                          -117.5982686,
                          47.6534205
                        ],
                        [
                          -117.5981918,
                          47.6534052
                        ],
                        [
                          -117.598153,
                          47.6534938
                        ],
                        [
                          -117.5983668,
                          47.6535363
                        ]
                      ]
                    ]
                  },
                  "bbox": [
                    -117.5984095,
                    47.6534052,
                    -117.598153,
                    47.6535363
                  ]
                },
                {
                  "id": "98",
                  "type": "Feature",
                  "properties": {
                    "id": "08b12db70339efff0200b96f1c464ce4",
                    "height": null,
                    "style": {
                      "color": "red",
                      "fillColor": "transparent",
                      "fillOpacity": 0.5,
                      "weight": 1
                    }
                  },
                  "geometry": {
                    "type": "Polygon",
                    "coordinates": [
                      [
                        [
                          -117.5979526,
                          47.6533949
                        ],
                        [
                          -117.5980056,
                          47.6532731
                        ],
                        [
                          -117.5979236,
                          47.653257
                        ],
                        [
                          -117.5979206,
                          47.6532636
                        ],
                        [
                          -117.5979076,
                          47.6532611
                        ],
                        [
                          -117.5979096,
                          47.6532559
                        ],
                        [
                          -117.5978886,
                          47.6532516
                        ],
                        [
                          -117.5978356,
                          47.653372
                        ],
                        [
                          -117.5979526,
                          47.6533949
                        ]
                      ]
                    ]
                  },
                  "bbox": [
                    -117.5980056,
                    47.6532516,
                    -117.5978356,
                    47.6533949
                  ]
                },
                {
                  "id": "99",
                  "type": "Feature",
                  "properties": {
                    "id": "08b12db703394fff0200ea6e7dc63c18",
                    "height": null,
                    "style": {
                      "color": "red",
                      "fillColor": "transparent",
                      "fillOpacity": 0.5,
                      "weight": 1
                    }
                  },
                  "geometry": {
                    "type": "Polygon",
                    "coordinates": [
                      [
                        [
                          -117.598845,
                          47.6544415
                        ],
                        [
                          -117.5988837,
                          47.6543449
                        ],
                        [
                          -117.5987509,
                          47.6543207
                        ],
                        [
                          -117.5987121,
                          47.6544174
                        ],
                        [
                          -117.598845,
                          47.6544415
                        ]
                      ]
                    ]
                  },
                  "bbox": [
                    -117.5988837,
                    47.6543207,
                    -117.5987121,
                    47.6544415
                  ]
                },
                {
                  "id": "100",
                  "type": "Feature",
                  "properties": {
                    "id": "08b12db703395fff0200236934e34274",
                    "height": null,
                    "style": {
                      "color": "red",
                      "fillColor": "transparent",
                      "fillOpacity": 0.5,
                      "weight": 1
                    }
                  },
                  "geometry": {
                    "type": "Polygon",
                    "coordinates": [
                      [
                        [
                          -117.5980829,
                          47.6542905
                        ],
                        [
                          -117.5981253,
                          47.6541957
                        ],
                        [
                          -117.5979941,
                          47.6541691
                        ],
                        [
                          -117.5979517,
                          47.6542639
                        ],
                        [
                          -117.5980829,
                          47.6542905
                        ]
                      ]
                    ]
                  },
                  "bbox": [
                    -117.5981253,
                    47.6541691,
                    -117.5979517,
                    47.6542905
                  ]
                },
                {
                  "id": "101",
                  "type": "Feature",
                  "properties": {
                    "id": "08b12db7030c8fff0200659d0110fdda",
                    "height": null,
                    "style": {
                      "color": "red",
                      "fillColor": "transparent",
                      "fillOpacity": 0.5,
                      "weight": 1
                    }
                  },
                  "geometry": {
                    "type": "Polygon",
                    "coordinates": [
                      [
                        [
                          -117.599905,
                          47.6546453
                        ],
                        [
                          -117.5997743,
                          47.6546449
                        ],
                        [
                          -117.5997733,
                          47.6547841
                        ],
                        [
                          -117.5998928,
                          47.6547845
                        ],
                        [
                          -117.599893,
                          47.6547626
                        ],
                        [
                          -117.5999064,
                          47.6547626
                        ],
                        [
                          -117.5999068,
                          47.6547126
                        ],
                        [
                          -117.5998906,
                          47.6547125
                        ],
                        [
                          -117.5998907,
                          47.6546963
                        ],
                        [
                          -117.5999046,
                          47.6546963
                        ],
                        [
                          -117.599905,
                          47.6546453
                        ]
                      ]
                    ]
                  },
                  "bbox": [
                    -117.5999068,
                    47.6546449,
                    -117.5997733,
                    47.6547845
                  ]
                },
                {
                  "id": "102",
                  "type": "Feature",
                  "properties": {
                    "id": "08b12db7030e8fff02003b41833b06dc",
                    "height": null,
                    "style": {
                      "color": "red",
                      "fillColor": "transparent",
                      "fillOpacity": 0.5,
                      "weight": 1
                    }
                  },
                  "geometry": {
                    "type": "Polygon",
                    "coordinates": [
                      [
                        [
                          -117.5996359,
                          47.655846
                        ],
                        [
                          -117.5996379,
                          47.6557001
                        ],
                        [
                          -117.5996251,
                          47.6557
                        ],
                        [
                          -117.5996253,
                          47.6556867
                        ],
                        [
                          -117.5995774,
                          47.6556864
                        ],
                        [
                          -117.5995772,
                          47.655701
                        ],
                        [
                          -117.599475,
                          47.6557004
                        ],
                        [
                          -117.599473,
                          47.655845
                        ],
                        [
                          -117.5996359,
                          47.655846
                        ]
                      ]
                    ]
                  },
                  "bbox": [
                    -117.5996379,
                    47.6556864,
                    -117.599473,
                    47.655846
                  ]
                },
                {
                  "id": "103",
                  "type": "Feature",
                  "properties": {
                    "id": "08b12db703298fff0200a8954789ef42",
                    "height": 4.5081596,
                    "style": {
                      "color": "red",
                      "fillColor": "transparent",
                      "fillOpacity": 0.5,
                      "weight": 1
                    }
                  },
                  "geometry": {
                    "type": "Polygon",
                    "coordinates": [
                      [
                        [
                          -117.59765430279276,
                          47.65028690930773
                        ],
                        [
                          -117.59755139576035,
                          47.65028737994059
                        ],
                        [
                          -117.59755280047891,
                          47.65042534560217
                        ],
                        [
                          -117.59756986643725,
                          47.65042526674867
                        ],
                        [
                          -117.5975712255354,
                          47.65056012754499
                        ],
                        [
                          -117.59765705226822,
                          47.65055973502886
                        ],
                        [
                          -117.59765430279276,
                          47.65028690930773
                        ]
                      ]
                    ]
                  },
                  "bbox": [
                    -117.59765705226822,
                    47.65028690930773,
                    -117.59755139576035,
                    47.65056012754499
                  ]
                },
                {
                  "id": "104",
                  "type": "Feature",
                  "properties": {
                    "id": "08b12db70328afff02001bdb8385350a",
                    "height": 4.6405997,
                    "style": {
                      "color": "red",
                      "fillColor": "transparent",
                      "fillOpacity": 0.5,
                      "weight": 1
                    }
                  },
                  "geometry": {
                    "type": "Polygon",
                    "coordinates": [
                      [
                        [
                          -117.59677831101548,
                          47.65043092000395
                        ],
                        [
                          -117.59687746667473,
                          47.650368742445615
                        ],
                        [
                          -117.59676242715334,
                          47.65028548876752
                        ],
                        [
                          -117.59669344930343,
                          47.65032874279794
                        ],
                        [
                          -117.59666134525098,
                          47.65030550920891
                        ],
                        [
                          -117.59657655997714,
                          47.65035867559586
                        ],
                        [
                          -117.59667420980342,
                          47.65042934432511
                        ],
                        [
                          -117.59672881726793,
                          47.65039510161995
                        ],
                        [
                          -117.59677831101548,
                          47.65043092000395
                        ]
                      ]
                    ]
                  },
                  "bbox": [
                    -117.59687746667473,
                    47.65028548876752,
                    -117.59657655997714,
                    47.65043092000395
                  ]
                },
                {
                  "id": "105",
                  "type": "Feature",
                  "properties": {
                    "id": "08b12db70328afff0200ef3178f30f1b",
                    "height": 5.5263333,
                    "style": {
                      "color": "red",
                      "fillColor": "transparent",
                      "fillOpacity": 0.5,
                      "weight": 1
                    }
                  },
                  "geometry": {
                    "type": "Polygon",
                    "coordinates": [
                      [
                        [
                          -117.59635211591714,
                          47.650168297348685
                        ],
                        [
                          -117.59631421514419,
                          47.65031492180205
                        ],
                        [
                          -117.59650425179461,
                          47.65033722295897
                        ],
                        [
                          -117.59654215481541,
                          47.650190589871976
                        ],
                        [
                          -117.59635211591714,
                          47.650168297348685
                        ]
                      ]
                    ]
                  },
                  "bbox": [
                    -117.59654215481541,
                    47.650168297348685,
                    -117.59631421514419,
                    47.65033722295897
                  ]
                },
                {
                  "id": "106",
                  "type": "Feature",
                  "properties": {
                    "id": "08b12db70328bfff0200241362b4352b",
                    "height": 2.4136364,
                    "style": {
                      "color": "red",
                      "fillColor": "transparent",
                      "fillOpacity": 0.5,
                      "weight": 1
                    }
                  },
                  "geometry": {
                    "type": "Polygon",
                    "coordinates": [
                      [
                        [
                          -117.59593517756416,
                          47.650291440543654
                        ],
                        [
                          -117.59595424120307,
                          47.650306536446
                        ],
                        [
                          -117.59603613499371,
                          47.65025960032958
                        ],
                        [
                          -117.59601707327384,
                          47.65024450717502
                        ],
                        [
                          -117.59593517756416,
                          47.650291440543654
                        ]
                      ]
                    ]
                  },
                  "bbox": [
                    -117.59603613499371,
                    47.65024450717502,
                    -117.59593517756416,
                    47.650306536446
                  ]
                },
                {
                  "id": "107",
                  "type": "Feature",
                  "properties": {
                    "id": "08b12db70328afff02003d216e240363",
                    "height": 4.7763734,
                    "style": {
                      "color": "red",
                      "fillColor": "transparent",
                      "fillOpacity": 0.5,
                      "weight": 1
                    }
                  },
                  "geometry": {
                    "type": "Polygon",
                    "coordinates": [
                      [
                        [
                          -117.59619859859784,
                          47.650323497077615
                        ],
                        [
                          -117.59617993340791,
                          47.650309480108334
                        ],
                        [
                          -117.59624681428326,
                          47.65026906406744
                        ],
                        [
                          -117.59614548896657,
                          47.65019297182398
                        ],
                        [
                          -117.59595822251566,
                          47.650306136824604
                        ],
                        [
                          -117.59607821302222,
                          47.65039624585292
                        ],
                        [
                          -117.59619859859784,
                          47.650323497077615
                        ]
                      ]
                    ]
                  },
                  "bbox": [
                    -117.59624681428326,
                    47.65019297182398,
                    -117.59595822251566,
                    47.65039624585292
                  ]
                },
                {
                  "id": "108",
                  "type": "Feature",
                  "properties": {
                    "id": "08b12db7032d4fff0200d852716a1811",
                    "height": 2.8,
                    "style": {
                      "color": "red",
                      "fillColor": "transparent",
                      "fillOpacity": 0.5,
                      "weight": 1
                    }
                  },
                  "geometry": {
                    "type": "Polygon",
                    "coordinates": [
                      [
                        [
                          -117.5944409,
                          47.6502988
                        ],
                        [
                          -117.5944407,
                          47.6501744
                        ],
                        [
                          -117.594332,
                          47.6501745
                        ],
                        [
                          -117.594332,
                          47.6501899
                        ],
                        [
                          -117.594178,
                          47.65019
                        ],
                        [
                          -117.5941781,
                          47.6502691
                        ],
                        [
                          -117.5942824,
                          47.650269
                        ],
                        [
                          -117.5942824,
                          47.6502989
                        ],
                        [
                          -117.5944409,
                          47.6502988
                        ]
                      ]
                    ]
                  },
                  "bbox": [
                    -117.5944409,
                    47.6501744,
                    -117.594178,
                    47.6502989
                  ]
                },
                {
                  "id": "109",
                  "type": "Feature",
                  "properties": {
                    "id": "08b12db7032c6fff0200a354cdf81437",
                    "height": 3.8,
                    "style": {
                      "color": "red",
                      "fillColor": "transparent",
                      "fillOpacity": 0.5,
                      "weight": 1
                    }
                  },
                  "geometry": {
                    "type": "Polygon",
                    "coordinates": [
                      [
                        [
                          -117.5939988,
                          47.6502731
                        ],
                        [
                          -117.5939988,
                          47.6501901
                        ],
                        [
                          -117.5938368,
                          47.6501901
                        ],
                        [
                          -117.5938368,
                          47.6501815
                        ],
                        [
                          -117.5938148,
                          47.6501815
                        ],
                        [
                          -117.5938148,
                          47.6501764
                        ],
                        [
                          -117.5937308,
                          47.6501765
                        ],
                        [
                          -117.5937308,
                          47.6502726
                        ],
                        [
                          -117.5939988,
                          47.6502731
                        ]
                      ]
                    ]
                  },
                  "bbox": [
                    -117.5939988,
                    47.6501764,
                    -117.5937308,
                    47.6502731
                  ]
                },
                {
                  "id": "110",
                  "type": "Feature",
                  "properties": {
                    "id": "08b12db703282fff0200c5e1299cf4af",
                    "height": 4.1703453,
                    "style": {
                      "color": "red",
                      "fillColor": "transparent",
                      "fillOpacity": 0.5,
                      "weight": 1
                    }
                  },
                  "geometry": {
                    "type": "Polygon",
                    "coordinates": [
                      [
                        [
                          -117.59765323462877,
                          47.65093586969994
                        ],
                        [
                          -117.59761033059632,
                          47.65093633899519
                        ],
                        [
                          -117.59761372676519,
                          47.65107723661059
                        ],
                        [
                          -117.59763517878142,
                          47.6510770019636
                        ],
                        [
                          -117.5976382701659,
                          47.65120525459131
                        ],
                        [
                          -117.59765972218212,
                          47.651205019944896
                        ],
                        [
                          -117.59765323462877,
                          47.65093586969994
                        ]
                      ]
                    ]
                  },
                  "bbox": [
                    -117.59765972218212,
                    47.65093586969994,
                    -117.59761033059632,
                    47.65120525459131
                  ]
                },
                {
                  "id": "111",
                  "type": "Feature",
                  "properties": {
                    "id": "08b12db70329dfff02006b262a870495",
                    "height": 4.903136,
                    "style": {
                      "color": "red",
                      "fillColor": "transparent",
                      "fillOpacity": 0.5,
                      "weight": 1
                    }
                  },
                  "geometry": {
                    "type": "Polygon",
                    "coordinates": [
                      [
                        [
                          -117.59674190477666,
                          47.650677238563674
                        ],
                        [
                          -117.59694090478703,
                          47.6506836092329
                        ],
                        [
                          -117.5969487103395,
                          47.65057296230195
                        ],
                        [
                          -117.5968122263661,
                          47.65056858654023
                        ],
                        [
                          -117.59681472176126,
                          47.650533213230425
                        ],
                        [
                          -117.5966986981876,
                          47.650529498909414
                        ],
                        [
                          -117.59669182049578,
                          47.65062684975228
                        ],
                        [
                          -117.59674534362259,
                          47.65062856321189
                        ],
                        [
                          -117.59674190477666,
                          47.650677238563674
                        ]
                      ]
                    ]
                  },
                  "bbox": [
                    -117.5969487103395,
                    47.650529498909414,
                    -117.59669182049578,
                    47.6506836092329
                  ]
                },
                {
                  "id": "112",
                  "type": "Feature",
                  "properties": {
                    "id": "08b12db703283fff020024d4e71e3d68",
                    "height": 4.9578357,
                    "style": {
                      "color": "red",
                      "fillColor": "transparent",
                      "fillOpacity": 0.5,
                      "weight": 1
                    }
                  },
                  "geometry": {
                    "type": "Polygon",
                    "coordinates": [
                      [
                        [
                          -117.5968130251531,
                          47.65079229972368
                        ],
                        [
                          -117.59687355870248,
                          47.65093538399995
                        ],
                        [
                          -117.5970571320133,
                          47.65090014062264
                        ],
                        [
                          -117.5969965950774,
                          47.65075704824506
                        ],
                        [
                          -117.5968130251531,
                          47.65079229972368
                        ]
                      ]
                    ]
                  },
                  "bbox": [
                    -117.5970571320133,
                    47.65075704824506,
                    -117.5968130251531,
                    47.65093538399995
                  ]
                },
                {
                  "id": "113",
                  "type": "Feature",
                  "properties": {
                    "id": "08b12db703283fff020030aac0baf324",
                    "height": 5.1551886,
                    "style": {
                      "color": "red",
                      "fillColor": "transparent",
                      "fillOpacity": 0.5,
                      "weight": 1
                    }
                  },
                  "geometry": {
                    "type": "Polygon",
                    "coordinates": [
                      [
                        [
                          -117.59671498152098,
                          47.650830457543655
                        ],
                        [
                          -117.5965606112502,
                          47.6508711500017
                        ],
                        [
                          -117.59661284191922,
                          47.65096106646221
                        ],
                        [
                          -117.59668029553603,
                          47.65094328234438
                        ],
                        [
                          -117.59670669063486,
                          47.650988722152725
                        ],
                        [
                          -117.59679361581692,
                          47.650965804375886
                        ],
                        [
                          -117.59671498152098,
                          47.650830457543655
                        ]
                      ]
                    ]
                  },
                  "bbox": [
                    -117.59679361581692,
                    47.650830457543655,
                    -117.5965606112502,
                    47.650988722152725
                  ]
                },
                {
                  "id": "114",
                  "type": "Feature",
                  "properties": {
                    "id": "08b12db703280fff020049bd84ee99ee",
                    "height": 5.4925656,
                    "style": {
                      "color": "red",
                      "fillColor": "transparent",
                      "fillOpacity": 0.5,
                      "weight": 1
                    }
                  },
                  "geometry": {
                    "type": "Polygon",
                    "coordinates": [
                      [
                        [
                          -117.59722233078179,
                          47.651326314662185
                        ],
                        [
                          -117.59719808382076,
                          47.65125673308954
                        ],
                        [
                          -117.59714469914155,
                          47.651265174928255
                        ],
                        [
                          -117.59711903909648,
                          47.65119153813521
                        ],
                        [
                          -117.59697667995188,
                          47.65121404973022
                        ],
                        [
                          -117.59702658390995,
                          47.651357259276
                        ],
                        [
                          -117.59722233078179,
                          47.651326314662185
                        ]
                      ]
                    ]
                  },
                  "bbox": [
                    -117.59722233078179,
                    47.65119153813521,
                    -117.59697667995188,
                    47.651357259276
                  ]
                },
                {
                  "id": "115",
                  "type": "Feature",
                  "properties": {
                    "id": "08b12db703284fff0200ef996793eb96",
                    "height": 5.4846206,
                    "style": {
                      "color": "red",
                      "fillColor": "transparent",
                      "fillOpacity": 0.5,
                      "weight": 1
                    }
                  },
                  "geometry": {
                    "type": "Polygon",
                    "coordinates": [
                      [
                        [
                          -117.5973437975482,
                          47.65168819420247
                        ],
                        [
                          -117.59730479480136,
                          47.65156175486609
                        ],
                        [
                          -117.59708983220398,
                          47.651591845256846
                        ],
                        [
                          -117.59712884754356,
                          47.65171828275764
                        ],
                        [
                          -117.5973437975482,
                          47.65168819420247
                        ]
                      ]
                    ]
                  },
                  "bbox": [
                    -117.5973437975482,
                    47.65156175486609,
                    -117.59708983220398,
                    47.65171828275764
                  ]
                },
                {
                  "id": "116",
                  "type": "Feature",
                  "properties": {
                    "id": "08b12db703284fff02008dffdb3fd370",
                    "height": 5.156881,
                    "style": {
                      "color": "red",
                      "fillColor": "transparent",
                      "fillOpacity": 0.5,
                      "weight": 1
                    }
                  },
                  "geometry": {
                    "type": "Polygon",
                    "coordinates": [
                      [
                        [
                          -117.59714732958983,
                          47.65175954006531
                        ],
                        [
                          -117.5971844553586,
                          47.65187708325601
                        ],
                        [
                          -117.59739743715865,
                          47.651846557358944
                        ],
                        [
                          -117.59736031138985,
                          47.651729014099544
                        ],
                        [
                          -117.59714732958983,
                          47.65175954006531
                        ]
                      ]
                    ]
                  },
                  "bbox": [
                    -117.59739743715865,
                    47.651729014099544,
                    -117.59714732958983,
                    47.65187708325601
                  ]
                },
                {
                  "id": "117",
                  "type": "Feature",
                  "properties": {
                    "id": "08b12db703280fff0200f98e37a9aa7b",
                    "height": 5.6958923,
                    "style": {
                      "color": "red",
                      "fillColor": "transparent",
                      "fillOpacity": 0.5,
                      "weight": 1
                    }
                  },
                  "geometry": {
                    "type": "Polygon",
                    "coordinates": [
                      [
                        [
                          -117.59659004342141,
                          47.65144993270751
                        ],
                        [
                          -117.59675192679389,
                          47.651550809321854
                        ],
                        [
                          -117.59687226074549,
                          47.65146317918679
                        ],
                        [
                          -117.59671037737301,
                          47.65136230240319
                        ],
                        [
                          -117.59659004342141,
                          47.65144993270751
                        ]
                      ]
                    ]
                  },
                  "bbox": [
                    -117.59687226074549,
                    47.65136230240319,
                    -117.59659004342141,
                    47.651550809321854
                  ]
                },
                {
                  "id": "118",
                  "type": "Feature",
                  "properties": {
                    "id": "08b12db703285fff020053fcfefe530b",
                    "height": 5.084679,
                    "style": {
                      "color": "red",
                      "fillColor": "transparent",
                      "fillOpacity": 0.5,
                      "weight": 1
                    }
                  },
                  "geometry": {
                    "type": "Polygon",
                    "coordinates": [
                      [
                        [
                          -117.59640491002656,
                          47.651581428184286
                        ],
                        [
                          -117.5965528666389,
                          47.65167520968612
                        ],
                        [
                          -117.59666664954656,
                          47.65159374945157
                        ],
                        [
                          -117.59654430080944,
                          47.65151619925463
                        ],
                        [
                          -117.59649477177904,
                          47.651551658483804
                        ],
                        [
                          -117.59646916390382,
                          47.65153542704368
                        ],
                        [
                          -117.59640491002656,
                          47.651581428184286
                        ]
                      ]
                    ]
                  },
                  "bbox": [
                    -117.59666664954656,
                    47.65151619925463,
                    -117.59640491002656,
                    47.65167520968612
                  ]
                },
                {
                  "id": "119",
                  "type": "Feature",
                  "properties": {
                    "id": "08b12db703285fff0200e8d9ccd82249",
                    "height": 5.806591,
                    "style": {
                      "color": "red",
                      "fillColor": "transparent",
                      "fillOpacity": 0.5,
                      "weight": 1
                    }
                  },
                  "geometry": {
                    "type": "Polygon",
                    "coordinates": [
                      [
                        [
                          -117.59631242435556,
                          47.65171210196009
                        ],
                        [
                          -117.5962808045565,
                          47.65173450442763
                        ],
                        [
                          -117.59639292857493,
                          47.65180632409396
                        ],
                        [
                          -117.59650224168192,
                          47.65172888207739
                        ],
                        [
                          -117.59634447157016,
                          47.65162783162547
                        ],
                        [
                          -117.59626678340351,
                          47.65168286931843
                        ],
                        [
                          -117.59631242435556,
                          47.65171210196009
                        ]
                      ]
                    ]
                  },
                  "bbox": [
                    -117.59650224168192,
                    47.65162783162547,
                    -117.59626678340351,
                    47.65180632409396
                  ]
                },
                {
                  "id": "120",
                  "type": "Feature",
                  "properties": {
                    "id": "08b12db703288fff0200eafa66249f47",
                    "height": 4.215458,
                    "style": {
                      "color": "red",
                      "fillColor": "transparent",
                      "fillOpacity": 0.5,
                      "weight": 1
                    }
                  },
                  "geometry": {
                    "type": "Polygon",
                    "coordinates": [
                      [
                        [
                          -117.59582952669138,
                          47.65054073850668
                        ],
                        [
                          -117.59598224780358,
                          47.650568215592756
                        ],
                        [
                          -117.59599990038302,
                          47.65052369038114
                        ],
                        [
                          -117.59605497916739,
                          47.650533602578754
                        ],
                        [
                          -117.59609282643423,
                          47.65043814007072
                        ],
                        [
                          -117.59597856912902,
                          47.6504175832179
                        ],
                        [
                          -117.59596612949856,
                          47.65044895162316
                        ],
                        [
                          -117.59587259062026,
                          47.65043211796531
                        ],
                        [
                          -117.59582952669138,
                          47.65054073850668
                        ]
                      ]
                    ]
                  },
                  "bbox": [
                    -117.59609282643423,
                    47.6504175832179,
                    -117.59582952669138,
                    47.650568215592756
                  ]
                },
                {
                  "id": "121",
                  "type": "Feature",
                  "properties": {
                    "id": "08b12db703288fff020015c039b136ae",
                    "height": 5.1593137,
                    "style": {
                      "color": "red",
                      "fillColor": "transparent",
                      "fillOpacity": 0.5,
                      "weight": 1
                    }
                  },
                  "geometry": {
                    "type": "Polygon",
                    "coordinates": [
                      [
                        [
                          -117.59583733665106,
                          47.65061769989479
                        ],
                        [
                          -117.59583980356005,
                          47.65072970102011
                        ],
                        [
                          -117.59605165143282,
                          47.65072758352824
                        ],
                        [
                          -117.59604918452385,
                          47.65061558239838
                        ],
                        [
                          -117.59583733665106,
                          47.65061769989479
                        ]
                      ]
                    ]
                  },
                  "bbox": [
                    -117.59605165143282,
                    47.65061558239838,
                    -117.59583733665106,
                    47.65072970102011
                  ]
                },
                {
                  "id": "122",
                  "type": "Feature",
                  "properties": {
                    "id": "08b12db70328cfff02006b2e437d3478",
                    "height": 5.820459,
                    "style": {
                      "color": "red",
                      "fillColor": "transparent",
                      "fillOpacity": 0.5,
                      "weight": 1
                    }
                  },
                  "geometry": {
                    "type": "Polygon",
                    "coordinates": [
                      [
                        [
                          -117.59603689667189,
                          47.65092710887103
                        ],
                        [
                          -117.59603516925226,
                          47.650863890198
                        ],
                        [
                          -117.59605661965658,
                          47.65086362421623
                        ],
                        [
                          -117.59605469481757,
                          47.650793180461505
                        ],
                        [
                          -117.59587236638102,
                          47.65079544130965
                        ],
                        [
                          -117.59587601863963,
                          47.650929103731926
                        ],
                        [
                          -117.59603689667189,
                          47.65092710887103
                        ]
                      ]
                    ]
                  },
                  "bbox": [
                    -117.59605661965658,
                    47.650793180461505,
                    -117.59587236638102,
                    47.650929103731926
                  ]
                },
                {
                  "id": "123",
                  "type": "Feature",
                  "properties": {
                    "id": "08b12db70328cfff020085c8f11470cb",
                    "height": 5.264402,
                    "style": {
                      "color": "red",
                      "fillColor": "transparent",
                      "fillOpacity": 0.5,
                      "weight": 1
                    }
                  },
                  "geometry": {
                    "type": "Polygon",
                    "coordinates": [
                      [
                        [
                          -117.59589212780611,
                          47.65102652616338
                        ],
                        [
                          -117.59597245255665,
                          47.65112511422445
                        ],
                        [
                          -117.5961600284539,
                          47.65105576164095
                        ],
                        [
                          -117.59611409276948,
                          47.65099938158109
                        ],
                        [
                          -117.59606050123806,
                          47.651019198577494
                        ],
                        [
                          -117.59602611058988,
                          47.650976988519616
                        ],
                        [
                          -117.59589212780611,
                          47.65102652616338
                        ]
                      ]
                    ]
                  },
                  "bbox": [
                    -117.5961600284539,
                    47.650976988519616,
                    -117.59589212780611,
                    47.65112511422445
                  ]
                },
                {
                  "id": "124",
                  "type": "Feature",
                  "properties": {
                    "id": "08b12db7032f2fff020095bca76bd5c2",
                    "height": 3.1,
                    "style": {
                      "color": "red",
                      "fillColor": "transparent",
                      "fillOpacity": 0.5,
                      "weight": 1
                    }
                  },
                  "geometry": {
                    "type": "Polygon",
                    "coordinates": [
                      [
                        [
                          -117.5950642,
                          47.6505151
                        ],
                        [
                          -117.5950645,
                          47.6504238
                        ],
                        [
                          -117.5948609,
                          47.6504234
                        ],
                        [
                          -117.5948606,
                          47.6505009
                        ],
                        [
                          -117.5948239,
                          47.6505008
                        ],
                        [
                          -117.5948236,
                          47.6505837
                        ],
                        [
                          -117.5949359,
                          47.6505839
                        ],
                        [
                          -117.5949362,
                          47.6505148
                        ],
                        [
                          -117.5950642,
                          47.6505151
                        ]
                      ]
                    ]
                  },
                  "bbox": [
                    -117.5950645,
                    47.6504234,
                    -117.5948236,
                    47.6505839
                  ]
                },
                {
                  "id": "125",
                  "type": "Feature",
                  "properties": {
                    "id": "08b12db703281fff0200f336a020b584",
                    "height": 4.116215,
                    "style": {
                      "color": "red",
                      "fillColor": "transparent",
                      "fillOpacity": 0.5,
                      "weight": 1
                    }
                  },
                  "geometry": {
                    "type": "Polygon",
                    "coordinates": [
                      [
                        [
                          -117.59619939265754,
                          47.65110323251567
                        ],
                        [
                          -117.59601081565326,
                          47.651179089911714
                        ],
                        [
                          -117.59610881072258,
                          47.651289638661986
                        ],
                        [
                          -117.59629739619317,
                          47.651213778020825
                        ],
                        [
                          -117.59619939265754,
                          47.65110323251567
                        ]
                      ]
                    ]
                  },
                  "bbox": [
                    -117.59629739619317,
                    47.65110323251567,
                    -117.59601081565326,
                    47.651289638661986
                  ]
                },
                {
                  "id": "126",
                  "type": "Feature",
                  "properties": {
                    "id": "08b12db7032aafff0200f16355d09a37",
                    "height": 4.8352194,
                    "style": {
                      "color": "red",
                      "fillColor": "transparent",
                      "fillOpacity": 0.5,
                      "weight": 1
                    }
                  },
                  "geometry": {
                    "type": "Polygon",
                    "coordinates": [
                      [
                        [
                          -117.59592779907533,
                          47.65125850297661
                        ],
                        [
                          -117.59581275770084,
                          47.65134173766992
                        ],
                        [
                          -117.59596992198847,
                          47.65144031106915
                        ],
                        [
                          -117.5960341285422,
                          47.65139385297856
                        ],
                        [
                          -117.59599046911146,
                          47.65136646978953
                        ],
                        [
                          -117.59604130134667,
                          47.651329691703026
                        ],
                        [
                          -117.59592779907533,
                          47.65125850297661
                        ]
                      ]
                    ]
                  },
                  "bbox": [
                    -117.59604130134667,
                    47.65125850297661,
                    -117.59581275770084,
                    47.65144031106915
                  ]
                },
                {
                  "id": "127",
                  "type": "Feature",
                  "properties": {
                    "id": "08b12db7032aafff02009908800114dd",
                    "height": 5.2,
                    "style": {
                      "color": "red",
                      "fillColor": "transparent",
                      "fillOpacity": 0.5,
                      "weight": 1
                    }
                  },
                  "geometry": {
                    "type": "Polygon",
                    "coordinates": [
                      [
                        [
                          -117.595885,
                          47.6514926
                        ],
                        [
                          -117.595817,
                          47.6514501
                        ],
                        [
                          -117.595785,
                          47.6514729
                        ],
                        [
                          -117.595696,
                          47.6514164
                        ],
                        [
                          -117.595624,
                          47.6514686
                        ],
                        [
                          -117.595586,
                          47.6514443
                        ],
                        [
                          -117.595543,
                          47.6514746
                        ],
                        [
                          -117.595583,
                          47.6515001
                        ],
                        [
                          -117.595578,
                          47.6515041
                        ],
                        [
                          -117.595733,
                          47.6516034
                        ],
                        [
                          -117.595786,
                          47.6515656
                        ],
                        [
                          -117.595791,
                          47.6515684
                        ],
                        [
                          -117.595858,
                          47.6515202
                        ],
                        [
                          -117.595852,
                          47.6515159
                        ],
                        [
                          -117.595885,
                          47.6514926
                        ]
                      ]
                    ]
                  },
                  "bbox": [
                    -117.595885,
                    47.6514164,
                    -117.595543,
                    47.6516034
                  ]
                },
                {
                  "id": "128",
                  "type": "Feature",
                  "properties": {
                    "id": "08b12db7032a8fff02009a22d519fbd2",
                    "height": 4.1,
                    "style": {
                      "color": "red",
                      "fillColor": "transparent",
                      "fillOpacity": 0.5,
                      "weight": 1
                    }
                  },
                  "geometry": {
                    "type": "Polygon",
                    "coordinates": [
                      [
                        [
                          -117.595299,
                          47.6513719
                        ],
                        [
                          -117.595183,
                          47.6514897
                        ],
                        [
                          -117.595245,
                          47.6515175
                        ],
                        [
                          -117.595241,
                          47.6515209
                        ],
                        [
                          -117.59532,
                          47.6515563
                        ],
                        [
                          -117.59544,
                          47.651435
                        ],
                        [
                          -117.595299,
                          47.6513719
                        ]
                      ]
                    ]
                  },
                  "bbox": [
                    -117.59544,
                    47.6513719,
                    -117.595183,
                    47.6515563
                  ]
                },
                {
                  "id": "129",
                  "type": "Feature",
                  "properties": {
                    "id": "08b12db7032abfff0200333a9f9a388b",
                    "height": null,
                    "style": {
                      "color": "red",
                      "fillColor": "transparent",
                      "fillOpacity": 0.5,
                      "weight": 1
                    }
                  },
                  "geometry": {
                    "type": "Polygon",
                    "coordinates": [
                      [
                        [
                          -117.5950869,
                          47.6512391
                        ],
                        [
                          -117.5950869,
                          47.6512108
                        ],
                        [
                          -117.5950269,
                          47.6512101
                        ],
                        [
                          -117.5950259,
                          47.6512384
                        ],
                        [
                          -117.5950869,
                          47.6512391
                        ]
                      ]
                    ]
                  },
                  "bbox": [
                    -117.5950869,
                    47.6512101,
                    -117.5950259,
                    47.6512391
                  ]
                },
                {
                  "id": "130",
                  "type": "Feature",
                  "properties": {
                    "id": "08b12db7032a8fff0200d1089f3fcba4",
                    "height": 5.8,
                    "style": {
                      "color": "red",
                      "fillColor": "transparent",
                      "fillOpacity": 0.5,
                      "weight": 1
                    }
                  },
                  "geometry": {
                    "type": "Polygon",
                    "coordinates": [
                      [
                        [
                          -117.595556,
                          47.6515589
                        ],
                        [
                          -117.595515,
                          47.6515832
                        ],
                        [
                          -117.595478,
                          47.6515593
                        ],
                        [
                          -117.595399,
                          47.6516116
                        ],
                        [
                          -117.595436,
                          47.6516374
                        ],
                        [
                          -117.595423,
                          47.651646
                        ],
                        [
                          -117.595493,
                          47.6516916
                        ],
                        [
                          -117.59551,
                          47.6516796
                        ],
                        [
                          -117.595584,
                          47.651726
                        ],
                        [
                          -117.595694,
                          47.6516538
                        ],
                        [
                          -117.595556,
                          47.6515589
                        ]
                      ]
                    ]
                  },
                  "bbox": [
                    -117.595694,
                    47.6515589,
                    -117.595399,
                    47.651726
                  ]
                },
                {
                  "id": "131",
                  "type": "Feature",
                  "properties": {
                    "id": "08b12db7032b1fff02009eb56dc08a2d",
                    "height": 5.6567273,
                    "style": {
                      "color": "red",
                      "fillColor": "transparent",
                      "fillOpacity": 0.5,
                      "weight": 1
                    }
                  },
                  "geometry": {
                    "type": "Polygon",
                    "coordinates": [
                      [
                        [
                          -117.59746272881219,
                          47.65203106834343
                        ],
                        [
                          -117.59742523601754,
                          47.651913638204306
                        ],
                        [
                          -117.59721094394784,
                          47.651944695365856
                        ],
                        [
                          -117.59724844840346,
                          47.65206212374513
                        ],
                        [
                          -117.59746272881219,
                          47.65203106834343
                        ]
                      ]
                    ]
                  },
                  "bbox": [
                    -117.59746272881219,
                    47.651913638204306,
                    -117.59721094394784,
                    47.65206212374513
                  ]
                },
                {
                  "id": "132",
                  "type": "Feature",
                  "properties": {
                    "id": "08b12db7032b1fff02004f4fc559ae87",
                    "height": 5.6858745,
                    "style": {
                      "color": "red",
                      "fillColor": "transparent",
                      "fillOpacity": 0.5,
                      "weight": 1
                    }
                  },
                  "geometry": {
                    "type": "Polygon",
                    "coordinates": [
                      [
                        [
                          -117.59751804324453,
                          47.65219455337382
                        ],
                        [
                          -117.5974976545643,
                          47.652130653200096
                        ],
                        [
                          -117.5974361240907,
                          47.65213956201959
                        ],
                        [
                          -117.59742124586457,
                          47.652092932121704
                        ],
                        [
                          -117.59726998345033,
                          47.65211483298275
                        ],
                        [
                          -117.59730525035671,
                          47.652225362997115
                        ],
                        [
                          -117.59751804324453,
                          47.65219455337382
                        ]
                      ]
                    ]
                  },
                  "bbox": [
                    -117.59751804324453,
                    47.652092932121704,
                    -117.59726998345033,
                    47.652225362997115
                  ]
                },
                {
                  "id": "133",
                  "type": "Feature",
                  "properties": {
                    "id": "08b12db7032b5fff0200b2e22fa009b0",
                    "height": 5.928082,
                    "style": {
                      "color": "red",
                      "fillColor": "transparent",
                      "fillOpacity": 0.5,
                      "weight": 1
                    }
                  },
                  "geometry": {
                    "type": "Polygon",
                    "coordinates": [
                      [
                        [
                          -117.59754648066881,
                          47.6522597909925
                        ],
                        [
                          -117.59734166782188,
                          47.65228811261882
                        ],
                        [
                          -117.59737602069987,
                          47.65240080491953
                        ],
                        [
                          -117.59758082231168,
                          47.6523724849079
                        ],
                        [
                          -117.59754648066881,
                          47.6522597909925
                        ]
                      ]
                    ]
                  },
                  "bbox": [
                    -117.59758082231168,
                    47.6522597909925,
                    -117.59734166782188,
                    47.65240080491953
                  ]
                },
                {
                  "id": "134",
                  "type": "Feature",
                  "properties": {
                    "id": "08b12db7032a2fff0200653df42ff3bf",
                    "height": 5.3,
                    "style": {
                      "color": "red",
                      "fillColor": "transparent",
                      "fillOpacity": 0.5,
                      "weight": 1
                    }
                  },
                  "geometry": {
                    "type": "Polygon",
                    "coordinates": [
                      [
                        [
                          -117.5971426,
                          47.6522442
                        ],
                        [
                          -117.5970816,
                          47.6520776
                        ],
                        [
                          -117.5969376,
                          47.6521014
                        ],
                        [
                          -117.5969396,
                          47.6521076
                        ],
                        [
                          -117.5969256,
                          47.6521098
                        ],
                        [
                          -117.5969476,
                          47.6521699
                        ],
                        [
                          -117.5969276,
                          47.6521733
                        ],
                        [
                          -117.5969526,
                          47.6522423
                        ],
                        [
                          -117.5969686,
                          47.6522404
                        ],
                        [
                          -117.5969796,
                          47.6522718
                        ],
                        [
                          -117.5971426,
                          47.6522442
                        ]
                      ]
                    ]
                  },
                  "bbox": [
                    -117.5971426,
                    47.6520776,
                    -117.5969256,
                    47.6522718
                  ]
                },
                {
                  "id": "135",
                  "type": "Feature",
                  "properties": {
                    "id": "08b12db7032a6fff02009ac6d0c4e061",
                    "height": 3.4,
                    "style": {
                      "color": "red",
                      "fillColor": "transparent",
                      "fillOpacity": 0.5,
                      "weight": 1
                    }
                  },
                  "geometry": {
                    "type": "Polygon",
                    "coordinates": [
                      [
                        [
                          -117.5969356,
                          47.6523534
                        ],
                        [
                          -117.5968926,
                          47.6524211
                        ],
                        [
                          -117.5969526,
                          47.6524391
                        ],
                        [
                          -117.5969346,
                          47.6524674
                        ],
                        [
                          -117.5970696,
                          47.6525063
                        ],
                        [
                          -117.5971296,
                          47.652407
                        ],
                        [
                          -117.5969356,
                          47.6523534
                        ]
                      ]
                    ]
                  },
                  "bbox": [
                    -117.5971296,
                    47.6523534,
                    -117.5968926,
                    47.6525063
                  ]
                },
                {
                  "id": "136",
                  "type": "Feature",
                  "properties": {
                    "id": "08b12db7032a3fff0200a9e41251607a",
                    "height": 4.9,
                    "style": {
                      "color": "red",
                      "fillColor": "transparent",
                      "fillOpacity": 0.5,
                      "weight": 1
                    }
                  },
                  "geometry": {
                    "type": "Polygon",
                    "coordinates": [
                      [
                        [
                          -117.5968506,
                          47.6519232
                        ],
                        [
                          -117.5966876,
                          47.6519076
                        ],
                        [
                          -117.5966576,
                          47.6520501
                        ],
                        [
                          -117.5967496,
                          47.6520588
                        ],
                        [
                          -117.5967576,
                          47.6520185
                        ],
                        [
                          -117.5968286,
                          47.6520253
                        ],
                        [
                          -117.5968506,
                          47.6519232
                        ]
                      ]
                    ]
                  },
                  "bbox": [
                    -117.5968506,
                    47.6519076,
                    -117.5966576,
                    47.6520588
                  ]
                },
                {
                  "id": "137",
                  "type": "Feature",
                  "properties": {
                    "id": "08b12db7032a3fff0200901240b4bdc3",
                    "height": 6.2,
                    "style": {
                      "color": "red",
                      "fillColor": "transparent",
                      "fillOpacity": 0.5,
                      "weight": 1
                    }
                  },
                  "geometry": {
                    "type": "Polygon",
                    "coordinates": [
                      [
                        [
                          -117.5964226,
                          47.651951
                        ],
                        [
                          -117.5962526,
                          47.6520704
                        ],
                        [
                          -117.5963566,
                          47.6521363
                        ],
                        [
                          -117.5964266,
                          47.6520875
                        ],
                        [
                          -117.5964526,
                          47.6521071
                        ],
                        [
                          -117.5965196,
                          47.6520578
                        ],
                        [
                          -117.5965086,
                          47.6520503
                        ],
                        [
                          -117.5965416,
                          47.652026
                        ],
                        [
                          -117.5964226,
                          47.651951
                        ]
                      ]
                    ]
                  },
                  "bbox": [
                    -117.5965416,
                    47.651951,
                    -117.5962526,
                    47.6521363
                  ]
                },
                {
                  "id": "138",
                  "type": "Feature",
                  "properties": {
                    "id": "08b12db7032b5fff0200f4d9ec382312",
                    "height": 5.878111,
                    "style": {
                      "color": "red",
                      "fillColor": "transparent",
                      "fillOpacity": 0.5,
                      "weight": 1
                    }
                  },
                  "geometry": {
                    "type": "Polygon",
                    "coordinates": [
                      [
                        [
                          -117.59761921214945,
                          47.65257936272836
                        ],
                        [
                          -117.5976000849578,
                          47.65251697897026
                        ],
                        [
                          -117.5976180922736,
                          47.65251447363927
                        ],
                        [
                          -117.59758833886437,
                          47.65241743208501
                        ],
                        [
                          -117.59736343069132,
                          47.65244872327326
                        ],
                        [
                          -117.59741229540558,
                          47.652608150703344
                        ],
                        [
                          -117.59761921214945,
                          47.65257936272836
                        ]
                      ]
                    ]
                  },
                  "bbox": [
                    -117.59761921214945,
                    47.65241743208501,
                    -117.59736343069132,
                    47.652608150703344
                  ]
                },
                {
                  "id": "139",
                  "type": "Feature",
                  "properties": {
                    "id": "08b12db70339bfff02008f0b007ff37c",
                    "height": null,
                    "style": {
                      "color": "red",
                      "fillColor": "transparent",
                      "fillOpacity": 0.5,
                      "weight": 1
                    }
                  },
                  "geometry": {
                    "type": "Polygon",
                    "coordinates": [
                      [
                        [
                          -117.5974666,
                          47.6527561
                        ],
                        [
                          -117.5974426,
                          47.6528218
                        ],
                        [
                          -117.5975266,
                          47.6528354
                        ],
                        [
                          -117.5975196,
                          47.6528527
                        ],
                        [
                          -117.5975946,
                          47.6528649
                        ],
                        [
                          -117.5976436,
                          47.6527301
                        ],
                        [
                          -117.5975236,
                          47.6527105
                        ],
                        [
                          -117.5975046,
                          47.6527624
                        ],
                        [
                          -117.5974666,
                          47.6527561
                        ]
                      ]
                    ]
                  },
                  "bbox": [
                    -117.5976436,
                    47.6527105,
                    -117.5974426,
                    47.6528649
                  ]
                },
                {
                  "id": "140",
                  "type": "Feature",
                  "properties": {
                    "id": "08b12db7032a6fff0200ef8f4851e82d",
                    "height": null,
                    "style": {
                      "color": "red",
                      "fillColor": "transparent",
                      "fillOpacity": 0.5,
                      "weight": 1
                    }
                  },
                  "geometry": {
                    "type": "Polygon",
                    "coordinates": [
                      [
                        [
                          -117.5969766,
                          47.6527342
                        ],
                        [
                          -117.5969916,
                          47.6527057
                        ],
                        [
                          -117.5970416,
                          47.6527183
                        ],
                        [
                          -117.5970996,
                          47.6526103
                        ],
                        [
                          -117.5969456,
                          47.6525691
                        ],
                        [
                          -117.5968636,
                          47.6527077
                        ],
                        [
                          -117.5969766,
                          47.6527342
                        ]
                      ]
                    ]
                  },
                  "bbox": [
                    -117.5970996,
                    47.6525691,
                    -117.5968636,
                    47.6527342
                  ]
                },
                {
                  "id": "141",
                  "type": "Feature",
                  "properties": {
                    "id": "08b12db7032a6fff02007518b0ffb6e4",
                    "height": 3.6,
                    "style": {
                      "color": "red",
                      "fillColor": "transparent",
                      "fillOpacity": 0.5,
                      "weight": 1
                    }
                  },
                  "geometry": {
                    "type": "Polygon",
                    "coordinates": [
                      [
                        [
                          -117.5973276,
                          47.6527269
                        ],
                        [
                          -117.5972876,
                          47.652719
                        ],
                        [
                          -117.5973086,
                          47.6526709
                        ],
                        [
                          -117.5971896,
                          47.6526475
                        ],
                        [
                          -117.5971396,
                          47.6527636
                        ],
                        [
                          -117.5971446,
                          47.6527647
                        ],
                        [
                          -117.5971386,
                          47.6527803
                        ],
                        [
                          -117.5972106,
                          47.6527945
                        ],
                        [
                          -117.5972186,
                          47.6527773
                        ],
                        [
                          -117.5972996,
                          47.6527932
                        ],
                        [
                          -117.5973276,
                          47.6527269
                        ]
                      ]
                    ]
                  },
                  "bbox": [
                    -117.5973276,
                    47.6526475,
                    -117.5971386,
                    47.6527945
                  ]
                },
                {
                  "id": "142",
                  "type": "Feature",
                  "properties": {
                    "id": "08b12db703399fff0200b324de24f594",
                    "height": null,
                    "style": {
                      "color": "red",
                      "fillColor": "transparent",
                      "fillOpacity": 0.5,
                      "weight": 1
                    }
                  },
                  "geometry": {
                    "type": "Polygon",
                    "coordinates": [
                      [
                        [
                          -117.5971366,
                          47.653254
                        ],
                        [
                          -117.5971906,
                          47.6531185
                        ],
                        [
                          -117.5971086,
                          47.6531031
                        ],
                        [
                          -117.5971146,
                          47.6530877
                        ],
                        [
                          -117.5969666,
                          47.6530597
                        ],
                        [
                          -117.5969046,
                          47.6532115
                        ],
                        [
                          -117.5971366,
                          47.653254
                        ]
                      ]
                    ]
                  },
                  "bbox": [
                    -117.5971906,
                    47.6530597,
                    -117.5969046,
                    47.653254
                  ]
                },
                {
                  "id": "143",
                  "type": "Feature",
                  "properties": {
                    "id": "08b12db7032a6fff02004ed540451d1c",
                    "height": null,
                    "style": {
                      "color": "red",
                      "fillColor": "transparent",
                      "fillOpacity": 0.5,
                      "weight": 1
                    }
                  },
                  "geometry": {
                    "type": "Polygon",
                    "coordinates": [
                      [
                        [
                          -117.5968716,
                          47.6525639
                        ],
                        [
                          -117.5967156,
                          47.6525233
                        ],
                        [
                          -117.5966386,
                          47.652658
                        ],
                        [
                          -117.5967936,
                          47.6526986
                        ],
                        [
                          -117.5968716,
                          47.6525639
                        ]
                      ]
                    ]
                  },
                  "bbox": [
                    -117.5968716,
                    47.6525233,
                    -117.5966386,
                    47.6526986
                  ]
                },
                {
                  "id": "144",
                  "type": "Feature",
                  "properties": {
                    "id": "08b12db703399fff020086f073b3539c",
                    "height": null,
                    "style": {
                      "color": "red",
                      "fillColor": "transparent",
                      "fillOpacity": 0.5,
                      "weight": 1
                    }
                  },
                  "geometry": {
                    "type": "Polygon",
                    "coordinates": [
                      [
                        [
                          -117.5968546,
                          47.65319
                        ],
                        [
                          -117.5969106,
                          47.6530471
                        ],
                        [
                          -117.5968146,
                          47.65303
                        ],
                        [
                          -117.5968136,
                          47.6530334
                        ],
                        [
                          -117.5967276,
                          47.653018
                        ],
                        [
                          -117.5966726,
                          47.6531575
                        ],
                        [
                          -117.5968546,
                          47.65319
                        ]
                      ]
                    ]
                  },
                  "bbox": [
                    -117.5969106,
                    47.653018,
                    -117.5966726,
                    47.65319
                  ]
                },
                {
                  "id": "145",
                  "type": "Feature",
                  "properties": {
                    "id": "08b12db70338afff02001582818c740a",
                    "height": null,
                    "style": {
                      "color": "red",
                      "fillColor": "transparent",
                      "fillOpacity": 0.5,
                      "weight": 1
                    }
                  },
                  "geometry": {
                    "type": "Polygon",
                    "coordinates": [
                      [
                        [
                          -117.5965916,
                          47.6531495
                        ],
                        [
                          -117.5966496,
                          47.6530117
                        ],
                        [
                          -117.5965646,
                          47.6529953
                        ],
                        [
                          -117.5965666,
                          47.6529892
                        ],
                        [
                          -117.5964646,
                          47.6529695
                        ],
                        [
                          -117.5964036,
                          47.6531134
                        ],
                        [
                          -117.5965916,
                          47.6531495
                        ]
                      ]
                    ]
                  },
                  "bbox": [
                    -117.5966496,
                    47.6529695,
                    -117.5964036,
                    47.6531495
                  ]
                },
                {
                  "id": "146",
                  "type": "Feature",
                  "properties": {
                    "id": "08b12db7032a3fff0200628b2dc39933",
                    "height": 5.2395926,
                    "style": {
                      "color": "red",
                      "fillColor": "transparent",
                      "fillOpacity": 0.5,
                      "weight": 1
                    }
                  },
                  "geometry": {
                    "type": "Polygon",
                    "coordinates": [
                      [
                        [
                          -117.59633933693496,
                          47.651843378106555
                        ],
                        [
                          -117.5962235447771,
                          47.65177036080925
                        ],
                        [
                          -117.59617403189559,
                          47.651805991173745
                        ],
                        [
                          -117.5961311459112,
                          47.651778947722846
                        ],
                        [
                          -117.59606557479786,
                          47.65182613386826
                        ],
                        [
                          -117.59610131311818,
                          47.651848670057944
                        ],
                        [
                          -117.5960691966545,
                          47.65187178161385
                        ],
                        [
                          -117.59619213647645,
                          47.65194930599779
                        ],
                        [
                          -117.59633933693496,
                          47.651843378106555
                        ]
                      ]
                    ]
                  },
                  "bbox": [
                    -117.59633933693496,
                    47.65177036080925,
                    -117.59606557479786,
                    47.65194930599779
                  ]
                },
                {
                  "id": "147",
                  "type": "Feature",
                  "properties": {
                    "id": "08b12db7032aefff0200fc2b9763fe71",
                    "height": 5.7383194,
                    "style": {
                      "color": "red",
                      "fillColor": "transparent",
                      "fillOpacity": 0.5,
                      "weight": 1
                    }
                  },
                  "geometry": {
                    "type": "Polygon",
                    "coordinates": [
                      [
                        [
                          -117.59595699977447,
                          47.65190514832728
                        ],
                        [
                          -117.5958929357088,
                          47.65195275549494
                        ],
                        [
                          -117.59593563354463,
                          47.65197882868634
                        ],
                        [
                          -117.59588625082733,
                          47.65201552583015
                        ],
                        [
                          -117.59600403796065,
                          47.65208745175736
                        ],
                        [
                          -117.59614951677649,
                          47.65197934403032
                        ],
                        [
                          -117.59602289560816,
                          47.651902023494515
                        ],
                        [
                          -117.59599086357531,
                          47.65192582708521
                        ],
                        [
                          -117.59595699977447,
                          47.65190514832728
                        ]
                      ]
                    ]
                  },
                  "bbox": [
                    -117.59614951677649,
                    47.651902023494515,
                    -117.59588625082733,
                    47.65208745175736
                  ]
                },
                {
                  "id": "148",
                  "type": "Feature",
                  "properties": {
                    "id": "08b12db7032a1fff0200761a5303053c",
                    "height": 5.3346567,
                    "style": {
                      "color": "red",
                      "fillColor": "transparent",
                      "fillOpacity": 0.5,
                      "weight": 1
                    }
                  },
                  "geometry": {
                    "type": "Polygon",
                    "coordinates": [
                      [
                        [
                          -117.59580961362028,
                          47.652155393033155
                        ],
                        [
                          -117.59586417750408,
                          47.65218865286047
                        ],
                        [
                          -117.5959776043801,
                          47.65210421369929
                        ],
                        [
                          -117.59586110311467,
                          47.652033199332955
                        ],
                        [
                          -117.59581306349659,
                          47.652068961866526
                        ],
                        [
                          -117.59577324660843,
                          47.65204469112819
                        ],
                        [
                          -117.59567716737226,
                          47.652116216155086
                        ],
                        [
                          -117.59577892164207,
                          47.65217824126786
                        ],
                        [
                          -117.59580961362028,
                          47.652155393033155
                        ]
                      ]
                    ]
                  },
                  "bbox": [
                    -117.5959776043801,
                    47.652033199332955,
                    -117.59567716737226,
                    47.65218865286047
                  ]
                },
                {
                  "id": "149",
                  "type": "Feature",
                  "properties": {
                    "id": "08b12db7032a0fff0200918151a65314",
                    "height": 5.6,
                    "style": {
                      "color": "red",
                      "fillColor": "transparent",
                      "fillOpacity": 0.5,
                      "weight": 1
                    }
                  },
                  "geometry": {
                    "type": "Polygon",
                    "coordinates": [
                      [
                        [
                          -117.5963446,
                          47.6522468
                        ],
                        [
                          -117.5962656,
                          47.6522321
                        ],
                        [
                          -117.5962856,
                          47.6521819
                        ],
                        [
                          -117.5961586,
                          47.6521583
                        ],
                        [
                          -117.5961146,
                          47.6522667
                        ],
                        [
                          -117.5962106,
                          47.6522846
                        ],
                        [
                          -117.5961966,
                          47.6523187
                        ],
                        [
                          -117.5963016,
                          47.6523381
                        ],
                        [
                          -117.5963146,
                          47.6523066
                        ],
                        [
                          -117.5963196,
                          47.6523076
                        ],
                        [
                          -117.5963446,
                          47.6522468
                        ]
                      ]
                    ]
                  },
                  "bbox": [
                    -117.5963446,
                    47.6521583,
                    -117.5961146,
                    47.6523381
                  ]
                },
                {
                  "id": "150",
                  "type": "Feature",
                  "properties": {
                    "id": "08b12db7032a0fff020035fc884fd2da",
                    "height": null,
                    "style": {
                      "color": "red",
                      "fillColor": "transparent",
                      "fillOpacity": 0.5,
                      "weight": 1
                    }
                  },
                  "geometry": {
                    "type": "Polygon",
                    "coordinates": [
                      [
                        [
                          -117.5961556,
                          47.6525742
                        ],
                        [
                          -117.5961696,
                          47.6525364
                        ],
                        [
                          -117.5962376,
                          47.6525476
                        ],
                        [
                          -117.5962746,
                          47.6524445
                        ],
                        [
                          -117.5961156,
                          47.6524185
                        ],
                        [
                          -117.5960646,
                          47.6525593
                        ],
                        [
                          -117.5961556,
                          47.6525742
                        ]
                      ]
                    ]
                  },
                  "bbox": [
                    -117.5962746,
                    47.6524185,
                    -117.5960646,
                    47.6525742
                  ]
                },
                {
                  "id": "151",
                  "type": "Feature",
                  "properties": {
                    "id": "08b12db7032a1fff0200670f45059cb4",
                    "height": 5.692127,
                    "style": {
                      "color": "red",
                      "fillColor": "transparent",
                      "fillOpacity": 0.5,
                      "weight": 1
                    }
                  },
                  "geometry": {
                    "type": "Polygon",
                    "coordinates": [
                      [
                        [
                          -117.59563984009723,
                          47.65214245379069
                        ],
                        [
                          -117.5955370005745,
                          47.652218324696776
                        ],
                        [
                          -117.59554870239364,
                          47.65222552217102
                        ],
                        [
                          -117.59548325906101,
                          47.65227380359266
                        ],
                        [
                          -117.59560320270721,
                          47.652347577578276
                        ],
                        [
                          -117.59577148556257,
                          47.652223425436425
                        ],
                        [
                          -117.59563984009723,
                          47.65214245379069
                        ]
                      ]
                    ]
                  },
                  "bbox": [
                    -117.59577148556257,
                    47.65214245379069,
                    -117.59548325906101,
                    47.652347577578276
                  ]
                },
                {
                  "id": "152",
                  "type": "Feature",
                  "properties": {
                    "id": "08b12db7032a5fff02009f2f850c0ab9",
                    "height": 2.8,
                    "style": {
                      "color": "red",
                      "fillColor": "transparent",
                      "fillOpacity": 0.5,
                      "weight": 1
                    }
                  },
                  "geometry": {
                    "type": "Polygon",
                    "coordinates": [
                      [
                        [
                          -117.5960106,
                          47.6524717
                        ],
                        [
                          -117.5960196,
                          47.6524733
                        ],
                        [
                          -117.5960316,
                          47.6524411
                        ],
                        [
                          -117.5960246,
                          47.6524398
                        ],
                        [
                          -117.5960376,
                          47.6524037
                        ],
                        [
                          -117.5958786,
                          47.6523762
                        ],
                        [
                          -117.5958256,
                          47.6525168
                        ],
                        [
                          -117.5959826,
                          47.652544
                        ],
                        [
                          -117.5960106,
                          47.6524717
                        ]
                      ]
                    ]
                  },
                  "bbox": [
                    -117.5960376,
                    47.6523762,
                    -117.5958256,
                    47.652544
                  ]
                },
                {
                  "id": "153",
                  "type": "Feature",
                  "properties": {
                    "id": "08b12db7032acfff02004c49606bb804",
                    "height": 5.6,
                    "style": {
                      "color": "red",
                      "fillColor": "transparent",
                      "fillOpacity": 0.5,
                      "weight": 1
                    }
                  },
                  "geometry": {
                    "type": "Polygon",
                    "coordinates": [
                      [
                        [
                          -117.5952094,
                          47.6519786
                        ],
                        [
                          -117.5950314,
                          47.6518958
                        ],
                        [
                          -117.5949304,
                          47.6519928
                        ],
                        [
                          -117.5951144,
                          47.6520783
                        ],
                        [
                          -117.5952094,
                          47.6519786
                        ]
                      ]
                    ]
                  },
                  "bbox": [
                    -117.5952094,
                    47.6518958,
                    -117.5949304,
                    47.6520783
                  ]
                },
                {
                  "id": "154",
                  "type": "Feature",
                  "properties": {
                    "id": "08b12db703213fff02001f35a22b3e90",
                    "height": 5.9,
                    "style": {
                      "color": "red",
                      "fillColor": "transparent",
                      "fillOpacity": 0.5,
                      "weight": 1
                    }
                  },
                  "geometry": {
                    "type": "Polygon",
                    "coordinates": [
                      [
                        [
                          -117.5950694,
                          47.6521208
                        ],
                        [
                          -117.5949164,
                          47.6520478
                        ],
                        [
                          -117.5948084,
                          47.6521502
                        ],
                        [
                          -117.5949394,
                          47.6522125
                        ],
                        [
                          -117.5949924,
                          47.6521617
                        ],
                        [
                          -117.5950154,
                          47.6521724
                        ],
                        [
                          -117.5950694,
                          47.6521208
                        ]
                      ]
                    ]
                  },
                  "bbox": [
                    -117.5950694,
                    47.6520478,
                    -117.5948084,
                    47.6522125
                  ]
                },
                {
                  "id": "155",
                  "type": "Feature",
                  "properties": {
                    "id": "08b12db703212fff0200b019547144cd",
                    "height": null,
                    "style": {
                      "color": "red",
                      "fillColor": "transparent",
                      "fillOpacity": 0.5,
                      "weight": 1
                    }
                  },
                  "geometry": {
                    "type": "Polygon",
                    "coordinates": [
                      [
                        [
                          -117.5954153,
                          47.6525089
                        ],
                        [
                          -117.59556,
                          47.6525186
                        ],
                        [
                          -117.5955764,
                          47.6524114
                        ],
                        [
                          -117.5954686,
                          47.6524042
                        ],
                        [
                          -117.5954735,
                          47.6523748
                        ],
                        [
                          -117.5953807,
                          47.6523685
                        ],
                        [
                          -117.5953756,
                          47.6524023
                        ],
                        [
                          -117.5953667,
                          47.6524017
                        ],
                        [
                          -117.5953553,
                          47.6524752
                        ],
                        [
                          -117.5954192,
                          47.6524795
                        ],
                        [
                          -117.5954153,
                          47.6525089
                        ]
                      ]
                    ]
                  },
                  "bbox": [
                    -117.5955764,
                    47.6523685,
                    -117.5953553,
                    47.6525186
                  ]
                },
                {
                  "id": "156",
                  "type": "Feature",
                  "properties": {
                    "id": "08b12db7032a4fff02002be6676a0442",
                    "height": null,
                    "style": {
                      "color": "red",
                      "fillColor": "transparent",
                      "fillOpacity": 0.5,
                      "weight": 1
                    }
                  },
                  "geometry": {
                    "type": "Polygon",
                    "coordinates": [
                      [
                        [
                          -117.5963236,
                          47.6529394
                        ],
                        [
                          -117.5961936,
                          47.6529155
                        ],
                        [
                          -117.5961886,
                          47.6529286
                        ],
                        [
                          -117.5961816,
                          47.6529275
                        ],
                        [
                          -117.5961296,
                          47.6530515
                        ],
                        [
                          -117.5962646,
                          47.653079
                        ],
                        [
                          -117.5963236,
                          47.6529394
                        ]
                      ]
                    ]
                  },
                  "bbox": [
                    -117.5963236,
                    47.6529155,
                    -117.5961296,
                    47.653079
                  ]
                },
                {
                  "id": "157",
                  "type": "Feature",
                  "properties": {
                    "id": "08b12db70338bfff0200b53b4eb33f21",
                    "height": null,
                    "style": {
                      "color": "red",
                      "fillColor": "transparent",
                      "fillOpacity": 0.5,
                      "weight": 1
                    }
                  },
                  "geometry": {
                    "type": "Polygon",
                    "coordinates": [
                      [
                        [
                          -117.5960626,
                          47.6530326
                        ],
                        [
                          -117.5961196,
                          47.6528924
                        ],
                        [
                          -117.5960346,
                          47.6528767
                        ],
                        [
                          -117.5960376,
                          47.6528709
                        ],
                        [
                          -117.5959386,
                          47.6528532
                        ],
                        [
                          -117.5958766,
                          47.6529982
                        ],
                        [
                          -117.5960626,
                          47.6530326
                        ]
                      ]
                    ]
                  },
                  "bbox": [
                    -117.5961196,
                    47.6528532,
                    -117.5958766,
                    47.6530326
                  ]
                },
                {
                  "id": "158",
                  "type": "Feature",
                  "properties": {
                    "id": "08b12db70338bfff0200ab4e0fe47fa8",
                    "height": null,
                    "style": {
                      "color": "red",
                      "fillColor": "transparent",
                      "fillOpacity": 0.5,
                      "weight": 1
                    }
                  },
                  "geometry": {
                    "type": "Polygon",
                    "coordinates": [
                      [
                        [
                          -117.5956816,
                          47.6528218
                        ],
                        [
                          -117.5956426,
                          47.6529579
                        ],
                        [
                          -117.5958076,
                          47.65298
                        ],
                        [
                          -117.5958496,
                          47.6528389
                        ],
                        [
                          -117.5957576,
                          47.6528269
                        ],
                        [
                          -117.5957566,
                          47.6528306
                        ],
                        [
                          -117.5956816,
                          47.6528218
                        ]
                      ]
                    ]
                  },
                  "bbox": [
                    -117.5958496,
                    47.6528218,
                    -117.5956426,
                    47.65298
                  ]
                },
                {
                  "id": "159",
                  "type": "Feature",
                  "properties": {
                    "id": "08b12db703216fff0200e00251e30470",
                    "height": null,
                    "style": {
                      "color": "red",
                      "fillColor": "transparent",
                      "fillOpacity": 0.5,
                      "weight": 1
                    }
                  },
                  "geometry": {
                    "type": "Polygon",
                    "coordinates": [
                      [
                        [
                          -117.5954796,
                          47.6528835
                        ],
                        [
                          -117.5955306,
                          47.652886
                        ],
                        [
                          -117.5955386,
                          47.6528123
                        ],
                        [
                          -117.5954916,
                          47.65281
                        ],
                        [
                          -117.5954926,
                          47.6527974
                        ],
                        [
                          -117.5953906,
                          47.6527924
                        ],
                        [
                          -117.5953886,
                          47.6528091
                        ],
                        [
                          -117.5952966,
                          47.6528046
                        ],
                        [
                          -117.5952956,
                          47.6528101
                        ],
                        [
                          -117.5952866,
                          47.6528096
                        ],
                        [
                          -117.5952756,
                          47.6529086
                        ],
                        [
                          -117.5954756,
                          47.6529184
                        ],
                        [
                          -117.5954796,
                          47.6528835
                        ]
                      ]
                    ]
                  },
                  "bbox": [
                    -117.5955386,
                    47.6527924,
                    -117.5952756,
                    47.6529184
                  ]
                },
                {
                  "id": "160",
                  "type": "Feature",
                  "properties": {
                    "id": "08b12db7032f0fff0200d5763c79c868",
                    "height": 4,
                    "style": {
                      "color": "red",
                      "fillColor": "transparent",
                      "fillOpacity": 0.5,
                      "weight": 1
                    }
                  },
                  "geometry": {
                    "type": "Polygon",
                    "coordinates": [
                      [
                        [
                          -117.5943975,
                          47.6507085
                        ],
                        [
                          -117.5942445,
                          47.6507048
                        ],
                        [
                          -117.5942385,
                          47.6508178
                        ],
                        [
                          -117.5942315,
                          47.6508176
                        ],
                        [
                          -117.5942275,
                          47.6508904
                        ],
                        [
                          -117.5942115,
                          47.65089
                        ],
                        [
                          -117.5942095,
                          47.6509175
                        ],
                        [
                          -117.5943765,
                          47.6509213
                        ],
                        [
                          -117.5943785,
                          47.6508829
                        ],
                        [
                          -117.5943945,
                          47.6508832
                        ],
                        [
                          -117.5943955,
                          47.6508697
                        ],
                        [
                          -117.5943985,
                          47.6508698
                        ],
                        [
                          -117.5944005,
                          47.6508209
                        ],
                        [
                          -117.5943915,
                          47.6508207
                        ],
                        [
                          -117.5943975,
                          47.6507085
                        ]
                      ]
                    ]
                  },
                  "bbox": [
                    -117.5944005,
                    47.6507048,
                    -117.5942095,
                    47.6509213
                  ]
                },
                {
                  "id": "161",
                  "type": "Feature",
                  "properties": {
                    "id": "08b12db7032f0fff0200db502b0d4960",
                    "height": 2.6,
                    "style": {
                      "color": "red",
                      "fillColor": "transparent",
                      "fillOpacity": 0.5,
                      "weight": 1
                    }
                  },
                  "geometry": {
                    "type": "Polygon",
                    "coordinates": [
                      [
                        [
                          -117.5941561,
                          47.6509485
                        ],
                        [
                          -117.5941652,
                          47.6508662
                        ],
                        [
                          -117.5940548,
                          47.6508606
                        ],
                        [
                          -117.5940457,
                          47.650943
                        ],
                        [
                          -117.5941561,
                          47.6509485
                        ]
                      ]
                    ]
                  },
                  "bbox": [
                    -117.5941652,
                    47.6508606,
                    -117.5940457,
                    47.6509485
                  ]
                },
                {
                  "id": "162",
                  "type": "Feature",
                  "properties": {
                    "id": "08b12db7032f6fff020021527bf6f5a9",
                    "height": null,
                    "style": {
                      "color": "red",
                      "fillColor": "transparent",
                      "fillOpacity": 0.5,
                      "weight": 1
                    }
                  },
                  "geometry": {
                    "type": "Polygon",
                    "coordinates": [
                      [
                        [
                          -117.5948809,
                          47.6512618
                        ],
                        [
                          -117.5948829,
                          47.6511446
                        ],
                        [
                          -117.5949329,
                          47.651145
                        ],
                        [
                          -117.5949339,
                          47.6510697
                        ],
                        [
                          -117.5949289,
                          47.6510696
                        ],
                        [
                          -117.5949289,
                          47.6510355
                        ],
                        [
                          -117.5948179,
                          47.6510347
                        ],
                        [
                          -117.5948179,
                          47.6510826
                        ],
                        [
                          -117.5947819,
                          47.6510823
                        ],
                        [
                          -117.5947799,
                          47.6511504
                        ],
                        [
                          -117.5947849,
                          47.6511504
                        ],
                        [
                          -117.5947839,
                          47.6512316
                        ],
                        [
                          -117.5947899,
                          47.6512317
                        ],
                        [
                          -117.5947899,
                          47.6512611
                        ],
                        [
                          -117.5948809,
                          47.6512618
                        ]
                      ]
                    ]
                  },
                  "bbox": [
                    -117.5949339,
                    47.6510347,
                    -117.5947799,
                    47.6512618
                  ]
                },
                {
                  "id": "163",
                  "type": "Feature",
                  "properties": {
                    "id": "08b12db7032a9fff0200eba4876ad890",
                    "height": 4.1,
                    "style": {
                      "color": "red",
                      "fillColor": "transparent",
                      "fillOpacity": 0.5,
                      "weight": 1
                    }
                  },
                  "geometry": {
                    "type": "Polygon",
                    "coordinates": [
                      [
                        [
                          -117.5948133,
                          47.651647
                        ],
                        [
                          -117.59483,
                          47.6516171
                        ],
                        [
                          -117.5948459,
                          47.6516212
                        ],
                        [
                          -117.5948814,
                          47.6515577
                        ],
                        [
                          -117.5948469,
                          47.651549
                        ],
                        [
                          -117.5948818,
                          47.6514865
                        ],
                        [
                          -117.5947482,
                          47.6514526
                        ],
                        [
                          -117.5946788,
                          47.6515768
                        ],
                        [
                          -117.5947284,
                          47.6515894
                        ],
                        [
                          -117.5947107,
                          47.651621
                        ],
                        [
                          -117.5948133,
                          47.651647
                        ]
                      ]
                    ]
                  },
                  "bbox": [
                    -117.5948818,
                    47.6514526,
                    -117.5946788,
                    47.651647
                  ]
                },
                {
                  "id": "164",
                  "type": "Feature",
                  "properties": {
                    "id": "08b12db7032adfff0200ac65e0c3ffaa",
                    "height": null,
                    "style": {
                      "color": "red",
                      "fillColor": "transparent",
                      "fillOpacity": 0.5,
                      "weight": 1
                    }
                  },
                  "geometry": {
                    "type": "Polygon",
                    "coordinates": [
                      [
                        [
                          -117.5947046,
                          47.6517777
                        ],
                        [
                          -117.5946806,
                          47.6517422
                        ],
                        [
                          -117.5946056,
                          47.651765
                        ],
                        [
                          -117.5946296,
                          47.6518013
                        ],
                        [
                          -117.5947046,
                          47.6517777
                        ]
                      ]
                    ]
                  },
                  "bbox": [
                    -117.5947046,
                    47.6517422,
                    -117.5946056,
                    47.6518013
                  ]
                },
                {
                  "id": "165",
                  "type": "Feature",
                  "properties": {
                    "id": "08b12db7032adfff0200b30bf7abdb15",
                    "height": 4.6,
                    "style": {
                      "color": "red",
                      "fillColor": "transparent",
                      "fillOpacity": 0.5,
                      "weight": 1
                    }
                  },
                  "geometry": {
                    "type": "Polygon",
                    "coordinates": [
                      [
                        [
                          -117.5948914,
                          47.6518735
                        ],
                        [
                          -117.5948124,
                          47.6517557
                        ],
                        [
                          -117.5946084,
                          47.6518182
                        ],
                        [
                          -117.5946874,
                          47.6519359
                        ],
                        [
                          -117.5948914,
                          47.6518735
                        ]
                      ]
                    ]
                  },
                  "bbox": [
                    -117.5948914,
                    47.6517557,
                    -117.5946084,
                    47.6519359
                  ]
                },
                {
                  "id": "166",
                  "type": "Feature",
                  "properties": {
                    "id": "08b12db703213fff0200a14674bad626",
                    "height": 5,
                    "style": {
                      "color": "red",
                      "fillColor": "transparent",
                      "fillOpacity": 0.5,
                      "weight": 1
                    }
                  },
                  "geometry": {
                    "type": "Polygon",
                    "coordinates": [
                      [
                        [
                          -117.5949664,
                          47.6522516
                        ],
                        [
                          -117.5947644,
                          47.6521948
                        ],
                        [
                          -117.5946914,
                          47.6523133
                        ],
                        [
                          -117.5948924,
                          47.65237
                        ],
                        [
                          -117.5949664,
                          47.6522516
                        ]
                      ]
                    ]
                  },
                  "bbox": [
                    -117.5949664,
                    47.6521948,
                    -117.5946914,
                    47.65237
                  ]
                },
                {
                  "id": "167",
                  "type": "Feature",
                  "properties": {
                    "id": "08b12db703213fff0200779100db4071",
                    "height": 3.5,
                    "style": {
                      "color": "red",
                      "fillColor": "transparent",
                      "fillOpacity": 0.5,
                      "weight": 1
                    }
                  },
                  "geometry": {
                    "type": "Polygon",
                    "coordinates": [
                      [
                        [
                          -117.5948454,
                          47.6524894
                        ],
                        [
                          -117.5948724,
                          47.6524275
                        ],
                        [
                          -117.5947814,
                          47.6524097
                        ],
                        [
                          -117.5947824,
                          47.6524063
                        ],
                        [
                          -117.5947104,
                          47.6523922
                        ],
                        [
                          -117.5947164,
                          47.6523773
                        ],
                        [
                          -117.5946774,
                          47.6523697
                        ],
                        [
                          -117.5946704,
                          47.6523851
                        ],
                        [
                          -117.5946604,
                          47.6523831
                        ],
                        [
                          -117.5946134,
                          47.6524906
                        ],
                        [
                          -117.5947694,
                          47.6525211
                        ],
                        [
                          -117.5947874,
                          47.6524781
                        ],
                        [
                          -117.5948454,
                          47.6524894
                        ]
                      ]
                    ]
                  },
                  "bbox": [
                    -117.5948724,
                    47.6523697,
                    -117.5946134,
                    47.6525211
                  ]
                },
                {
                  "id": "168",
                  "type": "Feature",
                  "properties": {
                    "id": "08b12db703210fff02006283170709a6",
                    "height": null,
                    "style": {
                      "color": "red",
                      "fillColor": "transparent",
                      "fillOpacity": 0.5,
                      "weight": 1
                    }
                  },
                  "geometry": {
                    "type": "Polygon",
                    "coordinates": [
                      [
                        [
                          -117.5948433,
                          47.6527314
                        ],
                        [
                          -117.5948443,
                          47.6526678
                        ],
                        [
                          -117.5948113,
                          47.6526675
                        ],
                        [
                          -117.5948113,
                          47.6526571
                        ],
                        [
                          -117.5947973,
                          47.652657
                        ],
                        [
                          -117.5947983,
                          47.6526201
                        ],
                        [
                          -117.5946243,
                          47.6526185
                        ],
                        [
                          -117.5946233,
                          47.6526662
                        ],
                        [
                          -117.5945893,
                          47.6526659
                        ],
                        [
                          -117.5945893,
                          47.6527015
                        ],
                        [
                          -117.5946233,
                          47.6527018
                        ],
                        [
                          -117.5946233,
                          47.6527294
                        ],
                        [
                          -117.5948433,
                          47.6527314
                        ]
                      ]
                    ]
                  },
                  "bbox": [
                    -117.5948443,
                    47.6526185,
                    -117.5945893,
                    47.6527314
                  ]
                },
                {
                  "id": "169",
                  "type": "Feature",
                  "properties": {
                    "id": "08b12db703210fff0200de32a9967e94",
                    "height": 3.4,
                    "style": {
                      "color": "red",
                      "fillColor": "transparent",
                      "fillOpacity": 0.5,
                      "weight": 1
                    }
                  },
                  "geometry": {
                    "type": "Polygon",
                    "coordinates": [
                      [
                        [
                          -117.5946383,
                          47.6529456
                        ],
                        [
                          -117.5948593,
                          47.6529464
                        ],
                        [
                          -117.5948603,
                          47.6528927
                        ],
                        [
                          -117.5948663,
                          47.6528927
                        ],
                        [
                          -117.5948663,
                          47.6528171
                        ],
                        [
                          -117.5948583,
                          47.6528171
                        ],
                        [
                          -117.5948583,
                          47.6527836
                        ],
                        [
                          -117.5947613,
                          47.6527832
                        ],
                        [
                          -117.5947603,
                          47.6528149
                        ],
                        [
                          -117.5946393,
                          47.6528145
                        ],
                        [
                          -117.5946383,
                          47.6529456
                        ]
                      ]
                    ]
                  },
                  "bbox": [
                    -117.5948663,
                    47.6527832,
                    -117.5946383,
                    47.6529464
                  ]
                },
                {
                  "id": "170",
                  "type": "Feature",
                  "properties": {
                    "id": "08b12db703214fff020075fa93857898",
                    "height": 3,
                    "style": {
                      "color": "red",
                      "fillColor": "transparent",
                      "fillOpacity": 0.5,
                      "weight": 1
                    }
                  },
                  "geometry": {
                    "type": "Polygon",
                    "coordinates": [
                      [
                        [
                          -117.5948423,
                          47.6530812
                        ],
                        [
                          -117.5948433,
                          47.6530172
                        ],
                        [
                          -117.5947853,
                          47.6530166
                        ],
                        [
                          -117.5947863,
                          47.6529721
                        ],
                        [
                          -117.5947593,
                          47.652972
                        ],
                        [
                          -117.5947593,
                          47.6529663
                        ],
                        [
                          -117.5946253,
                          47.6529654
                        ],
                        [
                          -117.5946233,
                          47.6530766
                        ],
                        [
                          -117.5947473,
                          47.6530775
                        ],
                        [
                          -117.5947473,
                          47.6530805
                        ],
                        [
                          -117.5948423,
                          47.6530812
                        ]
                      ]
                    ]
                  },
                  "bbox": [
                    -117.5948433,
                    47.6529654,
                    -117.5946233,
                    47.6530812
                  ]
                },
                {
                  "id": "171",
                  "type": "Feature",
                  "properties": {
                    "id": "08b12db703398fff0200e1758a8501ed",
                    "height": null,
                    "style": {
                      "color": "red",
                      "fillColor": "transparent",
                      "fillOpacity": 0.5,
                      "weight": 1
                    }
                  },
                  "geometry": {
                    "type": "Polygon",
                    "coordinates": [
                      [
                        [
                          -117.5974776,
                          47.6531715
                        ],
                        [
                          -117.5974006,
                          47.6531578
                        ],
                        [
                          -117.5973986,
                          47.653162
                        ],
                        [
                          -117.5973916,
                          47.6531606
                        ],
                        [
                          -117.5973976,
                          47.6531455
                        ],
                        [
                          -117.5972486,
                          47.653119
                        ],
                        [
                          -117.5971896,
                          47.65327
                        ],
                        [
                          -117.5972346,
                          47.6532781
                        ],
                        [
                          -117.5972276,
                          47.653296
                        ],
                        [
                          -117.5973396,
                          47.6533161
                        ],
                        [
                          -117.5973456,
                          47.6532996
                        ],
                        [
                          -117.5974216,
                          47.6533132
                        ],
                        [
                          -117.5974776,
                          47.6531715
                        ]
                      ]
                    ]
                  },
                  "bbox": [
                    -117.5974776,
                    47.653119,
                    -117.5971896,
                    47.6533161
                  ]
                },
                {
                  "id": "172",
                  "type": "Feature",
                  "properties": {
                    "id": "08b12db703389fff0200b855d16effce",
                    "height": null,
                    "style": {
                      "color": "red",
                      "fillColor": "transparent",
                      "fillOpacity": 0.5,
                      "weight": 1
                    }
                  },
                  "geometry": {
                    "type": "Polygon",
                    "coordinates": [
                      [
                        [
                          -117.595452,
                          47.6531568
                        ],
                        [
                          -117.595262,
                          47.6531566
                        ],
                        [
                          -117.595262,
                          47.6532998
                        ],
                        [
                          -117.59535,
                          47.6532999
                        ],
                        [
                          -117.59535,
                          47.6533076
                        ],
                        [
                          -117.595452,
                          47.6533077
                        ],
                        [
                          -117.595452,
                          47.6531568
                        ]
                      ]
                    ]
                  },
                  "bbox": [
                    -117.595452,
                    47.6531566,
                    -117.595262,
                    47.6533077
                  ]
                },
                {
                  "id": "173",
                  "type": "Feature",
                  "properties": {
                    "id": "08b12db70338dfff02008a632423a3b3",
                    "height": null,
                    "style": {
                      "color": "red",
                      "fillColor": "transparent",
                      "fillOpacity": 0.5,
                      "weight": 1
                    }
                  },
                  "geometry": {
                    "type": "Polygon",
                    "coordinates": [
                      [
                        [
                          -117.595463,
                          47.6537708
                        ],
                        [
                          -117.595465,
                          47.6537004
                        ],
                        [
                          -117.595517,
                          47.6537009
                        ],
                        [
                          -117.595518,
                          47.6536395
                        ],
                        [
                          -117.595471,
                          47.6536391
                        ],
                        [
                          -117.595471,
                          47.6536285
                        ],
                        [
                          -117.595327,
                          47.6536273
                        ],
                        [
                          -117.595324,
                          47.6537696
                        ],
                        [
                          -117.595463,
                          47.6537708
                        ]
                      ]
                    ]
                  },
                  "bbox": [
                    -117.595518,
                    47.6536273,
                    -117.595324,
                    47.6537708
                  ]
                },
                {
                  "id": "174",
                  "type": "Feature",
                  "properties": {
                    "id": "08b12db7033abfff02006f0e86403f0e",
                    "height": null,
                    "style": {
                      "color": "red",
                      "fillColor": "transparent",
                      "fillOpacity": 0.5,
                      "weight": 1
                    }
                  },
                  "geometry": {
                    "type": "Polygon",
                    "coordinates": [
                      [
                        [
                          -117.595321,
                          47.653864
                        ],
                        [
                          -117.595309,
                          47.6539237
                        ],
                        [
                          -117.595299,
                          47.6539228
                        ],
                        [
                          -117.595285,
                          47.6539892
                        ],
                        [
                          -117.595501,
                          47.6540127
                        ],
                        [
                          -117.595512,
                          47.6539643
                        ],
                        [
                          -117.595559,
                          47.6539684
                        ],
                        [
                          -117.595576,
                          47.6539056
                        ],
                        [
                          -117.595529,
                          47.6539002
                        ],
                        [
                          -117.595534,
                          47.6538848
                        ],
                        [
                          -117.595321,
                          47.653864
                        ]
                      ]
                    ]
                  },
                  "bbox": [
                    -117.595576,
                    47.653864,
                    -117.595285,
                    47.6540127
                  ]
                },
                {
                  "id": "175",
                  "type": "Feature",
                  "properties": {
                    "id": "08b12db7033abfff0200d283b102365a",
                    "height": null,
                    "style": {
                      "color": "red",
                      "fillColor": "transparent",
                      "fillOpacity": 0.5,
                      "weight": 1
                    }
                  },
                  "geometry": {
                    "type": "Polygon",
                    "coordinates": [
                      [
                        [
                          -117.5955094,
                          47.6541839
                        ],
                        [
                          -117.5955334,
                          47.6540733
                        ],
                        [
                          -117.5953254,
                          47.6540522
                        ],
                        [
                          -117.5953104,
                          47.6541167
                        ],
                        [
                          -117.5953714,
                          47.6541228
                        ],
                        [
                          -117.5953604,
                          47.6541688
                        ],
                        [
                          -117.5955094,
                          47.6541839
                        ]
                      ]
                    ]
                  },
                  "bbox": [
                    -117.5955334,
                    47.6540522,
                    -117.5953104,
                    47.6541839
                  ]
                },
                {
                  "id": "176",
                  "type": "Feature",
                  "properties": {
                    "id": "08b12db7033a8fff02008a0f7a8e59b8",
                    "height": null,
                    "style": {
                      "color": "red",
                      "fillColor": "transparent",
                      "fillOpacity": 0.5,
                      "weight": 1
                    }
                  },
                  "geometry": {
                    "type": "Polygon",
                    "coordinates": [
                      [
                        [
                          -117.5952216,
                          47.6545114
                        ],
                        [
                          -117.5952136,
                          47.654636
                        ],
                        [
                          -117.5953296,
                          47.6546393
                        ],
                        [
                          -117.5953276,
                          47.654665
                        ],
                        [
                          -117.5953926,
                          47.6546669
                        ],
                        [
                          -117.5953946,
                          47.6546333
                        ],
                        [
                          -117.5953856,
                          47.654633
                        ],
                        [
                          -117.5953946,
                          47.6544869
                        ],
                        [
                          -117.5953006,
                          47.6544842
                        ],
                        [
                          -117.5952986,
                          47.6545136
                        ],
                        [
                          -117.5952216,
                          47.6545114
                        ]
                      ]
                    ]
                  },
                  "bbox": [
                    -117.5953946,
                    47.6544842,
                    -117.5952136,
                    47.6546669
                  ]
                },
                {
                  "id": "177",
                  "type": "Feature",
                  "properties": {
                    "id": "08b12db7033a8fff0200a5d8ff97680c",
                    "height": null,
                    "style": {
                      "color": "red",
                      "fillColor": "transparent",
                      "fillOpacity": 0.5,
                      "weight": 1
                    }
                  },
                  "geometry": {
                    "type": "Polygon",
                    "coordinates": [
                      [
                        [
                          -117.5951706,
                          47.6545253
                        ],
                        [
                          -117.5950486,
                          47.6545236
                        ],
                        [
                          -117.5950486,
                          47.6545333
                        ],
                        [
                          -117.5950176,
                          47.6545328
                        ],
                        [
                          -117.5950176,
                          47.6545217
                        ],
                        [
                          -117.5949576,
                          47.6545209
                        ],
                        [
                          -117.5949536,
                          47.6546643
                        ],
                        [
                          -117.5951666,
                          47.6546674
                        ],
                        [
                          -117.5951706,
                          47.6545253
                        ]
                      ]
                    ]
                  },
                  "bbox": [
                    -117.5951706,
                    47.6545209,
                    -117.5949536,
                    47.6546674
                  ]
                },
                {
                  "id": "178",
                  "type": "Feature",
                  "properties": {
                    "id": "08b12db703214fff020027f095616b24",
                    "height": 3,
                    "style": {
                      "color": "red",
                      "fillColor": "transparent",
                      "fillOpacity": 0.5,
                      "weight": 1
                    }
                  },
                  "geometry": {
                    "type": "Polygon",
                    "coordinates": [
                      [
                        [
                          -117.5948403,
                          47.6532592
                        ],
                        [
                          -117.5948403,
                          47.6531988
                        ],
                        [
                          -117.5947463,
                          47.6531984
                        ],
                        [
                          -117.5947463,
                          47.6531946
                        ],
                        [
                          -117.5946203,
                          47.653194
                        ],
                        [
                          -117.5946193,
                          47.653307
                        ],
                        [
                          -117.5947613,
                          47.6533077
                        ],
                        [
                          -117.5947603,
                          47.6533105
                        ],
                        [
                          -117.5947953,
                          47.6533107
                        ],
                        [
                          -117.5947953,
                          47.6532748
                        ],
                        [
                          -117.5948073,
                          47.6532749
                        ],
                        [
                          -117.5948073,
                          47.653259
                        ],
                        [
                          -117.5948403,
                          47.6532592
                        ]
                      ]
                    ]
                  },
                  "bbox": [
                    -117.5948403,
                    47.653194,
                    -117.5946193,
                    47.6533107
                  ]
                },
                {
                  "id": "179",
                  "type": "Feature",
                  "properties": {
                    "id": "08b12db703232fff020069fc55cc0467",
                    "height": 4.6,
                    "style": {
                      "color": "red",
                      "fillColor": "transparent",
                      "fillOpacity": 0.5,
                      "weight": 1
                    }
                  },
                  "geometry": {
                    "type": "Polygon",
                    "coordinates": [
                      [
                        [
                          -117.5948303,
                          47.6534548
                        ],
                        [
                          -117.5948303,
                          47.6534315
                        ],
                        [
                          -117.5948413,
                          47.6534315
                        ],
                        [
                          -117.5948403,
                          47.6533901
                        ],
                        [
                          -117.5946313,
                          47.6533911
                        ],
                        [
                          -117.5946323,
                          47.653507
                        ],
                        [
                          -117.5947823,
                          47.653508
                        ],
                        [
                          -117.5947823,
                          47.6534547
                        ],
                        [
                          -117.5948303,
                          47.6534548
                        ]
                      ]
                    ]
                  },
                  "bbox": [
                    -117.5948413,
                    47.6533901,
                    -117.5946313,
                    47.653508
                  ]
                },
                {
                  "id": "180",
                  "type": "Feature",
                  "properties": {
                    "id": "08b12db703232fff02002f55a24217d2",
                    "height": 3.7,
                    "style": {
                      "color": "red",
                      "fillColor": "transparent",
                      "fillOpacity": 0.5,
                      "weight": 1
                    }
                  },
                  "geometry": {
                    "type": "Polygon",
                    "coordinates": [
                      [
                        [
                          -117.5946183,
                          47.6535872
                        ],
                        [
                          -117.5946193,
                          47.6537156
                        ],
                        [
                          -117.5948413,
                          47.6537155
                        ],
                        [
                          -117.5948413,
                          47.6535871
                        ],
                        [
                          -117.5946183,
                          47.6535872
                        ]
                      ]
                    ]
                  },
                  "bbox": [
                    -117.5948413,
                    47.6535871,
                    -117.5946183,
                    47.6537156
                  ]
                },
                {
                  "id": "181",
                  "type": "Feature",
                  "properties": {
                    "id": "08b12db703236fff020081a024ccc4b6",
                    "height": 4.3,
                    "style": {
                      "color": "red",
                      "fillColor": "transparent",
                      "fillOpacity": 0.5,
                      "weight": 1
                    }
                  },
                  "geometry": {
                    "type": "Polygon",
                    "coordinates": [
                      [
                        [
                          -117.5948433,
                          47.6540267
                        ],
                        [
                          -117.5948433,
                          47.6539575
                        ],
                        [
                          -117.5948343,
                          47.6539575
                        ],
                        [
                          -117.5948343,
                          47.6538966
                        ],
                        [
                          -117.5947203,
                          47.6538979
                        ],
                        [
                          -117.5947203,
                          47.6538731
                        ],
                        [
                          -117.5946713,
                          47.6538726
                        ],
                        [
                          -117.5946723,
                          47.6538975
                        ],
                        [
                          -117.5946193,
                          47.6538979
                        ],
                        [
                          -117.5946173,
                          47.6539341
                        ],
                        [
                          -117.5945733,
                          47.6539336
                        ],
                        [
                          -117.5945743,
                          47.6539777
                        ],
                        [
                          -117.5946183,
                          47.6539787
                        ],
                        [
                          -117.5946163,
                          47.6540267
                        ],
                        [
                          -117.5948433,
                          47.6540267
                        ]
                      ]
                    ]
                  },
                  "bbox": [
                    -117.5948433,
                    47.6538726,
                    -117.5945733,
                    47.6540267
                  ]
                },
                {
                  "id": "182",
                  "type": "Feature",
                  "properties": {
                    "id": "08b12db703236fff02006760313e4102",
                    "height": 3.7,
                    "style": {
                      "color": "red",
                      "fillColor": "transparent",
                      "fillOpacity": 0.5,
                      "weight": 1
                    }
                  },
                  "geometry": {
                    "type": "Polygon",
                    "coordinates": [
                      [
                        [
                          -117.5948633,
                          47.6541377
                        ],
                        [
                          -117.5948553,
                          47.6540711
                        ],
                        [
                          -117.5946353,
                          47.6540827
                        ],
                        [
                          -117.5946483,
                          47.6541961
                        ],
                        [
                          -117.5948103,
                          47.6541876
                        ],
                        [
                          -117.5948043,
                          47.6541408
                        ],
                        [
                          -117.5948633,
                          47.6541377
                        ]
                      ]
                    ]
                  },
                  "bbox": [
                    -117.5948633,
                    47.6540711,
                    -117.5946353,
                    47.6541961
                  ]
                },
                {
                  "id": "183",
                  "type": "Feature",
                  "properties": {
                    "id": "08b12db703234fff0200ed587ca293a2",
                    "height": 0,
                    "style": {
                      "color": "red",
                      "fillColor": "transparent",
                      "fillOpacity": 0.5,
                      "weight": 1
                    }
                  },
                  "geometry": {
                    "type": "Polygon",
                    "coordinates": [
                      [
                        [
                          -117.59449578955197,
                          47.6541246198569
                        ],
                        [
                          -117.59438588380647,
                          47.65412282188285
                        ],
                        [
                          -117.5943807407456,
                          47.65426547065392
                        ],
                        [
                          -117.59449064649111,
                          47.65426726862306
                        ],
                        [
                          -117.59449578955197,
                          47.6541246198569
                        ]
                      ]
                    ]
                  },
                  "bbox": [
                    -117.59449578955197,
                    47.65412282188285,
                    -117.5943807407456,
                    47.65426726862306
                  ]
                },
                {
                  "id": "184",
                  "type": "Feature",
                  "properties": {
                    "id": "08b12db703234fff02004a48e2029899",
                    "height": 0,
                    "style": {
                      "color": "red",
                      "fillColor": "transparent",
                      "fillOpacity": 0.5,
                      "weight": 1
                    }
                  },
                  "geometry": {
                    "type": "Polygon",
                    "coordinates": [
                      [
                        [
                          -117.59427229592629,
                          47.654265768101354
                        ],
                        [
                          -117.59427002846475,
                          47.654121244481246
                        ],
                        [
                          -117.59415738818349,
                          47.65412204104135
                        ],
                        [
                          -117.59415965564503,
                          47.65426656465926
                        ],
                        [
                          -117.59427229592629,
                          47.654265768101354
                        ]
                      ]
                    ]
                  },
                  "bbox": [
                    -117.59427229592629,
                    47.654121244481246,
                    -117.59415738818349,
                    47.65426656465926
                  ]
                },
                {
                  "id": "185",
                  "type": "Feature",
                  "properties": {
                    "id": "08b12db703234fff02009f7b18cd07db",
                    "height": 0,
                    "style": {
                      "color": "red",
                      "fillColor": "transparent",
                      "fillOpacity": 0.5,
                      "weight": 1
                    }
                  },
                  "geometry": {
                    "type": "Polygon",
                    "coordinates": [
                      [
                        [
                          -117.59409719669331,
                          47.6542734097842
                        ],
                        [
                          -117.59409965821264,
                          47.654123468241906
                        ],
                        [
                          -117.59398970108907,
                          47.65412264918511
                        ],
                        [
                          -117.59398723956974,
                          47.65427259072978
                        ],
                        [
                          -117.59409719669331,
                          47.6542734097842
                        ]
                      ]
                    ]
                  },
                  "bbox": [
                    -117.59409965821264,
                    47.65412264918511,
                    -117.59398723956974,
                    47.6542734097842
                  ]
                },
                {
                  "id": "186",
                  "type": "Feature",
                  "properties": {
                    "id": "08b12db7033adfff0200f76d4ee62b03",
                    "height": null,
                    "style": {
                      "color": "red",
                      "fillColor": "transparent",
                      "fillOpacity": 0.5,
                      "weight": 1
                    }
                  },
                  "geometry": {
                    "type": "Polygon",
                    "coordinates": [
                      [
                        [
                          -117.5947246,
                          47.6546956
                        ],
                        [
                          -117.5948886,
                          47.6546948
                        ],
                        [
                          -117.5948886,
                          47.6546909
                        ],
                        [
                          -117.5948946,
                          47.6546909
                        ],
                        [
                          -117.5948936,
                          47.6545816
                        ],
                        [
                          -117.5948426,
                          47.6545818
                        ],
                        [
                          -117.5948426,
                          47.6545709
                        ],
                        [
                          -117.5948216,
                          47.654571
                        ],
                        [
                          -117.5948216,
                          47.654549
                        ],
                        [
                          -117.5947326,
                          47.6545494
                        ],
                        [
                          -117.5947326,
                          47.6546108
                        ],
                        [
                          -117.5947236,
                          47.6546109
                        ],
                        [
                          -117.5947246,
                          47.6546956
                        ]
                      ]
                    ]
                  },
                  "bbox": [
                    -117.5948946,
                    47.654549,
                    -117.5947236,
                    47.6546956
                  ]
                },
                {
                  "id": "187",
                  "type": "Feature",
                  "properties": {
                    "id": "08b12db7033adfff02009f3fc841b164",
                    "height": 0,
                    "style": {
                      "color": "red",
                      "fillColor": "transparent",
                      "fillOpacity": 0.5,
                      "weight": 1
                    }
                  },
                  "geometry": {
                    "type": "Polygon",
                    "coordinates": [
                      [
                        [
                          -117.5945018531148,
                          47.65471351857737
                        ],
                        [
                          -117.59461579412509,
                          47.65471418466351
                        ],
                        [
                          -117.59461785893888,
                          47.65455520445707
                        ],
                        [
                          -117.59459240764266,
                          47.65455505567124
                        ],
                        [
                          -117.59459275678411,
                          47.65452795670761
                        ],
                        [
                          -117.59450425055275,
                          47.65452743930844
                        ],
                        [
                          -117.5945018531148,
                          47.65471351857737
                        ]
                      ]
                    ]
                  },
                  "bbox": [
                    -117.59461785893888,
                    47.65452743930844,
                    -117.5945018531148,
                    47.65471418466351
                  ]
                },
                {
                  "id": "188",
                  "type": "Feature",
                  "properties": {
                    "id": "08b12db70331afff02002e7687840278",
                    "height": 0,
                    "style": {
                      "color": "red",
                      "fillColor": "transparent",
                      "fillOpacity": 0.5,
                      "weight": 1
                    }
                  },
                  "geometry": {
                    "type": "Polygon",
                    "coordinates": [
                      [
                        [
                          -117.59445190379103,
                          47.65451438094467
                        ],
                        [
                          -117.59434195266446,
                          47.654513396064054
                        ],
                        [
                          -117.59433892144827,
                          47.65466694112895
                        ],
                        [
                          -117.59444887257484,
                          47.65466792600667
                        ],
                        [
                          -117.59445190379103,
                          47.65451438094467
                        ]
                      ]
                    ]
                  },
                  "bbox": [
                    -117.59445190379103,
                    47.654513396064054,
                    -117.59433892144827,
                    47.65466792600667
                  ]
                },
                {
                  "id": "189",
                  "type": "Feature",
                  "properties": {
                    "id": "08b12db70331afff020029f027cf2a2f",
                    "height": 0,
                    "style": {
                      "color": "red",
                      "fillColor": "transparent",
                      "fillOpacity": 0.5,
                      "weight": 1
                    }
                  },
                  "geometry": {
                    "type": "Polygon",
                    "coordinates": [
                      [
                        [
                          -117.5941745237507,
                          47.654666337004656
                        ],
                        [
                          -117.5942804999325,
                          47.65466704646095
                        ],
                        [
                          -117.59428273782171,
                          47.65451429266353
                        ],
                        [
                          -117.59417677743619,
                          47.654513588306344
                        ],
                        [
                          -117.5941745237507,
                          47.654666337004656
                        ]
                      ]
                    ]
                  },
                  "bbox": [
                    -117.59428273782171,
                    47.654513588306344,
                    -117.5941745237507,
                    47.65466704646095
                  ]
                },
                {
                  "id": "190",
                  "type": "Feature",
                  "properties": {
                    "id": "08b12db70331efff02009df87412c971",
                    "height": 0,
                    "style": {
                      "color": "red",
                      "fillColor": "transparent",
                      "fillOpacity": 0.5,
                      "weight": 1
                    }
                  },
                  "geometry": {
                    "type": "Polygon",
                    "coordinates": [
                      [
                        [
                          -117.59443136571748,
                          47.65487138770882
                        ],
                        [
                          -117.59441259507616,
                          47.654871590356635
                        ],
                        [
                          -117.59441358356767,
                          47.65491313427954
                        ],
                        [
                          -117.59443235420899,
                          47.65491293163188
                        ],
                        [
                          -117.59443136571748,
                          47.65487138770882
                        ]
                      ]
                    ]
                  },
                  "bbox": [
                    -117.59443235420899,
                    47.65487138770882,
                    -117.59441259507616,
                    47.65491313427954
                  ]
                },
                {
                  "id": "191",
                  "type": "Feature",
                  "properties": {
                    "id": "08b12db70331afff0200e7b8735e64b7",
                    "height": 0,
                    "style": {
                      "color": "red",
                      "fillColor": "transparent",
                      "fillOpacity": 0.5,
                      "weight": 1
                    }
                  },
                  "geometry": {
                    "type": "Polygon",
                    "coordinates": [
                      [
                        [
                          -117.59400338980008,
                          47.654536178247554
                        ],
                        [
                          -117.59400074112902,
                          47.65466623844685
                        ],
                        [
                          -117.5941160544172,
                          47.65466730397386
                        ],
                        [
                          -117.59411918132055,
                          47.654513760651625
                        ],
                        [
                          -117.59403604848488,
                          47.65451299247874
                        ],
                        [
                          -117.59403557025259,
                          47.65453647560468
                        ],
                        [
                          -117.59400338980008,
                          47.654536178247554
                        ]
                      ]
                    ]
                  },
                  "bbox": [
                    -117.59411918132055,
                    47.65451299247874,
                    -117.59400074112902,
                    47.65466730397386
                  ]
                },
                {
                  "id": "192",
                  "type": "Feature",
                  "properties": {
                    "id": "08b12db70331afff02000fde3e0d33c2",
                    "height": 0,
                    "style": {
                      "color": "red",
                      "fillColor": "transparent",
                      "fillOpacity": 0.5,
                      "weight": 1
                    }
                  },
                  "geometry": {
                    "type": "Polygon",
                    "coordinates": [
                      [
                        [
                          -117.5938505436593,
                          47.65469255967462
                        ],
                        [
                          -117.59396317093572,
                          47.65469370126645
                        ],
                        [
                          -117.59396668152938,
                          47.654536551244334
                        ],
                        [
                          -117.59393986551117,
                          47.65453627943595
                        ],
                        [
                          -117.59394051113759,
                          47.65450737823081
                        ],
                        [
                          -117.59385469987934,
                          47.65450650844347
                        ],
                        [
                          -117.5938505436593,
                          47.65469255967462
                        ]
                      ]
                    ]
                  },
                  "bbox": [
                    -117.59396668152938,
                    47.65450650844347,
                    -117.5938505436593,
                    47.65469370126645
                  ]
                },
                {
                  "id": "193",
                  "type": "Feature",
                  "properties": {
                    "id": "08b12db70331efff020056a216670728",
                    "height": 0.010570195,
                    "style": {
                      "color": "red",
                      "fillColor": "transparent",
                      "fillOpacity": 0.5,
                      "weight": 1
                    }
                  },
                  "geometry": {
                    "type": "Polygon",
                    "coordinates": [
                      [
                        [
                          -117.59380783102782,
                          47.65486556553917
                        ],
                        [
                          -117.59381344978372,
                          47.655033505425365
                        ],
                        [
                          -117.59399306684547,
                          47.65503078724285
                        ],
                        [
                          -117.59399216059451,
                          47.655003700199565
                        ],
                        [
                          -117.59403363952556,
                          47.65500307248988
                        ],
                        [
                          -117.5940346634219,
                          47.65503377118652
                        ],
                        [
                          -117.59416870621595,
                          47.65503174268895
                        ],
                        [
                          -117.59416776951286,
                          47.655003658239416
                        ],
                        [
                          -117.5942067161313,
                          47.655003067015684
                        ],
                        [
                          -117.59420780363072,
                          47.655035571415084
                        ],
                        [
                          -117.59441281113847,
                          47.65503245932891
                        ],
                        [
                          -117.59440712301522,
                          47.654861916466615
                        ],
                        [
                          -117.59421014002824,
                          47.65486489746092
                        ],
                        [
                          -117.59421110669592,
                          47.654893790383404
                        ],
                        [
                          -117.5941694905089,
                          47.654894420171516
                        ],
                        [
                          -117.59416873449187,
                          47.654871753035216
                        ],
                        [
                          -117.59411651859882,
                          47.6548725456933
                        ],
                        [
                          -117.59411612896966,
                          47.65486089998695
                        ],
                        [
                          -117.59380783102782,
                          47.65486556553917
                        ]
                      ]
                    ]
                  },
                  "bbox": [
                    -117.59441281113847,
                    47.65486089998695,
                    -117.59380783102782,
                    47.655035571415084
                  ]
                },
                {
                  "id": "194",
                  "type": "Feature",
                  "properties": {
                    "id": "08b12db703311fff0200bdad6ddaa1f2",
                    "height": 0,
                    "style": {
                      "color": "red",
                      "fillColor": "transparent",
                      "fillOpacity": 0.5,
                      "weight": 1
                    }
                  },
                  "geometry": {
                    "type": "Polygon",
                    "coordinates": [
                      [
                        [
                          -117.59444058994626,
                          47.655474792839996
                        ],
                        [
                          -117.59455321602303,
                          47.65547362472943
                        ],
                        [
                          -117.59454962382593,
                          47.655316478728366
                        ],
                        [
                          -117.59452817123989,
                          47.65531670122629
                        ],
                        [
                          -117.59452751060593,
                          47.65528780076095
                        ],
                        [
                          -117.59443633711521,
                          47.65528874637763
                        ],
                        [
                          -117.59444058994626,
                          47.655474792839996
                        ]
                      ]
                    ]
                  },
                  "bbox": [
                    -117.59455321602303,
                    47.65528780076095,
                    -117.59443633711521,
                    47.655474792839996
                  ]
                },
                {
                  "id": "195",
                  "type": "Feature",
                  "properties": {
                    "id": "08b12db703315fff02004a080c2d1291",
                    "height": 0,
                    "style": {
                      "color": "red",
                      "fillColor": "transparent",
                      "fillOpacity": 0.5,
                      "weight": 1
                    }
                  },
                  "geometry": {
                    "type": "Polygon",
                    "coordinates": [
                      [
                        [
                          -117.5945188444942,
                          47.6557056162964
                        ],
                        [
                          -117.59451700234133,
                          47.6556323551218
                        ],
                        [
                          -117.59429712427894,
                          47.65563486364579
                        ],
                        [
                          -117.59429896617122,
                          47.65570811445403
                        ],
                        [
                          -117.5945188444942,
                          47.6557056162964
                        ]
                      ]
                    ]
                  },
                  "bbox": [
                    -117.5945188444942,
                    47.6556323551218,
                    -117.59429712427894,
                    47.65570811445403
                  ]
                },
                {
                  "id": "196",
                  "type": "Feature",
                  "properties": {
                    "id": "08b12db703315fff0200f2ecccbe6106",
                    "height": 0,
                    "style": {
                      "color": "red",
                      "fillColor": "transparent",
                      "fillOpacity": 0.5,
                      "weight": 1
                    }
                  },
                  "geometry": {
                    "type": "Polygon",
                    "coordinates": [
                      [
                        [
                          -117.59427961215344,
                          47.65583238921681
                        ],
                        [
                          -117.5944661758889,
                          47.6558333215098
                        ],
                        [
                          -117.59446650300518,
                          47.65580362135887
                        ],
                        [
                          -117.59450136978525,
                          47.65580379723837
                        ],
                        [
                          -117.59450185849325,
                          47.65575942552308
                        ],
                        [
                          -117.59428043565549,
                          47.65575831903121
                        ],
                        [
                          -117.59427961215344,
                          47.65583238921681
                        ]
                      ]
                    ]
                  },
                  "bbox": [
                    -117.59450185849325,
                    47.65575831903121,
                    -117.59427961215344,
                    47.6558333215098
                  ]
                },
                {
                  "id": "197",
                  "type": "Feature",
                  "properties": {
                    "id": "08b12db703311fff0200ba6b0e3ba466",
                    "height": 0.015768243,
                    "style": {
                      "color": "red",
                      "fillColor": "transparent",
                      "fillOpacity": 0.5,
                      "weight": 1
                    }
                  },
                  "geometry": {
                    "type": "Polygon",
                    "coordinates": [
                      [
                        [
                          -117.59439084707545,
                          47.6553132825112
                        ],
                        [
                          -117.59420720372677,
                          47.655309256714624
                        ],
                        [
                          -117.59420572133396,
                          47.655339938229254
                        ],
                        [
                          -117.59416017202489,
                          47.65533893970599
                        ],
                        [
                          -117.59416139281896,
                          47.65531367257714
                        ],
                        [
                          -117.59403278300508,
                          47.65531085321588
                        ],
                        [
                          -117.59403138781182,
                          47.65533972993516
                        ],
                        [
                          -117.59398851787387,
                          47.655338790148555
                        ],
                        [
                          -117.59398982586754,
                          47.655311718224226
                        ],
                        [
                          -117.59381175354709,
                          47.65530781455461
                        ],
                        [
                          -117.59380357439558,
                          47.65547746544751
                        ],
                        [
                          -117.59398966722057,
                          47.655481544927945
                        ],
                        [
                          -117.59399123681298,
                          47.65544905870587
                        ],
                        [
                          -117.59403142737982,
                          47.65544993975394
                        ],
                        [
                          -117.59403011938615,
                          47.655477011606614
                        ],
                        [
                          -117.59416140857115,
                          47.65547988969539
                        ],
                        [
                          -117.59416280376439,
                          47.655451013053636
                        ],
                        [
                          -117.59420567370236,
                          47.65545195283821
                        ],
                        [
                          -117.59420445290829,
                          47.65547721990016
                        ],
                        [
                          -117.59438275493619,
                          47.655481128592704
                        ],
                        [
                          -117.59439084707545,
                          47.6553132825112
                        ]
                      ]
                    ]
                  },
                  "bbox": [
                    -117.59439084707545,
                    47.65530781455461,
                    -117.59380357439558,
                    47.655481544927945
                  ]
                }
              ],
              "bbox": [
                -117.6017984,
                47.650168297348685,
                -117.5937308,
                47.655846
              ]
            },
            "hover_style": {
              "weight": 3,
              "fillOpacity": 0,
              "color": "yellow"
            },
            "layers": [],
            "name": "WA Overture Buildings",
            "options": [],
            "pane": "",
            "point_style": {},
            "popup": null,
            "popup_max_height": null,
            "popup_max_width": 300,
            "popup_min_width": 50,
            "style": {
              "color": "red",
              "fillColor": "transparent",
              "fillOpacity": 0.5,
              "weight": 1
            },
            "subitems": [],
            "visible": true
          }
        },
        "b59776ffaab34769ac7e853301dbef2d": {
          "model_module": "@jupyter-widgets/base",
          "model_name": "LayoutModel",
          "model_module_version": "1.2.0",
          "state": {
            "_model_module": "@jupyter-widgets/base",
            "_model_module_version": "1.2.0",
            "_model_name": "LayoutModel",
            "_view_count": null,
            "_view_module": "@jupyter-widgets/base",
            "_view_module_version": "1.2.0",
            "_view_name": "LayoutView",
            "align_content": null,
            "align_items": null,
            "align_self": null,
            "border": null,
            "bottom": null,
            "display": null,
            "flex": null,
            "flex_flow": null,
            "grid_area": null,
            "grid_auto_columns": null,
            "grid_auto_flow": null,
            "grid_auto_rows": null,
            "grid_column": null,
            "grid_gap": null,
            "grid_row": null,
            "grid_template_areas": null,
            "grid_template_columns": null,
            "grid_template_rows": null,
            "height": "18px",
            "justify_content": null,
            "justify_items": null,
            "left": null,
            "margin": null,
            "max_height": null,
            "max_width": null,
            "min_height": null,
            "min_width": null,
            "object_fit": null,
            "object_position": null,
            "order": null,
            "overflow": null,
            "overflow_x": null,
            "overflow_y": null,
            "padding": null,
            "right": null,
            "top": null,
            "visibility": null,
            "width": "25ex"
          }
        },
        "346cbbc1e7ec409381f7166c8389aab6": {
          "model_module": "@jupyter-widgets/controls",
          "model_name": "DescriptionStyleModel",
          "model_module_version": "1.5.0",
          "state": {
            "_model_module": "@jupyter-widgets/controls",
            "_model_module_version": "1.5.0",
            "_model_name": "DescriptionStyleModel",
            "_view_count": null,
            "_view_module": "@jupyter-widgets/base",
            "_view_module_version": "1.2.0",
            "_view_name": "StyleView",
            "description_width": ""
          }
        },
        "742d93a59fad4775bc8ba2db73182625": {
          "model_module": "@jupyter-widgets/base",
          "model_name": "LayoutModel",
          "model_module_version": "1.2.0",
          "state": {
            "_model_module": "@jupyter-widgets/base",
            "_model_module_version": "1.2.0",
            "_model_name": "LayoutModel",
            "_view_count": null,
            "_view_module": "@jupyter-widgets/base",
            "_view_module_version": "1.2.0",
            "_view_name": "LayoutView",
            "align_content": null,
            "align_items": null,
            "align_self": null,
            "border": null,
            "bottom": null,
            "display": null,
            "flex": null,
            "flex_flow": null,
            "grid_area": null,
            "grid_auto_columns": null,
            "grid_auto_flow": null,
            "grid_auto_rows": null,
            "grid_column": null,
            "grid_gap": null,
            "grid_row": null,
            "grid_template_areas": null,
            "grid_template_columns": null,
            "grid_template_rows": null,
            "height": "18px",
            "justify_content": null,
            "justify_items": null,
            "left": null,
            "margin": null,
            "max_height": null,
            "max_width": null,
            "min_height": null,
            "min_width": null,
            "object_fit": null,
            "object_position": null,
            "order": null,
            "overflow": null,
            "overflow_x": null,
            "overflow_y": null,
            "padding": null,
            "right": null,
            "top": null,
            "visibility": null,
            "width": "25ex"
          }
        },
        "96be7c821b8b4fd1ac9b831223a896d8": {
          "model_module": "@jupyter-widgets/controls",
          "model_name": "DescriptionStyleModel",
          "model_module_version": "1.5.0",
          "state": {
            "_model_module": "@jupyter-widgets/controls",
            "_model_module_version": "1.5.0",
            "_model_name": "DescriptionStyleModel",
            "_view_count": null,
            "_view_module": "@jupyter-widgets/base",
            "_view_module_version": "1.2.0",
            "_view_name": "StyleView",
            "description_width": ""
          }
        },
        "ca38b1c61bd04144aaf0ddf7acea966a": {
          "model_module": "@jupyter-widgets/controls",
          "model_name": "CheckboxModel",
          "model_module_version": "1.5.0",
          "state": {
            "_dom_classes": [],
            "_model_module": "@jupyter-widgets/controls",
            "_model_module_version": "1.5.0",
            "_model_name": "CheckboxModel",
            "_view_count": null,
            "_view_module": "@jupyter-widgets/controls",
            "_view_module_version": "1.5.0",
            "_view_name": "CheckboxView",
            "description": "OpenStreetMap.Mapnik",
            "description_tooltip": null,
            "disabled": false,
            "indent": false,
            "layout": "IPY_MODEL_e2723f3a36924c33904d5dae21cd6169",
            "style": "IPY_MODEL_dc495bfd2697461da3edc5c940a4eae1",
            "value": true
          }
        },
        "59d221de3c624d548d330e037ff514e2": {
          "model_module": "jupyter-leaflet",
          "model_name": "LeafletTileLayerModel",
          "model_module_version": "^0.19",
          "state": {
            "_model_module": "jupyter-leaflet",
            "_model_module_version": "^0.19",
            "_model_name": "LeafletTileLayerModel",
            "_view_count": null,
            "_view_module": "jupyter-leaflet",
            "_view_module_version": "^0.19",
            "_view_name": "LeafletTileLayerView",
            "attribution": "&copy; <a href=\"https://www.openstreetmap.org/copyright\">OpenStreetMap</a> contributors",
            "base": true,
            "bottom": true,
            "bounds": null,
            "detect_retina": false,
            "loading": false,
            "max_native_zoom": null,
            "max_zoom": 19,
            "min_native_zoom": null,
            "min_zoom": 1,
            "name": "OpenStreetMap",
            "no_wrap": false,
            "opacity": 1,
            "options": [
              "attribution",
              "bounds",
              "detect_retina",
              "max_native_zoom",
              "max_zoom",
              "min_native_zoom",
              "min_zoom",
              "no_wrap",
              "tile_size",
              "tms",
              "zoom_offset"
            ],
            "pane": "",
            "popup": null,
            "popup_max_height": null,
            "popup_max_width": 300,
            "popup_min_width": 50,
            "show_loading": false,
            "subitems": [],
            "tile_size": 256,
            "tms": false,
            "url": "https://tile.openstreetmap.org/{z}/{x}/{y}.png",
            "visible": true,
            "zoom_offset": 0
          }
        },
        "9224c24368154651ae01ca55f6359b84": {
          "model_module": "@jupyter-widgets/controls",
          "model_name": "CheckboxModel",
          "model_module_version": "1.5.0",
          "state": {
            "_dom_classes": [],
            "_model_module": "@jupyter-widgets/controls",
            "_model_module_version": "1.5.0",
            "_model_name": "CheckboxModel",
            "_view_count": null,
            "_view_module": "@jupyter-widgets/controls",
            "_view_module_version": "1.5.0",
            "_view_name": "CheckboxView",
            "description": "OpenStreetMap.Mapnik",
            "description_tooltip": null,
            "disabled": false,
            "indent": false,
            "layout": "IPY_MODEL_2989da57ece24388a4b457eaec52bd2f",
            "style": "IPY_MODEL_85e00e6b463340c8ab191bbef322a596",
            "value": true
          }
        },
        "e2723f3a36924c33904d5dae21cd6169": {
          "model_module": "@jupyter-widgets/base",
          "model_name": "LayoutModel",
          "model_module_version": "1.2.0",
          "state": {
            "_model_module": "@jupyter-widgets/base",
            "_model_module_version": "1.2.0",
            "_model_name": "LayoutModel",
            "_view_count": null,
            "_view_module": "@jupyter-widgets/base",
            "_view_module_version": "1.2.0",
            "_view_name": "LayoutView",
            "align_content": null,
            "align_items": null,
            "align_self": null,
            "border": null,
            "bottom": null,
            "display": null,
            "flex": null,
            "flex_flow": null,
            "grid_area": null,
            "grid_auto_columns": null,
            "grid_auto_flow": null,
            "grid_auto_rows": null,
            "grid_column": null,
            "grid_gap": null,
            "grid_row": null,
            "grid_template_areas": null,
            "grid_template_columns": null,
            "grid_template_rows": null,
            "height": "18px",
            "justify_content": null,
            "justify_items": null,
            "left": null,
            "margin": null,
            "max_height": null,
            "max_width": null,
            "min_height": null,
            "min_width": null,
            "object_fit": null,
            "object_position": null,
            "order": null,
            "overflow": null,
            "overflow_x": null,
            "overflow_y": null,
            "padding": null,
            "right": null,
            "top": null,
            "visibility": null,
            "width": "25ex"
          }
        },
        "dc495bfd2697461da3edc5c940a4eae1": {
          "model_module": "@jupyter-widgets/controls",
          "model_name": "DescriptionStyleModel",
          "model_module_version": "1.5.0",
          "state": {
            "_model_module": "@jupyter-widgets/controls",
            "_model_module_version": "1.5.0",
            "_model_name": "DescriptionStyleModel",
            "_view_count": null,
            "_view_module": "@jupyter-widgets/base",
            "_view_module_version": "1.2.0",
            "_view_name": "StyleView",
            "description_width": ""
          }
        },
        "2989da57ece24388a4b457eaec52bd2f": {
          "model_module": "@jupyter-widgets/base",
          "model_name": "LayoutModel",
          "model_module_version": "1.2.0",
          "state": {
            "_model_module": "@jupyter-widgets/base",
            "_model_module_version": "1.2.0",
            "_model_name": "LayoutModel",
            "_view_count": null,
            "_view_module": "@jupyter-widgets/base",
            "_view_module_version": "1.2.0",
            "_view_name": "LayoutView",
            "align_content": null,
            "align_items": null,
            "align_self": null,
            "border": null,
            "bottom": null,
            "display": null,
            "flex": null,
            "flex_flow": null,
            "grid_area": null,
            "grid_auto_columns": null,
            "grid_auto_flow": null,
            "grid_auto_rows": null,
            "grid_column": null,
            "grid_gap": null,
            "grid_row": null,
            "grid_template_areas": null,
            "grid_template_columns": null,
            "grid_template_rows": null,
            "height": "18px",
            "justify_content": null,
            "justify_items": null,
            "left": null,
            "margin": null,
            "max_height": null,
            "max_width": null,
            "min_height": null,
            "min_width": null,
            "object_fit": null,
            "object_position": null,
            "order": null,
            "overflow": null,
            "overflow_x": null,
            "overflow_y": null,
            "padding": null,
            "right": null,
            "top": null,
            "visibility": null,
            "width": "25ex"
          }
        },
        "85e00e6b463340c8ab191bbef322a596": {
          "model_module": "@jupyter-widgets/controls",
          "model_name": "DescriptionStyleModel",
          "model_module_version": "1.5.0",
          "state": {
            "_model_module": "@jupyter-widgets/controls",
            "_model_module_version": "1.5.0",
            "_model_name": "DescriptionStyleModel",
            "_view_count": null,
            "_view_module": "@jupyter-widgets/base",
            "_view_module_version": "1.2.0",
            "_view_name": "StyleView",
            "description_width": ""
          }
        },
        "58a752b6526d446d846a2bbc7d59f889": {
          "model_module": "@jupyter-widgets/controls",
          "model_name": "CheckboxModel",
          "model_module_version": "1.5.0",
          "state": {
            "_dom_classes": [],
            "_model_module": "@jupyter-widgets/controls",
            "_model_module_version": "1.5.0",
            "_model_name": "CheckboxModel",
            "_view_count": null,
            "_view_module": "@jupyter-widgets/controls",
            "_view_module_version": "1.5.0",
            "_view_name": "CheckboxView",
            "description": "OpenStreetMap.Mapnik",
            "description_tooltip": null,
            "disabled": false,
            "indent": false,
            "layout": "IPY_MODEL_e2e1e53532b240e0964bbe1c3433b001",
            "style": "IPY_MODEL_09ed249174ea47468ed209b45dc2be18",
            "value": true
          }
        },
        "e2e1e53532b240e0964bbe1c3433b001": {
          "model_module": "@jupyter-widgets/base",
          "model_name": "LayoutModel",
          "model_module_version": "1.2.0",
          "state": {
            "_model_module": "@jupyter-widgets/base",
            "_model_module_version": "1.2.0",
            "_model_name": "LayoutModel",
            "_view_count": null,
            "_view_module": "@jupyter-widgets/base",
            "_view_module_version": "1.2.0",
            "_view_name": "LayoutView",
            "align_content": null,
            "align_items": null,
            "align_self": null,
            "border": null,
            "bottom": null,
            "display": null,
            "flex": null,
            "flex_flow": null,
            "grid_area": null,
            "grid_auto_columns": null,
            "grid_auto_flow": null,
            "grid_auto_rows": null,
            "grid_column": null,
            "grid_gap": null,
            "grid_row": null,
            "grid_template_areas": null,
            "grid_template_columns": null,
            "grid_template_rows": null,
            "height": "18px",
            "justify_content": null,
            "justify_items": null,
            "left": null,
            "margin": null,
            "max_height": null,
            "max_width": null,
            "min_height": null,
            "min_width": null,
            "object_fit": null,
            "object_position": null,
            "order": null,
            "overflow": null,
            "overflow_x": null,
            "overflow_y": null,
            "padding": null,
            "right": null,
            "top": null,
            "visibility": null,
            "width": "25ex"
          }
        },
        "09ed249174ea47468ed209b45dc2be18": {
          "model_module": "@jupyter-widgets/controls",
          "model_name": "DescriptionStyleModel",
          "model_module_version": "1.5.0",
          "state": {
            "_model_module": "@jupyter-widgets/controls",
            "_model_module_version": "1.5.0",
            "_model_name": "DescriptionStyleModel",
            "_view_count": null,
            "_view_module": "@jupyter-widgets/base",
            "_view_module_version": "1.2.0",
            "_view_name": "StyleView",
            "description_width": ""
          }
        },
        "1110142b08754f879623ebfb0e53fd70": {
          "model_module": "@jupyter-widgets/controls",
          "model_name": "CheckboxModel",
          "model_module_version": "1.5.0",
          "state": {
            "_dom_classes": [],
            "_model_module": "@jupyter-widgets/controls",
            "_model_module_version": "1.5.0",
            "_model_name": "CheckboxModel",
            "_view_count": null,
            "_view_module": "@jupyter-widgets/controls",
            "_view_module_version": "1.5.0",
            "_view_name": "CheckboxView",
            "description": "OpenStreetMap",
            "description_tooltip": null,
            "disabled": false,
            "indent": false,
            "layout": "IPY_MODEL_51a81ad836ae45298331671ba8782c41",
            "style": "IPY_MODEL_fb33aba6e5164827993b282cb60b5777",
            "value": true
          }
        },
        "51a81ad836ae45298331671ba8782c41": {
          "model_module": "@jupyter-widgets/base",
          "model_name": "LayoutModel",
          "model_module_version": "1.2.0",
          "state": {
            "_model_module": "@jupyter-widgets/base",
            "_model_module_version": "1.2.0",
            "_model_name": "LayoutModel",
            "_view_count": null,
            "_view_module": "@jupyter-widgets/base",
            "_view_module_version": "1.2.0",
            "_view_name": "LayoutView",
            "align_content": null,
            "align_items": null,
            "align_self": null,
            "border": null,
            "bottom": null,
            "display": null,
            "flex": null,
            "flex_flow": null,
            "grid_area": null,
            "grid_auto_columns": null,
            "grid_auto_flow": null,
            "grid_auto_rows": null,
            "grid_column": null,
            "grid_gap": null,
            "grid_row": null,
            "grid_template_areas": null,
            "grid_template_columns": null,
            "grid_template_rows": null,
            "height": "18px",
            "justify_content": null,
            "justify_items": null,
            "left": null,
            "margin": null,
            "max_height": null,
            "max_width": null,
            "min_height": null,
            "min_width": null,
            "object_fit": null,
            "object_position": null,
            "order": null,
            "overflow": null,
            "overflow_x": null,
            "overflow_y": null,
            "padding": null,
            "right": null,
            "top": null,
            "visibility": null,
            "width": "25ex"
          }
        },
        "fb33aba6e5164827993b282cb60b5777": {
          "model_module": "@jupyter-widgets/controls",
          "model_name": "DescriptionStyleModel",
          "model_module_version": "1.5.0",
          "state": {
            "_model_module": "@jupyter-widgets/controls",
            "_model_module_version": "1.5.0",
            "_model_name": "DescriptionStyleModel",
            "_view_count": null,
            "_view_module": "@jupyter-widgets/base",
            "_view_module_version": "1.2.0",
            "_view_name": "StyleView",
            "description_width": ""
          }
        }
      }
    }
  },
  "nbformat": 4,
  "nbformat_minor": 0
}