{
  "cells": [
    {
      "cell_type": "markdown",
      "metadata": {
        "id": "view-in-github",
        "colab_type": "text"
      },
      "source": [
        "<a href=\"https://colab.research.google.com/github/siddhi1991/GIS-programming/blob/main/book/labs/lab_03.ipynb\" target=\"_parent\"><img src=\"https://colab.research.google.com/assets/colab-badge.svg\" alt=\"Open In Colab\"/></a>"
      ]
    },
    {
      "cell_type": "markdown",
      "id": "0",
      "metadata": {
        "id": "0"
      },
      "source": [
        "# Lab 3\n",
        "\n",
        "[![Open In Colab](https://colab.research.google.com/assets/colab-badge.svg)](https://colab.research.google.com/github/giswqs/geog-312/blob/main/book/labs/lab_03.ipynb)\n",
        "\n",
        "This notebook contains exercises based on the lectures on [**Functions and Classes**](https://geog-312.gishub.org/book/python/06_functions_classes.html) and [**Files and Exception Handling**](https://geog-312.gishub.org/book/python/07_files.html). These exercises will help reinforce the concepts of functions, classes, file handling, and exception management in geospatial contexts."
      ]
    },
    {
      "cell_type": "markdown",
      "id": "1",
      "metadata": {
        "id": "1"
      },
      "source": [
        "## Exercise 1: Calculating Distances with Functions\n",
        "\n",
        "- Define a function `calculate_distance` that takes two geographic coordinates (latitude and longitude) and returns the distance between them using the Haversine formula.\n",
        "- Use this function to calculate the distance between multiple pairs of coordinates."
      ]
    },
    {
      "cell_type": "code",
      "execution_count": 1,
      "id": "2",
      "metadata": {
        "colab": {
          "base_uri": "https://localhost:8080/"
        },
        "id": "2",
        "outputId": "36137a75-458d-48c1-d3a1-3b1028d7f14d"
      },
      "outputs": [
        {
          "output_type": "stream",
          "name": "stdout",
          "text": [
            "Distance: 10500.01 km\n"
          ]
        }
      ],
      "source": [
        "def calculate_distance(lat1, lon1, lat2, lon2):\n",
        "    from math import radians, sin, cos, sqrt, atan2\n",
        "    R = 6371.0  # Earth radius in kilometers\n",
        "    dlat = radians(lat2 - lat1)\n",
        "    dlon = radians(lon2 - lon1)\n",
        "    a = (\n",
        "        sin(dlat / 2) ** 2\n",
        "        + cos(radians(lat1)) * cos(radians(lat2)) * sin(dlon / 2) ** 2\n",
        "    )\n",
        "    c = 2 * atan2(sqrt(a), sqrt(1 - a))\n",
        "    distance = R * c\n",
        "    return distance\n",
        "\n",
        "distance = calculate_distance(32.4786 , 189.9876 , -35.7896 , -239.7654)\n",
        "print(f\"Distance: {distance:.2f} km\")"
      ]
    },
    {
      "cell_type": "markdown",
      "id": "3",
      "metadata": {
        "id": "3"
      },
      "source": [
        "## Exercise 2: Batch Distance Calculation\n",
        "\n",
        "- Create a function `batch_distance_calculation` that accepts a list of coordinate pairs and returns a list of distances between consecutive pairs.\n",
        "- Test the function with a list of coordinates representing several cities."
      ]
    },
    {
      "cell_type": "code",
      "execution_count": 2,
      "id": "4",
      "metadata": {
        "colab": {
          "base_uri": "https://localhost:8080/"
        },
        "id": "4",
        "outputId": "62036b50-54b3-400e-9f0a-5150f2feede9"
      },
      "outputs": [
        {
          "output_type": "stream",
          "name": "stdout",
          "text": [
            "Distances: [3935.746254609723, 2803.971506975193, 1515.8051067847975]\n"
          ]
        }
      ],
      "source": [
        "def batch_distance_calculation(coordinates):\n",
        "  distances = []\n",
        "  for i in range(len(coordinates) - 1):\n",
        "        lat1, lon1 = coordinates[i]\n",
        "        lat2, lon2 = coordinates[i + 1]\n",
        "        haversine = calculate_distance\n",
        "        distance = haversine(lat1, lon1, lat2, lon2)\n",
        "        distances.append(distance)\n",
        "  return distances\n",
        "\n",
        "\n",
        "coordinates = [(40.7128, -74.0060), #New york city\n",
        " (34.0522, -118.2437), #LA\n",
        " (41.8781, -87.6298), #Chicago\n",
        " (29.7604, -95.3698)] #Houston\n",
        "distances = batch_distance_calculation(coordinates)\n",
        "print(f\"Distances: {distances}\")"
      ]
    },
    {
      "cell_type": "markdown",
      "id": "5",
      "metadata": {
        "id": "5"
      },
      "source": [
        "## Exercise 3: Creating and Using a Point Class\n",
        "\n",
        "- Define a `Point` class to represent a geographic point with attributes `latitude`, `longitude`, and `name`.\n",
        "- Add a method `distance_to` that calculates the distance from one point to another.\n",
        "- Instantiate several `Point` objects and calculate the distance between them."
      ]
    },
    {
      "cell_type": "code",
      "execution_count": 4,
      "id": "6",
      "metadata": {
        "colab": {
          "base_uri": "https://localhost:8080/"
        },
        "id": "6",
        "outputId": "b9feb7ae-6ae0-45a7-8f02-ea884a620d4b"
      },
      "outputs": [
        {
          "output_type": "stream",
          "name": "stdout",
          "text": [
            "Distance from New York city to Chicago: 1144.29 km\n"
          ]
        }
      ],
      "source": [
        "class Point:\n",
        "    def __init__(self, latitude, longitude, name):\n",
        "        self.latitude = latitude\n",
        "        self.longitude = longitude\n",
        "        self.name = name\n",
        "\n",
        "    def distance_to(self, other):\n",
        "        return calculate_distance(self.latitude, self.longitude, other.latitude, other.longitude)\n",
        "\n",
        "point1 = Point(40.7128, -74.0060, \"New York city\")\n",
        "point2 = Point(41.8781, -87.6298, \"Chicago\")\n",
        "print(f\"Distance from {point1.name} to {point2.name}: {point1.distance_to(point2):.2f} km\"\n",
        ")"
      ]
    },
    {
      "cell_type": "markdown",
      "id": "7",
      "metadata": {
        "id": "7"
      },
      "source": [
        "## Exercise 4: Reading and Writing Files\n",
        "\n",
        "- Write a function `read_coordinates` that reads a file containing a list of coordinates (latitude, longitude) and returns them as a list of tuples.\n",
        "- Write another function `write_coordinates` that takes a list of coordinates and writes them to a new file.\n",
        "- Ensure that both functions handle exceptions, such as missing files or improperly formatted data."
      ]
    },
    {
      "cell_type": "code",
      "source": [
        "# Create a sample coordinates.txt file\n",
        "sample_data = \"\"\"(40.7128, -74.0060),\n",
        " (34.0522, -118.2437),\n",
        " (41.8781, -87.6298),\n",
        " (29.7604, -95.3698)\"\"\"\n",
        "\n",
        "output_file = \"coordinates.txt\"\n",
        "\n",
        "try:\n",
        "    with open(output_file, \"w\") as file:\n",
        "        file.write(sample_data)\n",
        "    print(f\"Sample file '{output_file}' has been created successfully.\")\n",
        "except Exception as e:\n",
        "    print(f\"An error occurred while creating the file: {e}\")\n",
        "\n",
        "input_file = \"coordinates.txt\"\n",
        "output_file = \"output_coordinates.txt\"\n",
        "\n",
        "try:\n",
        "    with open(input_file, \"r\") as file:\n",
        "        read_coordinates = file.readlines()\n",
        "\n",
        "    with open(output_file, \"w\") as outfile:\n",
        "        for line in coordinates:\n",
        "            lat, lon = [line.strip().split(\",\")]\n",
        "            outfile.write(f\"[Latitude: {lat}, Longitude: {lon}]\")\n",
        "\n",
        "    print(f\"Coordinates have been written to {output_file}\")\n",
        "except FileNotFoundError:\n",
        "    print(f\"Error: The file {input_file} was not found.\")\n",
        "\n"
      ],
      "metadata": {
        "colab": {
          "base_uri": "https://localhost:8080/"
        },
        "id": "Qf_TvULn72qJ",
        "outputId": "e619396a-7692-49d9-bfdd-f9ab44b8ba38"
      },
      "id": "Qf_TvULn72qJ",
      "execution_count": 6,
      "outputs": [
        {
          "output_type": "stream",
          "name": "stdout",
          "text": [
            "Sample file 'coordinates.txt' has been created successfully.\n",
            "Coordinates have been written to output_coordinates.txt\n"
          ]
        }
      ]
    },
    {
      "cell_type": "markdown",
      "id": "9",
      "metadata": {
        "id": "9"
      },
      "source": [
        "## Exercise 5: Processing Coordinates from a File\n",
        "\n",
        "- Create a function that reads coordinates from a file and uses the `Point` class to create `Point` objects.\n",
        "- Calculate the distance between each consecutive pair of points and write the results to a new file.\n",
        "- Ensure the function handles file-related exceptions and gracefully handles improperly formatted lines."
      ]
    },
    {
      "cell_type": "code",
      "execution_count": 12,
      "id": "10",
      "metadata": {
        "colab": {
          "base_uri": "https://localhost:8080/"
        },
        "id": "10",
        "outputId": "25db95d1-9e04-46da-dda3-b0f0fe368acf"
      },
      "outputs": [
        {
          "output_type": "stream",
          "name": "stdout",
          "text": [
            "Sample file 'coordinates.txt' has been created successfully.\n",
            "Created Point(lat=35.6895, lon=139.6917)\n",
            "Created Point(lat=34.0522, lon=-118.2437)\n",
            "Created Point(lat=51.5074, lon=-0.1278)\n",
            "Created Point(lat=-33.8688, lon=151.2093)\n",
            "Created Point(lat=48.8566, lon=2.3522)\n",
            "Coordinates have been written to output_coordinates.txt\n"
          ]
        }
      ],
      "source": [
        "# # Point class definition for handling coordinates\n",
        "class Point:\n",
        "    def __init__(self, lat, lon):\n",
        "        self.lat = lat\n",
        "        self.lon = lon\n",
        "\n",
        "    def __repr__(self):\n",
        "        return f\"Point(lat={self.lat}, lon={self.lon})\"\n",
        "\n",
        "# Sample coordinates data\n",
        "sample_data = \"\"\"35.6895,139.6917\n",
        "34.0522,-118.2437\n",
        "51.5074,-0.1278\n",
        "-33.8688,151.2093\n",
        "48.8566,2.3522\"\"\"\n",
        "\n",
        "output_file = \"coordinates.txt\"\n",
        "\n",
        "# Create the coordinates.txt file\n",
        "try:\n",
        "    with open(output_file, \"w\") as file:\n",
        "        file.write(sample_data)\n",
        "    print(f\"Sample file '{output_file}' has been created successfully.\")\n",
        "except Exception as e:\n",
        "    print(f\"An error occurred while creating the file: {e}\")\n",
        "\n",
        "# File path for reading coordinates and creating Point objects\n",
        "input_file = \"coordinates.txt\"\n",
        "output_file = \"output_coordinates.txt\"\n",
        "\n",
        "# Process the input file and handle Point objects\n",
        "try:\n",
        "    with open(input_file, \"r\") as file:\n",
        "        coordinates = file.readlines()\n",
        "\n",
        "    points = []\n",
        "    for line in coordinates:\n",
        "        # Split the line into latitude and longitude\n",
        "        try:\n",
        "            lat, lon = [float(x.strip()) for x in line.split(\",\")]\n",
        "            point = Point(lat, lon)\n",
        "            points.append(point)\n",
        "            print(f\"Created {point}\")  # Display the created Point object\n",
        "        except ValueError:\n",
        "            print(f\"Skipping invalid line: {line.strip()}\")\n",
        "\n",
        "    # Optionally, you can write the points to an output file:\n",
        "    with open(output_file, \"w\") as file:\n",
        "        for point in points:\n",
        "            file.write(f\"{point.lat},{point.lon}\\n\")\n",
        "    print(f\"Coordinates have been written to {output_file}\")\n",
        "\n",
        "except FileNotFoundError:\n",
        "    print(f\"Error: The file {input_file} was not found.\")\n",
        "except Exception as e:\n",
        "    print(f\"An error occurred while processing the file: {e}\")\n"
      ]
    },
    {
      "cell_type": "code",
      "execution_count": null,
      "id": "11",
      "metadata": {
        "id": "11"
      },
      "outputs": [],
      "source": []
    },
    {
      "cell_type": "markdown",
      "id": "12",
      "metadata": {
        "id": "12"
      },
      "source": [
        "## Exercise 6: Exception Handling in Data Processing\n",
        "\n",
        "- Modify the `batch_distance_calculation` function to handle exceptions that might occur during the calculation, such as invalid coordinates.\n",
        "- Ensure the function skips invalid data and continues processing the remaining data."
      ]
    },
    {
      "cell_type": "code",
      "source": [
        "import math\n",
        "\n",
        "# Haversine formula to calculate the distance between two lat-lon pairs\n",
        "def calculate_distance(lat1, lon1, lat2, lon2):\n",
        "    # Radius of the Earth in kilometers\n",
        "    R = 6371.0\n",
        "\n",
        "    # Convert degrees to radians\n",
        "    lat1, lon1, lat2, lon2 = map(math.radians, [lat1, lon1, lat2, lon2])\n",
        "\n",
        "    # Differences in coordinates\n",
        "    dlat = lat2 - lat1\n",
        "    dlon = lon2 - lon1\n",
        "\n",
        "    # Haversine formula\n",
        "    a = math.sin(dlat / 2) ** 2 + math.cos(lat1) * math.cos(lat2) * math.sin(dlon / 2) ** 2\n",
        "    c = 2 * math.atan2(math.sqrt(a), math.sqrt(1 - a))\n",
        "\n",
        "    # Distance in kilometers\n",
        "    distance = R * c\n",
        "    return distance\n",
        "\n",
        "def batch_distance_calculation(coordinates):\n",
        "    distances = []\n",
        "    try:\n",
        "        # Loop through all consecutive coordinate pairs\n",
        "        for i in range(len(coordinates) - 1):\n",
        "            lat1, lon1 = coordinates[i]\n",
        "            lat2, lon2 = coordinates[i + 1]\n",
        "\n",
        "            # Validate coordinates\n",
        "            if not all(isinstance(coord, (int, float)) for coord in [lat1, lon1, lat2, lon2]):\n",
        "                raise ValueError(f\"Invalid coordinate pair at index {i}: ({lat1}, {lon1}), ({lat2}, {lon2})\")\n",
        "\n",
        "            # Calculate distance between the two consecutive coordinates\n",
        "            distance = calculate_distance(lat1, lon1, lat2, lon2)\n",
        "            distances.append(distance)\n",
        "\n",
        "    except ValueError as e:\n",
        "        print(f\"Error: {e}. Skipping invalid coordinate pair.\")\n",
        "    except Exception as e:\n",
        "        print(f\"An unexpected error occurred while processing the coordinates: {e}\")\n",
        "    return distances\n",
        "\n",
        "\n",
        "# Sample coordinates: New York City, Los Angeles, Chicago, Houston\n",
        "coordinates = [\n",
        "    (40.7128, -74.0060),  # New York City\n",
        "    (34.0522, -118.2437),  # Los Angeles\n",
        "    (41.8781, -87.6298),   # Chicago\n",
        "    (29.7604, -95.3698)    # Houston\n",
        "]\n",
        "\n",
        "# Running the batch distance calculation\n",
        "distances = batch_distance_calculation(coordinates)\n",
        "\n",
        "print(f\"Distances between consecutive cities: {distances}\")\n",
        "\n"
      ],
      "metadata": {
        "colab": {
          "base_uri": "https://localhost:8080/"
        },
        "id": "HW-rwsXOV6cZ",
        "outputId": "912b5f86-33f2-4bf2-9d40-12a6f0292df2"
      },
      "id": "HW-rwsXOV6cZ",
      "execution_count": 11,
      "outputs": [
        {
          "output_type": "stream",
          "name": "stdout",
          "text": [
            "Distances between consecutive cities: [3935.746254609723, 2803.9715069751924, 1515.8051067847966]\n"
          ]
        }
      ]
    },
    {
      "cell_type": "code",
      "source": [],
      "metadata": {
        "id": "WmGiJP2lXT1s"
      },
      "id": "WmGiJP2lXT1s",
      "execution_count": null,
      "outputs": []
    }
  ],
  "metadata": {
    "kernelspec": {
      "display_name": "Python 3",
      "language": "python",
      "name": "python3"
    },
    "language_info": {
      "codemirror_mode": {
        "name": "ipython",
        "version": 3
      },
      "file_extension": ".py",
      "mimetype": "text/x-python",
      "name": "python",
      "nbconvert_exporter": "python",
      "pygments_lexer": "ipython3",
      "version": "3.11.8"
    },
    "colab": {
      "provenance": [],
      "include_colab_link": true
    }
  },
  "nbformat": 4,
  "nbformat_minor": 5
}